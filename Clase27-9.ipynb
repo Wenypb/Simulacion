{
  "nbformat": 4,
  "nbformat_minor": 0,
  "metadata": {
    "colab": {
      "provenance": [],
      "authorship_tag": "ABX9TyMBh1lQvM4gLkUndfH5ZGmT",
      "include_colab_link": true
    },
    "kernelspec": {
      "name": "python3",
      "display_name": "Python 3"
    },
    "language_info": {
      "name": "python"
    }
  },
  "cells": [
    {
      "cell_type": "markdown",
      "metadata": {
        "id": "view-in-github",
        "colab_type": "text"
      },
      "source": [
        "<a href=\"https://colab.research.google.com/github/Wenypb/Simulacion/blob/main/Clase27-9.ipynb\" target=\"_parent\"><img src=\"https://colab.research.google.com/assets/colab-badge.svg\" alt=\"Open In Colab\"/></a>"
      ]
    },
    {
      "cell_type": "markdown",
      "source": [
        "# **LIBRERIAS**"
      ],
      "metadata": {
        "id": "adimSSZA1rBU"
      }
    },
    {
      "cell_type": "code",
      "execution_count": 221,
      "metadata": {
        "id": "Uy8ysWIvz0yQ"
      },
      "outputs": [],
      "source": [
        "import numpy as np\n",
        "import matplotlib.pyplot as plt"
      ]
    },
    {
      "cell_type": "markdown",
      "source": [
        "# **EJEMPLO DE LA CLASE CON UNA DISTRIBUCIÓN NORMAL**"
      ],
      "metadata": {
        "id": "VBjNo10z1vOM"
      }
    },
    {
      "cell_type": "markdown",
      "source": [
        "**Función de densidad de probabilidad $ =\\frac{1}{\\sqrt{2\\pi\\sigma^{2}}}e^{\\frac{-(x-\\mu)^{2}}{2\\sigma^{2}}}$**"
      ],
      "metadata": {
        "id": "g8nOq27B2jmA"
      }
    },
    {
      "cell_type": "code",
      "source": [
        "# Función que calcula el valor de la densidad de probabilidad para cada valor de x con media (mu) y desviación estandar (sigma) dada.\n",
        "def f(x,mu,sigma):\n",
        "  return (1/np.sqrt(2*np.pi*sigma**2))*np.exp(-(x-mu)**2/(2*sigma**2))"
      ],
      "metadata": {
        "id": "WAGulfPz1Asx"
      },
      "execution_count": 222,
      "outputs": []
    },
    {
      "cell_type": "markdown",
      "source": [
        "**Establecemos los valores para la media y la desviación estandar (valores analíticos).**"
      ],
      "metadata": {
        "id": "hY3PbeX444EZ"
      }
    },
    {
      "cell_type": "code",
      "source": [
        "# mu -> Media analítica\n",
        "mu=0.2\n",
        "# sigma -> Desviación estandar analítica\n",
        "sigma=0.1"
      ],
      "metadata": {
        "id": "lNd5JA_C1yto"
      },
      "execution_count": 223,
      "outputs": []
    },
    {
      "cell_type": "markdown",
      "source": [
        "**Establecemos el valor de la amplitud de la propuesta de la cadena de Markov (delta).**"
      ],
      "metadata": {
        "id": "ixFQfZStNA9C"
      }
    },
    {
      "cell_type": "code",
      "source": [
        "#delta -> Amplitud de la cadena de Markov\n",
        "delta=0.5"
      ],
      "metadata": {
        "id": "Po9KlxP_14gQ"
      },
      "execution_count": 224,
      "outputs": []
    },
    {
      "cell_type": "markdown",
      "source": [
        "**Algoritmo de Metropolis-Hastings para muestreo de la distribución de probabilidad normal**"
      ],
      "metadata": {
        "id": "OHhjx8__OM1d"
      }
    },
    {
      "cell_type": "code",
      "source": [
        "# n -> Número de iteraciones del algoritmo de Metropolis-Hastings.\n",
        "n=50000\n",
        "# x -> array de ceros con tamaño 𝑛 donde todas las muestras inician en cero pero se almacenarán las muestras generadas en cada paso de la cadena de Markov.\n",
        "x=np.zeros(n)\n",
        "# x[0] -> Muestra inicial\n",
        "x[0]=0\n",
        "# acept -> Contador de aceptaciones\n",
        "acept=0\n",
        "# Ciclo donde en cada iteración se realiza una propuesta y se decide si se acepta o se rechaza.\n",
        "for i in range(0,n-1):\n",
        "  # y -> Propuesta\n",
        "  y=x[i]+np.random.uniform(-delta,delta)\n",
        "  # Ciclo donde se acepta o se rechaza la propuesta\n",
        "    # np.random.rand()<min(1,f(y,mu,sigma)/f(x[i],mu,sigma)) -> Condición para aceptar la propuesta\n",
        "  if np.random.rand()<min(1,f(y,mu,sigma)/f(x[i],mu,sigma)):\n",
        "    # x[i+1]=y -> Al aceptarse la propuesta la nueva muestra 𝑥[𝑖+1] se establece como y\n",
        "    x[i+1]=y\n",
        "    # acept+=1 -> Al aceptarse la propuesta se incrementa el contador de aceptaciones en un 1\n",
        "    acept+=1\n",
        "  else:\n",
        "    #x[i+1]=x[i] -> Si la propuesta no se acepta, la nueva muestra x[i+1] se establece como la muestra anterior 𝑥[𝑖]\n",
        "    x[i+1]=x[i]\n",
        "# Se imprime el porcentaje de aceptaciones\n",
        "print(\"La aceptacion fue del\",acept/n*100,\"%\")"
      ],
      "metadata": {
        "colab": {
          "base_uri": "https://localhost:8080/"
        },
        "id": "TBbAeeIs0PCf",
        "outputId": "eb925c75-fb77-4801-e58e-639e06c87e54"
      },
      "execution_count": 225,
      "outputs": [
        {
          "output_type": "stream",
          "name": "stdout",
          "text": [
            "La aceptacion fue del 31.612000000000002 %\n"
          ]
        }
      ]
    },
    {
      "cell_type": "markdown",
      "source": [
        "**a) Gráfica de la distribución analítica**"
      ],
      "metadata": {
        "id": "W6xzWPuNRVED"
      }
    },
    {
      "cell_type": "markdown",
      "source": [
        "**b) Histograma de la muestra generada**"
      ],
      "metadata": {
        "id": "CSZR3dcuS1Mj"
      }
    },
    {
      "cell_type": "code",
      "source": [
        "# Realiza el histograma de la muestra generada\n",
        "plt.hist(x,density=True,color=\"lightblue\",bins=30)\n",
        "# Grafica la distribución analítica\n",
        "xs=np.linspace(-1,1,100)\n",
        "plt.plot(xs,f(xs,mu,sigma),color=\"blue\")"
      ],
      "metadata": {
        "colab": {
          "base_uri": "https://localhost:8080/",
          "height": 0
        },
        "id": "UXA7M45aS310",
        "outputId": "79a22a8b-df64-4e83-d356-b8d40a271ef8"
      },
      "execution_count": 226,
      "outputs": [
        {
          "output_type": "execute_result",
          "data": {
            "text/plain": [
              "[<matplotlib.lines.Line2D at 0x7ea6d3078730>]"
            ]
          },
          "metadata": {},
          "execution_count": 226
        },
        {
          "output_type": "display_data",
          "data": {
            "text/plain": [
              "<Figure size 640x480 with 1 Axes>"
            ],
            "image/png": "[encoded data removed]"
          },
          "metadata": {}
        }
      ]
    },
    {
      "cell_type": "markdown",
      "source": [
        "**c) Determinación de la media y desviación estándar de la muestra y su comparación con la analítica.**"
      ],
      "metadata": {
        "id": "zJ8D-2g_Tks_"
      }
    },
    {
      "cell_type": "markdown",
      "source": [
        "Calculamos la media y desviación estandar de la muestra"
      ],
      "metadata": {
        "id": "0tYUKpZeUI1V"
      }
    },
    {
      "cell_type": "code",
      "source": [
        "# m -> Media de la muestra\n",
        "m=np.mean(x)\n",
        "# d -> Desviación estandar de la muestra\n",
        "d=np.std(x)\n",
        "print(\"La media de la muestra es\",m,\"y la desviación estandar es\",d)"
      ],
      "metadata": {
        "colab": {
          "base_uri": "https://localhost:8080/"
        },
        "id": "WcvZX5-T7zVy",
        "outputId": "a256119e-326f-4faa-83c5-fcd0dd7a9243"
      },
      "execution_count": 227,
      "outputs": [
        {
          "output_type": "stream",
          "name": "stdout",
          "text": [
            "La media de la muestra es 0.19858954768027837 y la desviación estandar es 0.09935411177365387\n"
          ]
        }
      ]
    },
    {
      "cell_type": "markdown",
      "source": [
        "Realizamos la comparación"
      ],
      "metadata": {
        "id": "kJ-KQyKbUTFO"
      }
    },
    {
      "cell_type": "code",
      "source": [
        "#Comparando las medias\n",
        "  # Dif_medias -> Diferencia entre la media analítica(mu) y la media de la muestra(m)\n",
        "Df_medias = abs(mu-m)\n",
        "print(\"Comparando la media analítica con la muestral encontramos una diferencia de\",Df_medias)"
      ],
      "metadata": {
        "colab": {
          "base_uri": "https://localhost:8080/"
        },
        "id": "rdoX8w94UdWM",
        "outputId": "402501b2-2230-46db-d2fc-4789c67c990c"
      },
      "execution_count": 228,
      "outputs": [
        {
          "output_type": "stream",
          "name": "stdout",
          "text": [
            "Comparando la media analítica con la muestral encontramos una diferencia de 0.0014104523197216445\n"
          ]
        }
      ]
    },
    {
      "cell_type": "code",
      "source": [
        "#Comparando las desviaciones\n",
        "  # Dif_desviaciones -> Diferencia entre la desviación estandar analítica(sigma) y la desviación estandar de la muestra(d)\n",
        "Df_desviaciones = abs(sigma-d)\n",
        "print(\"Comparando la desviación estandar analítica con la muestral encontramos una diferencia de\",Df_desviaciones)"
      ],
      "metadata": {
        "colab": {
          "base_uri": "https://localhost:8080/"
        },
        "id": "rF9E3q3fVwzb",
        "outputId": "3775ebd6-1667-4a74-c6de-7aefbf443156"
      },
      "execution_count": 229,
      "outputs": [
        {
          "output_type": "stream",
          "name": "stdout",
          "text": [
            "Comparando la desviación estandar analítica con la muestral encontramos una diferencia de 0.0006458882263461335\n"
          ]
        }
      ]
    },
    {
      "cell_type": "markdown",
      "source": [
        "**d) Conclusiones**"
      ],
      "metadata": {
        "id": "x-kWMEkpWbJt"
      }
    },
    {
      "cell_type": "markdown",
      "source": [
        " Dado una diferencia tan pequeña tanto en la comparación de las medias y las desviaciones estandar podemos concluir que la muestra representa bien a la distribución normal y que la media muestral es una buena estimación de la media analítica."
      ],
      "metadata": {
        "id": "Skcv-w1nWfFv"
      }
    },
    {
      "cell_type": "markdown",
      "source": [
        "Gráfica de caminantes aleatorios"
      ],
      "metadata": {
        "id": "QyOnWMwnWxHG"
      }
    },
    {
      "cell_type": "code",
      "source": [
        "plt.plot(x[0:100])"
      ],
      "metadata": {
        "colab": {
          "base_uri": "https://localhost:8080/",
          "height": 0
        },
        "id": "5JzCIQQe70Fe",
        "outputId": "09071353-86ee-470d-dfa6-30225a857242"
      },
      "execution_count": 230,
      "outputs": [
        {
          "output_type": "execute_result",
          "data": {
            "text/plain": [
              "[<matplotlib.lines.Line2D at 0x7ea6d2df1f90>]"
            ]
          },
          "metadata": {},
          "execution_count": 230
        },
        {
          "output_type": "display_data",
          "data": {
            "text/plain": [
              "<Figure size 640x480 with 1 Axes>"
            ],
            "image/png": "[encoded data removed]"
          },
          "metadata": {}
        }
      ]
    },
    {
      "cell_type": "markdown",
      "source": [
        "# **DISTRIBUCIÓN 1**"
      ],
      "metadata": {
        "id": "wXjFsNdnYSGS"
      }
    },
    {
      "cell_type": "markdown",
      "source": [
        "## **Distribución exponencial**"
      ],
      "metadata": {
        "id": "8iDGSxzQY-ib"
      }
    },
    {
      "cell_type": "markdown",
      "source": [
        "La distribución exponencial es una distribución continua que se utiliza para modelar tiempos de espera para la ocurrencia de un cierto evento."
      ],
      "metadata": {
        "id": "qDGQLDpKZLwA"
      }
    },
    {
      "cell_type": "markdown",
      "source": [
        "**Función de densidad de probabilidad $ = {\\displaystyle \\lambda e^{-\\lambda x}}$ para $x\\geq 0$**"
      ],
      "metadata": {
        "id": "hqWmFkWPYSG5"
      }
    },
    {
      "cell_type": "code",
      "source": [
        "# Función que calcula el valor de la densidad de probabilidad para cada valor de x con lamda dada.\n",
        "def f(x, L):\n",
        "    return L * np.exp(-L * x) * (x >= 0)  # Aseguramos que x >= 0"
      ],
      "metadata": {
        "id": "C2sTiJItYSG6"
      },
      "execution_count": 231,
      "outputs": []
    },
    {
      "cell_type": "markdown",
      "source": [
        "Establecer el valor de lambda $λ$"
      ],
      "metadata": {
        "id": "2Ro8-Ss8eWb1"
      }
    },
    {
      "cell_type": "code",
      "source": [
        "# L -> Valor de lambda\n",
        "L = 1"
      ],
      "metadata": {
        "id": "UHOjHz1TeoDr"
      },
      "execution_count": 232,
      "outputs": []
    },
    {
      "cell_type": "markdown",
      "source": [
        "**Calcular los valores de la media y la desviación estandar (valores analíticos).**"
      ],
      "metadata": {
        "id": "0ADNUNG8YSG7"
      }
    },
    {
      "cell_type": "code",
      "source": [
        "# mu -> Media analítica\n",
        "mu= 1/L\n",
        "print(\"La media analítica es\",mu)\n",
        "# sigma -> Desviación estandar analítica\n",
        "sigma=np.sqrt(1/(L**2))\n",
        "print(\"La desviación estandar analítica es\",sigma)"
      ],
      "metadata": {
        "colab": {
          "base_uri": "https://localhost:8080/"
        },
        "id": "pd8Fn_n3YSG8",
        "outputId": "fa2d6f9b-98be-4d23-98f6-0325bc098a0e"
      },
      "execution_count": 233,
      "outputs": [
        {
          "output_type": "stream",
          "name": "stdout",
          "text": [
            "La media analítica es 1.0\n",
            "La desviación estandar analítica es 1.0\n"
          ]
        }
      ]
    },
    {
      "cell_type": "markdown",
      "source": [
        "**Establecemos el valor de la amplitud de la propuesta de la cadena de Markov (delta).**"
      ],
      "metadata": {
        "id": "FHkcXdouYSG9"
      }
    },
    {
      "cell_type": "code",
      "source": [
        "#delta -> Amplitud de la cadena de Markov\n",
        "delta=0.5"
      ],
      "metadata": {
        "id": "oFOHdrv0YSG9"
      },
      "execution_count": 234,
      "outputs": []
    },
    {
      "cell_type": "markdown",
      "source": [
        "**Algoritmo de Metropolis-Hastings para muestreo de la distribución de probabilidad exponencial**"
      ],
      "metadata": {
        "id": "x34D9SqYYSG-"
      }
    },
    {
      "cell_type": "code",
      "source": [
        "# n -> Número de iteraciones del algoritmo de Metropolis-Hastings.\n",
        "n=50000\n",
        "# x -> array de ceros con tamaño 𝑛 donde todas las muestras inician en cero pero se almacenarán las muestras generadas en cada paso de la cadena de Markov.\n",
        "x=np.zeros(n)\n",
        "# x[0] -> Muestra inicial\n",
        "x[0]=0\n",
        "# acept -> Contador de aceptaciones\n",
        "acept=0\n",
        "# Ciclo donde en cada iteración se realiza una propuesta y se decide si se acepta o se rechaza.\n",
        "for i in range(0,n-1):\n",
        "  # y -> Propuesta\n",
        "  y=x[i]+np.random.uniform(-delta,delta)\n",
        "  # Ciclo donde se acepta o se rechaza la propuesta\n",
        "    # np.random.rand()<min(1,f(y,mu,sigma)/f(x[i],mu,sigma)) -> Condición para aceptar la propuesta\n",
        "  if np.random.rand()<min(1,f(y,L)/f(x[i],L)):\n",
        "    # x[i+1]=y -> Al aceptarse la propuesta la nueva muestra 𝑥[𝑖+1] se establece como y\n",
        "    x[i+1]=y\n",
        "    # acept+=1 -> Al aceptarse la propuesta se incrementa el contador de aceptaciones en un 1\n",
        "    acept+=1\n",
        "  else:\n",
        "    #x[i+1]=x[i] -> Si la propuesta no se acepta, la nueva muestra x[i+1] se establece como la muestra anterior 𝑥[𝑖]\n",
        "    x[i+1]=x[i]\n",
        "# Se imprime el porcentaje de aceptaciones\n",
        "print(\"La aceptacion fue del\",acept/n*100,\"%\")"
      ],
      "metadata": {
        "colab": {
          "base_uri": "https://localhost:8080/"
        },
        "outputId": "dca9ef88-6f51-488e-a7af-e7c540b81dca",
        "id": "mt306TRHYSG_"
      },
      "execution_count": 235,
      "outputs": [
        {
          "output_type": "stream",
          "name": "stdout",
          "text": [
            "La aceptacion fue del 79.398 %\n"
          ]
        }
      ]
    },
    {
      "cell_type": "markdown",
      "source": [
        "**a) Gráfica de la distribución analítica**"
      ],
      "metadata": {
        "id": "HQphZ7MYYSHC"
      }
    },
    {
      "cell_type": "markdown",
      "source": [
        "**b) Histograma de la muestra generada**"
      ],
      "metadata": {
        "id": "seMS3QifYSHC"
      }
    },
    {
      "cell_type": "code",
      "source": [
        "# Realiza el histograma de la muestra generada\n",
        "plt.hist(x,density=True,color=\"lightblue\",label=\"Muestras generadas por Metropolis-Hastings\",bins=30)\n",
        "# Grafica la distribución analítica\n",
        "xs=np.linspace(0,max(x),100)\n",
        "plt.plot(xs,f(xs,L),color=\"blue\",label=\"Distribución Exponencial (Analítica)\")\n",
        "plt.title(\"Histograma de la Muestra vs Distribución Exponencial\")\n",
        "plt.xlabel(\"Valor de la muestra\")\n",
        "plt.ylabel(\"Densidad de probabilidad\")\n",
        "plt.legend()"
      ],
      "metadata": {
        "outputId": "93ea4695-51b8-4e47-f835-fde4ce305071",
        "colab": {
          "base_uri": "https://localhost:8080/",
          "height": 0
        },
        "id": "FSViL_n5YSHH"
      },
      "execution_count": 236,
      "outputs": [
        {
          "output_type": "execute_result",
          "data": {
            "text/plain": [
              "<matplotlib.legend.Legend at 0x7ea6d2e3a5f0>"
            ]
          },
          "metadata": {},
          "execution_count": 236
        },
        {
          "output_type": "display_data",
          "data": {
            "text/plain": [
              "<Figure size 640x480 with 1 Axes>"
            ],
            "image/png": "[encoded data removed]"
          },
          "metadata": {}
        }
      ]
    },
    {
      "cell_type": "markdown",
      "source": [
        "**c) Determinación de la media y desviación estándar de la muestra y su comparación con la analítica.**"
      ],
      "metadata": {
        "id": "O1dY4p-DYSHK"
      }
    },
    {
      "cell_type": "markdown",
      "source": [
        "Calculamos la media y desviación estandar de la muestra"
      ],
      "metadata": {
        "id": "QAXX5xBnYSHL"
      }
    },
    {
      "cell_type": "code",
      "source": [
        "# m -> Media de la muestra\n",
        "m=np.mean(x)\n",
        "# d -> Desviación estandar de la muestra\n",
        "d=np.std(x)\n",
        "print(\"La media de la muestra es\",m,\"y la desviación estandar es\",d)"
      ],
      "metadata": {
        "colab": {
          "base_uri": "https://localhost:8080/"
        },
        "outputId": "5b2e9004-190f-42fe-8309-624d54a8f3de",
        "id": "tYeouDZ_YSHM"
      },
      "execution_count": 237,
      "outputs": [
        {
          "output_type": "stream",
          "name": "stdout",
          "text": [
            "La media de la muestra es 1.0126312368831312 y la desviación estandar es 1.0412779573925333\n"
          ]
        }
      ]
    },
    {
      "cell_type": "markdown",
      "source": [
        "Realizamos la comparación"
      ],
      "metadata": {
        "id": "D2kvC8ShYSHN"
      }
    },
    {
      "cell_type": "code",
      "source": [
        "#Comparando las medias\n",
        "  # Dif_medias -> Diferencia entre la media analítica(mu) y la media de la muestra(m)\n",
        "Df_medias = abs(mu-m)\n",
        "print(\"Comparando la media analítica con la muestral encontramos una diferencia de\",Df_medias)"
      ],
      "metadata": {
        "outputId": "b8151e16-8abe-4985-fa75-6829a20e9334",
        "colab": {
          "base_uri": "https://localhost:8080/"
        },
        "id": "eFFKLh7WYSHO"
      },
      "execution_count": 238,
      "outputs": [
        {
          "output_type": "stream",
          "name": "stdout",
          "text": [
            "Comparando la media analítica con la muestral encontramos una diferencia de 0.01263123688313117\n"
          ]
        }
      ]
    },
    {
      "cell_type": "code",
      "source": [
        "#Comparando las desviaciones\n",
        "  # Dif_desviaciones -> Diferencia entre la desviación estandar analítica(sigma) y la desviación estandar de la muestra(d)\n",
        "Df_desviaciones = abs(sigma-d)\n",
        "print(\"Comparando la desviación estandar analítica con la muestral encontramos una diferencia de\",Df_desviaciones)"
      ],
      "metadata": {
        "outputId": "70f74b04-65d6-4e71-e494-f39415904742",
        "colab": {
          "base_uri": "https://localhost:8080/"
        },
        "id": "vd-5Vz1tYSHP"
      },
      "execution_count": 239,
      "outputs": [
        {
          "output_type": "stream",
          "name": "stdout",
          "text": [
            "Comparando la desviación estandar analítica con la muestral encontramos una diferencia de 0.04127795739253326\n"
          ]
        }
      ]
    },
    {
      "cell_type": "markdown",
      "source": [
        "**d) Conclusiones**"
      ],
      "metadata": {
        "id": "IrqkaDQ-YSHR"
      }
    },
    {
      "cell_type": "markdown",
      "source": [
        " Dado una diferencia pequeña tanto en la comparación de las medias y las desviaciones estandar podemos concluir que la muestra representa bien a la distribución exponencial y que la media muestral es una buena estimación de la media analítica."
      ],
      "metadata": {
        "id": "Tf1FnwDhYSHR"
      }
    },
    {
      "cell_type": "markdown",
      "source": [
        "## Gráfica de caminantes aleatorios"
      ],
      "metadata": {
        "id": "a8Pm6wlVYSHT"
      }
    },
    {
      "cell_type": "code",
      "source": [
        "plt.plot(x[0:100])"
      ],
      "metadata": {
        "colab": {
          "base_uri": "https://localhost:8080/",
          "height": 0
        },
        "outputId": "4c53f11a-eaf9-4f09-cf21-c55146182eef",
        "id": "w3Md7EozYSHV"
      },
      "execution_count": 240,
      "outputs": [
        {
          "output_type": "execute_result",
          "data": {
            "text/plain": [
              "[<matplotlib.lines.Line2D at 0x7ea6d2d40460>]"
            ]
          },
          "metadata": {},
          "execution_count": 240
        },
        {
          "output_type": "display_data",
          "data": {
            "text/plain": [
              "<Figure size 640x480 with 1 Axes>"
            ],
            "image/png": "[encoded data removed]"
          },
          "metadata": {}
        }
      ]
    },
    {
      "cell_type": "markdown",
      "source": [
        "# **DISTRIBUCIÓN 2**"
      ],
      "metadata": {
        "id": "mWc8r_9qpYtY"
      }
    },
    {
      "cell_type": "markdown",
      "source": [
        "## **Distribución uniforme**"
      ],
      "metadata": {
        "id": "mZuAvo-UpYtc"
      }
    },
    {
      "cell_type": "markdown",
      "source": [
        "la distribución uniforme continua es una familia de distribuciones de probabilidad para variables aleatorias continuas, tales que para cada miembro de la familia, todos los intervalos de igual longitud en la distribución en su rango son igualmente probables. El dominio está definido por dos parámetros,\n",
        "$a$ y $b$, que son sus valores mínimo y máximo respectivamente."
      ],
      "metadata": {
        "id": "xspyIWJ6pYtd"
      }
    },
    {
      "cell_type": "markdown",
      "source": [
        "**Función de densidad de probabilidad $ =\\frac{1}{b-a}$**"
      ],
      "metadata": {
        "id": "-P2wQx2npYte"
      }
    },
    {
      "cell_type": "code",
      "source": [
        "# Función que calcula el valor de la densidad de probabilidad para cada valor de x con lamda dada.\n",
        "def f(x,a,b):\n",
        "    return (1/(b-a))"
      ],
      "metadata": {
        "id": "XM455aMfpYtg"
      },
      "execution_count": 241,
      "outputs": []
    },
    {
      "cell_type": "markdown",
      "source": [
        "Establecer el valor de $a$ y $b$"
      ],
      "metadata": {
        "id": "1MPEG7bMpYth"
      }
    },
    {
      "cell_type": "code",
      "source": [
        "# a-> Límite inferior\n",
        "a = 0\n",
        "# b -> Límite superior\n",
        "b= 4"
      ],
      "metadata": {
        "id": "sa9KjpdApYth"
      },
      "execution_count": 242,
      "outputs": []
    },
    {
      "cell_type": "markdown",
      "source": [
        "**Calcular los valores de la media y la desviación estandar (valores analíticos).**"
      ],
      "metadata": {
        "id": "9b_bIrV6pYti"
      }
    },
    {
      "cell_type": "code",
      "source": [
        "# mu -> Media analítica\n",
        "mu= (a+b)/2\n",
        "print(\"La media analítica es\",mu)\n",
        "# sigma -> Desviación estandar analítica\n",
        "sigma=np.sqrt(((b-a)^2)/12)\n",
        "print(\"La desviación estandar analítica es\",sigma)"
      ],
      "metadata": {
        "outputId": "f23a668d-e4ec-4fa8-cbb0-a5333bfb4c99",
        "colab": {
          "base_uri": "https://localhost:8080/"
        },
        "id": "ZorNy21MpYtj"
      },
      "execution_count": 243,
      "outputs": [
        {
          "output_type": "stream",
          "name": "stdout",
          "text": [
            "La media analítica es 2.0\n",
            "La desviación estandar analítica es 0.7071067811865476\n"
          ]
        }
      ]
    },
    {
      "cell_type": "markdown",
      "source": [
        "**Establecemos el valor de la amplitud de la propuesta de la cadena de Markov (delta).**"
      ],
      "metadata": {
        "id": "UQ-IXXwVpYtk"
      }
    },
    {
      "cell_type": "code",
      "source": [
        "#delta -> Amplitud de la cadena de Markov\n",
        "delta=1"
      ],
      "metadata": {
        "id": "ff6ozrbQpYtl"
      },
      "execution_count": 244,
      "outputs": []
    },
    {
      "cell_type": "markdown",
      "source": [
        "**Algoritmo de Metropolis-Hastings para muestreo de la distribución de probabilidad normal**"
      ],
      "metadata": {
        "id": "DAyXUvYopYtm"
      }
    },
    {
      "cell_type": "code",
      "source": [
        "# n -> Número de iteraciones del algoritmo de Metropolis-Hastings.\n",
        "n=50000\n",
        "# x -> array de ceros con tamaño 𝑛 donde todas las muestras inician en cero pero se almacenarán las muestras generadas en cada paso de la cadena de Markov.\n",
        "x=np.zeros(n)\n",
        "# x[0] -> Muestra inicial\n",
        "x[0]=0\n",
        "# acept -> Contador de aceptaciones\n",
        "acept=0\n",
        "# Ciclo donde en cada iteración se realiza una propuesta y se decide si se acepta o se rechaza.\n",
        "for i in range(0,n-1):\n",
        "  # y -> Propuesta\n",
        "  y=x[i]+np.random.uniform(-delta,delta)\n",
        "  # Ciclo donde se acepta o se rechaza la propuesta\n",
        "    # np.random.rand()<min(1,f(y,a,b)/f(x[i],a,b)) -> Condición para aceptar la propuesta\n",
        "  if np.random.rand()<min(1,f(y,a,b)/f(x[i],a,b)):\n",
        "    # x[i+1]=y -> Al aceptarse la propuesta la nueva muestra 𝑥[𝑖+1] se establece como y\n",
        "    x[i+1]=y\n",
        "    # acept+=1 -> Al aceptarse la propuesta se incrementa el contador de aceptaciones en un 1\n",
        "    acept+=1\n",
        "  else:\n",
        "    #x[i+1]=x[i] -> Si la propuesta no se acepta, la nueva muestra x[i+1] se establece como la muestra anterior 𝑥[𝑖]\n",
        "    x[i+1]=x[i]\n",
        "# Se imprime el porcentaje de aceptaciones\n",
        "print(\"La aceptacion fue del\",acept/n*100,\"%\")"
      ],
      "metadata": {
        "colab": {
          "base_uri": "https://localhost:8080/"
        },
        "outputId": "552d86aa-c38e-4acd-da83-3692bd2d3774",
        "id": "1QZTsXUMpYtn"
      },
      "execution_count": 245,
      "outputs": [
        {
          "output_type": "stream",
          "name": "stdout",
          "text": [
            "La aceptacion fue del 99.998 %\n"
          ]
        }
      ]
    },
    {
      "cell_type": "markdown",
      "source": [
        "**a) Gráfica de la distribución analítica**"
      ],
      "metadata": {
        "id": "ENruoFDgpYtr"
      }
    },
    {
      "cell_type": "markdown",
      "source": [
        "**b) Histograma de la muestra generada**"
      ],
      "metadata": {
        "id": "P-gPawQwpYts"
      }
    },
    {
      "cell_type": "code",
      "source": [
        "# Realiza el histograma de la muestra generada\n",
        "plt.hist(x,density=True,color=\"lightblue\",label=\"Muestras generadas por Metropolis-Hastings\",bins=30)\n",
        "# Grafica la distribución analítica\n",
        "xs=np.linspace(a,b,100)\n",
        "plt.plot(xs,f(xs,a,b),color=\"blue\",label=\"Distribución Exponencial (Analítica)\")\n",
        "plt.title(\"Histograma de la Muestra vs Distribución Exponencial\")\n",
        "plt.xlabel(\"Valor de la muestra\")\n",
        "plt.ylabel(\"Densidad de probabilidad\")\n",
        "plt.legend()"
      ],
      "metadata": {
        "outputId": "b6450a83-7ef2-44b8-f4c7-d9cbb7e7a3f2",
        "colab": {
          "base_uri": "https://localhost:8080/",
          "height": 769
        },
        "id": "5xi3vGNjpYtt"
      },
      "execution_count": 246,
      "outputs": [
        {
          "output_type": "error",
          "ename": "ValueError",
          "evalue": "x and y must have same first dimension, but have shapes (100,) and (1,)",
          "traceback": [
            "\u001b[0;31m---------------------------------------------------------------------------\u001b[0m",
            "\u001b[0;31mValueError\u001b[0m                                Traceback (most recent call last)",
            "\u001b[0;32m<ipython-input-246-1d0fc3778507>\u001b[0m in \u001b[0;36m<cell line: 5>\u001b[0;34m()\u001b[0m\n\u001b[1;32m      3\u001b[0m \u001b[0;31m# Grafica la distribución analítica\u001b[0m\u001b[0;34m\u001b[0m\u001b[0;34m\u001b[0m\u001b[0m\n\u001b[1;32m      4\u001b[0m \u001b[0mxs\u001b[0m\u001b[0;34m=\u001b[0m\u001b[0mnp\u001b[0m\u001b[0;34m.\u001b[0m\u001b[0mlinspace\u001b[0m\u001b[0;34m(\u001b[0m\u001b[0ma\u001b[0m\u001b[0;34m,\u001b[0m\u001b[0mb\u001b[0m\u001b[0;34m,\u001b[0m\u001b[0;36m100\u001b[0m\u001b[0;34m)\u001b[0m\u001b[0;34m\u001b[0m\u001b[0;34m\u001b[0m\u001b[0m\n\u001b[0;32m----> 5\u001b[0;31m \u001b[0mplt\u001b[0m\u001b[0;34m.\u001b[0m\u001b[0mplot\u001b[0m\u001b[0;34m(\u001b[0m\u001b[0mxs\u001b[0m\u001b[0;34m,\u001b[0m\u001b[0mf\u001b[0m\u001b[0;34m(\u001b[0m\u001b[0mxs\u001b[0m\u001b[0;34m,\u001b[0m\u001b[0ma\u001b[0m\u001b[0;34m,\u001b[0m\u001b[0mb\u001b[0m\u001b[0;34m)\u001b[0m\u001b[0;34m,\u001b[0m\u001b[0mcolor\u001b[0m\u001b[0;34m=\u001b[0m\u001b[0;34m\"blue\"\u001b[0m\u001b[0;34m,\u001b[0m\u001b[0mlabel\u001b[0m\u001b[0;34m=\u001b[0m\u001b[0;34m\"Distribución Exponencial (Analítica)\"\u001b[0m\u001b[0;34m)\u001b[0m\u001b[0;34m\u001b[0m\u001b[0;34m\u001b[0m\u001b[0m\n\u001b[0m\u001b[1;32m      6\u001b[0m \u001b[0mplt\u001b[0m\u001b[0;34m.\u001b[0m\u001b[0mtitle\u001b[0m\u001b[0;34m(\u001b[0m\u001b[0;34m\"Histograma de la Muestra vs Distribución Exponencial\"\u001b[0m\u001b[0;34m)\u001b[0m\u001b[0;34m\u001b[0m\u001b[0;34m\u001b[0m\u001b[0m\n\u001b[1;32m      7\u001b[0m \u001b[0mplt\u001b[0m\u001b[0;34m.\u001b[0m\u001b[0mxlabel\u001b[0m\u001b[0;34m(\u001b[0m\u001b[0;34m\"Valor de la muestra\"\u001b[0m\u001b[0;34m)\u001b[0m\u001b[0;34m\u001b[0m\u001b[0;34m\u001b[0m\u001b[0m\n",
            "\u001b[0;32m/usr/local/lib/python3.10/dist-packages/matplotlib/pyplot.py\u001b[0m in \u001b[0;36mplot\u001b[0;34m(scalex, scaley, data, *args, **kwargs)\u001b[0m\n\u001b[1;32m   2810\u001b[0m \u001b[0;34m@\u001b[0m\u001b[0m_copy_docstring_and_deprecators\u001b[0m\u001b[0;34m(\u001b[0m\u001b[0mAxes\u001b[0m\u001b[0;34m.\u001b[0m\u001b[0mplot\u001b[0m\u001b[0;34m)\u001b[0m\u001b[0;34m\u001b[0m\u001b[0;34m\u001b[0m\u001b[0m\n\u001b[1;32m   2811\u001b[0m \u001b[0;32mdef\u001b[0m \u001b[0mplot\u001b[0m\u001b[0;34m(\u001b[0m\u001b[0;34m*\u001b[0m\u001b[0margs\u001b[0m\u001b[0;34m,\u001b[0m \u001b[0mscalex\u001b[0m\u001b[0;34m=\u001b[0m\u001b[0;32mTrue\u001b[0m\u001b[0;34m,\u001b[0m \u001b[0mscaley\u001b[0m\u001b[0;34m=\u001b[0m\u001b[0;32mTrue\u001b[0m\u001b[0;34m,\u001b[0m \u001b[0mdata\u001b[0m\u001b[0;34m=\u001b[0m\u001b[0;32mNone\u001b[0m\u001b[0;34m,\u001b[0m \u001b[0;34m**\u001b[0m\u001b[0mkwargs\u001b[0m\u001b[0;34m)\u001b[0m\u001b[0;34m:\u001b[0m\u001b[0;34m\u001b[0m\u001b[0;34m\u001b[0m\u001b[0m\n\u001b[0;32m-> 2812\u001b[0;31m     return gca().plot(\n\u001b[0m\u001b[1;32m   2813\u001b[0m         \u001b[0;34m*\u001b[0m\u001b[0margs\u001b[0m\u001b[0;34m,\u001b[0m \u001b[0mscalex\u001b[0m\u001b[0;34m=\u001b[0m\u001b[0mscalex\u001b[0m\u001b[0;34m,\u001b[0m \u001b[0mscaley\u001b[0m\u001b[0;34m=\u001b[0m\u001b[0mscaley\u001b[0m\u001b[0;34m,\u001b[0m\u001b[0;34m\u001b[0m\u001b[0;34m\u001b[0m\u001b[0m\n\u001b[1;32m   2814\u001b[0m         **({\"data\": data} if data is not None else {}), **kwargs)\n",
            "\u001b[0;32m/usr/local/lib/python3.10/dist-packages/matplotlib/axes/_axes.py\u001b[0m in \u001b[0;36mplot\u001b[0;34m(self, scalex, scaley, data, *args, **kwargs)\u001b[0m\n\u001b[1;32m   1686\u001b[0m         \"\"\"\n\u001b[1;32m   1687\u001b[0m         \u001b[0mkwargs\u001b[0m \u001b[0;34m=\u001b[0m \u001b[0mcbook\u001b[0m\u001b[0;34m.\u001b[0m\u001b[0mnormalize_kwargs\u001b[0m\u001b[0;34m(\u001b[0m\u001b[0mkwargs\u001b[0m\u001b[0;34m,\u001b[0m \u001b[0mmlines\u001b[0m\u001b[0;34m.\u001b[0m\u001b[0mLine2D\u001b[0m\u001b[0;34m)\u001b[0m\u001b[0;34m\u001b[0m\u001b[0;34m\u001b[0m\u001b[0m\n\u001b[0;32m-> 1688\u001b[0;31m         \u001b[0mlines\u001b[0m \u001b[0;34m=\u001b[0m \u001b[0;34m[\u001b[0m\u001b[0;34m*\u001b[0m\u001b[0mself\u001b[0m\u001b[0;34m.\u001b[0m\u001b[0m_get_lines\u001b[0m\u001b[0;34m(\u001b[0m\u001b[0;34m*\u001b[0m\u001b[0margs\u001b[0m\u001b[0;34m,\u001b[0m \u001b[0mdata\u001b[0m\u001b[0;34m=\u001b[0m\u001b[0mdata\u001b[0m\u001b[0;34m,\u001b[0m \u001b[0;34m**\u001b[0m\u001b[0mkwargs\u001b[0m\u001b[0;34m)\u001b[0m\u001b[0;34m]\u001b[0m\u001b[0;34m\u001b[0m\u001b[0;34m\u001b[0m\u001b[0m\n\u001b[0m\u001b[1;32m   1689\u001b[0m         \u001b[0;32mfor\u001b[0m \u001b[0mline\u001b[0m \u001b[0;32min\u001b[0m \u001b[0mlines\u001b[0m\u001b[0;34m:\u001b[0m\u001b[0;34m\u001b[0m\u001b[0;34m\u001b[0m\u001b[0m\n\u001b[1;32m   1690\u001b[0m             \u001b[0mself\u001b[0m\u001b[0;34m.\u001b[0m\u001b[0madd_line\u001b[0m\u001b[0;34m(\u001b[0m\u001b[0mline\u001b[0m\u001b[0;34m)\u001b[0m\u001b[0;34m\u001b[0m\u001b[0;34m\u001b[0m\u001b[0m\n",
            "\u001b[0;32m/usr/local/lib/python3.10/dist-packages/matplotlib/axes/_base.py\u001b[0m in \u001b[0;36m__call__\u001b[0;34m(self, data, *args, **kwargs)\u001b[0m\n\u001b[1;32m    309\u001b[0m                 \u001b[0mthis\u001b[0m \u001b[0;34m+=\u001b[0m \u001b[0margs\u001b[0m\u001b[0;34m[\u001b[0m\u001b[0;36m0\u001b[0m\u001b[0;34m]\u001b[0m\u001b[0;34m,\u001b[0m\u001b[0;34m\u001b[0m\u001b[0;34m\u001b[0m\u001b[0m\n\u001b[1;32m    310\u001b[0m                 \u001b[0margs\u001b[0m \u001b[0;34m=\u001b[0m \u001b[0margs\u001b[0m\u001b[0;34m[\u001b[0m\u001b[0;36m1\u001b[0m\u001b[0;34m:\u001b[0m\u001b[0;34m]\u001b[0m\u001b[0;34m\u001b[0m\u001b[0;34m\u001b[0m\u001b[0m\n\u001b[0;32m--> 311\u001b[0;31m             yield from self._plot_args(\n\u001b[0m\u001b[1;32m    312\u001b[0m                 this, kwargs, ambiguous_fmt_datakey=ambiguous_fmt_datakey)\n\u001b[1;32m    313\u001b[0m \u001b[0;34m\u001b[0m\u001b[0m\n",
            "\u001b[0;32m/usr/local/lib/python3.10/dist-packages/matplotlib/axes/_base.py\u001b[0m in \u001b[0;36m_plot_args\u001b[0;34m(self, tup, kwargs, return_kwargs, ambiguous_fmt_datakey)\u001b[0m\n\u001b[1;32m    502\u001b[0m \u001b[0;34m\u001b[0m\u001b[0m\n\u001b[1;32m    503\u001b[0m         \u001b[0;32mif\u001b[0m \u001b[0mx\u001b[0m\u001b[0;34m.\u001b[0m\u001b[0mshape\u001b[0m\u001b[0;34m[\u001b[0m\u001b[0;36m0\u001b[0m\u001b[0;34m]\u001b[0m \u001b[0;34m!=\u001b[0m \u001b[0my\u001b[0m\u001b[0;34m.\u001b[0m\u001b[0mshape\u001b[0m\u001b[0;34m[\u001b[0m\u001b[0;36m0\u001b[0m\u001b[0;34m]\u001b[0m\u001b[0;34m:\u001b[0m\u001b[0;34m\u001b[0m\u001b[0;34m\u001b[0m\u001b[0m\n\u001b[0;32m--> 504\u001b[0;31m             raise ValueError(f\"x and y must have same first dimension, but \"\n\u001b[0m\u001b[1;32m    505\u001b[0m                              f\"have shapes {x.shape} and {y.shape}\")\n\u001b[1;32m    506\u001b[0m         \u001b[0;32mif\u001b[0m \u001b[0mx\u001b[0m\u001b[0;34m.\u001b[0m\u001b[0mndim\u001b[0m \u001b[0;34m>\u001b[0m \u001b[0;36m2\u001b[0m \u001b[0;32mor\u001b[0m \u001b[0my\u001b[0m\u001b[0;34m.\u001b[0m\u001b[0mndim\u001b[0m \u001b[0;34m>\u001b[0m \u001b[0;36m2\u001b[0m\u001b[0;34m:\u001b[0m\u001b[0;34m\u001b[0m\u001b[0;34m\u001b[0m\u001b[0m\n",
            "\u001b[0;31mValueError\u001b[0m: x and y must have same first dimension, but have shapes (100,) and (1,)"
          ]
        },
        {
          "output_type": "display_data",
          "data": {
            "text/plain": [
              "<Figure size 640x480 with 1 Axes>"
            ],
            "image/png": "[encoded data removed]"
          },
          "metadata": {}
        }
      ]
    },
    {
      "cell_type": "markdown",
      "source": [
        "**c) Determinación de la media y desviación estándar de la muestra y su comparación con la analítica.**"
      ],
      "metadata": {
        "id": "i_EwxSK9pYtv"
      }
    },
    {
      "cell_type": "markdown",
      "source": [
        "Calculamos la media y desviación estandar de la muestra"
      ],
      "metadata": {
        "id": "CfDu5-oBpYtv"
      }
    },
    {
      "cell_type": "code",
      "source": [
        "# m -> Media de la muestra\n",
        "m=np.mean(x)\n",
        "# d -> Desviación estandar de la muestra\n",
        "d=np.std(x)\n",
        "print(\"La media de la muestra es\",m,\"y la desviación estandar es\",d)"
      ],
      "metadata": {
        "id": "4Fs6mk3bpYtw"
      },
      "execution_count": null,
      "outputs": []
    },
    {
      "cell_type": "markdown",
      "source": [
        "Realizamos la comparación"
      ],
      "metadata": {
        "id": "tFNyUWv8pYtx"
      }
    },
    {
      "cell_type": "code",
      "source": [
        "#Comparando las medias\n",
        "  # Dif_medias -> Diferencia entre la media analítica(mu) y la media de la muestra(m)\n",
        "Df_medias = abs(mu-m)\n",
        "print(\"Comparando la media analítica con la muestral encontramos una diferencia de\",Df_medias)"
      ],
      "metadata": {
        "id": "Zd80xN7MpYty"
      },
      "execution_count": null,
      "outputs": []
    },
    {
      "cell_type": "code",
      "source": [
        "#Comparando las desviaciones\n",
        "  # Dif_desviaciones -> Diferencia entre la desviación estandar analítica(sigma) y la desviación estandar de la muestra(d)\n",
        "Df_desviaciones = abs(sigma-d)\n",
        "print(\"Comparando la desviación estandar analítica con la muestral encontramos una diferencia de\",Df_desviaciones)"
      ],
      "metadata": {
        "id": "OB00r0FLpYtz"
      },
      "execution_count": null,
      "outputs": []
    },
    {
      "cell_type": "markdown",
      "source": [
        "**d) Conclusiones**"
      ],
      "metadata": {
        "id": "u-MmYG4apYt0"
      }
    },
    {
      "cell_type": "markdown",
      "source": [
        " Dado una diferencia tan pequeña tanto en la comparación de las medias y las desviaciones estandar podemos concluir que la muestra representa bien a la distribución normal y que la media muestral es una buena estimación de la media analítica."
      ],
      "metadata": {
        "id": "3PxgA-49pYt0"
      }
    },
    {
      "cell_type": "markdown",
      "source": [
        "# Gráfica de caminantes aleatorios"
      ],
      "metadata": {
        "id": "bzmwDWlkpYt1"
      }
    },
    {
      "cell_type": "code",
      "source": [
        "plt.plot(x[0:100])"
      ],
      "metadata": {
        "id": "iLGXi64ZpYt2"
      },
      "execution_count": null,
      "outputs": []
    }
  ]
}