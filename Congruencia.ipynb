{
  "nbformat": 4,
  "nbformat_minor": 0,
  "metadata": {
    "colab": {
      "provenance": [],
      "authorship_tag": "ABX9TyOajm1UW+FJMai6wr1uz3Ge",
      "include_colab_link": true
    },
    "kernelspec": {
      "name": "python3",
      "display_name": "Python 3"
    },
    "language_info": {
      "name": "python"
    }
  },
  "cells": [
    {
      "cell_type": "markdown",
      "metadata": {
        "id": "view-in-github",
        "colab_type": "text"
      },
      "source": [
        "<a href=\"https://colab.research.google.com/github/Wenypb/Simulacion/blob/main/Congruencia.ipynb\" target=\"_parent\"><img src=\"https://colab.research.google.com/assets/colab-badge.svg\" alt=\"Open In Colab\"/></a>"
      ]
    },
    {
      "cell_type": "markdown",
      "source": [
        "**METODO DE CONGRUENCIA**"
      ],
      "metadata": {
        "id": "RP4c_TntMbOb"
      }
    },
    {
      "cell_type": "code",
      "execution_count": 10,
      "metadata": {
        "colab": {
          "base_uri": "https://localhost:8080/"
        },
        "id": "Y4aUpmp9MLKn",
        "outputId": "81b775a9-96a5-4ed8-c3f4-aafd58cef1a9"
      },
      "outputs": [
        {
          "output_type": "stream",
          "name": "stdout",
          "text": [
            "Ingrese la semilla:6\n",
            "Ingrese el valor que desea para a:5\n",
            "Ingrese el valor que desea para c:5\n",
            "Ingrese el valor que desea para m:61\n",
            "Ingrese la cantidad de numeros que desea generar:100\n",
            "  n    Xn    aXn+c    m       Xn/m\n",
            "---  ----  -------  ---  ---------\n",
            "  0     6       35   35  0.0983607\n",
            "  1    35      180   58  0.57377\n",
            "  2    58      295   51  0.95082\n",
            "  3    51      260   16  0.836066\n",
            "  4    16       85   24  0.262295\n",
            "  5    24      125    3  0.393443\n",
            "  6     3       20   20  0.0491803\n",
            "  7    20      105   44  0.327869\n",
            "  8    44      225   42  0.721311\n",
            "  9    42      215   32  0.688525\n",
            " 10    32      165   43  0.52459\n",
            " 11    43      220   37  0.704918\n",
            " 12    37      190    7  0.606557\n",
            " 13     7       40   40  0.114754\n",
            " 14    40      205   22  0.655738\n",
            " 15    22      115   54  0.360656\n",
            " 16    54      275   31  0.885246\n",
            " 17    31      160   38  0.508197\n",
            " 18    38      195   12  0.622951\n",
            " 19    12       65    4  0.196721\n",
            " 20     4       25   25  0.0655738\n",
            " 21    25      130    8  0.409836\n",
            " 22     8       45   45  0.131148\n",
            " 23    45      230   47  0.737705\n",
            " 24    47      240   57  0.770492\n",
            " 25    57      290   46  0.934426\n",
            " 26    46      235   52  0.754098\n",
            " 27    52      265   21  0.852459\n",
            " 28    21      110   49  0.344262\n",
            " 29    49      250    6  0.803279\n",
            " 30     6       35   35  0.0983607\n",
            " 31    35      180   58  0.57377\n",
            " 32    58      295   51  0.95082\n",
            " 33    51      260   16  0.836066\n",
            " 34    16       85   24  0.262295\n",
            " 35    24      125    3  0.393443\n",
            " 36     3       20   20  0.0491803\n",
            " 37    20      105   44  0.327869\n",
            " 38    44      225   42  0.721311\n",
            " 39    42      215   32  0.688525\n",
            " 40    32      165   43  0.52459\n",
            " 41    43      220   37  0.704918\n",
            " 42    37      190    7  0.606557\n",
            " 43     7       40   40  0.114754\n",
            " 44    40      205   22  0.655738\n",
            " 45    22      115   54  0.360656\n",
            " 46    54      275   31  0.885246\n",
            " 47    31      160   38  0.508197\n",
            " 48    38      195   12  0.622951\n",
            " 49    12       65    4  0.196721\n",
            " 50     4       25   25  0.0655738\n",
            " 51    25      130    8  0.409836\n",
            " 52     8       45   45  0.131148\n",
            " 53    45      230   47  0.737705\n",
            " 54    47      240   57  0.770492\n",
            " 55    57      290   46  0.934426\n",
            " 56    46      235   52  0.754098\n",
            " 57    52      265   21  0.852459\n",
            " 58    21      110   49  0.344262\n",
            " 59    49      250    6  0.803279\n",
            " 60     6       35   35  0.0983607\n",
            " 61    35      180   58  0.57377\n",
            " 62    58      295   51  0.95082\n",
            " 63    51      260   16  0.836066\n",
            " 64    16       85   24  0.262295\n",
            " 65    24      125    3  0.393443\n",
            " 66     3       20   20  0.0491803\n",
            " 67    20      105   44  0.327869\n",
            " 68    44      225   42  0.721311\n",
            " 69    42      215   32  0.688525\n",
            " 70    32      165   43  0.52459\n",
            " 71    43      220   37  0.704918\n",
            " 72    37      190    7  0.606557\n",
            " 73     7       40   40  0.114754\n",
            " 74    40      205   22  0.655738\n",
            " 75    22      115   54  0.360656\n",
            " 76    54      275   31  0.885246\n",
            " 77    31      160   38  0.508197\n",
            " 78    38      195   12  0.622951\n",
            " 79    12       65    4  0.196721\n",
            " 80     4       25   25  0.0655738\n",
            " 81    25      130    8  0.409836\n",
            " 82     8       45   45  0.131148\n",
            " 83    45      230   47  0.737705\n",
            " 84    47      240   57  0.770492\n",
            " 85    57      290   46  0.934426\n",
            " 86    46      235   52  0.754098\n",
            " 87    52      265   21  0.852459\n",
            " 88    21      110   49  0.344262\n",
            " 89    49      250    6  0.803279\n",
            " 90     6       35   35  0.0983607\n",
            " 91    35      180   58  0.57377\n",
            " 92    58      295   51  0.95082\n",
            " 93    51      260   16  0.836066\n",
            " 94    16       85   24  0.262295\n",
            " 95    24      125    3  0.393443\n",
            " 96     3       20   20  0.0491803\n",
            " 97    20      105   44  0.327869\n",
            " 98    44      225   42  0.721311\n"
          ]
        }
      ],
      "source": [
        "from tabulate import tabulate\n",
        "X0=int(input(\"Ingrese la semilla:\"))\n",
        "a=int(input(\"Ingrese el valor que desea para a:\"))\n",
        "c=int(input(\"Ingrese el valor que desea para c:\"))\n",
        "m=int(input(\"Ingrese el valor que desea para m:\"))\n",
        "n=int(input(\"Ingrese la cantidad de numeros que desea generar:\"))\n",
        "xm1=[ ]\n",
        "Generados=[ ]\n",
        "for i in range(1,n):\n",
        "  n0=i-1\n",
        "  res=a*X0+c\n",
        "  X1=res%m\n",
        "  xn=X0/m\n",
        "  xm0=[n0,X0,res,X1,xn]\n",
        "  xm1.append(xm0)\n",
        "  Generados.append(X0)\n",
        "  X0=X1\n",
        "print(tabulate(xm1,headers=[\"n\",\"Xn\",\"aXn+c\",\"m\",\"Xn/m\"]))\n"
      ]
    }
  ]
}