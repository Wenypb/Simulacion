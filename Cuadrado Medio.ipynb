{
  "nbformat": 4,
  "nbformat_minor": 0,
  "metadata": {
    "colab": {
      "provenance": [],
      "authorship_tag": "ABX9TyMqq0aybWiJe53gOw6fz7Z+",
      "include_colab_link": true
    },
    "kernelspec": {
      "name": "python3",
      "display_name": "Python 3"
    },
    "language_info": {
      "name": "python"
    }
  },
  "cells": [
    {
      "cell_type": "markdown",
      "metadata": {
        "id": "view-in-github",
        "colab_type": "text"
      },
      "source": [
        "<a href=\"https://colab.research.google.com/github/Wenypb/Simulacion/blob/main/Cuadrado%20Medio.ipynb\" target=\"_parent\"><img src=\"https://colab.research.google.com/assets/colab-badge.svg\" alt=\"Open In Colab\"/></a>"
      ]
    },
    {
      "cell_type": "code",
      "execution_count": null,
      "metadata": {
        "id": "0DUj4eUYKnh-",
        "colab": {
          "base_uri": "https://localhost:8080/"
        },
        "outputId": "e0699914-900c-4f4b-db4f-fb03410cb178"
      },
      "outputs": [
        {
          "output_type": "stream",
          "name": "stdout",
          "text": [
            "Ingresar numero de 4 digitos\n",
            "3792\n",
            "Ingrese la cantidad de numeros aleatorios que desea\n",
            "50\n",
            "  n    Xn      Xn^2    X(n+1)\n",
            "---  ----  --------  --------\n",
            "  0  3792  14379264      3792\n",
            "  1  3792  14379264      3792\n",
            "  2  3792  14379264      3792\n",
            "  3  3792  14379264      3792\n",
            "  4  3792  14379264      3792\n",
            "  5  3792  14379264      3792\n",
            "  6  3792  14379264      3792\n",
            "  7  3792  14379264      3792\n",
            "  8  3792  14379264      3792\n",
            "  9  3792  14379264      3792\n",
            " 10  3792  14379264      3792\n",
            " 11  3792  14379264      3792\n",
            " 12  3792  14379264      3792\n",
            " 13  3792  14379264      3792\n",
            " 14  3792  14379264      3792\n",
            " 15  3792  14379264      3792\n",
            " 16  3792  14379264      3792\n",
            " 17  3792  14379264      3792\n",
            " 18  3792  14379264      3792\n",
            " 19  3792  14379264      3792\n",
            " 20  3792  14379264      3792\n",
            " 21  3792  14379264      3792\n",
            " 22  3792  14379264      3792\n",
            " 23  3792  14379264      3792\n",
            " 24  3792  14379264      3792\n",
            " 25  3792  14379264      3792\n",
            " 26  3792  14379264      3792\n",
            " 27  3792  14379264      3792\n",
            " 28  3792  14379264      3792\n",
            " 29  3792  14379264      3792\n",
            " 30  3792  14379264      3792\n",
            " 31  3792  14379264      3792\n",
            " 32  3792  14379264      3792\n",
            " 33  3792  14379264      3792\n",
            " 34  3792  14379264      3792\n",
            " 35  3792  14379264      3792\n",
            " 36  3792  14379264      3792\n",
            " 37  3792  14379264      3792\n",
            " 38  3792  14379264      3792\n",
            " 39  3792  14379264      3792\n",
            " 40  3792  14379264      3792\n",
            " 41  3792  14379264      3792\n",
            " 42  3792  14379264      3792\n",
            " 43  3792  14379264      3792\n",
            " 44  3792  14379264      3792\n",
            " 45  3792  14379264      3792\n",
            " 46  3792  14379264      3792\n",
            " 47  3792  14379264      3792\n",
            " 48  3792  14379264      3792\n",
            "[3792, 3792, 3792, 3792, 3792, 3792, 3792, 3792, 3792, 3792, 3792, 3792, 3792, 3792, 3792, 3792, 3792, 3792, 3792, 3792, 3792, 3792, 3792, 3792, 3792, 3792, 3792, 3792, 3792, 3792, 3792, 3792, 3792, 3792, 3792, 3792, 3792, 3792, 3792, 3792, 3792, 3792, 3792, 3792, 3792, 3792, 3792, 3792, 3792, 3792]\n"
          ]
        }
      ],
      "source": [
        "from tabulate import tabulate\n",
        "print(\"Ingresar numero de 4 digitos\")\n",
        "nx=input()\n",
        "print(\"Ingrese la cantidad de numeros aleatorios que desea\")\n",
        "n=input()\n",
        "x_1=int(nx)\n",
        "n=int(n)\n",
        "Generados=[x_1]\n",
        "matriz1=[]\n",
        "for i in range(1,n):\n",
        "  ni=i-1\n",
        "  x2=x_1**2\n",
        "  x_2=str(x2)\n",
        "  xlis=list(x_2)\n",
        "  length=len(xlis)\n",
        "  a=length%2\n",
        "  # CICLO PARA AGREGAR UN 0 AL INICIO DE CADA NUMERO EN CASO DE QUE SEA IMPAR\n",
        "  if a==0:\n",
        "    xlis=xlis\n",
        "  else:\n",
        "    xlis.insert(0,'0')\n",
        "  b=len(xlis)\n",
        "  #CICLO PARA ELEGIR LOS NUMEROS QUE SE ENCUENTRAN EN MEDIO\n",
        "  if b==8:\n",
        "    x=xlis[2:6]\n",
        "  else:\n",
        "    x=xlis[1:5]\n",
        "  xl= ''.join(xlis)\n",
        "  xi=''.join(x)\n",
        "  Matriz0=[ni,x_1,xl,xi]\n",
        "  matriz1.append(Matriz0)\n",
        "  x_1=''.join(x)\n",
        "  x_1=int(x_1)\n",
        "  Generados.append(x_1)\n",
        "  i=i+1\n",
        "  ni=i-1\n",
        "print(tabulate(matriz1,headers=[\"n\",\"Xn\",\"Xn^2\",\"X(n+1)\"]))\n",
        "\n",
        "print(\"Los numeros generados por el metodo de cuadrado medio son:\")\n",
        "print(Generados)\n",
        "\n",
        "\n",
        "\n"
      ]
    }
  ]
}