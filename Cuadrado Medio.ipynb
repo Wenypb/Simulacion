{
  "nbformat": 4,
  "nbformat_minor": 0,
  "metadata": {
    "colab": {
      "provenance": [],
      "authorship_tag": "ABX9TyOqfcJYwAwOmDram+3hfVvK",
      "include_colab_link": true
    },
    "kernelspec": {
      "name": "python3",
      "display_name": "Python 3"
    },
    "language_info": {
      "name": "python"
    }
  },
  "cells": [
    {
      "cell_type": "markdown",
      "metadata": {
        "id": "view-in-github",
        "colab_type": "text"
      },
      "source": [
        "<a href=\"https://colab.research.google.com/github/Wenypb/Simulacion/blob/main/Cuadrado%20Medio.ipynb\" target=\"_parent\"><img src=\"https://colab.research.google.com/assets/colab-badge.svg\" alt=\"Open In Colab\"/></a>"
      ]
    },
    {
      "cell_type": "markdown",
      "source": [
        "# Método de Cuadrado Medio"
      ],
      "metadata": {
        "id": "ZRzisb-M4aa2"
      }
    },
    {
      "cell_type": "markdown",
      "source": [
        "Esta función del método de cuadrado medio que es un  generador de números necesita de una semilla (X0) de 4 dígitos, asi como el valor de n que es el total de números que se desean generar."
      ],
      "metadata": {
        "id": "qyPPE7q64hnt"
      }
    },
    {
      "cell_type": "markdown",
      "source": [
        "*Desarrollo del método*\n",
        "\n",
        "\n",
        "1.   Seleccionamos semilla (X0) con 4 dígitos\n",
        "2.   Elevamos (X0) al cuadrado\n",
        "3.   Del resultado tomamos 4 dígitos centrales y lo nombramos X(1)"
      ],
      "metadata": {
        "id": "EMfVUBwC4-G9"
      }
    },
    {
      "cell_type": "code",
      "execution_count": 6,
      "metadata": {
        "id": "0DUj4eUYKnh-"
      },
      "outputs": [],
      "source": [
        "def Cuad_Medio(x0,n):\n",
        "  from tabulate import tabulate\n",
        "  Generados=[x0]\n",
        "  matriz1=[]\n",
        "  for i in range(1,n):\n",
        "    ni=i-1\n",
        "    x2=x0**2\n",
        "    x_2=str(x2)\n",
        "    xlis=list(x_2)\n",
        "    length=len(xlis)\n",
        "    a=length%2\n",
        "    # CICLO PARA AGREGAR UN 0 AL INICIO DE CADA NUMERO EN CASO DE QUE SEA IMPAR\n",
        "    if a==0:\n",
        "      xlis=xlis\n",
        "    else:\n",
        "      xlis.insert(0,'0')\n",
        "    b=len(xlis)\n",
        "    #CICLO PARA ELEGIR LOS NUMEROS QUE SE ENCUENTRAN EN MEDIO\n",
        "    if b==8:\n",
        "      x=xlis[2:6]\n",
        "    else:\n",
        "      x=xlis[1:5]\n",
        "    xl= ''.join(xlis)\n",
        "    xi=''.join(x)\n",
        "    Matriz0=[ni,x0,xl,xi]\n",
        "    matriz1.append(Matriz0)\n",
        "    x_1=''.join(x)\n",
        "    x0=int(x_1)\n",
        "    Generados.append(x0)\n",
        "    i=i+1\n",
        "    ni=i-1\n",
        "  print(tabulate(matriz1,headers=[\"n\",\"Xn\",\"Xn^2\",\"X(n+1)\"]))\n",
        "\n",
        "  print(\"Los numeros generados por el metodo de cuadrado medio son:\")\n",
        "  print(Generados)\n",
        "  return\n",
        "\n",
        "\n"
      ]
    },
    {
      "cell_type": "markdown",
      "source": [
        "*Resultado del método*\n",
        "\n",
        "Se tiene una tabla con los resultados de cada iteraccion y una lista del total de n valores generados."
      ],
      "metadata": {
        "id": "9JrQgCx75WrA"
      }
    },
    {
      "cell_type": "markdown",
      "source": [
        "*Ejemplo:*\n",
        "\n",
        "Usamos la función anterior con los datos del ejercicio trabajado en clase con:\n",
        "\n",
        "x0= 2024; n = 20"
      ],
      "metadata": {
        "id": "ZoFqv1BQ6fzb"
      }
    },
    {
      "cell_type": "code",
      "source": [
        "#Ingresar valor de la semilla\n",
        "print(\"Ingresar numero de 4 digitos\")\n",
        "x0=int(input())\n",
        "#Ingresar valor de n\n",
        "print(\"Ingrese la cantidad de numeros aleatorios que desea\")\n",
        "n=int(input())\n",
        "\n",
        "Cuad_Medio(x0,n)"
      ],
      "metadata": {
        "id": "Z0JGeBkQ59am",
        "outputId": "e1b0eece-f1c5-45ca-9c45-aaf388557bc6",
        "colab": {
          "base_uri": "https://localhost:8080/"
        }
      },
      "execution_count": 7,
      "outputs": [
        {
          "output_type": "stream",
          "name": "stdout",
          "text": [
            "Ingresar numero de 4 digitos\n",
            "2024\n",
            "Ingrese la cantidad de numeros aleatorios que desea\n",
            "20\n",
            "  n    Xn      Xn^2    X(n+1)\n",
            "---  ----  --------  --------\n",
            "  0  2024  04096576      0965\n",
            "  1   965    931225      3122\n",
            "  2  3122  09746884      7468\n",
            "  3  7468  55771024      7710\n",
            "  4  7710  59444100      4441\n",
            "  5  4441  19722481      7224\n",
            "  6  7224  52186176      1861\n",
            "  7  1861  03463321      4633\n",
            "  8  4633  21464689      4646\n",
            "  9  4646  21585316      5853\n",
            " 10  5853  34257609      2576\n",
            " 11  2576  06635776      6357\n",
            " 12  6357  40411449      4114\n",
            " 13  4114  16924996      9249\n",
            " 14  9249  85544001      5440\n",
            " 15  5440  29593600      5936\n",
            " 16  5936  35236096      2360\n",
            " 17  2360  05569600      5696\n",
            " 18  5696  32444416      4444\n",
            "Los numeros generados por el metodo de cuadrado medio son:\n",
            "[2024, 965, 3122, 7468, 7710, 4441, 7224, 1861, 4633, 4646, 5853, 2576, 6357, 4114, 9249, 5440, 5936, 2360, 5696, 4444]\n"
          ]
        }
      ]
    }
  ]
}