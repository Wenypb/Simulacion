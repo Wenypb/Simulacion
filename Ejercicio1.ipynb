{
  "nbformat": 4,
  "nbformat_minor": 0,
  "metadata": {
    "colab": {
      "provenance": [],
      "authorship_tag": "ABX9TyN1g3cs682PHBV+TNZjfaGy",
      "include_colab_link": true
    },
    "kernelspec": {
      "name": "python3",
      "display_name": "Python 3"
    },
    "language_info": {
      "name": "python"
    }
  },
  "cells": [
    {
      "cell_type": "markdown",
      "metadata": {
        "id": "view-in-github",
        "colab_type": "text"
      },
      "source": [
        "<a href=\"https://colab.research.google.com/github/Wenypb/Simulacion/blob/main/Ejercicio1.ipynb\" target=\"_parent\"><img src=\"https://colab.research.google.com/assets/colab-badge.svg\" alt=\"Open In Colab\"/></a>"
      ]
    },
    {
      "cell_type": "markdown",
      "source": [
        "**Instrucciones:** Resuelva los ejercicios de manera detallada, clara y completa."
      ],
      "metadata": {
        "id": "4S17Wnx7rZvf"
      }
    },
    {
      "cell_type": "markdown",
      "source": [
        "*1.- Determine el ciclo o periodo de vida de los siguientes generadores congruenciales.*"
      ],
      "metadata": {
        "id": "YYirit_6rOwe"
      }
    },
    {
      "cell_type": "markdown",
      "source": [
        "La siguiente función muestra el ciclo de vida, es decir, en que iteración se comienzan a repetir los numeros generados por el metodo de congruencia con X0, a, c, y m como valores de entrada."
      ],
      "metadata": {
        "id": "4FoPixEb2B9I"
      }
    },
    {
      "cell_type": "markdown",
      "source": [
        " Xj+1 = **a**Xj + **c**    mod(**m**) con x0= **X0**"
      ],
      "metadata": {
        "id": "eDOanoJME5Yf"
      }
    },
    {
      "cell_type": "code",
      "source": [
        "def Congruencia(X0,a,c,m):\n",
        "  xm1=[ ]\n",
        "  Generados=[ ]\n",
        "  n0=0\n",
        "  while X0 not in Generados:\n",
        "    res=a*X0+c\n",
        "    X1=res%m\n",
        "    xn=X0/m\n",
        "    xm0=[n0,X0,res,X1]\n",
        "    xm1.append(xm0)\n",
        "    Generados.append(X0)\n",
        "    X0=X1\n",
        "    n0=n0+1\n",
        "  return print(\"El ciclo de vida de este generador congruencial es :\",n0)"
      ],
      "metadata": {
        "id": "bJlSK2w9DasZ"
      },
      "execution_count": 18,
      "outputs": []
    },
    {
      "cell_type": "markdown",
      "source": [
        "# **(a)** Xj+1 = 21Xj + 15     mod(31) con X0= 21\n",
        "\n"
      ],
      "metadata": {
        "id": "FdgeuUaIvVVT"
      }
    },
    {
      "cell_type": "code",
      "execution_count": 19,
      "metadata": {
        "colab": {
          "base_uri": "https://localhost:8080/"
        },
        "id": "BgjG4P0tpdum",
        "outputId": "3ba713f7-7dd0-493a-e7bc-ce8d1d5250d4"
      },
      "outputs": [
        {
          "output_type": "stream",
          "name": "stdout",
          "text": [
            "El ciclo de vida de este generador congruencial es : 30\n"
          ]
        }
      ],
      "source": [
        "Congruencia(21,21,15,31)"
      ]
    },
    {
      "cell_type": "markdown",
      "source": [
        "# **(b)** Xj+1 = 13Xj + 9     mod(128) con X0= 7"
      ],
      "metadata": {
        "id": "ZeIqXGMN7IDH"
      }
    },
    {
      "cell_type": "code",
      "source": [
        "Congruencia(7,13,9,128)"
      ],
      "metadata": {
        "colab": {
          "base_uri": "https://localhost:8080/"
        },
        "id": "ja5emUCt7i8E",
        "outputId": "8b26c9e5-8eb9-48fb-dbd1-f66c291eb40f"
      },
      "execution_count": 20,
      "outputs": [
        {
          "output_type": "stream",
          "name": "stdout",
          "text": [
            "El ciclo de vida de este generador congruencial es : 128\n"
          ]
        }
      ]
    },
    {
      "cell_type": "markdown",
      "source": [
        "# **(c)** Xj+1 = 17Xj     mod(31) con X0= 23"
      ],
      "metadata": {
        "id": "i1uo5Q5R-KP-"
      }
    },
    {
      "cell_type": "code",
      "source": [
        "Congruencia(23,17,0,31)"
      ],
      "metadata": {
        "colab": {
          "base_uri": "https://localhost:8080/"
        },
        "id": "nfspWmaqEopy",
        "outputId": "21dd78e4-e018-4281-adcd-9c72c56e9700"
      },
      "execution_count": 21,
      "outputs": [
        {
          "output_type": "stream",
          "name": "stdout",
          "text": [
            "El ciclo de vida de este generador congruencial es : 30\n"
          ]
        }
      ]
    },
    {
      "cell_type": "markdown",
      "source": [
        "# **(d)** Xj+1 = Xj + 121     mod(256) con X0= 17"
      ],
      "metadata": {
        "id": "TtaAidF8_QUl"
      }
    },
    {
      "cell_type": "code",
      "source": [
        "Congruencia(17,1,121,256)"
      ],
      "metadata": {
        "colab": {
          "base_uri": "https://localhost:8080/"
        },
        "id": "HmTTN284Fg3Z",
        "outputId": "4a170085-6abd-4fdf-c3c9-4db5f95dcbc6"
      },
      "execution_count": 22,
      "outputs": [
        {
          "output_type": "stream",
          "name": "stdout",
          "text": [
            "El ciclo de vida de este generador congruencial es : 256\n"
          ]
        }
      ]
    },
    {
      "cell_type": "markdown",
      "source": [
        "\n",
        "\n",
        "---\n",
        "\n"
      ],
      "metadata": {
        "id": "ZWskqd8jGhOs"
      }
    },
    {
      "cell_type": "markdown",
      "source": [
        "La siguiente función muestra el ciclo de vida, es decir, en que iteración se comienzan a repetir los numeros generados por el metodo de congruencia con X0, X1, a, c, y m como valores de entrada."
      ],
      "metadata": {
        "id": "8Z192fMPGFWD"
      }
    },
    {
      "cell_type": "markdown",
      "source": [
        "Xj+1 = **a**Xj + **c**X(j-1) mod(**m**) con x0 = **X0** y x1 = **X1**"
      ],
      "metadata": {
        "id": "6YY3TrqCGZFh"
      }
    },
    {
      "cell_type": "code",
      "source": [
        "def Congruencia2(X0,X1,a,c,m):\n",
        "  xm1=[ ]\n",
        "  Generadosx0=[ ]\n",
        "  Generadosx1=[ ]\n",
        "  n0=0\n",
        "  while X0 not in Generadosx0:\n",
        "    res=a*X1+c*X0\n",
        "    X2=res%m\n",
        "    xn=X0/m\n",
        "    xm0=[n0,X0,X1,res,X2]\n",
        "    xm1.append(xm0)\n",
        "    Generadosx0.append(X0)\n",
        "    Generadosx1.append(X1)\n",
        "    X0=X1\n",
        "    X1=X2\n",
        "    n0=n0+1\n",
        "  return print(\"El ciclo de vida de este generador congruencial es :\",n0)"
      ],
      "metadata": {
        "id": "4dOWmAjmHZgm"
      },
      "execution_count": 23,
      "outputs": []
    },
    {
      "cell_type": "markdown",
      "source": [
        "# **(e)** Xj+1 = 21Xj + 15X(j-1)     mod(64) con X0= 21 y X1 = 43"
      ],
      "metadata": {
        "id": "xcMUIiGbKI-h"
      }
    },
    {
      "cell_type": "code",
      "source": [
        "Congruencia2(21,43,21,15,64)"
      ],
      "metadata": {
        "colab": {
          "base_uri": "https://localhost:8080/"
        },
        "id": "m1XgqR2BLEwn",
        "outputId": "58cb0de4-d072-4b79-d86f-bc01e3f07485"
      },
      "execution_count": 24,
      "outputs": [
        {
          "output_type": "stream",
          "name": "stdout",
          "text": [
            "El ciclo de vida de este generador congruencial es : 8\n"
          ]
        }
      ]
    }
  ]
}