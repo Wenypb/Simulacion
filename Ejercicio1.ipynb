{
  "nbformat": 4,
  "nbformat_minor": 0,
  "metadata": {
    "colab": {
      "provenance": [],
      "authorship_tag": "ABX9TyPT2LUCAcYxheISrZt/SIZP",
      "include_colab_link": true
    },
    "kernelspec": {
      "name": "python3",
      "display_name": "Python 3"
    },
    "language_info": {
      "name": "python"
    }
  },
  "cells": [
    {
      "cell_type": "markdown",
      "metadata": {
        "id": "view-in-github",
        "colab_type": "text"
      },
      "source": [
        "<a href=\"https://colab.research.google.com/github/Wenypb/Simulacion/blob/main/Ejercicio1.ipynb\" target=\"_parent\"><img src=\"https://colab.research.google.com/assets/colab-badge.svg\" alt=\"Open In Colab\"/></a>"
      ]
    },
    {
      "cell_type": "markdown",
      "source": [
        "**Instrucciones:** Resuelva los ejercicios de manera detallada, clara y completa."
      ],
      "metadata": {
        "id": "4S17Wnx7rZvf"
      }
    },
    {
      "cell_type": "markdown",
      "source": [
        "*1.- Determine el ciclo o periodo de vida de los siguientes generadores congruenciales.*"
      ],
      "metadata": {
        "id": "YYirit_6rOwe"
      }
    },
    {
      "cell_type": "markdown",
      "source": [
        "La siguiente función muestra el ciclo de vida, es decir, en que iteración se comienzan a repetir los numeros generados por el metodo de congruencia con X0, a, c, y m como valores de entrada."
      ],
      "metadata": {
        "id": "4FoPixEb2B9I"
      }
    },
    {
      "cell_type": "markdown",
      "source": [
        " Xj+1 = **a**Xj + **c**    mod(**m**) con x0= **X0**"
      ],
      "metadata": {
        "id": "eDOanoJME5Yf"
      }
    },
    {
      "cell_type": "code",
      "source": [
        "def Congruencia(X0,a,c,m):\n",
        "  xm1=[ ]\n",
        "  Generados=[ ]\n",
        "  n0=0\n",
        "  while X0 not in Generados:\n",
        "    res=a*X0+c\n",
        "    X1=res%m\n",
        "    xn=X0/m\n",
        "    xm0=[n0,X0,res,X1]\n",
        "    xm1.append(xm0)\n",
        "    Generados.append(X0)\n",
        "    X0=X1\n",
        "    n0=n0+1\n",
        "  return print(\"El ciclo de vida de este generador congruencial es :\",n0)"
      ],
      "metadata": {
        "id": "bJlSK2w9DasZ"
      },
      "execution_count": 18,
      "outputs": []
    },
    {
      "cell_type": "markdown",
      "source": [
        "# **(a)** Xj+1 = 21Xj + 15     mod(31) con X0= 21\n",
        "\n"
      ],
      "metadata": {
        "id": "FdgeuUaIvVVT"
      }
    },
    {
      "cell_type": "code",
      "execution_count": 19,
      "metadata": {
        "colab": {
          "base_uri": "https://localhost:8080/"
        },
        "id": "BgjG4P0tpdum",
        "outputId": "3ba713f7-7dd0-493a-e7bc-ce8d1d5250d4"
      },
      "outputs": [
        {
          "output_type": "stream",
          "name": "stdout",
          "text": [
            "El ciclo de vida de este generador congruencial es : 30\n"
          ]
        }
      ],
      "source": [
        "Congruencia(21,21,15,31)"
      ]
    },
    {
      "cell_type": "markdown",
      "source": [
        "# **(b)** Xj+1 = 13Xj + 9     mod(128) con X0= 7"
      ],
      "metadata": {
        "id": "ZeIqXGMN7IDH"
      }
    },
    {
      "cell_type": "code",
      "source": [
        "Congruencia(7,13,9,128)"
      ],
      "metadata": {
        "colab": {
          "base_uri": "https://localhost:8080/"
        },
        "id": "ja5emUCt7i8E",
        "outputId": "8b26c9e5-8eb9-48fb-dbd1-f66c291eb40f"
      },
      "execution_count": 20,
      "outputs": [
        {
          "output_type": "stream",
          "name": "stdout",
          "text": [
            "El ciclo de vida de este generador congruencial es : 128\n"
          ]
        }
      ]
    },
    {
      "cell_type": "markdown",
      "source": [
        "# **(c)** Xj+1 = 17Xj     mod(31) con X0= 23"
      ],
      "metadata": {
        "id": "i1uo5Q5R-KP-"
      }
    },
    {
      "cell_type": "code",
      "source": [
        "Congruencia(23,17,0,31)"
      ],
      "metadata": {
        "colab": {
          "base_uri": "https://localhost:8080/"
        },
        "id": "nfspWmaqEopy",
        "outputId": "21dd78e4-e018-4281-adcd-9c72c56e9700"
      },
      "execution_count": 21,
      "outputs": [
        {
          "output_type": "stream",
          "name": "stdout",
          "text": [
            "El ciclo de vida de este generador congruencial es : 30\n"
          ]
        }
      ]
    },
    {
      "cell_type": "markdown",
      "source": [
        "# **(d)** Xj+1 = Xj + 121     mod(256) con X0= 17"
      ],
      "metadata": {
        "id": "TtaAidF8_QUl"
      }
    },
    {
      "cell_type": "code",
      "source": [
        "Congruencia(17,1,121,256)"
      ],
      "metadata": {
        "colab": {
          "base_uri": "https://localhost:8080/"
        },
        "id": "HmTTN284Fg3Z",
        "outputId": "4a170085-6abd-4fdf-c3c9-4db5f95dcbc6"
      },
      "execution_count": 22,
      "outputs": [
        {
          "output_type": "stream",
          "name": "stdout",
          "text": [
            "El ciclo de vida de este generador congruencial es : 256\n"
          ]
        }
      ]
    },
    {
      "cell_type": "markdown",
      "source": [
        "\n",
        "\n",
        "---\n",
        "\n"
      ],
      "metadata": {
        "id": "ZWskqd8jGhOs"
      }
    },
    {
      "cell_type": "markdown",
      "source": [
        "La siguiente función muestra el ciclo de vida, es decir, en que iteración se comienzan a repetir los numeros generados por el metodo de congruencia con X0, X1, a, c, y m como valores de entrada."
      ],
      "metadata": {
        "id": "8Z192fMPGFWD"
      }
    },
    {
      "cell_type": "markdown",
      "source": [
        "Xj+1 = **a**Xj + **c**X(j-1) mod(**m**) con x0 = **X0** y x1 = **X1**"
      ],
      "metadata": {
        "id": "6YY3TrqCGZFh"
      }
    },
    {
      "cell_type": "code",
      "source": [
        "def Congruencia2(X0,X1,a,c,m):\n",
        "  xm1=[ ]\n",
        "  Generadosx0=[ ]\n",
        "  Generadosx1=[ ]\n",
        "  n0=0\n",
        "  while X0 not in Generadosx0:\n",
        "    res=a*X1+c*X0\n",
        "    X2=res%m\n",
        "    xn=X0/m\n",
        "    xm0=[n0,X0,X1,res,X2]\n",
        "    xm1.append(xm0)\n",
        "    Generadosx0.append(X0)\n",
        "    Generadosx1.append(X1)\n",
        "    X0=X1\n",
        "    X1=X2\n",
        "    n0=n0+1\n",
        "  return print(\"El ciclo de vida de este generador congruencial es :\",n0)"
      ],
      "metadata": {
        "id": "4dOWmAjmHZgm"
      },
      "execution_count": 23,
      "outputs": []
    },
    {
      "cell_type": "markdown",
      "source": [
        "# **(e)** Xj+1 = 21Xj + 15X(j-1)     mod(64) con X0= 21 y X1 = 43"
      ],
      "metadata": {
        "id": "xcMUIiGbKI-h"
      }
    },
    {
      "cell_type": "code",
      "source": [
        "Congruencia2(21,43,21,15,64)"
      ],
      "metadata": {
        "colab": {
          "base_uri": "https://localhost:8080/"
        },
        "id": "m1XgqR2BLEwn",
        "outputId": "58cb0de4-d072-4b79-d86f-bc01e3f07485"
      },
      "execution_count": 24,
      "outputs": [
        {
          "output_type": "stream",
          "name": "stdout",
          "text": [
            "El ciclo de vida de este generador congruencial es : 8\n"
          ]
        }
      ]
    },
    {
      "cell_type": "markdown",
      "source": [
        "*2.- Escriba los pasos a seguir para realizar una Prueba de Bondad de Ajuste X^2 para comprobar que una muestra de numeros aleatorios sigue una distribución uniforme.*"
      ],
      "metadata": {
        "id": "jPtj_WZCL5FD"
      }
    },
    {
      "cell_type": "markdown",
      "source": [
        "\n",
        "Pasos:\n",
        "*1.   Formule la hipotesis nula y la alternativa:*\n",
        "\n",
        "Ho= No hay diferencias entre el conjunto de frecuencias observadas.\n",
        "\n",
        "Ha= Hay una diferencia entre los conjuntos observado y esperado de frecuencias.\n",
        "*2.   Seleccione el nivel de significancia.*\n",
        "\n",
        "*3.   Seleccione el estadistico de prueba.*\n",
        "\n",
        "El estadistico de prueba sigue una distribución ji cuadrada (X^2).\n",
        "\n",
        "  ![x2.png](data:image/png;base64,iVBORw0KGgoAAAANSUhEUgAAAJMAAAA0CAMAAAC5IvpxAAAAAXNSR0IArs4c6QAAAARnQU1BAACxjwv8YQUAAAJAUExURf////Dw8NfX187OztDQ0O3t7evr69TU1Nvb2/n5+fz8/N/f3+Dg4LS0tHh4eICAgImJidLS0vv7++/v7/j4+O7u7vT09Nzc3Lq6usPDw5GRkb6+vv39/a+vr4eHh3d3d4ODg5CQkHt7e7m5ucfHx+np6c3NzczMzPb29vLy8svLy7u7u+jo6NbW1re3t+Tk5MDAwK6urvHx8YSEhP7+/tjY2MjIyKSkpGlpaZaWlqWlpfr6+qamptXV1a2trcTExJ6ennl5ebW1tebm5uPj45mZmeHh4YGBgZ+fn/Pz86enp7i4uHR0dOfn54KCgp2dncrKypubm9nZ2X5+fsnJyaCgoOrq6pSUlNHR0cbGxmxsbG1tbampqbOzs/X19eLi4oWFhVhYWKqqqrCwsFBQUIyMjOXl5X9/f3p6enBwcHNzc15eXqioqOzs7IuLi93d3aKiooqKipeXl5iYmJWVlZKSknx8fLGxsbKysvf3997e3o2NjQgICAQEBKurq6Ojozg4OAAAAGNjY6GhoW9vb5qamqysrI6OjsHBwQUFBYaGhlVVVb+/v5ycnHV1db29vZOTk8/Pz7a2tsLCwn19fRUVFRwcHHZ2di4uLo+Pj7y8vENDQ05OTgEBAdPT01RUVMXFxScnJwsLCz8/Py0tLdra2kxMTGFhYWVlZVZWVkVFRTo6OhoaGllZWWhoaD4+PmpqakJCQm5ubnJyclJSUl1dXTc3Nzw8PFpaWjk5OTQ0NFtbWw0NDYiIiHFxcQAAAC9re0oAAADAdFJOU///////////////////////////////////////////////////////////////////////////////////////////////////////////////////////////////////////////////////////////////////////////////////////////////////////////////////////////////////////////////////////////////AB5m9HMAAAAJcEhZcwAADsMAAA7DAcdvqGQAAAN/SURBVFhH7Zg9kuMgEIV1CWJCgj4HF+ECfQbHiidyNJnOoCrutq+hhX4GxI5Ws1u1pc8eS/LI8Hh0N9jDw8PDw3+OYeeMnn8Tw4xXfF4Od0LWxtzmN5SlW5ko0jCEuDRwG9FS9sm5dG0cnYhjSt2z3EMBHzbwKUz5o7fhQz5yyA0Hb9s9kLdwRk4gyvBgvVzwyScu4X22JWRtxoaT8IpeY4e9yHAhu3a/pnQwGhPubB7MpKZme11wLPp/yifySZOJY2jaZOhdojl4w3GyKfZ+yieVZiaLqWup8qtgimwo5IFc1RRs9IVobWlGxai0FLXO5ezC5FCQ53JviEWti6uOriaUMD3bEV8vG3x++DjNr0mbj3noejATDc67kK4MjkQQtUxYXDXBJz2Dvo4mCk7TdY+ZigqAWBj1ruJTOjA0IVS2PW4QE41LdX97R90nA9IrCsdgo767g+eXTk8mW1EmTUODLCPhDVV7EcGYvyCBDeH6bksTp1pGNkCVqfqEVj4+SiYLKY1Xg3J8eAw/xJ0LK2mOrE+rnN900oin+In+0KCMoLU22Ne70tMS3NKJ4yhlJ7Iv+bXCLPINAg+9cLY109BkxoiJlhOEZW2MwLy3IbWgPmFtYQxKusKKV2uCYrIS4YR/7gbeyjvUurQmuE2aH6HPfUglNOGks2GpARKcX2Bdq+UlrcGFliaesweMQeb7cZJZP+5f85dYW3yqC2mwv7ep6T0d/K5oQkEYj7OyxNMf0KhP7Px7l1UyFkWvBZ4/jkZln5xW+G8jI677JPM7Yn+1RYqwPDc+DcN0dFN9gibUd/krz93f8mY+Xw5AYqyqCcUbjR9iBTGZHxtNHiXxQImn61Q0GZpkHfLrRqJFqAyo5F0TDE7PGtR8ghd4xZa907pbt2QrXZ+wRnRkt/LuN+C9JA3+bt75mHeTba5rMnbdaQAua/B5h8PULRaXNZnN5geUeez5ROPXvDhwWZMfiRVHIc6zttPzicbtclvlqiaa51F5j/Mndp36j17eyY6qQ2+f2QKrOr5D45FecLE00/Mp9DX9Qd7V6cVTlF3rfoU68gOazn2SPThK31ntu11TJ55YvhfH+Hc11ba5BeaABcvYcFo17/fJn8SKy7ngUUaaN5nLedfETzH9RlJFf8MzLn1XqUPe3v37E+ObcTfbT5BfDXqL/8PDw8O/ZRh+AYYNOYvex385AAAAAElFTkSuQmCC)\n",
        "\n",
        "\n",
        "\n",
        "*4.   Formule la regla de decisión.*\n",
        "\n",
        "Determinar el valor critica que separa la region de no rechazo de Ho y la de rechazo de Ho.\n",
        "\n",
        "*5.   Calcular el valor de ji cuadrada y tomar una decisión.*"
      ],
      "metadata": {
        "id": "i7BBoGl3MZ0A"
      }
    },
    {
      "cell_type": "markdown",
      "source": [
        "*3.- Realice una prueba de bondad de ajuste con un nivel de aceptación del 95%*\n",
        "\n"
      ],
      "metadata": {
        "id": "DwDwERjUQQK_"
      }
    },
    {
      "cell_type": "markdown",
      "source": [
        "**Formular hipotesis nula y alternativa**\n",
        "\n",
        "H0 = No hay diferencias entre el conjunto de frecuencias observadas en el conjunto de datos del ejercicio.\n",
        "\n",
        "Ha= Hay una diferencia entre las frecuencias observadas en el conjunto de datos del ejercicio y las frecuencias esperadas."
      ],
      "metadata": {
        "id": "yjV2rJaLgIDh"
      }
    },
    {
      "cell_type": "markdown",
      "source": [
        "**Nivel de significancia**\n",
        "\n",
        "El nivel de significancia es α = 100% - 95% = 5% = 0.05"
      ],
      "metadata": {
        "id": "t7vUR_UNgxCV"
      }
    },
    {
      "cell_type": "markdown",
      "source": [
        "**Estadistico de prueba**\n",
        "\n",
        "Distribucion ji cuadrada con:\n",
        "\n",
        "10 - 1 = 9 grados de libertad\n",
        "\n",
        "f0 -> Frecuencia observada en cada clase\n",
        "\n",
        "f1= 5 -> Frecuencia esperada en cada clase"
      ],
      "metadata": {
        "id": "HIAuYcDthA3M"
      }
    },
    {
      "cell_type": "markdown",
      "source": [
        "**Regla de decision**\n",
        "\n",
        "Valor critico = 16.9\n",
        "\n",
        "Zona de no rechazo de H0 si ji cuadrada menor o igual a 16.9\n",
        "\n",
        "Zona de rechazo de Ho si ji cuadrada es mayor a 16.9"
      ],
      "metadata": {
        "id": "Y84Isnylhgjz"
      }
    },
    {
      "cell_type": "markdown",
      "source": [
        "**Calcular ji cuadrada**\n",
        "\n",
        "El siguiente programa realiza el calculo de ji cuadrada con 10 categorias"
      ],
      "metadata": {
        "id": "MoN0X_XxiUCD"
      }
    },
    {
      "cell_type": "code",
      "source": [
        "datos=[0.8797,0.3884,0.6289,0.8750,0.5999,0.8589,0.9996,0.2415,0.3808,0.9606,\n",
        "       0.9848,0.3469,0.7977,0.5844,0.8147,0.6431,0.7387,0.5613,0.0318,0.7401,\n",
        "       0.4557,0.1592,0.8536,0.8846,0.3410,0.1492,0.8681,0.5291,0.3188,0.5992,\n",
        "       0.9170,0.2204,0.5991,0.5461,0.5739,0.3254,0.0856,0.2258,0.4603,0.5027,\n",
        "       0.8376,0.6235,0.3681,0.2088,0.1525,0.2006,0.4720,0.4272,0.6360,0.0954]\n",
        "\n",
        "datos.sort()\n",
        "#Listas en donde se guardaran los numeros segun su clasificacion\n",
        "clas1=[] #(0 - 0.0999)\n",
        "clas2=[] #(0.1 - 0.1999)\n",
        "clas3=[] #(0.2 - 0.2999)\n",
        "clas4=[] #(0.3 - 0.3999)\n",
        "clas5=[] #(0.4 - 0.4999)\n",
        "clas6=[] #(0.5 - 0.5999)\n",
        "clas7=[] #(0.6 - 0.6999)\n",
        "clas8=[] #(0.7 - 0.7999)\n",
        "clas9=[] #(0.8 - 0.8999)\n",
        "clas10=[] #(0.9 - 0.9999)\n",
        "#Ciclo que clasifica los numeros segun el rango en que se encuentre\n",
        "for x in range(0,50):\n",
        "  z=float(datos[x])\n",
        "  if z>=0 and z<=0.0999:\n",
        "    clas1.append(z)\n",
        "  elif z>=0.1 and z<=0.1999:\n",
        "    clas2.append(z)\n",
        "  elif z>=0.2 and z<=0.2999:\n",
        "    clas3.append(z)\n",
        "  elif z>=0.3 and z<=0.3999:\n",
        "    clas4.append(z)\n",
        "  elif z>=0.4 and z<=0.4999:\n",
        "    clas5.append(z)\n",
        "  elif z>=0.5 and z<=0.5999:\n",
        "    clas6.append(z)\n",
        "  elif z>=0.6 and z<=0.6999:\n",
        "    clas7.append(z)\n",
        "  elif z>=0.7 and z<=0.7999:\n",
        "    clas8.append(z)\n",
        "  elif z>=0.8 and z<=0.8999:\n",
        "    clas9.append(z)\n",
        "  elif z>=0.9 and z<=0.9999:\n",
        "    clas10.append(z)\n",
        "#Frecuencias observadas en cada clase\n",
        "f01=len(clas1)\n",
        "f02=len(clas2)\n",
        "f03=len(clas3)\n",
        "f04=len(clas4)\n",
        "f05=len(clas5)\n",
        "f06=len(clas6)\n",
        "f07=len(clas7)\n",
        "f08=len(clas8)\n",
        "f09=len(clas9)\n",
        "f010=len(clas10)\n",
        "f0s=[f01,f02,f03,f04,f05,f06,f07,f08,f09,f010]\n",
        "#Frecuencia esperada en cada categoria\n",
        "fe=5\n",
        "#Calcular a ji cuadrada\n",
        "ji=0\n",
        "for x in range (0,10):\n",
        "  f0=int(f0s[x])\n",
        "  res=((f0-fe)**2)/fe\n",
        "  ji=ji+res\n",
        "print(\"El valor de ji cuadrada es:\",ji)"
      ],
      "metadata": {
        "colab": {
          "base_uri": "https://localhost:8080/"
        },
        "id": "zFX8_T3JR8hE",
        "outputId": "2900d4c7-e910-4a9b-fbfb-4d7519482316"
      },
      "execution_count": 23,
      "outputs": [
        {
          "output_type": "stream",
          "name": "stdout",
          "text": [
            "El valor de ji cuadrada es: 8.8\n"
          ]
        }
      ]
    },
    {
      "cell_type": "markdown",
      "source": [
        "**Tomar una decision**\n",
        "\n",
        "Como ji cuadrada < valor critico entonces ji cuadrada se encuentra en zona de no rechazo de Ho por lo que podemos concluir que no hay diferencias entre el conjunto de frecuencias observadas en el conjunto de datos del ejercicio."
      ],
      "metadata": {
        "id": "EXxSDIG5ig_Z"
      }
    }
  ]
}