{
  "nbformat": 4,
  "nbformat_minor": 0,
  "metadata": {
    "colab": {
      "provenance": [],
      "authorship_tag": "ABX9TyMljppQp+Wm2dGrk6xq9sOA",
      "include_colab_link": true
    },
    "kernelspec": {
      "name": "python3",
      "display_name": "Python 3"
    },
    "language_info": {
      "name": "python"
    }
  },
  "cells": [
    {
      "cell_type": "markdown",
      "metadata": {
        "id": "view-in-github",
        "colab_type": "text"
      },
      "source": [
        "<a href=\"https://colab.research.google.com/github/Wenypb/Simulacion/blob/main/Ejercicio1.ipynb\" target=\"_parent\"><img src=\"https://colab.research.google.com/assets/colab-badge.svg\" alt=\"Open In Colab\"/></a>"
      ]
    },
    {
      "cell_type": "markdown",
      "source": [
        "**Instrucciones:** Resuelva los ejercicios de manera detallada, clara y completa."
      ],
      "metadata": {
        "id": "4S17Wnx7rZvf"
      }
    },
    {
      "cell_type": "markdown",
      "source": [
        "# Ejercicio 1"
      ],
      "metadata": {
        "id": "OTNAwhb2pPfR"
      }
    },
    {
      "cell_type": "markdown",
      "source": [
        "*1.- Determine el ciclo o periodo de vida de los siguientes generadores congruenciales.*"
      ],
      "metadata": {
        "id": "YYirit_6rOwe"
      }
    },
    {
      "cell_type": "markdown",
      "source": [
        "La siguiente función muestra el ciclo de vida, es decir, en que iteración se comienzan a repetir los numeros generados por el metodo de congruencia con X0, a, c, y m como valores de entrada."
      ],
      "metadata": {
        "id": "4FoPixEb2B9I"
      }
    },
    {
      "cell_type": "markdown",
      "source": [
        " Xj+1 = **a**Xj + **c**    mod(**m**) con x0= **X0**"
      ],
      "metadata": {
        "id": "eDOanoJME5Yf"
      }
    },
    {
      "cell_type": "code",
      "source": [
        "def Congruencia(X0,a,c,m):\n",
        "  xm1=[ ]\n",
        "  Generados=[ ]\n",
        "  n0=0\n",
        "  while X0 not in Generados:\n",
        "    res=a*X0+c\n",
        "    X1=res%m\n",
        "    xn=X0/m\n",
        "    xm0=[n0,X0,res,X1]\n",
        "    xm1.append(xm0)\n",
        "    Generados.append(X0)\n",
        "    X0=X1\n",
        "    n0=n0+1\n",
        "  return print(\"El ciclo de vida de este generador congruencial es :\",n0)"
      ],
      "metadata": {
        "id": "bJlSK2w9DasZ"
      },
      "execution_count": null,
      "outputs": []
    },
    {
      "cell_type": "markdown",
      "source": [
        "## **(a)** Xj+1 = 21Xj + 15     mod(31) con X0= 21\n",
        "\n"
      ],
      "metadata": {
        "id": "FdgeuUaIvVVT"
      }
    },
    {
      "cell_type": "code",
      "execution_count": null,
      "metadata": {
        "colab": {
          "base_uri": "https://localhost:8080/"
        },
        "id": "BgjG4P0tpdum",
        "outputId": "3ba713f7-7dd0-493a-e7bc-ce8d1d5250d4"
      },
      "outputs": [
        {
          "output_type": "stream",
          "name": "stdout",
          "text": [
            "El ciclo de vida de este generador congruencial es : 30\n"
          ]
        }
      ],
      "source": [
        "Congruencia(21,21,15,31)"
      ]
    },
    {
      "cell_type": "markdown",
      "source": [
        "## **(b)** Xj+1 = 13Xj + 9     mod(128) con X0= 7"
      ],
      "metadata": {
        "id": "ZeIqXGMN7IDH"
      }
    },
    {
      "cell_type": "code",
      "source": [
        "Congruencia(7,13,9,128)"
      ],
      "metadata": {
        "colab": {
          "base_uri": "https://localhost:8080/"
        },
        "id": "ja5emUCt7i8E",
        "outputId": "8b26c9e5-8eb9-48fb-dbd1-f66c291eb40f"
      },
      "execution_count": null,
      "outputs": [
        {
          "output_type": "stream",
          "name": "stdout",
          "text": [
            "El ciclo de vida de este generador congruencial es : 128\n"
          ]
        }
      ]
    },
    {
      "cell_type": "markdown",
      "source": [
        "## **(c)** Xj+1 = 17Xj     mod(31) con X0= 23"
      ],
      "metadata": {
        "id": "i1uo5Q5R-KP-"
      }
    },
    {
      "cell_type": "code",
      "source": [
        "Congruencia(23,17,0,31)"
      ],
      "metadata": {
        "colab": {
          "base_uri": "https://localhost:8080/"
        },
        "id": "nfspWmaqEopy",
        "outputId": "21dd78e4-e018-4281-adcd-9c72c56e9700"
      },
      "execution_count": null,
      "outputs": [
        {
          "output_type": "stream",
          "name": "stdout",
          "text": [
            "El ciclo de vida de este generador congruencial es : 30\n"
          ]
        }
      ]
    },
    {
      "cell_type": "markdown",
      "source": [
        "## **(d)** Xj+1 = Xj + 121     mod(256) con X0= 17"
      ],
      "metadata": {
        "id": "TtaAidF8_QUl"
      }
    },
    {
      "cell_type": "code",
      "source": [
        "Congruencia(17,1,121,256)"
      ],
      "metadata": {
        "colab": {
          "base_uri": "https://localhost:8080/"
        },
        "id": "HmTTN284Fg3Z",
        "outputId": "4a170085-6abd-4fdf-c3c9-4db5f95dcbc6"
      },
      "execution_count": null,
      "outputs": [
        {
          "output_type": "stream",
          "name": "stdout",
          "text": [
            "El ciclo de vida de este generador congruencial es : 256\n"
          ]
        }
      ]
    },
    {
      "cell_type": "markdown",
      "source": [
        "\n",
        "\n",
        "---\n",
        "\n"
      ],
      "metadata": {
        "id": "ZWskqd8jGhOs"
      }
    },
    {
      "cell_type": "markdown",
      "source": [
        "## **(e)** Xj+1 = 21Xj + 15X(j-1)     mod(64) con X0= 21 y X1 = 43"
      ],
      "metadata": {
        "id": "xcMUIiGbKI-h"
      }
    },
    {
      "cell_type": "markdown",
      "source": [
        "La siguiente función muestra el ciclo de vida, es decir, en que iteración se comienzan a repetir los numeros generados por el metodo de congruencia con X0, X1, a, c, y m como valores de entrada."
      ],
      "metadata": {
        "id": "8Z192fMPGFWD"
      }
    },
    {
      "cell_type": "markdown",
      "source": [
        "Xj+1 = **a**Xj + **c**X(j-1) mod(**m**) con x0 = **X0** y x1 = **X1**"
      ],
      "metadata": {
        "id": "6YY3TrqCGZFh"
      }
    },
    {
      "cell_type": "code",
      "source": [
        "def Congruencia2(X0,X1,a,c,m):\n",
        "  xm1=[ ]\n",
        "  Generadosx0=[ ]\n",
        "  Generadosx1=[ ]\n",
        "  n0=0\n",
        "  while X0 not in Generadosx0:\n",
        "    res=a*X1+c*X0\n",
        "    X2=res%m\n",
        "    xn=X0/m\n",
        "    xm0=[n0,X0,X1,res,X2]\n",
        "    xm1.append(xm0)\n",
        "    Generadosx0.append(X0)\n",
        "    Generadosx1.append(X1)\n",
        "    X0=X1\n",
        "    X1=X2\n",
        "    n0=n0+1\n",
        "  return print(\"El ciclo de vida de este generador congruencial es :\",n0)"
      ],
      "metadata": {
        "id": "4dOWmAjmHZgm"
      },
      "execution_count": null,
      "outputs": []
    },
    {
      "cell_type": "code",
      "source": [
        "Congruencia2(21,43,21,15,64)"
      ],
      "metadata": {
        "colab": {
          "base_uri": "https://localhost:8080/"
        },
        "id": "m1XgqR2BLEwn",
        "outputId": "58cb0de4-d072-4b79-d86f-bc01e3f07485"
      },
      "execution_count": null,
      "outputs": [
        {
          "output_type": "stream",
          "name": "stdout",
          "text": [
            "El ciclo de vida de este generador congruencial es : 8\n"
          ]
        }
      ]
    },
    {
      "cell_type": "markdown",
      "source": [
        "# Ejercicio 2"
      ],
      "metadata": {
        "id": "BgVyW3HzoS2d"
      }
    },
    {
      "cell_type": "markdown",
      "source": [
        "*2.- Escriba los pasos a seguir para realizar una Prueba de Bondad de Ajuste X^2 para comprobar que una muestra de numeros aleatorios sigue una distribución uniforme.*"
      ],
      "metadata": {
        "id": "jPtj_WZCL5FD"
      }
    },
    {
      "cell_type": "markdown",
      "source": [
        "\n",
        "Pasos:\n",
        "\n",
        "*1.   Formule la hipotesis nula y la alternativa:*\n",
        "\n",
        "Ho= No hay diferencias entre el conjunto de frecuencias observadas.\n",
        "\n",
        "Ha= Hay una diferencia entre los conjuntos observado y esperado de frecuencias.\n",
        "\n",
        "*2.   Seleccione el nivel de significancia.*\n",
        "\n",
        "*3.   Seleccione el estadistico de prueba.*\n",
        "\n",
        "El estadistico de prueba sigue una distribución ji cuadrada (X^2).\n",
        "\n",
        "  ![x2.png](data:image/png;base64,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)\n",
        "\n",
        "\n",
        "\n",
        "*4.   Formule la regla de decisión.*\n",
        "\n",
        "Determinar el valor critica que separa la region de no rechazo de Ho y la de rechazo de Ho.\n",
        "\n",
        "*5.   Calcular el valor de ji cuadrada y tomar una decisión.*"
      ],
      "metadata": {
        "id": "i7BBoGl3MZ0A"
      }
    },
    {
      "cell_type": "markdown",
      "source": [
        "# Ejercicio 3"
      ],
      "metadata": {
        "id": "hfl0fVxImWzw"
      }
    },
    {
      "cell_type": "markdown",
      "source": [
        "*3.- Realice una prueba de bondad de ajuste con un nivel de aceptación del 95%*\n",
        "\n"
      ],
      "metadata": {
        "id": "DwDwERjUQQK_"
      }
    },
    {
      "cell_type": "markdown",
      "source": [
        "**Formular hipotesis nula y alternativa**\n",
        "\n",
        "H0 = No hay diferencias entre el conjunto de frecuencias observadas en el conjunto de datos del ejercicio.\n",
        "\n",
        "Ha= Hay una diferencia entre las frecuencias observadas en el conjunto de datos del ejercicio y las frecuencias esperadas."
      ],
      "metadata": {
        "id": "yjV2rJaLgIDh"
      }
    },
    {
      "cell_type": "markdown",
      "source": [
        "**Nivel de significancia**\n",
        "\n",
        "El nivel de significancia es α = 100% - 95% = 5% = 0.05"
      ],
      "metadata": {
        "id": "t7vUR_UNgxCV"
      }
    },
    {
      "cell_type": "markdown",
      "source": [
        "**Estadistico de prueba**\n",
        "\n",
        "Distribucion ji cuadrada con:\n",
        "\n",
        "5 - 1 = 4 grados de libertad\n",
        "\n",
        "f0 -> Frecuencia observada en cada clase\n",
        "\n",
        "fe= 10 -> Frecuencia esperada en cada clase"
      ],
      "metadata": {
        "id": "HIAuYcDthA3M"
      }
    },
    {
      "cell_type": "markdown",
      "source": [
        "**Regla de decision**\n",
        "\n",
        "Valor critico = 9.49\n",
        "\n",
        "Zona de no rechazo de H0 si ji cuadrada menor a 9.49\n",
        "\n",
        "Zona de rechazo de Ho si ji cuadrada es mayor o igual a 9.49"
      ],
      "metadata": {
        "id": "Y84Isnylhgjz"
      }
    },
    {
      "cell_type": "markdown",
      "source": [
        "**Calcular ji cuadrada**\n",
        "\n",
        "El siguiente programa realiza el calculo de ji cuadrada con 5 categorias"
      ],
      "metadata": {
        "id": "MoN0X_XxiUCD"
      }
    },
    {
      "cell_type": "code",
      "source": [
        "from tabulate import tabulate\n",
        "datos=[0.8797,0.3884,0.6289,0.8750,0.5999,0.8589,0.9996,0.2415,0.3808,0.9606,\n",
        "       0.9848,0.3469,0.7977,0.5844,0.8147,0.6431,0.7387,0.5613,0.0318,0.7401,\n",
        "       0.4557,0.1592,0.8536,0.8846,0.3410,0.1492,0.8681,0.5291,0.3188,0.5992,\n",
        "       0.9170,0.2204,0.5991,0.5461,0.5739,0.3254,0.0856,0.2258,0.4603,0.5027,\n",
        "       0.8376,0.6235,0.3681,0.2088,0.1525,0.2006,0.4720,0.4272,0.6360,0.0954]\n",
        "\n",
        "datos.sort()\n",
        "#Listas en donde se guardaran los numeros segun su clasificacion\n",
        "clas1=[] #(0 - 0.1999)\n",
        "clas2=[] #(0.2 - 0.3999)\n",
        "clas3=[] #(0.4 - 0.5999)\n",
        "clas4=[] #(0.6 - 0.7999)\n",
        "clas5=[] #(0.8 - 0.9999)\n",
        "\n",
        "#Ciclo que clasifica los numeros segun el rango en que se encuentre\n",
        "for x in range(0,50):\n",
        "  z=float(datos[x])\n",
        "  if z>=0 and z<=0.1999:\n",
        "    clas1.append(z)\n",
        "  elif z>=0.2 and z<=0.3999:\n",
        "    clas2.append(z)\n",
        "  elif z>=0.4 and z<=0.5999:\n",
        "    clas3.append(z)\n",
        "  elif z>=0.6 and z<=0.7999:\n",
        "    clas4.append(z)\n",
        "  elif z>=0.8 and z<=0.9999:\n",
        "    clas5.append(z)\n",
        "#Frecuencias observadas en cada clase\n",
        "f01=len(clas1)\n",
        "f02=len(clas2)\n",
        "f03=len(clas3)\n",
        "f04=len(clas4)\n",
        "f05=len(clas5)\n",
        "f0s=[f01,f02,f03,f04,f05]\n",
        "#Frecuencia esperada en cada categoria\n",
        "fe=len(datos)/5\n",
        "#Calcular a ji cuadrada\n",
        "ji=0\n",
        "for x in range (0,5):\n",
        "  f0=int(f0s[x])\n",
        "  res=((f0-fe)**2)/fe\n",
        "  ji=ji+res\n",
        "print(\"El valor de ji cuadrada es:\",ji)"
      ],
      "metadata": {
        "colab": {
          "base_uri": "https://localhost:8080/"
        },
        "id": "zFX8_T3JR8hE",
        "outputId": "76008087-69cb-43fa-d7db-93acb0a12bf7"
      },
      "execution_count": null,
      "outputs": [
        {
          "output_type": "stream",
          "name": "stdout",
          "text": [
            "El valor de ji cuadrada es: 4.2\n"
          ]
        }
      ]
    },
    {
      "cell_type": "markdown",
      "source": [
        "**Tomar una decision**\n",
        "\n",
        "Como ji cuadrada < valor critico entonces ji cuadrada se encuentra en zona de no rechazo de Ho por lo que podemos concluir que no hay diferencias entre el conjunto de frecuencias observadas en el conjunto de datos del ejercicio."
      ],
      "metadata": {
        "id": "EXxSDIG5ig_Z"
      }
    },
    {
      "cell_type": "markdown",
      "source": [
        "# Ejercicio 4"
      ],
      "metadata": {
        "id": "h0Cu1zVHm1qs"
      }
    },
    {
      "cell_type": "markdown",
      "source": [
        "*4.- Determine si la siguiente lista de 100 números de 2 digitos tiene una distribución uniforme con un nivel de aceptacion de 90%*"
      ],
      "metadata": {
        "id": "XNHpAZ3PmqWy"
      }
    },
    {
      "cell_type": "markdown",
      "source": [
        "## Con 5 clases"
      ],
      "metadata": {
        "id": "WLOId63FnJ5n"
      }
    },
    {
      "cell_type": "markdown",
      "source": [
        "**Formular hipotesis nula y alternativa**\n",
        "\n",
        "H0 = El conjunto de datos tiene una distribucion uniforme.\n",
        "\n",
        "Ha= El conjunto de datos no tiene una distribucion uniforme."
      ],
      "metadata": {
        "id": "r7R6WJh8i6ir"
      }
    },
    {
      "cell_type": "markdown",
      "source": [
        "**Nivel de significancia**\n",
        "\n",
        "El nivel de significancia es α = 100% - 90% = 10% = 0.1"
      ],
      "metadata": {
        "id": "zcVD5Ac1jNUZ"
      }
    },
    {
      "cell_type": "markdown",
      "source": [
        "**Estadistico de prueba**\n",
        "\n",
        "Distribucion ji cuadrada con:\n",
        "\n",
        "5 - 1 = 4 grados de libertad\n",
        "\n",
        "f0 -> Frecuencia observada en cada clase\n",
        "\n",
        "fe= 20 -> Frecuencia esperada en cada clase"
      ],
      "metadata": {
        "id": "GHsZV4Z6jXWA"
      }
    },
    {
      "cell_type": "markdown",
      "source": [
        "**Regla de decision**\n",
        "\n",
        "Valor critico = 7.78\n",
        "\n",
        "Zona de no rechazo de H0 si ji cuadrada menor a 7.78\n",
        "\n",
        "Zona de rechazo de Ho si ji cuadrada es mayor o igual a 7.78"
      ],
      "metadata": {
        "id": "nNmYKJE0joI4"
      }
    },
    {
      "cell_type": "markdown",
      "source": [
        "**Calcular ji cuadrada**\n",
        "\n",
        "El siguiente programa realiza el calculo de ji cuadrada con 5 categorias:"
      ],
      "metadata": {
        "id": "x6x-c0TJiW03"
      }
    },
    {
      "cell_type": "code",
      "source": [
        "from tabulate import tabulate\n",
        "datos=[0.78,0.98,0.24,0.73,0.43,0.16,0.78,0.47,0.18,0.55,\n",
        "       0.04,0.29,0.68,0.77,0.16,0.03,0.79,0.22,0.37,0.80,\n",
        "       0.96,0.26,0.91,0.55,0.75,0.55,0.64,0.39,0.53,0.45,\n",
        "       0.61,0.14,0.38,0.12,0.40,0.74,0.78,0.98,0.27,0.60,\n",
        "       0.43,0.67,0.62,0.32,0.53,0.54,0.24,0.29,0.18,0.08,\n",
        "       0.82,0.94,0.19,0.98,0.41,1.00,0.72,0.92,0.14,0.43,\n",
        "       0.83,0.88,0.18,0.21,0.50,0.13,0.43,0.69,0.08,0.12,\n",
        "       0.22,0.50,0.16,0.11,0.18,0.89,0.80,0.42,0.29,0.87,\n",
        "       0.83,0.79,0.65,0.28,0.78,0.49,0.36,0.86,0.87,0.64,\n",
        "       0.51,0.07,0.18,0.94,0.50,0.22,0.66,0.91,0.48,0.24]\n",
        "\n",
        "datos.sort()\n",
        "print(datos)\n",
        "#Listas en donde se guardaran los numeros segun su clasificacion\n",
        "clas1=[] #(0.01 - 0.2)\n",
        "clas2=[] #(0.21 - 0.4)\n",
        "clas3=[] #(0.41 - 0.6)\n",
        "clas4=[] #(0.61 - 0.8)\n",
        "clas5=[] #(0.81 - 1.0)\n",
        "tab1=[]\n",
        "#Ciclo que clasifica los numeros segun el rango en que se encuentre\n",
        "for x in range(0,100):\n",
        "  z=float(datos[x])\n",
        "  if z>=0.01 and z<=0.2:\n",
        "    clas1.append(z)\n",
        "  elif z>=0.21 and z<=0.4:\n",
        "    clas2.append(z)\n",
        "  elif z>=0.41 and z<=0.6:\n",
        "    clas3.append(z)\n",
        "  elif z>=0.61 and z<=0.8:\n",
        "    clas4.append(z)\n",
        "  elif z>=0.81 and z<=1.0:\n",
        "    clas5.append(z)\n",
        "#Frecuencias observadas en cada clase\n",
        "f01=len(clas1)\n",
        "f02=len(clas2)\n",
        "f03=len(clas3)\n",
        "f04=len(clas4)\n",
        "f05=len(clas5)\n",
        "f0s=[f01,f02,f03,f04,f05]\n",
        "#Frecuencia esperada en cada categoria\n",
        "fe=len(datos)/5\n",
        "#Calcular a ji cuadrada\n",
        "ji=0\n",
        "interv=[\"0.01-0.2\",\"0.21-0.4\",\"0.41-0.6\",\"0.61-0.8\",\"0.81-1.0\"]\n",
        "for x in range (0,5):\n",
        "  cla=interv[x]\n",
        "  f0=int(f0s[x])\n",
        "  resta=(f0-fe)\n",
        "  resul=(resta**2)/fe\n",
        "  tab2=[cla,f0,fe,resta,resul]\n",
        "  tab1.append(tab2)\n",
        "  ji=ji+resul\n",
        "print(tabulate(tab1,headers=[\"Clases\",\"f0\",\"fe\",\"fo-fe\",\"((f0-fe)^2)/fe\"]))\n",
        "\n",
        "print(\"El valor de ji cuadrada es:\",ji)"
      ],
      "metadata": {
        "colab": {
          "base_uri": "https://localhost:8080/"
        },
        "id": "Mjf92Ryg2iZK",
        "outputId": "ac5c66b1-bd11-4bf3-dcc1-dbdedc83d54c"
      },
      "execution_count": 3,
      "outputs": [
        {
          "output_type": "stream",
          "name": "stdout",
          "text": [
            "[0.03, 0.04, 0.07, 0.08, 0.08, 0.11, 0.12, 0.12, 0.13, 0.14, 0.14, 0.16, 0.16, 0.16, 0.18, 0.18, 0.18, 0.18, 0.18, 0.19, 0.21, 0.22, 0.22, 0.22, 0.24, 0.24, 0.24, 0.26, 0.27, 0.28, 0.29, 0.29, 0.29, 0.32, 0.36, 0.37, 0.38, 0.39, 0.4, 0.41, 0.42, 0.43, 0.43, 0.43, 0.43, 0.45, 0.47, 0.48, 0.49, 0.5, 0.5, 0.5, 0.51, 0.53, 0.53, 0.54, 0.55, 0.55, 0.55, 0.6, 0.61, 0.62, 0.64, 0.64, 0.65, 0.66, 0.67, 0.68, 0.69, 0.72, 0.73, 0.74, 0.75, 0.77, 0.78, 0.78, 0.78, 0.78, 0.79, 0.79, 0.8, 0.8, 0.82, 0.83, 0.83, 0.86, 0.87, 0.87, 0.88, 0.89, 0.91, 0.91, 0.92, 0.94, 0.94, 0.96, 0.98, 0.98, 0.98, 1.0]\n",
            "Clases      f0    fe    fo-fe    ((f0-fe)^2)/fe\n",
            "--------  ----  ----  -------  ----------------\n",
            "0.01-0.2    20    20        0              0\n",
            "0.21-0.4    19    20       -1              0.05\n",
            "0.41-0.6    21    20        1              0.05\n",
            "0.61-0.8    22    20        2              0.2\n",
            "0.81-1.0    18    20       -2              0.2\n",
            "El valor de ji cuadrada es: 0.5\n"
          ]
        }
      ]
    },
    {
      "cell_type": "markdown",
      "source": [
        "**Tomar una decision**\n",
        "\n",
        "Como ji cuadrada = 0.5 < 7.78 = valor critico entonces ji cuadrada se encuentra en zona de no rechazo de Ho por lo que podemos concluir que el conjunto de datos sigue una distribucion uniforme."
      ],
      "metadata": {
        "id": "rJXNnrZVkHI1"
      }
    },
    {
      "cell_type": "markdown",
      "source": [
        "## Con 10 clases"
      ],
      "metadata": {
        "id": "jTcHEyM_nXbM"
      }
    },
    {
      "cell_type": "markdown",
      "source": [
        "**Formular hipotesis nula y alternativa**\n",
        "\n",
        "H0 = El conjunto de datos tiene una distribucion uniforme.\n",
        "\n",
        "Ha= El conjunto de datos no tiene una distribucion uniforme."
      ],
      "metadata": {
        "id": "j9sa_pFapgQH"
      }
    },
    {
      "cell_type": "markdown",
      "source": [
        "**Nivel de significancia**\n",
        "\n",
        "El nivel de significancia es α = 100% - 90% = 10% = 0.1"
      ],
      "metadata": {
        "id": "wlZJZlVBpmWS"
      }
    },
    {
      "cell_type": "markdown",
      "source": [
        "**Estadistico de prueba**\n",
        "\n",
        "Distribucion ji cuadrada con:\n",
        "\n",
        "10 - 1 = 9 grados de libertad\n",
        "\n",
        "f0 -> Frecuencia observada en cada clase\n",
        "\n",
        "fe= 10 -> Frecuencia esperada en cada clase"
      ],
      "metadata": {
        "id": "BihNcZ1UptAK"
      }
    },
    {
      "cell_type": "markdown",
      "source": [
        "**Regla de decision**\n",
        "\n",
        "Valor critico = 14.7\n",
        "\n",
        "Zona de no rechazo de H0 si ji cuadrada menor a 14.7\n",
        "\n",
        "Zona de rechazo de Ho si ji cuadrada es mayor o igual a 14.7"
      ],
      "metadata": {
        "id": "rA1634ZuqeKG"
      }
    },
    {
      "cell_type": "markdown",
      "source": [
        "**Calcular ji cuadrada**\n",
        "\n",
        "El siguiente programa realiza el calculo de ji cuadrada con 10 categorias:"
      ],
      "metadata": {
        "id": "6Wa9ffY9qvLH"
      }
    },
    {
      "cell_type": "code",
      "source": [
        "from tabulate import tabulate\n",
        "datos=[0.78,0.98,0.24,0.73,0.43,0.16,0.78,0.47,0.18,0.55,\n",
        "       0.04,0.29,0.68,0.77,0.16,0.03,0.79,0.22,0.37,0.80,\n",
        "       0.96,0.26,0.91,0.55,0.75,0.55,0.64,0.39,0.53,0.45,\n",
        "       0.61,0.14,0.38,0.12,0.40,0.74,0.78,0.98,0.27,0.60,\n",
        "       0.43,0.67,0.62,0.32,0.53,0.54,0.24,0.29,0.18,0.08,\n",
        "       0.82,0.94,0.19,0.98,0.41,1.00,0.72,0.92,0.14,0.43,\n",
        "       0.83,0.88,0.18,0.21,0.50,0.13,0.43,0.69,0.08,0.12,\n",
        "       0.22,0.50,0.16,0.11,0.18,0.89,0.80,0.42,0.29,0.87,\n",
        "       0.83,0.79,0.65,0.28,0.78,0.49,0.36,0.86,0.87,0.64,\n",
        "       0.51,0.07,0.18,0.94,0.50,0.22,0.66,0.91,0.48,0.24]\n",
        "\n",
        "datos.sort()\n",
        "print(datos)\n",
        "#Listas en donde se guardaran los numeros segun su clasificacion\n",
        "clas1=[] #(0.01 - 0.1)\n",
        "clas2=[] #(0.11 - 0.2)\n",
        "clas3=[] #(0.21 - 0.3)\n",
        "clas4=[] #(0.31 - 0.4)\n",
        "clas5=[] #(0.41 - 0.5)\n",
        "clas6=[] #(0.51 - 0.6)\n",
        "clas7=[] #(0.61 - 0.7)\n",
        "clas8=[] #(0.71 - 0.8)\n",
        "clas9=[] #(0.81 - 0.9)\n",
        "clas10=[]#(0.91 - 1.0)\n",
        "tab1=[]\n",
        "#Ciclo que clasifica los numeros segun el rango en que se encuentre\n",
        "for x in range(0,100):\n",
        "  z=float(datos[x])\n",
        "  if z>=0.01 and z<=0.1:\n",
        "    clas1.append(z)\n",
        "  elif z>=0.11 and z<=0.2:\n",
        "    clas2.append(z)\n",
        "  elif z>=0.21 and z<=0.3:\n",
        "    clas3.append(z)\n",
        "  elif z>=0.31 and z<=0.4:\n",
        "    clas4.append(z)\n",
        "  elif z>=0.41 and z<=0.5:\n",
        "    clas5.append(z)\n",
        "  elif z>=0.51 and z<=0.6:\n",
        "    clas6.append(z)\n",
        "  elif z>=0.61 and z<=0.7:\n",
        "    clas7.append(z)\n",
        "  elif z>=0.71 and z<=0.8:\n",
        "    clas8.append(z)\n",
        "  elif z>=0.81 and z<=0.9:\n",
        "    clas9.append(z)\n",
        "  elif z>=0.91 and z<=1.0:\n",
        "    clas10.append(z)\n",
        "#Frecuencias observadas en cada clase\n",
        "f01=len(clas1)\n",
        "f02=len(clas2)\n",
        "f03=len(clas3)\n",
        "f04=len(clas4)\n",
        "f05=len(clas5)\n",
        "f06=len(clas1)\n",
        "f07=len(clas2)\n",
        "f08=len(clas3)\n",
        "f09=len(clas4)\n",
        "f10=len(clas5)\n",
        "f0s=[f01,f02,f03,f04,f05,f06,f07,f08,f09,f10]\n",
        "#Frecuencia esperada en cada categoria\n",
        "fe=len(datos)/len(f0s)\n",
        "#Calcular a ji cuadrada\n",
        "ji=0\n",
        "interv=[\"0.01-0.1\",\"0.11-0.2\",\"0.21-0.3\",\"0.31-0.4\",\"0.41-0.5\",\"0.51-0.6\",\"0.61-0.7\",\"0.71-0.8\",\"0.81-0.9\",\"0.91-1.0\"]\n",
        "for x in range (0,10):\n",
        "  cla=interv[x]\n",
        "  f0=int(f0s[x])\n",
        "  resta=(f0-fe)\n",
        "  resul=(resta**2)/fe\n",
        "  tab2=[cla,f0,fe,resta,resul]\n",
        "  tab1.append(tab2)\n",
        "  ji=ji+resul\n",
        "print(tabulate(tab1,headers=[\"Clases\",\"f0\",\"fe\",\"fo-fe\",\"((f0-fe)^2)/fe\"]))\n",
        "\n",
        "print(\"El valor de ji cuadrada es:\",ji)"
      ],
      "metadata": {
        "colab": {
          "base_uri": "https://localhost:8080/"
        },
        "id": "Rl2bbVNlcHH6",
        "outputId": "081b5d8d-9797-4250-a89a-f469000624de"
      },
      "execution_count": 2,
      "outputs": [
        {
          "output_type": "stream",
          "name": "stdout",
          "text": [
            "[0.03, 0.04, 0.07, 0.08, 0.08, 0.11, 0.12, 0.12, 0.13, 0.14, 0.14, 0.16, 0.16, 0.16, 0.18, 0.18, 0.18, 0.18, 0.18, 0.19, 0.21, 0.22, 0.22, 0.22, 0.24, 0.24, 0.24, 0.26, 0.27, 0.28, 0.29, 0.29, 0.29, 0.32, 0.36, 0.37, 0.38, 0.39, 0.4, 0.41, 0.42, 0.43, 0.43, 0.43, 0.43, 0.45, 0.47, 0.48, 0.49, 0.5, 0.5, 0.5, 0.51, 0.53, 0.53, 0.54, 0.55, 0.55, 0.55, 0.6, 0.61, 0.62, 0.64, 0.64, 0.65, 0.66, 0.67, 0.68, 0.69, 0.72, 0.73, 0.74, 0.75, 0.77, 0.78, 0.78, 0.78, 0.78, 0.79, 0.79, 0.8, 0.8, 0.82, 0.83, 0.83, 0.86, 0.87, 0.87, 0.88, 0.89, 0.91, 0.91, 0.92, 0.94, 0.94, 0.96, 0.98, 0.98, 0.98, 1.0]\n",
            "Clases      f0    fe    fo-fe    ((f0-fe)^2)/fe\n",
            "--------  ----  ----  -------  ----------------\n",
            "0.01-0.1     5    10       -5               2.5\n",
            "0.11-0.2    15    10        5               2.5\n",
            "0.21-0.3    13    10        3               0.9\n",
            "0.31-0.4     6    10       -4               1.6\n",
            "0.41-0.5    13    10        3               0.9\n",
            "0.51-0.6     5    10       -5               2.5\n",
            "0.61-0.7    15    10        5               2.5\n",
            "0.71-0.8    13    10        3               0.9\n",
            "0.81-0.9     6    10       -4               1.6\n",
            "0.91-1.0    13    10        3               0.9\n",
            "El valor de ji cuadrada es: 16.8\n"
          ]
        }
      ]
    },
    {
      "cell_type": "markdown",
      "source": [
        "**Tomar una decision**\n",
        "\n",
        "Como ji cuadrada = 16.8 > 14.7 = valor critico entonces ji cuadrada se encuentra en zona de rechazo de Ho por lo que podemos concluir que el conjunto de datos no sigue una distribucion uniforme."
      ],
      "metadata": {
        "id": "UZut-5Y8q9W-"
      }
    },
    {
      "cell_type": "markdown",
      "source": [
        "# Ejercicio 5"
      ],
      "metadata": {
        "id": "uBE3bdV2V6Ym"
      }
    },
    {
      "cell_type": "markdown",
      "source": [
        "*5. Escriba en una Notebook de Jupyter un programa en Python que implemente la Prueba de Bondad de ajuste trabajada en este ejercicio.*"
      ],
      "metadata": {
        "id": "kBdEW4KPrfII"
      }
    },
    {
      "cell_type": "markdown",
      "source": [
        "La siguiente función implementa la prueba de bondad, esta tiene como valores de entrada una lista de los datos a analizar, el numero de clases en las que se desea dividir los datos y el valor critico con el que se va a comparar el estadistico de prueba que en este caso es ji cuadrada.\n",
        "\n",
        "Retorna una tabla que contiene los resultados de cada clase, asi como el valor de ji cuadrada y la conclusion de si los datos siguen una distribucion uniforme.\n"
      ],
      "metadata": {
        "id": "PYzHGeBHNDOq"
      }
    },
    {
      "cell_type": "code",
      "source": [
        "def uniformidad(datos,clases,val):\n",
        "  from tabulate import tabulate\n",
        "  datos.sort()\n",
        "  mn=float(min(datos))\n",
        "  mx=float(max(datos))\n",
        "  #Frecuencia esperada en cada clase\n",
        "  fe=len(datos)/clases\n",
        "  #Calcular el intervalo de los datos\n",
        "  if mn<mx:\n",
        "    inter=mx-mn\n",
        "  else:\n",
        "    inter=mn-mx\n",
        "  #print(inter)\n",
        "  #Paso de cada clase\n",
        "  h=inter/clases\n",
        "  #print(h)\n",
        "  clas=[]\n",
        "  ji=0\n",
        "  tab=[]\n",
        "  for x in range(0,clases):\n",
        "    xmin=mn+h*x\n",
        "    xmax=mn+h*(x+1)\n",
        "    for a in range(0,len(datos)):\n",
        "      z=float(datos[a])\n",
        "      if z>=xmin and z<=xmax:\n",
        "        clas.append(z)\n",
        "    fo=len(clas)\n",
        "    resta=(fo-fe)\n",
        "    resul=(resta**2)/fe\n",
        "    ji=ji+resul\n",
        "    clas1=[xmin,xmax,fo,fe,resta,resul]\n",
        "    tab.append(clas1)\n",
        "    clas=[]\n",
        "  print(tabulate(tab,headers=[\"a\",\"b\",\"fo\",\"fe\",\"fo-fe\",\"((f0-fe)^2)/fe\"]))\n",
        "  print(\"El valor de ji cuadrada es:\")\n",
        "  print(\"{:.2f}\".format(ji))\n",
        "  if ji<val:\n",
        "    print(\"Como ji = \",\"{:.2f}\".format(ji),\"<\",val,\"= valor critico, el conjunto de datos sigue una distribucion uniforme\")\n",
        "  else:\n",
        "    print(\"Como ji = {:.2f}\".format(ji),\">\",val,\"= valor critico, el conjunto de datos no sigue una distribucion uniforme\")\n",
        "  return"
      ],
      "metadata": {
        "id": "uC9pHYp-RBpn"
      },
      "execution_count": 7,
      "outputs": []
    },
    {
      "cell_type": "markdown",
      "source": [
        "# Ejercicio 6"
      ],
      "metadata": {
        "id": "ml5WX90Vdn7o"
      }
    },
    {
      "cell_type": "markdown",
      "source": [
        "*6. Obtenga una muestra de números aleatorios usando el generador congruencial de\n",
        "ciclo de vida máxima del Ejercicio 1) y aplique a tal muestra una Prueba ji cuadrada para decidir\n",
        "si la muestra sigue una distribución uniforme o no.*"
      ],
      "metadata": {
        "id": "PtaUf-WJWJge"
      }
    },
    {
      "cell_type": "markdown",
      "source": [
        "El inciso con mayor ciclo de vida del ejercicio 1 fue el:\n",
        "**(d)** Xj+1 = Xj + 121     mod(256) con X0= 17 el cual tiene un ciclo de 256 con la siguiente lista de numeros:"
      ],
      "metadata": {
        "id": "NGlMrCfzYikt"
      }
    },
    {
      "cell_type": "code",
      "source": [
        "import numpy as np\n",
        "def generados(X0,a,c,m):\n",
        "  xm1=[ ]\n",
        "  Generados=[ ]\n",
        "  n0=0\n",
        "  while X0 not in Generados:\n",
        "    res=a*X0+c\n",
        "    X1=res%m\n",
        "    xn=X0/m\n",
        "    xm0=[n0,X0,res,X1]\n",
        "    xm1.append(xm0)\n",
        "    Generados.append(X0)\n",
        "    X0=X1\n",
        "    n0=n0+1\n",
        "  return Generados\n",
        "datos=generados(17,1,121,256)\n",
        "print(datos)"
      ],
      "metadata": {
        "id": "Vy7lSwNZaI1y",
        "outputId": "fe89eec9-bc20-4a6e-df6c-fd8f2dc5f268",
        "colab": {
          "base_uri": "https://localhost:8080/"
        }
      },
      "execution_count": 13,
      "outputs": [
        {
          "output_type": "stream",
          "name": "stdout",
          "text": [
            "[17, 138, 3, 124, 245, 110, 231, 96, 217, 82, 203, 68, 189, 54, 175, 40, 161, 26, 147, 12, 133, 254, 119, 240, 105, 226, 91, 212, 77, 198, 63, 184, 49, 170, 35, 156, 21, 142, 7, 128, 249, 114, 235, 100, 221, 86, 207, 72, 193, 58, 179, 44, 165, 30, 151, 16, 137, 2, 123, 244, 109, 230, 95, 216, 81, 202, 67, 188, 53, 174, 39, 160, 25, 146, 11, 132, 253, 118, 239, 104, 225, 90, 211, 76, 197, 62, 183, 48, 169, 34, 155, 20, 141, 6, 127, 248, 113, 234, 99, 220, 85, 206, 71, 192, 57, 178, 43, 164, 29, 150, 15, 136, 1, 122, 243, 108, 229, 94, 215, 80, 201, 66, 187, 52, 173, 38, 159, 24, 145, 10, 131, 252, 117, 238, 103, 224, 89, 210, 75, 196, 61, 182, 47, 168, 33, 154, 19, 140, 5, 126, 247, 112, 233, 98, 219, 84, 205, 70, 191, 56, 177, 42, 163, 28, 149, 14, 135, 0, 121, 242, 107, 228, 93, 214, 79, 200, 65, 186, 51, 172, 37, 158, 23, 144, 9, 130, 251, 116, 237, 102, 223, 88, 209, 74, 195, 60, 181, 46, 167, 32, 153, 18, 139, 4, 125, 246, 111, 232, 97, 218, 83, 204, 69, 190, 55, 176, 41, 162, 27, 148, 13, 134, 255, 120, 241, 106, 227, 92, 213, 78, 199, 64, 185, 50, 171, 36, 157, 22, 143, 8, 129, 250, 115, 236, 101, 222, 87, 208, 73, 194, 59, 180, 45, 166, 31, 152]\n"
          ]
        }
      ]
    },
    {
      "cell_type": "markdown",
      "source": [
        "Ahora usando la función realizada en el ejercicio 5 probaremos si el conjunto de datos generados por el inciso d del ejercicio 1 sigue una distribucion uniforme.\n",
        "\n",
        "Lo haremos con 8 clases, con un nivel de aceptación del 95% y con valor crítico de 14.1"
      ],
      "metadata": {
        "id": "BNN8PXZgdh0w"
      }
    },
    {
      "cell_type": "code",
      "source": [
        "uniformidad(datos,8,14.1)"
      ],
      "metadata": {
        "id": "kaVNgQoWfFpE",
        "outputId": "084eabed-5d27-45e7-c008-77e81170c0b7",
        "colab": {
          "base_uri": "https://localhost:8080/"
        }
      },
      "execution_count": 15,
      "outputs": [
        {
          "output_type": "stream",
          "name": "stdout",
          "text": [
            "      a        b    fo    fe    fo-fe    ((f0-fe)^2)/fe\n",
            "-------  -------  ----  ----  -------  ----------------\n",
            "  0       31.875    32    32        0                 0\n",
            " 31.875   63.75     32    32        0                 0\n",
            " 63.75    95.625    32    32        0                 0\n",
            " 95.625  127.5      32    32        0                 0\n",
            "127.5    159.375    32    32        0                 0\n",
            "159.375  191.25     32    32        0                 0\n",
            "191.25   223.125    32    32        0                 0\n",
            "223.125  255        32    32        0                 0\n",
            "El valor de ji cuadrada es:\n",
            "0.00\n",
            "Como ji =  0.00 < 14.1 = valor critico, el conjunto de datos sigue una distribucion uniforme\n"
          ]
        }
      ]
    },
    {
      "cell_type": "markdown",
      "source": [
        "Los numeros generados por el inciso d del ejercico 1 sigue una distribucion uniforme perfecta."
      ],
      "metadata": {
        "id": "cQE0O7-QgeOx"
      }
    }
  ]
}