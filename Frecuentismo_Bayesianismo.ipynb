{
  "nbformat": 4,
  "nbformat_minor": 0,
  "metadata": {
    "colab": {
      "provenance": [],
      "authorship_tag": "ABX9TyNm/V67li1C8zBCsCOWQmMS",
      "include_colab_link": true
    },
    "kernelspec": {
      "name": "python3",
      "display_name": "Python 3"
    },
    "language_info": {
      "name": "python"
    }
  },
  "cells": [
    {
      "cell_type": "markdown",
      "metadata": {
        "id": "view-in-github",
        "colab_type": "text"
      },
      "source": [
        "<a href=\"https://colab.research.google.com/github/Wenypb/Simulacion/blob/main/Frecuentismo_Bayesianismo.ipynb\" target=\"_parent\"><img src=\"https://colab.research.google.com/assets/colab-badge.svg\" alt=\"Open In Colab\"/></a>"
      ]
    },
    {
      "cell_type": "markdown",
      "source": [
        "# ***FRECUENTISMO Y BAYESIANISMO***"
      ],
      "metadata": {
        "id": "OhKZ3PXS7T9H"
      }
    },
    {
      "cell_type": "markdown",
      "source": [
        "La **estadìstica** tiene **dos diferentes** tipos de **enfoques**: el ***frecuentismo*** y el ***bayesianismo***.\n"
      ],
      "metadata": {
        "id": "x8WPB6rC7e3O"
      }
    },
    {
      "cell_type": "markdown",
      "source": [
        "Definiciòn de probabilidad de cada tipo:\n",
        "\n",
        "\n",
        "*   Frecuentista:\n",
        "\n",
        "  *   La probabilidad solo tiene sentido en tèrminos de un caso lìmite de mediciones repetidas (cada resultado serà ligeramente diferente debido al error estadìstico del dispositivo de mediciòn).\n",
        "  *   Las probabilidades estan fundamentalmente relacionadas con las frecuencias de los eventos.\n",
        "\n",
        "\n",
        "*   Bayesiano\n",
        "\n",
        "    *   La probabilidad se extiende para cubrir los grados de certeza sobre las afirmaciones (esa probabilidad puede estimarse a partir de frecuencias en el lìmite de un gran nùmero de experimentos repetidos).\n",
        "    *   La probabilidad es una declaraciòn del conocimiento del investigador sobre cual es el flujo verdadero.\n",
        "\n",
        "    *   Las probabilidades estan fundamentalmente relacionadas con su propio conocimiento sobre el evento (conocimiento basado en informaciòn previa y datos disponibles).\n",
        "\n",
        "\n",
        "\n"
      ],
      "metadata": {
        "id": "ZEHpz3YR8mEc"
      }
    },
    {
      "cell_type": "markdown",
      "source": [
        "## *Ejemplo: Mediciones del flujo de fotones*"
      ],
      "metadata": {
        "id": "jqrIAW2LAdo_"
      }
    },
    {
      "cell_type": "markdown",
      "source": [
        "Imaginemos que apuntamos un telescopio al cielo y observamos la luz que proviene de una sola estrella. Para simplificar, supondremos que el flujo fotonico real de la estrella es constante con el tiempo, es decir, que tiene un valor fijo F: tambien ignoraremos efectos como los errores sistemàticos del fondo del ciaelo. Supondremos que se realizan una serie de N mediciones, donde la i-esima mediciòn informa el flujo observado F y el error e.\n",
        "\n",
        "Dado este conjunto de mediciones D={$F_{i},e_{i}$}, ¿cuàl es nuestra mejor estimacion del flujo verdadero F?"
      ],
      "metadata": {
        "id": "9KLH8O_nAmp7"
      }
    },
    {
      "cell_type": "markdown",
      "source": [
        "**Generación de datos del flujo de fotones:**\n",
        "\n",
        "Primero, generamos un conjunto de datos simulado para ilustrar ambos enfoques."
      ],
      "metadata": {
        "id": "p-GGUgyExmD6"
      }
    },
    {
      "cell_type": "code",
      "source": [
        "import numpy as np\n",
        "import matplotlib.pyplot as plt\n",
        "# Establecemos la semilla para reproducibilidad\n",
        "np.random.seed(2)\n",
        "# Número de mediciones\n",
        "N = 50\n",
        "# Errores de medición, distribuidos normalmente con media 30 y desviación estándar 3\n",
        "e = np.random.normal(30, 3, N)\n",
        "# Flujo de fotones simulado, con un valor verdadero F = 1000 (unidades arbitrarias)\n",
        "F_true = 1000\n",
        "F = np.random.normal(F_true, e)\n",
        "# Mostramos las primeras mediciones\n",
        "print(\"Primeras mediciones de flujo (F) y errores (e):\")\n",
        "for i in range(5):\n",
        "    print(f\"F{i+1} = {F[i]:.2f}, e{i+1} = {e[i]:.2f}\")\n",
        "# Graficamos las mediciones\n",
        "plt.errorbar(range(N), F, yerr=e, fmt='o', label='Mediciones')\n",
        "plt.axhline(y=F_true, color='r', linestyle='-', label='Flujo Verdadero')\n",
        "plt.xlabel('Índice de la medición')\n",
        "plt.ylabel('Flujo de Fotones (F)')\n",
        "plt.legend()\n",
        "plt.show()"
      ],
      "metadata": {
        "id": "ZkrWsDAa5hXU",
        "colab": {
          "base_uri": "https://localhost:8080/",
          "height": 558
        },
        "outputId": "09ed6af5-2f68-430d-dd6b-c88e3ef7705a"
      },
      "execution_count": 1,
      "outputs": [
        {
          "output_type": "stream",
          "name": "stdout",
          "text": [
            "Primeras mediciones de flujo (F) y errores (e):\n",
            "F1 = 1028.76, e1 = 28.75\n",
            "F2 = 988.63, e2 = 29.83\n",
            "F3 = 991.14, e3 = 23.59\n",
            "F4 = 997.40, e4 = 34.92\n",
            "F5 = 1010.67, e5 = 24.62\n"
          ]
        },
        {
          "output_type": "display_data",
          "data": {
            "text/plain": [
              "<Figure size 640x480 with 1 Axes>"
            ],
            "image/png": "[encoded data removed]"
          },
          "metadata": {}
        }
      ]
    },
    {
      "cell_type": "markdown",
      "source": [
        "**Enfoque frecuentista:**\n",
        "\n",
        "\n",
        "El enfoque frecuentista utiliza el máximo de la verosimilitud (MLE, por sus siglas en inglés) para estimar el flujo verdadero."
      ],
      "metadata": {
        "id": "zNN053cKxxiW"
      }
    },
    {
      "cell_type": "code",
      "source": [
        "# Calculamos los pesos, wi = 1 / e_i^2\n",
        "w = 1. / e**2\n",
        "# Estimación del flujo utilizando una media ponderada\n",
        "F_hat = np.sum(w * F) / np.sum(w)\n",
        "# Error estimado en F_hat\n",
        "sigma_F = np.sqrt(1 / np.sum(w))\n",
        "# Resultado\n",
        "print(f\"Estimación del flujo (F_hat) con enfoque frecuentista: {F_hat:.2f} ± {sigma_F:.2f}\")"
      ],
      "metadata": {
        "id": "tBdc9lA8yFi6",
        "outputId": "0a8141dc-5067-489d-e75d-926266bb4a39",
        "colab": {
          "base_uri": "https://localhost:8080/"
        }
      },
      "execution_count": 2,
      "outputs": [
        {
          "output_type": "stream",
          "name": "stdout",
          "text": [
            "Estimación del flujo (F_hat) con enfoque frecuentista: 998.65 ± 4.11\n"
          ]
        }
      ]
    },
    {
      "cell_type": "markdown",
      "source": [
        "**Enfoque bayesiano:**\n",
        "\n",
        "\n",
        "En el enfoque bayesiano, utilizamos el Teorema de Bayes para calcular la distribución posterior del flujo de fotones. En este caso, asumimos un prior uniforme (una distribución plana) para el flujo de fotones."
      ],
      "metadata": {
        "id": "_hgu31eDyQvy"
      }
    },
    {
      "cell_type": "code",
      "source": [
        "# Importar las librerías necesarias\n",
        "import numpy as np\n",
        "from scipy.stats import norm\n",
        "\n",
        "# Definición de la función de verosimilitud\n",
        "def likelihood(F, F_obs, e_obs):\n",
        "    return np.prod(norm.pdf(F_obs, F, e_obs))\n",
        "\n",
        "# Datos de entrada: observaciones y errores\n",
        "# Ejemplo de datos; reemplaza con tus propios datos\n",
        "F_obs = np.array([1000, 1020, 980])  # Observaciones\n",
        "e_obs = np.array([5, 5, 5])           # Errores estándar\n",
        "\n",
        "# Usamos una malla de posibles valores de F\n",
        "F_values = np.linspace(900, 1100, 1000)\n",
        "\n",
        "# Calculamos la verosimilitud para cada valor de F\n",
        "likelihoods = np.array([likelihood(F, F_obs, e_obs) for F in F_values])\n",
        "\n",
        "# Normalizamos para obtener la posterior\n",
        "posterior = likelihoods / np.sum(likelihoods)\n",
        "\n",
        "# Estimación del flujo como el valor de F que maximiza la posterior\n",
        "F_bayes_hat = np.sum(F_values * posterior)\n",
        "\n",
        "# Desviación estándar de la posterior\n",
        "sigma_F_bayes = np.sqrt(np.sum(posterior * (F_values - F_bayes_hat)**2))\n",
        "\n",
        "# Resultado\n",
        "print(f\"Estimación del flujo (F_bayes_hat) con enfoque bayesiano: {F_bayes_hat:.2f} ± {sigma_F_bayes:.2f}\")"
      ],
      "metadata": {
        "id": "jEyxJ_Upypwv",
        "outputId": "5b84ea74-0f1c-48a1-f87c-4fab916e3c80",
        "colab": {
          "base_uri": "https://localhost:8080/"
        }
      },
      "execution_count": 5,
      "outputs": [
        {
          "output_type": "stream",
          "name": "stdout",
          "text": [
            "Estimación del flujo (F_bayes_hat) con enfoque bayesiano: 1000.00 ± 2.89\n"
          ]
        }
      ]
    },
    {
      "cell_type": "markdown",
      "source": [
        "**Comparación de resultados:**\n",
        "\n",
        "\n",
        "Finalmente, podemos comparar los resultados obtenidos por los dos enfoques, frecuentista y bayesiano."
      ],
      "metadata": {
        "id": "e2altlV6zxwj"
      }
    },
    {
      "cell_type": "code",
      "source": [
        "# Imprimir resultados comparativos\n",
        "print(\"\\nResultados comparativos:\")\n",
        "print(f\"Enfoque frecuentista: F_hat = {F_hat:.2f} ± {sigma_F:.2f}\")\n",
        "print(f\"Enfoque bayesiano: F_bayes_hat = {F_bayes_hat:.2f} ± {sigma_F_bayes:.2f}\")"
      ],
      "metadata": {
        "id": "kMWJPWlz0DMa",
        "outputId": "22911f51-b28b-41ff-b7f4-f82ed7bccf44",
        "colab": {
          "base_uri": "https://localhost:8080/"
        }
      },
      "execution_count": 6,
      "outputs": [
        {
          "output_type": "stream",
          "name": "stdout",
          "text": [
            "\n",
            "Resultados comparativos:\n",
            "Enfoque frecuentista: F_hat = 998.65 ± 4.11\n",
            "Enfoque bayesiano: F_bayes_hat = 1000.00 ± 2.89\n"
          ]
        }
      ]
    },
    {
      "cell_type": "markdown",
      "source": [
        "**Cálculo de Probabilidades en Bayes**\n",
        "\n",
        "La expresión bayesiana para una probabilidad marginal, como $ P(B \\mid D) $, se obtiene integrando la distribución conjunta $P(B, p \\mid D)$ sobre $ p $.\n",
        "\n",
        "Al usar la regla de Bayes y propiedades de la probabilidad, se reescribe como:\n",
        "\n",
        "$P(B \\mid D) = \\int_{-\\infty}^{\\infty} P(B \\mid p, D) \\cdot P(p \\mid D) \\, dp$\n",
        "\n",
        "Esta es una forma de calcular la probabilidad posterior, que en este caso se evalúa numéricamente.\n",
        "\n",
        "**Cálculo en el Enfoque Bayesiano**\n",
        "\n",
        "Usando los términos de la verosimilitud $P(B \\mid p, D) $ y $ P(D \\mid p) $, y un prior uniforme para $p$, se obtiene una integral:\n",
        "\n",
        "$\n",
        "P(B \\mid D) = \\frac{\\int_0^1 (1 - p)^6 p^5 \\, dp}{\\int_0^1 (1 - p)^3 p^5 \\, dp}\n",
        "$\n",
        "\n",
        "Esta integral se puede calcular usando la función Beta, lo que da un valor de $ P(B \\mid D) = 0.091 $, con probabilidades de 10 a 1 en contra de que Bob gane.\n"
      ],
      "metadata": {
        "id": "g2ZTgWwc03-4"
      }
    },
    {
      "cell_type": "markdown",
      "source": [
        "\n",
        "**Simulación Empírica**\n",
        "\n",
        "La simulación de múltiples juegos confirma que la probabilidad bayesiana de que Bob gane es 10 a 1 en contra de él, mientras que un enfoque frecuentista básico da 18 a 1 en contra de Bob. Esto muestra que el enfoque frecuentista no captura adecuadamente la incertidumbre asociada con el parámetro  $ p $.\n",
        "\n",
        "**Interpretación de Intervalos de Confianza vs. Regiones de Credibilidad**\n",
        "\n",
        "La diferencia entre intervalos de confianza (CI) y regiones de credibilidad (CR) es clave. Mientras que:\n",
        "\n",
        "Un **intervalo de confianza frecuentista** responde a la** probabilidad de que un intervalo, construido a partir de repetidas muestras, contenga el valor verdadero del parámetro.**\n",
        "\n",
        "Una **región de credibilidad bayesiana** responde a la **probabilidad de que un parámetro dado, dado los datos y el prior, esté dentro de un intervalo específico.**\n",
        "\n",
        "\n",
        "Aunque en muchos casos **las diferencias entre CI y CR no son evidentes**, en situaciones de distribución no gaussiana, esta distinción puede llevar a interpretaciones erróneas."
      ],
      "metadata": {
        "id": "c9SsR0qh227J"
      }
    },
    {
      "cell_type": "markdown",
      "source": [
        "# **Ejemplo del Modelo Exponencial Truncado (Jaynes)**"
      ],
      "metadata": {
        "id": "TPKzREoK3GB7"
      }
    },
    {
      "cell_type": "markdown",
      "source": [
        "En este ejemplo, se estima el parámetro $\\theta $ de un modelo de fallas exponenciales. La interpretación y el cálculo de los límites de incertidumbre de $\\theta$ muestra cómo el enfoque frecuentista y bayesiano pueden dar resultados significativamente diferentes debido a la interpretación fundamentalmente distinta de la probabilidad.\n",
        "\n",
        "**Bayesianismo en la Práctica**\n",
        "\n",
        "Aunque el enfoque bayesiano ofrece una interpretación más natural y directa de los parámetros, computacionalmente puede ser intensivo, especialmente en problemas de alta dimensionalidad. Aquí es donde métodos como Markov Chain Monte Carlo (MCMC) son útiles para calcular distribuciones posteriores en espacios de parámetros complejos."
      ],
      "metadata": {
        "id": "cYNjy9-_397n"
      }
    },
    {
      "cell_type": "markdown",
      "source": [
        "Calcula $𝑃 (𝐵∣𝐷)$ mediante la función Beta, que es la forma cerrada para resolver la integral en el contexto bayesiano."
      ],
      "metadata": {
        "id": "au90cL9E4dvJ"
      }
    },
    {
      "cell_type": "code",
      "source": [
        "from scipy.special import beta\n",
        "import numpy as np\n",
        "# Parámetros de la simulación\n",
        "p = np.linspace(0, 1, 1000)  # Valores de probabilidad p\n",
        "D = 5  # Número de victorias de Alice\n",
        "B = 3  # Número de victorias de Bob\n",
        "# Función de verosimilitud: dado p, ¿cuál es la probabilidad de que Bob gane?\n",
        "P_B_given_p = (1 - p) ** 3  # P(B|p, D) = (1-p)^3\n",
        "# Verosimilitud de los datos D: P(D|p)\n",
        "P_D_given_p = p**5 * (1 - p)**3  # P(D|p) = p^5 * (1-p)^3\n",
        "# Prior uniforme para p\n",
        "P_p = 1  # Priori uniforme\n",
        "# Calculamos la integral usando la función Beta para P(B|D)\n",
        "numerador = beta(6, 6)  # Integración del numerador\n",
        "denominador = beta(3, 6)  # Integración del denominador\n",
        "P_B_given_D = numerador / denominador\n",
        "print(f\"La probabilidad de que Bob gane (P(B|D)) es: {P_B_given_D:.3f}\")"
      ],
      "metadata": {
        "id": "B5ON3h7t4VUT",
        "outputId": "89d0a347-766f-44f9-a2dc-76c92299396d",
        "colab": {
          "base_uri": "https://localhost:8080/"
        }
      },
      "execution_count": 7,
      "outputs": [
        {
          "output_type": "stream",
          "name": "stdout",
          "text": [
            "La probabilidad de que Bob gane (P(B|D)) es: 0.061\n"
          ]
        }
      ]
    },
    {
      "cell_type": "markdown",
      "source": [
        "Se presentan tres paquetes de Python para implementar el enfoque bayesiano: $emcee$, $PyMC$ y $PyStan$. Cada uno usa un algoritmo de MCMC diferente Affine Invariant Ensemble MCMC, Metropolis-Hastingsy Hamiltonian MCMC, respectivamente. A pesar de sus diferencias en el algoritmo, los tres paquetes producen resultados similares para un modelo de regresión lineal.\n",
        "\n",
        "**Comparación**\n",
        "\n",
        "Se comparan los intervalos de confianza frecuentistas con las regiones de credibilidad bayesianas. Aunque los resultados son similares, el enfoque bayesiano se considera más flexible y natural, especialmente cuando se trata de manejar parámetros de molestia $nuisance parameters$ mediante marginalización."
      ],
      "metadata": {
        "id": "eJxoxhvk59lZ"
      }
    }
  ]
}