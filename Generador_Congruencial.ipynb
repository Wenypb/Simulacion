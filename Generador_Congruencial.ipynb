{
  "nbformat": 4,
  "nbformat_minor": 0,
  "metadata": {
    "colab": {
      "provenance": [],
      "authorship_tag": "ABX9TyNpSIs5pJR9uY+veCj3Oj3/",
      "include_colab_link": true
    },
    "kernelspec": {
      "name": "python3",
      "display_name": "Python 3"
    },
    "language_info": {
      "name": "python"
    }
  },
  "cells": [
    {
      "cell_type": "markdown",
      "metadata": {
        "id": "view-in-github",
        "colab_type": "text"
      },
      "source": [
        "<a href=\"https://colab.research.google.com/github/Wenypb/Simulacion/blob/main/Generador_Congruencial.ipynb\" target=\"_parent\"><img src=\"https://colab.research.google.com/assets/colab-badge.svg\" alt=\"Open In Colab\"/></a>"
      ]
    },
    {
      "cell_type": "markdown",
      "source": [
        "# Generador Congruencial"
      ],
      "metadata": {
        "id": "TucwkYKh9eVI"
      }
    },
    {
      "cell_type": "markdown",
      "source": [
        " Xj+1 = **a**Xj + **c**      mod(**m**) con x0= **X0**"
      ],
      "metadata": {
        "id": "E_7HFu-_9-cH"
      }
    },
    {
      "cell_type": "markdown",
      "source": [
        "*Desarrollo del método*\n",
        "\n",
        "\n",
        "\n",
        "1.   Sustituimos el valor de a y c en   Xj+1 = **a**Xj + **c** que es la ecuacion generadora.\n",
        "2.   Sustituimos el valor de la semilla (X0) en la ecuacion generadora, obteniendo el valor de Xj+1.\n",
        "3.   Calculamos el modulo (m) del valor de Xj+1, obteniendo el nuevo valor de X0."
      ],
      "metadata": {
        "id": "wk8AvCnW_moo"
      }
    },
    {
      "cell_type": "markdown",
      "source": [
        "## *Generador del ciclo de vida*\n",
        "\n"
      ],
      "metadata": {
        "id": "CWI33Sq8BGxR"
      }
    },
    {
      "cell_type": "markdown",
      "source": [
        "La siguiente función muestra el ciclo de vida, es decir, en que iteración se comienzan a repetir los numeros generados por el método de congruencia con X0, a, c, y m como valores de entrada."
      ],
      "metadata": {
        "id": "dexVSHu799Yu"
      }
    },
    {
      "cell_type": "code",
      "execution_count": 16,
      "metadata": {
        "id": "rBUMApJ59cs8"
      },
      "outputs": [],
      "source": [
        "def Congruencia(X0,a,c,m):\n",
        "  from tabulate import tabulate\n",
        "  xm1=[ ]\n",
        "  Generados=[ ]\n",
        "  n0=0\n",
        "  x1s=[]\n",
        "  while X0 not in Generados:\n",
        "    x1s.append(X0)\n",
        "    res=a*X0+c\n",
        "    X1=res%m\n",
        "    xn=X0/m\n",
        "    xm0=[n0,X0,res,X1]\n",
        "    xm1.append(xm0)\n",
        "    Generados.append(X0)\n",
        "    X0=X1\n",
        "    n0=n0+1\n",
        "  print(tabulate(xm1,headers=[\"n\",\"Xn\",\"aXn+c\",\"m=Xn+1\",\"Xn/m\"]))\n",
        "  print(\"El ciclo de vida de este generador congruencial es :\",n0)\n",
        "  print(\"Con los siguientes valores\")\n",
        "  print(x1s)\n",
        "\n",
        "  return"
      ]
    },
    {
      "cell_type": "markdown",
      "source": [
        "*Resultado del método*\n",
        "\n",
        "Se tiene una tabla con los resultados de cada iteraccion y una lista del total de los valores generados."
      ],
      "metadata": {
        "id": "mrnhTOApB8dq"
      }
    },
    {
      "cell_type": "markdown",
      "source": [
        "*Ejemplo:*\n",
        "\n",
        "Usamos la función anterior con los datos de un ejercicio trabajado en clase con:\n",
        "\n",
        "X0=3; a=13; c=0; m=64"
      ],
      "metadata": {
        "id": "hYH49SuxCG-x"
      }
    },
    {
      "cell_type": "code",
      "source": [
        "6#Ingresar valores\n",
        "X0=int(input(\"Ingrese el valor de X0:\"))\n",
        "a=int(input(\"Ingrese el valor que desea para a:\"))\n",
        "c=int(input(\"Ingrese el valor que desea para c:\"))\n",
        "m=int(input(\"Ingrese el valor que desea para m:\"))\n",
        "\n",
        "\n",
        "Congruencia(X0,a,c,m)\n"
      ],
      "metadata": {
        "colab": {
          "base_uri": "https://localhost:8080/"
        },
        "id": "qOt04z_7__EU",
        "outputId": "ae3b70f1-a6cd-4873-d30d-b5cfc0ceec99"
      },
      "execution_count": 17,
      "outputs": [
        {
          "output_type": "stream",
          "name": "stdout",
          "text": [
            "Ingrese el valor de X0:3\n",
            "Ingrese el valor que desea para a:13\n",
            "Ingrese el valor que desea para c:0\n",
            "Ingrese el valor que desea para m:64\n",
            "  n    Xn    aXn+c    m=Xn+1\n",
            "---  ----  -------  --------\n",
            "  0     3       39        39\n",
            "  1    39      507        59\n",
            "  2    59      767        63\n",
            "  3    63      819        51\n",
            "  4    51      663        23\n",
            "  5    23      299        43\n",
            "  6    43      559        47\n",
            "  7    47      611        35\n",
            "  8    35      455         7\n",
            "  9     7       91        27\n",
            " 10    27      351        31\n",
            " 11    31      403        19\n",
            " 12    19      247        55\n",
            " 13    55      715        11\n",
            " 14    11      143        15\n",
            " 15    15      195         3\n",
            "El ciclo de vida de este generador congruencial es : 16\n",
            "Con los siguientes valores\n",
            "[3, 39, 59, 63, 51, 23, 43, 47, 35, 7, 27, 31, 19, 55, 11, 15]\n"
          ]
        }
      ]
    },
    {
      "cell_type": "markdown",
      "source": [
        "## *Generar n números*"
      ],
      "metadata": {
        "id": "iqDf3oEND2ob"
      }
    },
    {
      "cell_type": "markdown",
      "source": [
        "La siguiente función muestra los \"n\" numeros generados por el método de congruencia con X0, a, c, m y n como valores de entrada."
      ],
      "metadata": {
        "id": "lxYoE5OeD_fx"
      }
    },
    {
      "cell_type": "code",
      "source": [
        "def Congruencia_n(X0,a,c,m,n):\n",
        "  from tabulate import tabulate\n",
        "  xm1=[ ]\n",
        "  Generados=[ ]\n",
        "  x1s=[]\n",
        "  for i in range(1,n):\n",
        "    x1s.append(X0)\n",
        "    n0=i-1\n",
        "    res=a*X0+c\n",
        "    X1=res%m\n",
        "    xn=X0/m\n",
        "    xm0=[n0,X0,res,X1]\n",
        "    xm1.append(xm0)\n",
        "    Generados.append(X0)\n",
        "    X0=X1\n",
        "  print(tabulate(xm1,headers=[\"n\",\"Xn\",\"aXn+c\",\"m=Xn+1\"]))\n",
        "  print(\"Valores generados:\",x1s)\n",
        "\n",
        "  return"
      ],
      "metadata": {
        "id": "EiJMVRNCEayJ"
      },
      "execution_count": 20,
      "outputs": []
    },
    {
      "cell_type": "markdown",
      "source": [
        "*Resultado del método*\n",
        "\n",
        "Se tiene una tabla con los resultados de cada iteraccion y una lista del total de los valores generados."
      ],
      "metadata": {
        "id": "p7PUgvJkEwZ0"
      }
    },
    {
      "cell_type": "markdown",
      "source": [
        "*Ejemplo:*\n",
        "\n",
        "Usamos la función anterior con los datos de un ejercicio trabajado en clase con:\n",
        "\n",
        "X0=27; a=17; c=43; m=100; n=30"
      ],
      "metadata": {
        "id": "q1FV1TAnFDMB"
      }
    },
    {
      "cell_type": "code",
      "source": [
        "#Ingresar valores\n",
        "X0=int(input(\"Ingrese el valor de X0:\"))\n",
        "a=int(input(\"Ingrese el valor que desea para a:\"))\n",
        "c=int(input(\"Ingrese el valor que desea para c:\"))\n",
        "m=int(input(\"Ingrese el valor que desea para m:\"))\n",
        "n=int(input(\"Ingrese la cantidad de numeros que desea generar:\"))\n",
        "\n",
        "Congruencia_n(X0,a,c,m,n)"
      ],
      "metadata": {
        "colab": {
          "base_uri": "https://localhost:8080/"
        },
        "id": "hq1I-Sz6EqCq",
        "outputId": "9c59c650-24a0-4353-c675-387199d4c78a"
      },
      "execution_count": 21,
      "outputs": [
        {
          "output_type": "stream",
          "name": "stdout",
          "text": [
            "Ingrese el valor de X0:27\n",
            "Ingrese el valor que desea para a:17\n",
            "Ingrese el valor que desea para c:43\n",
            "Ingrese el valor que desea para m:100\n",
            "Ingrese la cantidad de numeros que desea generar:30\n",
            "  n    Xn    aXn+c    m=Xn+1\n",
            "---  ----  -------  --------\n",
            "  0    27      502         2\n",
            "  1     2       77        77\n",
            "  2    77     1352        52\n",
            "  3    52      927        27\n",
            "  4    27      502         2\n",
            "  5     2       77        77\n",
            "  6    77     1352        52\n",
            "  7    52      927        27\n",
            "  8    27      502         2\n",
            "  9     2       77        77\n",
            " 10    77     1352        52\n",
            " 11    52      927        27\n",
            " 12    27      502         2\n",
            " 13     2       77        77\n",
            " 14    77     1352        52\n",
            " 15    52      927        27\n",
            " 16    27      502         2\n",
            " 17     2       77        77\n",
            " 18    77     1352        52\n",
            " 19    52      927        27\n",
            " 20    27      502         2\n",
            " 21     2       77        77\n",
            " 22    77     1352        52\n",
            " 23    52      927        27\n",
            " 24    27      502         2\n",
            " 25     2       77        77\n",
            " 26    77     1352        52\n",
            " 27    52      927        27\n",
            " 28    27      502         2\n",
            "Valores generados: [27, 2, 77, 52, 27, 2, 77, 52, 27, 2, 77, 52, 27, 2, 77, 52, 27, 2, 77, 52, 27, 2, 77, 52, 27, 2, 77, 52, 27]\n"
          ]
        }
      ]
    }
  ]
}