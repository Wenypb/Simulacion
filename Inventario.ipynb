{
  "nbformat": 4,
  "nbformat_minor": 0,
  "metadata": {
    "colab": {
      "provenance": [],
      "authorship_tag": "ABX9TyM36emfkFEKS8bV0st8ywDZ",
      "include_colab_link": true
    },
    "kernelspec": {
      "name": "python3",
      "display_name": "Python 3"
    },
    "language_info": {
      "name": "python"
    }
  },
  "cells": [
    {
      "cell_type": "markdown",
      "metadata": {
        "id": "view-in-github",
        "colab_type": "text"
      },
      "source": [
        "<a href=\"https://colab.research.google.com/github/Wenypb/Simulacion/blob/main/Inventario.ipynb\" target=\"_parent\"><img src=\"https://colab.research.google.com/assets/colab-badge.svg\" alt=\"Open In Colab\"/></a>"
      ]
    },
    {
      "cell_type": "markdown",
      "source": [
        "**Funcion que determina el valor de la demanda(x) dependiendo del número aleatorio entre 0 y 1 (R)**"
      ],
      "metadata": {
        "id": "bRlLVuCkCPuZ"
      }
    },
    {
      "cell_type": "code",
      "execution_count": 39,
      "metadata": {
        "id": "w_lBCkn79zHx"
      },
      "outputs": [],
      "source": [
        "def Demanda_aleatoria(R):\n",
        "  if 0.000<=R<0.010:\n",
        "    x=35\n",
        "  elif 0.010<=R<0.025:\n",
        "    x=36\n",
        "  elif 0.025<=R<0.045:\n",
        "    x=37\n",
        "  elif 0.045<=R<0.065:\n",
        "    x=38\n",
        "  elif 0.065<=R<0.087:\n",
        "    x=39\n",
        "  elif 0.087<=R<0.110:\n",
        "    x=40\n",
        "  elif 0.110<=R<0.135:\n",
        "    x=41\n",
        "  elif 0.135<=R<0.162:\n",
        "    x=42\n",
        "  elif 0.162<=R<0.190:\n",
        "    x=43\n",
        "  elif 0.190<=R<0.219:\n",
        "    x=44\n",
        "  elif 0.219<=R<0.254:\n",
        "    x=45\n",
        "  elif 0.254<=R<0.299:\n",
        "    x=46\n",
        "  elif 0.299<=R<0.359:\n",
        "    x=47\n",
        "  elif 0.359<=R<0.424:\n",
        "    x=48\n",
        "  elif 0.424<=R<0.494:\n",
        "    x=49\n",
        "  elif 0.494<=R<0.574:\n",
        "    x=50\n",
        "  elif 0.574<=R<0.649:\n",
        "    x=51\n",
        "  elif 0.649<=R<0.719:\n",
        "    x=52\n",
        "  elif 0.719<=R<0.784:\n",
        "    x=53\n",
        "  elif 0.784<=R<0.844:\n",
        "    x=54\n",
        "  elif 0.844<=R<0.894:\n",
        "    x=55\n",
        "  elif 0.894<=R<0.934:\n",
        "    x=56\n",
        "  elif 0.934<=R<0.964:\n",
        "    x=57\n",
        "  elif 0.964<=R<0.980:\n",
        "    x=58\n",
        "  elif 0.980<=R<0.995:\n",
        "    x=59\n",
        "  elif 0.995<=R<=1.000:\n",
        "    x=60\n",
        "  return x"
      ]
    },
    {
      "cell_type": "markdown",
      "source": [
        "**Función que determina el tiempo de entrega(t) dependiendo del número aleatorio entre 0 y 1 (R)**"
      ],
      "metadata": {
        "id": "7wJomg2MCklm"
      }
    },
    {
      "cell_type": "code",
      "source": [
        "def tiempo_entrega(R):\n",
        "  if 0.00 <=R<0.30:\n",
        "    t=1\n",
        "  elif 0.30<=R<0.70:\n",
        "    t=2\n",
        "  elif 0.70<=R<=1.00:\n",
        "    t=3\n",
        "  return t"
      ],
      "metadata": {
        "id": "gqqdJybTDIhx"
      },
      "execution_count": 40,
      "outputs": []
    },
    {
      "cell_type": "markdown",
      "source": [
        "**Datos del ejercicio del libro**"
      ],
      "metadata": {
        "id": "xcXxyR1NH2q-"
      }
    },
    {
      "cell_type": "code",
      "source": [
        "#Num_aleatorios -> Lista de los números aleatorios del libro por cada mes\n",
        "Num_aleatorios=[0.74022,0.65741,0.66083,0.08355,0.55121,0.00911,0.14060,0.14845,0.41839,0.39685,0.74416,0.53152]\n",
        "#Fac_estacionales-> Lista de los factores estacionales del libro por cada mes\n",
        "Fc_estacionales=[1.20,1.00,0.90,0.80,0.80,0.70,0.80,0.90,1.00,1.20,1.30,1.40]\n",
        "#Meses-> Lista del número del mes\n",
        "Meses=[]\n",
        "#Inv_iniciales -> Lista de los inventarios iniciales de cada mes\n",
        "Inv_iniciales=[150,0,0,0,0,0,0,0,0,0,0,0]\n",
        "#Dem_ajustadas -> Lista de las demandas ajustadas de cada mes\n",
        "De_ajustadas=[]\n",
        "#Inv_finales -> Lista de los inventarios finales de cada mes\n",
        "Inv_finales=[]\n",
        "#Faltante -> Lista de los faltantes de cada mes\n",
        "Faltante=[]\n",
        "#Orden -> Lista de las veces que se hacen las reordenes\n",
        "Orden=[]\n",
        "#Inv_promedio -> Inventarios promedios por mes\n",
        "Inv_promedio=[]\n",
        "for i in range(1,13):\n",
        "  Meses.append(i)\n",
        "  #Demanda -> Demanda obtenida de la funcion Demanda_aleatoria al introducir el número aleatorio correspondiente de cada mes\n",
        "  Demanda= Demanda_aleatoria(Num_aleatorios[i-1])\n",
        "  #Dem_ajustada -> Es el resultado de multiplicar la demanda por su factor estacional\n",
        "  Dem_ajustada = round(Demanda*Fc_estacionales[i-1])\n",
        "  print(Dem_ajustada)\n",
        "  #Inv_final -> Inventario final de cada mes\n",
        "  Inv_final= Inv_iniciales[i-1]-Dem_ajustada\n",
        "  Inv_finales.append(Inv_final)\n",
        "  if Inv_final<100:\n",
        "    t = int(tiempo_entrega(Num_aleatorios[i-1]))\n",
        "    In_ini=int(Inv_iniciales[i+t-4])\n",
        "    Inv_iniciales[i-1+t]=In_ini+100\n",
        "    Inv_iniciales.append(Inv_final)\n",
        "  #El inventario final del mes pasado sera el inventario inicial del siguiente mes\n",
        "print(Inv_iniciales)\n",
        "print(Inv_finales)\n"
      ],
      "metadata": {
        "colab": {
          "base_uri": "https://localhost:8080/"
        },
        "id": "nCUpXxl4H6Uh",
        "outputId": "ad624177-1698-4019-d913-82fd3d96c6c1"
      },
      "execution_count": 41,
      "outputs": [
        {
          "output_type": "stream",
          "name": "stdout",
          "text": [
            "64\n",
            "52\n",
            "47\n",
            "31\n",
            "40\n",
            "24\n",
            "34\n",
            "38\n",
            "48\n",
            "58\n",
            "69\n",
            "70\n",
            "[150, 0, 0, 250, 100, 0, 350, 0, 100, 0, 100, 200, 86, 200, -47, 60, -24, -38, 52, -58, 31]\n",
            "[86, -52, -47, 219, 60, -24, 316, -38, 52, -58, 31, 130]\n"
          ]
        }
      ]
    },
    {
      "cell_type": "code",
      "source": [
        "x=1.4\n",
        "y=round(x)\n",
        "print(y)"
      ],
      "metadata": {
        "colab": {
          "base_uri": "https://localhost:8080/"
        },
        "id": "LLg4Rs5tOUEL",
        "outputId": "e3ef6c38-5230-4411-839a-56aee3cf486c"
      },
      "execution_count": 42,
      "outputs": [
        {
          "output_type": "stream",
          "name": "stdout",
          "text": [
            "1\n"
          ]
        }
      ]
    }
  ]
}