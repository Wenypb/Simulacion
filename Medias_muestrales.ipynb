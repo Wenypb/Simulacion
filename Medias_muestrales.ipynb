{
  "nbformat": 4,
  "nbformat_minor": 0,
  "metadata": {
    "colab": {
      "provenance": [],
      "authorship_tag": "ABX9TyOLvPXgG5YGy5X2od+/J8jq",
      "include_colab_link": true
    },
    "kernelspec": {
      "name": "python3",
      "display_name": "Python 3"
    },
    "language_info": {
      "name": "python"
    }
  },
  "cells": [
    {
      "cell_type": "markdown",
      "metadata": {
        "id": "view-in-github",
        "colab_type": "text"
      },
      "source": [
        "<a href=\"https://colab.research.google.com/github/Wenypb/Simulacion/blob/main/Medias_muestrales.ipynb\" target=\"_parent\"><img src=\"https://colab.research.google.com/assets/colab-badge.svg\" alt=\"Open In Colab\"/></a>"
      ]
    },
    {
      "cell_type": "markdown",
      "source": [
        "# **Librerias**"
      ],
      "metadata": {
        "id": "jRDtz8h2TdO-"
      }
    },
    {
      "cell_type": "code",
      "source": [
        "\n",
        "import random as rnd\n",
        "import numpy as np\n",
        "import matplotlib.pyplot as plt\n",
        "import math\n",
        "import scipy.stats as stats"
      ],
      "metadata": {
        "id": "qtUF2ls0TSx6"
      },
      "execution_count": 41,
      "outputs": []
    },
    {
      "cell_type": "markdown",
      "source": [
        "### ***Estimar por simulación la integral de $\\int_{0}^{1} \\sqrt{arctan(x)} dx$***"
      ],
      "metadata": {
        "id": "SUq8-9S-q0ob"
      }
    },
    {
      "cell_type": "markdown",
      "source": [
        "# **Monte Carlo de la Media Muestral**"
      ],
      "metadata": {
        "id": "0m8-DKysRCwa"
      }
    },
    {
      "cell_type": "markdown",
      "source": [
        "## **Algoritmo**"
      ],
      "metadata": {
        "id": "nDo5tEAYRcO3"
      }
    },
    {
      "cell_type": "markdown",
      "source": [
        "**Definir g(x):**"
      ],
      "metadata": {
        "id": "VkJWcu6cVQ1Q"
      }
    },
    {
      "cell_type": "markdown",
      "source": [
        "$g(x) = \\sqrt{arctan(x)}$"
      ],
      "metadata": {
        "id": "ss4-ukoIVZju"
      }
    },
    {
      "cell_type": "markdown",
      "source": [
        "***PASO 1:***\n",
        "Generar la secuencia de $ [U_{i}]_{i=1}^{n} \\sim$ $Unif(0,1)$"
      ],
      "metadata": {
        "id": "QpBJbD0wR6KZ"
      }
    },
    {
      "cell_type": "code",
      "source": [
        "# Tomaremos n = 50\n",
        "n = 50\n",
        "#Lista_Ui-> Lista donde se guardaran todos los Ui generados\n",
        "Lista_Ui=[]\n",
        "for i in range(n):\n",
        "  Ui=rnd.random()\n",
        "  Lista_Ui.append(Ui)"
      ],
      "metadata": {
        "id": "Hs21UEJKTC5K"
      },
      "execution_count": 42,
      "outputs": []
    },
    {
      "cell_type": "markdown",
      "source": [
        "***PASO 2:***\n",
        "Calcular $ X_{i} = a + U_{i}(b -a )$\n"
      ],
      "metadata": {
        "id": "azZotJpzUnpR"
      }
    },
    {
      "cell_type": "code",
      "source": [
        "# De acuerdo al ejercicio:\n",
        "#a -> Límite inferior de la integral\n",
        "a = 0\n",
        "#b -> Límite superior de la integral\n",
        "b = 1\n",
        "#Lista_Xi-> Lista donde se guardaran todos los Xi calculados\n",
        "Lista_Xi=[]\n",
        "for i in range(n):\n",
        "  Xi= a + Lista_Ui[i]*(b-a)\n",
        "  Lista_Xi.append(Xi)"
      ],
      "metadata": {
        "id": "dFSkkraWUnpn"
      },
      "execution_count": 43,
      "outputs": []
    },
    {
      "cell_type": "markdown",
      "source": [
        "***PASO 3:***\n",
        "Calcular $g$ $( X_{i} )$\n"
      ],
      "metadata": {
        "id": "VVn0ZyawWRrw"
      }
    },
    {
      "cell_type": "code",
      "source": [
        "#Lista_gi-> Lista donde se guardaran todos los g(Xi) calculados\n",
        "Lista_gi=[]\n",
        "for i in range(n):\n",
        "  gi= np.sqrt(np.arctan(Lista_Xi[i]))\n",
        "  Lista_gi.append(gi)"
      ],
      "metadata": {
        "id": "4QFjDcpCWRrz"
      },
      "execution_count": 44,
      "outputs": []
    },
    {
      "cell_type": "markdown",
      "source": [
        "***PASO 4:***\n",
        "Estimar $I$ calculando la media muestral $\\theta _{1}$\n"
      ],
      "metadata": {
        "id": "s-M1v7F0Xrv6"
      }
    },
    {
      "cell_type": "markdown",
      "source": [
        "$\\theta _{1}$ = $(b-a) \\frac{1}{n} \\sum_{i=1}^{n}g(X_{i})$\n"
      ],
      "metadata": {
        "id": "MCdVu11RYcGe"
      }
    },
    {
      "cell_type": "code",
      "source": [
        "#Calcular la suma de todas las g(Xi)\n",
        "#--sum_gi-> Suma de las g(Xi)\n",
        "sum_gi=sum(Lista_gi)\n",
        "#Calcular el estimador\n",
        "estimador = (b-a)*(1/n)*(sum_gi)\n",
        "print(\"El valor estimado de I es\",estimador)"
      ],
      "metadata": {
        "colab": {
          "base_uri": "https://localhost:8080/"
        },
        "outputId": "f90a2a3b-a4d9-4edd-c3da-734c7ffda3e6",
        "id": "bIa5GKgbXrwf"
      },
      "execution_count": 45,
      "outputs": [
        {
          "output_type": "stream",
          "name": "stdout",
          "text": [
            "El valor estimado de I es 0.6455333401443417\n"
          ]
        }
      ]
    },
    {
      "cell_type": "markdown",
      "source": [
        "## **Generar el algortimo N veces**"
      ],
      "metadata": {
        "id": "20xVVJBwbG-u"
      }
    },
    {
      "cell_type": "markdown",
      "source": [
        "**Funcion**"
      ],
      "metadata": {
        "id": "IvC0ncjqGSfS"
      }
    },
    {
      "cell_type": "code",
      "source": [
        "def Fun_Media_muestral(N):\n",
        "  #Limites de integracion\n",
        "  a=0\n",
        "  b=1\n",
        "  #Numero de Ui generados\n",
        "  n=50\n",
        "  #Lista_esti -> Lista donde se guardaran todos los estimadores calculados\n",
        "  Lista_esti =[]\n",
        "  for i in range(N):\n",
        "    #Lista_Ui-> Lista donde se guardaran todos los Ui generados\n",
        "    Lista_Ui=[]\n",
        "    for i in range(n):\n",
        "      Ui=rnd.random()\n",
        "      Lista_Ui.append(Ui)\n",
        "    #Lista_Xi-> Lista donde se guardaran todos los Xi calculados\n",
        "    Lista_Xi=[]\n",
        "    for i in range(n):\n",
        "      Xi= a + Lista_Ui[i]*(b-a)\n",
        "      Lista_Xi.append(Xi)\n",
        "    #Lista_gi-> Lista donde se guardaran todos los g(Xi) calculados\n",
        "    Lista_gi=[]\n",
        "    for i in range(n):\n",
        "      gi= np.sqrt(np.arctan(Lista_Xi[i]))\n",
        "      Lista_gi.append(gi)\n",
        "    #--sum_gi-> Suma de las g(Xi)\n",
        "    sum_gi=sum(Lista_gi)\n",
        "    #Calcular el estimador\n",
        "    estimador = (b-a)*(1/n)*(sum_gi)\n",
        "    Lista_esti.append(estimador)\n",
        "  return Lista_esti\n"
      ],
      "metadata": {
        "id": "7PcmR5rLbb7_"
      },
      "execution_count": 46,
      "outputs": []
    },
    {
      "cell_type": "markdown",
      "source": [
        "**Histograma**"
      ],
      "metadata": {
        "id": "Igm8SvFbEm7a"
      }
    },
    {
      "cell_type": "code",
      "source": [
        "# N -> Número de experimentos con n iteracciones\n",
        "N =5000\n",
        "G = Fun_Media_muestral(N)\n",
        "plt.hist(G,bins=500)"
      ],
      "metadata": {
        "colab": {
          "base_uri": "https://localhost:8080/",
          "height": 1000
        },
        "id": "SnWq-fCreStb",
        "outputId": "f7cd302b-4334-4b1d-fcf9-8f0c326762e8"
      },
      "execution_count": 47,
      "outputs": [
        {
          "output_type": "execute_result",
          "data": {
            "text/plain": [
              "(array([ 1.,  0.,  0.,  0.,  0.,  0.,  0.,  0.,  0.,  0.,  0.,  0.,  0.,\n",
              "         0.,  0.,  0.,  0.,  0.,  0.,  0.,  0.,  0.,  0.,  0.,  0.,  0.,\n",
              "         0.,  0.,  0.,  0.,  1.,  0.,  0.,  0.,  0.,  0.,  0.,  0.,  0.,\n",
              "         0.,  0.,  0.,  0.,  0.,  0.,  0.,  1.,  0.,  0.,  0.,  0.,  0.,\n",
              "         1.,  1.,  0.,  0.,  0.,  1.,  1.,  0.,  1.,  0.,  0.,  0.,  0.,\n",
              "         0.,  0.,  0.,  0.,  1.,  1.,  0.,  1.,  1.,  0.,  0.,  1.,  0.,\n",
              "         0.,  0.,  1.,  0.,  0.,  0.,  5.,  1.,  0.,  0.,  2.,  0.,  0.,\n",
              "         1.,  1.,  3.,  0.,  0.,  1.,  1.,  2.,  1.,  1.,  1.,  1.,  1.,\n",
              "         1.,  1.,  0.,  0.,  0.,  1.,  1.,  1.,  0.,  4.,  0.,  1.,  0.,\n",
              "         4.,  3.,  5.,  3.,  2.,  3.,  1.,  0.,  5.,  3.,  5.,  2.,  3.,\n",
              "         5.,  4.,  2.,  1.,  3.,  3.,  4.,  5.,  3.,  4.,  5.,  4.,  4.,\n",
              "         7.,  3.,  5.,  8.,  2.,  7.,  1.,  8.,  7.,  3.,  8.,  6.,  4.,\n",
              "         7.,  5., 11.,  9.,  8.,  8.,  4.,  7.,  4.,  5., 10., 12.,  9.,\n",
              "        10.,  5., 13.,  5.,  8.,  7.,  6., 12., 13., 11., 12.,  6., 10.,\n",
              "        10., 12., 11., 13., 14., 12.,  7., 13., 16., 10., 13., 20., 20.,\n",
              "        10., 14., 15., 11., 19., 15., 22., 15., 13., 14., 12., 23., 16.,\n",
              "        20., 21., 12., 21., 22., 15., 33., 18., 21., 17., 24., 22., 20.,\n",
              "        18., 30., 24., 34., 17., 29., 23., 14., 23., 15., 20., 21., 33.,\n",
              "        36., 37., 32., 28., 33., 25., 21., 23., 22., 36., 34., 22., 30.,\n",
              "        34., 39., 22., 34., 25., 31., 39., 19., 24., 36., 31., 30., 30.,\n",
              "        34., 24., 35., 33., 28., 37., 26., 24., 33., 26., 31., 39., 38.,\n",
              "        26., 31., 40., 23., 32., 26., 30., 27., 28., 38., 39., 38., 35.,\n",
              "        41., 27., 40., 32., 21., 31., 29., 26., 28., 32., 28., 27., 20.,\n",
              "        30., 27., 24., 28., 26., 22., 29., 28., 34., 19., 33., 22., 29.,\n",
              "        19., 28., 22., 31., 27., 26., 25., 25., 19., 23., 21., 18., 28.,\n",
              "        25., 24., 19., 23., 20., 15., 33., 13., 21., 26., 22., 27., 21.,\n",
              "        19., 17., 25., 19., 19., 19., 18., 15., 20., 17., 15.,  6., 26.,\n",
              "         7., 12., 16., 21., 12., 15.,  8., 20., 13., 10., 10., 12.,  5.,\n",
              "        10., 14.,  6.,  8.,  9.,  8.,  6.,  9.,  8.,  9., 10.,  8., 14.,\n",
              "         4., 10.,  7., 11.,  4.,  7.,  5.,  5.,  3.,  5.,  6.,  4.,  3.,\n",
              "         4.,  8.,  4.,  3.,  5.,  3.,  2.,  3.,  9.,  2.,  2.,  3.,  4.,\n",
              "         7.,  4.,  1.,  4.,  5.,  1.,  4.,  2.,  4.,  1.,  0.,  1.,  0.,\n",
              "         2.,  2.,  0.,  2.,  2.,  0.,  1.,  0.,  1.,  3.,  0.,  2.,  2.,\n",
              "         2.,  1.,  2.,  0.,  3.,  1.,  1.,  1.,  0.,  1.,  0.,  0.,  1.,\n",
              "         0.,  3.,  0.,  0.,  1.,  0.,  0.,  0.,  0.,  1.,  2.,  0.,  0.,\n",
              "         0.,  0.,  0.,  0.,  0.,  0.,  0.,  0.,  0.,  1.,  0.,  0.,  0.,\n",
              "         0.,  0.,  0.,  0.,  1.,  0.,  0.,  0.,  0.,  0.,  0.,  0.,  0.,\n",
              "         0.,  0.,  0.,  0.,  0.,  0.,  0.,  0.,  0.,  0.,  0.,  0.,  0.,\n",
              "         0.,  1.,  0.,  1.,  0.,  1.]),\n",
              " array([0.50641348, 0.50686804, 0.5073226 , 0.50777716, 0.50823171,\n",
              "        0.50868627, 0.50914083, 0.50959539, 0.51004994, 0.5105045 ,\n",
              "        0.51095906, 0.51141362, 0.51186817, 0.51232273, 0.51277729,\n",
              "        0.51323185, 0.5136864 , 0.51414096, 0.51459552, 0.51505008,\n",
              "        0.51550463, 0.51595919, 0.51641375, 0.51686831, 0.51732286,\n",
              "        0.51777742, 0.51823198, 0.51868654, 0.51914109, 0.51959565,\n",
              "        0.52005021, 0.52050477, 0.52095932, 0.52141388, 0.52186844,\n",
              "        0.522323  , 0.52277755, 0.52323211, 0.52368667, 0.52414123,\n",
              "        0.52459579, 0.52505034, 0.5255049 , 0.52595946, 0.52641402,\n",
              "        0.52686857, 0.52732313, 0.52777769, 0.52823225, 0.5286868 ,\n",
              "        0.52914136, 0.52959592, 0.53005048, 0.53050503, 0.53095959,\n",
              "        0.53141415, 0.53186871, 0.53232326, 0.53277782, 0.53323238,\n",
              "        0.53368694, 0.53414149, 0.53459605, 0.53505061, 0.53550517,\n",
              "        0.53595972, 0.53641428, 0.53686884, 0.5373234 , 0.53777795,\n",
              "        0.53823251, 0.53868707, 0.53914163, 0.53959618, 0.54005074,\n",
              "        0.5405053 , 0.54095986, 0.54141441, 0.54186897, 0.54232353,\n",
              "        0.54277809, 0.54323264, 0.5436872 , 0.54414176, 0.54459632,\n",
              "        0.54505087, 0.54550543, 0.54595999, 0.54641455, 0.54686911,\n",
              "        0.54732366, 0.54777822, 0.54823278, 0.54868734, 0.54914189,\n",
              "        0.54959645, 0.55005101, 0.55050557, 0.55096012, 0.55141468,\n",
              "        0.55186924, 0.5523238 , 0.55277835, 0.55323291, 0.55368747,\n",
              "        0.55414203, 0.55459658, 0.55505114, 0.5555057 , 0.55596026,\n",
              "        0.55641481, 0.55686937, 0.55732393, 0.55777849, 0.55823304,\n",
              "        0.5586876 , 0.55914216, 0.55959672, 0.56005127, 0.56050583,\n",
              "        0.56096039, 0.56141495, 0.5618695 , 0.56232406, 0.56277862,\n",
              "        0.56323318, 0.56368773, 0.56414229, 0.56459685, 0.56505141,\n",
              "        0.56550596, 0.56596052, 0.56641508, 0.56686964, 0.5673242 ,\n",
              "        0.56777875, 0.56823331, 0.56868787, 0.56914243, 0.56959698,\n",
              "        0.57005154, 0.5705061 , 0.57096066, 0.57141521, 0.57186977,\n",
              "        0.57232433, 0.57277889, 0.57323344, 0.573688  , 0.57414256,\n",
              "        0.57459712, 0.57505167, 0.57550623, 0.57596079, 0.57641535,\n",
              "        0.5768699 , 0.57732446, 0.57777902, 0.57823358, 0.57868813,\n",
              "        0.57914269, 0.57959725, 0.58005181, 0.58050636, 0.58096092,\n",
              "        0.58141548, 0.58187004, 0.58232459, 0.58277915, 0.58323371,\n",
              "        0.58368827, 0.58414282, 0.58459738, 0.58505194, 0.5855065 ,\n",
              "        0.58596105, 0.58641561, 0.58687017, 0.58732473, 0.58777928,\n",
              "        0.58823384, 0.5886884 , 0.58914296, 0.58959752, 0.59005207,\n",
              "        0.59050663, 0.59096119, 0.59141575, 0.5918703 , 0.59232486,\n",
              "        0.59277942, 0.59323398, 0.59368853, 0.59414309, 0.59459765,\n",
              "        0.59505221, 0.59550676, 0.59596132, 0.59641588, 0.59687044,\n",
              "        0.59732499, 0.59777955, 0.59823411, 0.59868867, 0.59914322,\n",
              "        0.59959778, 0.60005234, 0.6005069 , 0.60096145, 0.60141601,\n",
              "        0.60187057, 0.60232513, 0.60277968, 0.60323424, 0.6036888 ,\n",
              "        0.60414336, 0.60459791, 0.60505247, 0.60550703, 0.60596159,\n",
              "        0.60641614, 0.6068707 , 0.60732526, 0.60777982, 0.60823437,\n",
              "        0.60868893, 0.60914349, 0.60959805, 0.6100526 , 0.61050716,\n",
              "        0.61096172, 0.61141628, 0.61187084, 0.61232539, 0.61277995,\n",
              "        0.61323451, 0.61368907, 0.61414362, 0.61459818, 0.61505274,\n",
              "        0.6155073 , 0.61596185, 0.61641641, 0.61687097, 0.61732553,\n",
              "        0.61778008, 0.61823464, 0.6186892 , 0.61914376, 0.61959831,\n",
              "        0.62005287, 0.62050743, 0.62096199, 0.62141654, 0.6218711 ,\n",
              "        0.62232566, 0.62278022, 0.62323477, 0.62368933, 0.62414389,\n",
              "        0.62459845, 0.625053  , 0.62550756, 0.62596212, 0.62641668,\n",
              "        0.62687123, 0.62732579, 0.62778035, 0.62823491, 0.62868946,\n",
              "        0.62914402, 0.62959858, 0.63005314, 0.63050769, 0.63096225,\n",
              "        0.63141681, 0.63187137, 0.63232593, 0.63278048, 0.63323504,\n",
              "        0.6336896 , 0.63414416, 0.63459871, 0.63505327, 0.63550783,\n",
              "        0.63596239, 0.63641694, 0.6368715 , 0.63732606, 0.63778062,\n",
              "        0.63823517, 0.63868973, 0.63914429, 0.63959885, 0.6400534 ,\n",
              "        0.64050796, 0.64096252, 0.64141708, 0.64187163, 0.64232619,\n",
              "        0.64278075, 0.64323531, 0.64368986, 0.64414442, 0.64459898,\n",
              "        0.64505354, 0.64550809, 0.64596265, 0.64641721, 0.64687177,\n",
              "        0.64732632, 0.64778088, 0.64823544, 0.64869   , 0.64914455,\n",
              "        0.64959911, 0.65005367, 0.65050823, 0.65096278, 0.65141734,\n",
              "        0.6518719 , 0.65232646, 0.65278101, 0.65323557, 0.65369013,\n",
              "        0.65414469, 0.65459925, 0.6550538 , 0.65550836, 0.65596292,\n",
              "        0.65641748, 0.65687203, 0.65732659, 0.65778115, 0.65823571,\n",
              "        0.65869026, 0.65914482, 0.65959938, 0.66005394, 0.66050849,\n",
              "        0.66096305, 0.66141761, 0.66187217, 0.66232672, 0.66278128,\n",
              "        0.66323584, 0.6636904 , 0.66414495, 0.66459951, 0.66505407,\n",
              "        0.66550863, 0.66596318, 0.66641774, 0.6668723 , 0.66732686,\n",
              "        0.66778141, 0.66823597, 0.66869053, 0.66914509, 0.66959964,\n",
              "        0.6700542 , 0.67050876, 0.67096332, 0.67141787, 0.67187243,\n",
              "        0.67232699, 0.67278155, 0.6732361 , 0.67369066, 0.67414522,\n",
              "        0.67459978, 0.67505433, 0.67550889, 0.67596345, 0.67641801,\n",
              "        0.67687257, 0.67732712, 0.67778168, 0.67823624, 0.6786908 ,\n",
              "        0.67914535, 0.67959991, 0.68005447, 0.68050903, 0.68096358,\n",
              "        0.68141814, 0.6818727 , 0.68232726, 0.68278181, 0.68323637,\n",
              "        0.68369093, 0.68414549, 0.68460004, 0.6850546 , 0.68550916,\n",
              "        0.68596372, 0.68641827, 0.68687283, 0.68732739, 0.68778195,\n",
              "        0.6882365 , 0.68869106, 0.68914562, 0.68960018, 0.69005473,\n",
              "        0.69050929, 0.69096385, 0.69141841, 0.69187296, 0.69232752,\n",
              "        0.69278208, 0.69323664, 0.69369119, 0.69414575, 0.69460031,\n",
              "        0.69505487, 0.69550942, 0.69596398, 0.69641854, 0.6968731 ,\n",
              "        0.69732766, 0.69778221, 0.69823677, 0.69869133, 0.69914589,\n",
              "        0.69960044, 0.700055  , 0.70050956, 0.70096412, 0.70141867,\n",
              "        0.70187323, 0.70232779, 0.70278235, 0.7032369 , 0.70369146,\n",
              "        0.70414602, 0.70460058, 0.70505513, 0.70550969, 0.70596425,\n",
              "        0.70641881, 0.70687336, 0.70732792, 0.70778248, 0.70823704,\n",
              "        0.70869159, 0.70914615, 0.70960071, 0.71005527, 0.71050982,\n",
              "        0.71096438, 0.71141894, 0.7118735 , 0.71232805, 0.71278261,\n",
              "        0.71323717, 0.71369173, 0.71414628, 0.71460084, 0.7150554 ,\n",
              "        0.71550996, 0.71596451, 0.71641907, 0.71687363, 0.71732819,\n",
              "        0.71778274, 0.7182373 , 0.71869186, 0.71914642, 0.71960098,\n",
              "        0.72005553, 0.72051009, 0.72096465, 0.72141921, 0.72187376,\n",
              "        0.72232832, 0.72278288, 0.72323744, 0.72369199, 0.72414655,\n",
              "        0.72460111, 0.72505567, 0.72551022, 0.72596478, 0.72641934,\n",
              "        0.7268739 , 0.72732845, 0.72778301, 0.72823757, 0.72869213,\n",
              "        0.72914668, 0.72960124, 0.7300558 , 0.73051036, 0.73096491,\n",
              "        0.73141947, 0.73187403, 0.73232859, 0.73278314, 0.7332377 ,\n",
              "        0.73369226]),\n",
              " <BarContainer object of 500 artists>)"
            ]
          },
          "metadata": {},
          "execution_count": 47
        },
        {
          "output_type": "display_data",
          "data": {
            "text/plain": [
              "<Figure size 640x480 with 1 Axes>"
            ],
            "image/png": "[encoded data removed]"
          },
          "metadata": {}
        }
      ]
    },
    {
      "cell_type": "markdown",
      "source": [
        "## **Intervalos de confianza de 95%**"
      ],
      "metadata": {
        "id": "_QTxY9JvLCAl"
      }
    },
    {
      "cell_type": "markdown",
      "source": [
        "Calcular los intervalos de confianza"
      ],
      "metadata": {
        "id": "vV5ZuLMeJIl1"
      }
    },
    {
      "cell_type": "markdown",
      "source": [
        "$\\bar{x} -\\frac{S}{\\sqrt{N}}t_{N-1,\\frac{\\alpha}{2}}\\leq \\mu \\leq \\bar{x} + \\frac{S}{\\sqrt{N}}t_{N-1,\\frac{\\alpha}{2}} $"
      ],
      "metadata": {
        "id": "UfgXy77qJK_s"
      }
    },
    {
      "cell_type": "code",
      "source": [
        "# Confianza -> Nivel de confianza de la prueba (95%)\n",
        "Confianza = 0.95\n",
        "# Gl-> Grados de libertad\n",
        "Gl = len(G) - 1\n",
        "# Media y desviación estándar de la muestra\n",
        "media_muestra = np.mean(G)\n",
        "desviacion_muestra = np.std(G, ddof=1)\n",
        "# Val_cri ->  Valor crítico de t (a/2,N-1)\n",
        "Val_cri = stats.t.ppf((1 + Confianza) / 2, Gl)\n",
        "# e_estandar ->  Error estándar\n",
        "e_estandar = desviacion_muestra / np.sqrt(len(G))\n",
        "# Límites del intervalo de confianza\n",
        "inter_inferior_MM = media_muestra - Val_cri * e_estandar\n",
        "inter_superior_MM = media_muestra + Val_cri * e_estandar\n",
        "plt.hist(G,bins=500)\n",
        "plt.axvline(inter_inferior_MM,color=\"red\")\n",
        "plt.axvline(inter_superior_MM,color=\"red\")"
      ],
      "metadata": {
        "colab": {
          "base_uri": "https://localhost:8080/",
          "height": 447
        },
        "id": "_mVRyOw7-3Nq",
        "outputId": "b90e337f-98f7-450c-9dd2-bca443225f2d"
      },
      "execution_count": 48,
      "outputs": [
        {
          "output_type": "execute_result",
          "data": {
            "text/plain": [
              "<matplotlib.lines.Line2D at 0x798d1e87f3d0>"
            ]
          },
          "metadata": {},
          "execution_count": 48
        },
        {
          "output_type": "display_data",
          "data": {
            "text/plain": [
              "<Figure size 640x480 with 1 Axes>"
            ],
            "image/png": "[encoded data removed]"
          },
          "metadata": {}
        }
      ]
    },
    {
      "cell_type": "markdown",
      "source": [
        "# **Monte Carlo de Acierto y Error**"
      ],
      "metadata": {
        "id": "yauj3e3OPCHT"
      }
    },
    {
      "cell_type": "markdown",
      "source": [
        "## **Algoritmo**"
      ],
      "metadata": {
        "id": "K7wJFJ2DQqPm"
      }
    },
    {
      "cell_type": "markdown",
      "source": [
        "**Definir g(x):**"
      ],
      "metadata": {
        "id": "w6iyjvXSQqQR"
      }
    },
    {
      "cell_type": "markdown",
      "source": [
        "$g(x) = \\sqrt{arctan(x)}$"
      ],
      "metadata": {
        "id": "E86WspuZQqQS"
      }
    },
    {
      "cell_type": "markdown",
      "source": [
        "***PASO 1:***\n",
        "Paso 1: Generar una secuencia. $ [U_{i}]_{i=1}^{2n} \\sim$ $Unif(0,1)$"
      ],
      "metadata": {
        "id": "ZamJJBt8QqQT"
      }
    },
    {
      "cell_type": "code",
      "source": [
        "# Tomaremos n = 50\n",
        "n = 50\n",
        "#Lista_Uis-> Lista donde se guardaran todos los Ui generados\n",
        "Lista_Uis=[]\n",
        "for i in range(2*n):\n",
        "  Ui=rnd.random()\n",
        "  Lista_Uis.append(Ui)\n"
      ],
      "metadata": {
        "id": "iRSKjo8FQqQU"
      },
      "execution_count": 49,
      "outputs": []
    },
    {
      "cell_type": "markdown",
      "source": [
        "***PASO 2:***\n",
        "Conformar pares $(U_{i},U_{n+i})$ para $i = 1,2,...,n$\n",
        "\n",
        "\n"
      ],
      "metadata": {
        "id": "N3co1hPMQqQW"
      }
    },
    {
      "cell_type": "code",
      "source": [
        "#Lista_Ui-> Lista de los Ui con i=1,2,..,n\n",
        "Lista_Ui=[]\n",
        "#Lista_Un_i-> Lista de los Un+i con i=1,2,..,n\n",
        "Lista_Un_i=[]\n",
        "for i in range(n):\n",
        "  Ui=Lista_Uis[i]\n",
        "  Lista_Ui.append(Ui)\n",
        "  Un_i=Lista_Uis[n+i]\n",
        "  Lista_Un_i.append(Un_i)\n",
        "\n",
        "\n"
      ],
      "metadata": {
        "id": "RjMsiD8rU3OY"
      },
      "execution_count": 50,
      "outputs": []
    },
    {
      "cell_type": "markdown",
      "source": [
        "**Paso 3:** Calcular $X_{i} = a + U_{i}(b − a)$ para $i = 1,2,...,n$"
      ],
      "metadata": {
        "id": "_6iS4NnvUxXO"
      }
    },
    {
      "cell_type": "code",
      "source": [
        "# De acuerdo al ejercicio:\n",
        "#a -> Límite inferior de la integral\n",
        "a = 0\n",
        "#b -> Límite superior de la integral\n",
        "b = 1\n",
        "#Lista_Xi-> Lista donde se guardaran todos los Xi calculados\n",
        "Lista_Xi=[]\n",
        "for i in range(n):\n",
        "  Xi= a + Lista_Ui[i]*(b-a)\n",
        "  Lista_Xi.append(Xi)"
      ],
      "metadata": {
        "id": "RlabCU0cQqQX"
      },
      "execution_count": 51,
      "outputs": []
    },
    {
      "cell_type": "markdown",
      "source": [
        "***PASO 4:***\n",
        "Calcular $g$ $( X_{i} )$\n"
      ],
      "metadata": {
        "id": "_Pdwx65oQqQY"
      }
    },
    {
      "cell_type": "code",
      "source": [
        "#Lista_gi-> Lista donde se guardaran todos los g(Xi) calculados\n",
        "Lista_gi=[]\n",
        "for i in range(n):\n",
        "  gi= np.sqrt(np.arctan(Lista_Xi[i]))\n",
        "  Lista_gi.append(gi)"
      ],
      "metadata": {
        "id": "aTie5djnQqQZ"
      },
      "execution_count": 52,
      "outputs": []
    },
    {
      "cell_type": "markdown",
      "source": [
        "***PASO 5:***\n",
        "Contar los aciertos $n_{a}$ tales que $g(Xi) > cU_{n+i}$ con c = 1 $⟶$ $g(Xi) > U_{n+i}$ para $i = 1,2,...,n$ y gráficar experimento:\n",
        "."
      ],
      "metadata": {
        "id": "wURXydmqQqQa"
      }
    },
    {
      "cell_type": "code",
      "source": [
        "#Grafica de g(x)\n",
        "x=np.linspace(0,1,100)\n",
        "plt.plot(x,np.sqrt(np.arctan(x)))\n",
        "#n_a -> Número de aciertos (exitos)\n",
        "n_a = 0\n",
        "for i in range(n):\n",
        "  g_xi=Lista_gi[i]\n",
        "  Un_i=Lista_Un_i[i]\n",
        "  if g_xi > Un_i:\n",
        "    plt.scatter(Lista_Ui[i],Un_i,color=\"green\")\n",
        "    n_a=n_a+1\n",
        "  else:\n",
        "    plt.scatter(Lista_Ui[i],Un_i,color=\"red\")\n",
        "print(\"n_a =\",n_a)"
      ],
      "metadata": {
        "colab": {
          "base_uri": "https://localhost:8080/",
          "height": 447
        },
        "id": "nxfCfbVncD5I",
        "outputId": "c86a0a23-d75d-49b1-ea3c-18c68e2467cd"
      },
      "execution_count": 53,
      "outputs": [
        {
          "output_type": "stream",
          "name": "stdout",
          "text": [
            "n_a = 36\n"
          ]
        },
        {
          "output_type": "display_data",
          "data": {
            "text/plain": [
              "<Figure size 640x480 with 1 Axes>"
            ],
            "image/png": "[encoded data removed]"
          },
          "metadata": {}
        }
      ]
    },
    {
      "cell_type": "markdown",
      "source": [
        "***PASO 6:***\n",
        "Estimar $I$ calculando la media muestral $\\theta _{2}$\n"
      ],
      "metadata": {
        "id": "F4qugQ_PjfTC"
      }
    },
    {
      "cell_type": "markdown",
      "source": [
        "$\\theta _{2}$ = $c(b-a) \\frac{n_{a}}{n} $ si $c=1$ entonces, $\\theta _{2}$ = $(b-a) \\frac{n_{a}}{n} $\n"
      ],
      "metadata": {
        "id": "7sWWBF2hjfTP"
      }
    },
    {
      "cell_type": "code",
      "source": [
        "#Calcular estimador\n",
        "#a -> Límite inferior de la integral\n",
        "a = 0\n",
        "#b -> Límite superior de la integral\n",
        "b = 1\n",
        "estimador = (b-a)*(n_a/n)\n",
        "print(\"El valor estimado de I es\",estimador)"
      ],
      "metadata": {
        "colab": {
          "base_uri": "https://localhost:8080/"
        },
        "outputId": "18a1b445-58d7-458b-d642-79128f4fbd03",
        "id": "DBRPyNgxQqQb"
      },
      "execution_count": 54,
      "outputs": [
        {
          "output_type": "stream",
          "name": "stdout",
          "text": [
            "El valor estimado de I es 0.72\n"
          ]
        }
      ]
    },
    {
      "cell_type": "markdown",
      "source": [
        "## **Generar el algortimo N veces**"
      ],
      "metadata": {
        "id": "kNtAckDRlZr7"
      }
    },
    {
      "cell_type": "markdown",
      "source": [
        "**Funcion**"
      ],
      "metadata": {
        "id": "a_lZaC9YlZs-"
      }
    },
    {
      "cell_type": "code",
      "source": [
        "def Fun_Acierto_Error(N):\n",
        "  #Limites de integracion\n",
        "  a=0\n",
        "  b=1\n",
        "  #Numero de Ui generados\n",
        "  n=50\n",
        "  #Lista_esti -> Lista donde se guardaran todos los estimadores calculados\n",
        "  Lista_esti =[]\n",
        "  for i in range(N):\n",
        "    #Lista_Uis-> Lista donde se guardaran todos los Ui generados\n",
        "    Lista_Uis=[]\n",
        "    for i in range(2*n):\n",
        "      Ui=rnd.random()\n",
        "      Lista_Uis.append(Ui)\n",
        "    #Lista_Ui-> Lista de los Ui con i=1,2,..,n\n",
        "    Lista_Ui=[]\n",
        "    #Lista_Un_i-> Lista de los Un+i con i=1,2,..,n\n",
        "    Lista_Un_i=[]\n",
        "    for i in range(n):\n",
        "      Ui=Lista_Uis[i]\n",
        "      Lista_Ui.append(Ui)\n",
        "      Un_i=Lista_Uis[n+i]\n",
        "      Lista_Un_i.append(Un_i)\n",
        "    #Lista_Xi-> Lista donde se guardaran todos los Xi calculados\n",
        "    Lista_Xi=[]\n",
        "    for i in range(n):\n",
        "      Xi= a + Lista_Ui[i]*(b-a)\n",
        "      Lista_Xi.append(Xi)\n",
        "    #Lista_gi-> Lista donde se guardaran todos los g(Xi) calculados\n",
        "    Lista_gi=[]\n",
        "    for i in range(n):\n",
        "      gi= np.sqrt(np.arctan(Lista_Xi[i]))\n",
        "      Lista_gi.append(gi)\n",
        "    #n_a -> Número de aciertos (exitos)\n",
        "    n_a = 0\n",
        "    for i in range(n):\n",
        "      g_xi=Lista_gi[i]\n",
        "      Un_i=Lista_Un_i[i]\n",
        "      if g_xi > Un_i:\n",
        "        n_a=n_a+1\n",
        "    #Calcular estimador\n",
        "    estimador = (b-a)*(n_a/n)\n",
        "    Lista_esti.append(estimador)\n",
        "  return Lista_esti"
      ],
      "metadata": {
        "id": "HlGIiCdclZs_"
      },
      "execution_count": 55,
      "outputs": []
    },
    {
      "cell_type": "markdown",
      "source": [
        "**Histograma**"
      ],
      "metadata": {
        "id": "Yb0m2C68lZtA"
      }
    },
    {
      "cell_type": "code",
      "source": [
        "# N -> Número de experimentos con n iteracciones\n",
        "N =5000\n",
        "H = Fun_Acierto_Error(N)\n",
        "plt.hist(H,bins=100)"
      ],
      "metadata": {
        "colab": {
          "base_uri": "https://localhost:8080/",
          "height": 852
        },
        "outputId": "5cc94247-de40-442f-872d-4cd756c69d98",
        "id": "grwFb3ujlZtB"
      },
      "execution_count": 56,
      "outputs": [
        {
          "output_type": "execute_result",
          "data": {
            "text/plain": [
              "(array([  1.,   0.,   0.,   0.,   2.,   0.,   0.,   0.,   3.,   0.,   0.,\n",
              "          0.,   0.,  18.,   0.,   0.,   0.,  34.,   0.,   0.,   0.,  66.,\n",
              "          0.,   0.,   0.,   0.,  97.,   0.,   0.,   0., 156.,   0.,   0.,\n",
              "          0., 278.,   0.,   0.,   0.,   0., 325.,   0.,   0.,   0., 446.,\n",
              "          0.,   0.,   0., 502.,   0.,   0.,   0.,   0., 562.,   0.,   0.,\n",
              "          0., 572.,   0.,   0.,   0., 545.,   0.,   0.,   0.,   0., 472.,\n",
              "          0.,   0.,   0., 336.,   0.,   0.,   0., 258.,   0.,   0.,   0.,\n",
              "          0., 156.,   0.,   0.,   0.,  82.,   0.,   0.,   0.,  56.,   0.,\n",
              "          0.,   0.,   0.,  23.,   0.,   0.,   0.,   7.,   0.,   0.,   0.,\n",
              "          3.]),\n",
              " array([0.38  , 0.3846, 0.3892, 0.3938, 0.3984, 0.403 , 0.4076, 0.4122,\n",
              "        0.4168, 0.4214, 0.426 , 0.4306, 0.4352, 0.4398, 0.4444, 0.449 ,\n",
              "        0.4536, 0.4582, 0.4628, 0.4674, 0.472 , 0.4766, 0.4812, 0.4858,\n",
              "        0.4904, 0.495 , 0.4996, 0.5042, 0.5088, 0.5134, 0.518 , 0.5226,\n",
              "        0.5272, 0.5318, 0.5364, 0.541 , 0.5456, 0.5502, 0.5548, 0.5594,\n",
              "        0.564 , 0.5686, 0.5732, 0.5778, 0.5824, 0.587 , 0.5916, 0.5962,\n",
              "        0.6008, 0.6054, 0.61  , 0.6146, 0.6192, 0.6238, 0.6284, 0.633 ,\n",
              "        0.6376, 0.6422, 0.6468, 0.6514, 0.656 , 0.6606, 0.6652, 0.6698,\n",
              "        0.6744, 0.679 , 0.6836, 0.6882, 0.6928, 0.6974, 0.702 , 0.7066,\n",
              "        0.7112, 0.7158, 0.7204, 0.725 , 0.7296, 0.7342, 0.7388, 0.7434,\n",
              "        0.748 , 0.7526, 0.7572, 0.7618, 0.7664, 0.771 , 0.7756, 0.7802,\n",
              "        0.7848, 0.7894, 0.794 , 0.7986, 0.8032, 0.8078, 0.8124, 0.817 ,\n",
              "        0.8216, 0.8262, 0.8308, 0.8354, 0.84  ]),\n",
              " <BarContainer object of 100 artists>)"
            ]
          },
          "metadata": {},
          "execution_count": 56
        },
        {
          "output_type": "display_data",
          "data": {
            "text/plain": [
              "<Figure size 640x480 with 1 Axes>"
            ],
            "image/png": "[encoded data removed]"
          },
          "metadata": {}
        }
      ]
    },
    {
      "cell_type": "markdown",
      "source": [
        "## **Intervalos de confianza de 95%**"
      ],
      "metadata": {
        "id": "2bzNCoaZoiat"
      }
    },
    {
      "cell_type": "markdown",
      "source": [
        "Calcular los intervalos de confianza"
      ],
      "metadata": {
        "id": "_ePGY5iLoibA"
      }
    },
    {
      "cell_type": "markdown",
      "source": [
        "$\\bar{x} -\\frac{S}{\\sqrt{N}}t_{N-1,\\frac{\\alpha}{2}}\\leq \\mu \\leq \\bar{x} + \\frac{S}{\\sqrt{N}}t_{N-1,\\frac{\\alpha}{2}} $"
      ],
      "metadata": {
        "id": "uirP_gHQoibA"
      }
    },
    {
      "cell_type": "code",
      "source": [
        "# Confianza -> Nivel de confianza de la prueba (95%)\n",
        "Confianza = 0.95\n",
        "# Gl-> Grados de libertad\n",
        "Gl = len(H) - 1\n",
        "# Media y desviación estándar de la muestra\n",
        "media_muestra = np.mean(H)\n",
        "desviacion_muestra = np.std(H, ddof=1)\n",
        "# Val_cri ->  Valor crítico de t (a/2,N-1)\n",
        "Val_cri = stats.t.ppf((1 + Confianza) / 2, Gl)\n",
        "# e_estandar ->  Error estándar\n",
        "e_estandar = desviacion_muestra / np.sqrt(len(H))\n",
        "# Límites del intervalo de confianza\n",
        "inter_inferior_AR = media_muestra - Val_cri * e_estandar\n",
        "inter_superior_AR = media_muestra + Val_cri * e_estandar\n",
        "plt.hist(H,bins=100)\n",
        "plt.axvline(inter_inferior_AR,color=\"red\")\n",
        "plt.axvline(inter_superior_AR,color=\"red\")"
      ],
      "metadata": {
        "colab": {
          "base_uri": "https://localhost:8080/",
          "height": 452
        },
        "outputId": "a41decfb-3fb6-4acf-aec5-7f895eebdc3e",
        "id": "xrhsX_-YoibA"
      },
      "execution_count": 57,
      "outputs": [
        {
          "output_type": "execute_result",
          "data": {
            "text/plain": [
              "<matplotlib.lines.Line2D at 0x798d1e497f40>"
            ]
          },
          "metadata": {},
          "execution_count": 57
        },
        {
          "output_type": "display_data",
          "data": {
            "text/plain": [
              "<Figure size 640x480 with 1 Axes>"
            ],
            "image/png": "[encoded data removed]"
          },
          "metadata": {}
        }
      ]
    },
    {
      "cell_type": "markdown",
      "source": [
        "# **Comparacion**\n"
      ],
      "metadata": {
        "id": "9rQgd9dLtp8d"
      }
    },
    {
      "cell_type": "markdown",
      "source": [
        "Considerando los mismos valores tanto de n = 50 como de N = 10000, obtuvimos los siguientes valores representativos de la media $(\\bar{x})$ y del intervalo de confianza de $\\mu$, para ambos métodos."
      ],
      "metadata": {
        "id": "8lSTxjyOt0Y5"
      }
    },
    {
      "cell_type": "code",
      "source": [
        "print(\"------Valores de Media Muestral------\")\n",
        "print(\"media =\",np.mean(G))\n",
        "print(\"Intervalo inferior=\",inter_inferior_MM)\n",
        "print(\"Intervalo superior=\",inter_superior_MM)\n",
        "print(\"------Valores de Aceptacion y Rechazo------\")\n",
        "print(\"media =\",np.mean(H))\n",
        "print(\"Intervalo inferior=\",inter_inferior_AR)\n",
        "print(\"Intervalo superior=\",inter_superior_AR)"
      ],
      "metadata": {
        "id": "0X8NMOe3txKV",
        "outputId": "fbc4a177-5f37-42bd-d584-2451eb603414",
        "colab": {
          "base_uri": "https://localhost:8080/"
        }
      },
      "execution_count": 58,
      "outputs": [
        {
          "output_type": "stream",
          "name": "stdout",
          "text": [
            "------Valores de Media Muestral------\n",
            "media = 0.6294395233934853\n",
            "Intervalo inferior= 0.6286387022713905\n",
            "Intervalo superior= 0.6302403445155801\n",
            "------Valores de Aceptacion y Rechazo------\n",
            "media = 0.628708\n",
            "Intervalo inferior= 0.6268090828657963\n",
            "Intervalo superior= 0.6306069171342038\n"
          ]
        }
      ]
    },
    {
      "cell_type": "markdown",
      "source": [
        "Podemos darnos cuenta que los valores son muy similares por lo que podemos concluir que ambos métodos son buenas opciones para aproximar la integral de este ejercicio, aunque el método de Aceptacion y Rechazo tiene dos pasos mas que Medias Muestrales lo que genera mas trabajo para calcularse."
      ],
      "metadata": {
        "id": "f-cESfMgzH6n"
      }
    }
  ]
}