{
  "nbformat": 4,
  "nbformat_minor": 0,
  "metadata": {
    "colab": {
      "provenance": [],
      "authorship_tag": "ABX9TyMEE1SHwexpA16vLFpNIFWx",
      "include_colab_link": true
    },
    "kernelspec": {
      "name": "python3",
      "display_name": "Python 3"
    },
    "language_info": {
      "name": "python"
    }
  },
  "cells": [
    {
      "cell_type": "markdown",
      "metadata": {
        "id": "view-in-github",
        "colab_type": "text"
      },
      "source": [
        "<a href=\"https://colab.research.google.com/github/Wenypb/Simulacion/blob/main/Medias_muestrales.ipynb\" target=\"_parent\"><img src=\"https://colab.research.google.com/assets/colab-badge.svg\" alt=\"Open In Colab\"/></a>"
      ]
    },
    {
      "cell_type": "markdown",
      "source": [
        "# **Librerias**"
      ],
      "metadata": {
        "id": "jRDtz8h2TdO-"
      }
    },
    {
      "cell_type": "code",
      "source": [
        "\n",
        "import random as rnd\n",
        "import numpy as np\n",
        "import matplotlib.pyplot as plt\n",
        "import math\n",
        "import scipy.stats as stats"
      ],
      "metadata": {
        "id": "qtUF2ls0TSx6"
      },
      "execution_count": 174,
      "outputs": []
    },
    {
      "cell_type": "markdown",
      "source": [
        "# **Monte Carlo de la Media Muestral**"
      ],
      "metadata": {
        "id": "0m8-DKysRCwa"
      }
    },
    {
      "cell_type": "markdown",
      "source": [
        "## **Algoritmo**"
      ],
      "metadata": {
        "id": "nDo5tEAYRcO3"
      }
    },
    {
      "cell_type": "markdown",
      "source": [
        "**Definir g(x):**"
      ],
      "metadata": {
        "id": "VkJWcu6cVQ1Q"
      }
    },
    {
      "cell_type": "markdown",
      "source": [
        "$g(x) = \\sqrt{arctan(x)}$"
      ],
      "metadata": {
        "id": "ss4-ukoIVZju"
      }
    },
    {
      "cell_type": "markdown",
      "source": [
        "***PASO 1:***\n",
        "Generar la secuencia de $ [U_{i}]_{i=1}^{n} \\sim$ $Unif(0,1)$"
      ],
      "metadata": {
        "id": "QpBJbD0wR6KZ"
      }
    },
    {
      "cell_type": "code",
      "source": [
        "# Tomaremos n = 50\n",
        "n = 50\n",
        "#Lista_Ui-> Lista donde se guardaran todos los Ui generados\n",
        "Lista_Ui=[]\n",
        "for i in range(n):\n",
        "  Ui=rnd.random()\n",
        "  Lista_Ui.append(Ui)"
      ],
      "metadata": {
        "id": "Hs21UEJKTC5K"
      },
      "execution_count": 175,
      "outputs": []
    },
    {
      "cell_type": "markdown",
      "source": [
        "***PASO 2:***\n",
        "Calcular $ X_{i} = a + U_{i}(b -a )$\n"
      ],
      "metadata": {
        "id": "azZotJpzUnpR"
      }
    },
    {
      "cell_type": "code",
      "source": [
        "# De acuerdo al ejercicio:\n",
        "#a -> Límite inferior de la integral\n",
        "a = 0\n",
        "#b -> Límite superior de la integral\n",
        "b = 1\n",
        "#Lista_Xi-> Lista donde se guardaran todos los Xi calculados\n",
        "Lista_Xi=[]\n",
        "for i in range(n):\n",
        "  Xi= a + Lista_Ui[i]*(b-a)\n",
        "  Lista_Xi.append(Xi)"
      ],
      "metadata": {
        "id": "dFSkkraWUnpn"
      },
      "execution_count": 176,
      "outputs": []
    },
    {
      "cell_type": "markdown",
      "source": [
        "***PASO 3:***\n",
        "Calcular $g$ $( X_{i} )$\n"
      ],
      "metadata": {
        "id": "VVn0ZyawWRrw"
      }
    },
    {
      "cell_type": "code",
      "source": [
        "#Lista_gi-> Lista donde se guardaran todos los g(Xi) calculados\n",
        "Lista_gi=[]\n",
        "for i in range(n):\n",
        "  gi= np.sqrt(np.arctan(Lista_Xi[i]))\n",
        "  Lista_gi.append(gi)"
      ],
      "metadata": {
        "id": "4QFjDcpCWRrz"
      },
      "execution_count": 177,
      "outputs": []
    },
    {
      "cell_type": "markdown",
      "source": [
        "***PASO 4:***\n",
        "Estimar $I$ calculando la media muestral $\\theta _{1}$\n"
      ],
      "metadata": {
        "id": "s-M1v7F0Xrv6"
      }
    },
    {
      "cell_type": "markdown",
      "source": [
        "$\\theta _{1}$ = $(b-a) \\frac{1}{n} \\sum_{i=1}^{n}g(X_{i})$\n"
      ],
      "metadata": {
        "id": "MCdVu11RYcGe"
      }
    },
    {
      "cell_type": "code",
      "source": [
        "#Calcular la suma de todas las g(Xi)\n",
        "#--sum_gi-> Suma de las g(Xi)\n",
        "sum_gi=sum(Lista_gi)\n",
        "#Calcular el estimador\n",
        "estimador = (b-a)*(1/n)*(sum_gi)\n",
        "print(\"El valor estimado de I es\",estimador)"
      ],
      "metadata": {
        "colab": {
          "base_uri": "https://localhost:8080/"
        },
        "outputId": "3ccda6ec-de43-4bb1-83c1-5446314b4cdc",
        "id": "bIa5GKgbXrwf"
      },
      "execution_count": 178,
      "outputs": [
        {
          "output_type": "stream",
          "name": "stdout",
          "text": [
            "El valor estimado de I es 0.6172693794813142\n"
          ]
        }
      ]
    },
    {
      "cell_type": "markdown",
      "source": [
        "## **Generar el algortimo N veces**"
      ],
      "metadata": {
        "id": "20xVVJBwbG-u"
      }
    },
    {
      "cell_type": "markdown",
      "source": [
        "**Funcion**"
      ],
      "metadata": {
        "id": "IvC0ncjqGSfS"
      }
    },
    {
      "cell_type": "code",
      "source": [
        "def Fun_Media_muestral(N):\n",
        "  #Limites de integracion\n",
        "  a=0\n",
        "  b=1\n",
        "  #Numero de Ui generados\n",
        "  n=50\n",
        "  #Lista_esti -> Lista donde se guardaran todos los estimadores calculados\n",
        "  Lista_esti =[]\n",
        "  for i in range(N):\n",
        "    #Lista_Ui-> Lista donde se guardaran todos los Ui generados\n",
        "    Lista_Ui=[]\n",
        "    for i in range(n):\n",
        "      Ui=rnd.random()\n",
        "      Lista_Ui.append(Ui)\n",
        "    #Lista_Xi-> Lista donde se guardaran todos los Xi calculados\n",
        "    Lista_Xi=[]\n",
        "    for i in range(n):\n",
        "      Xi= a + Lista_Ui[i]*(b-a)\n",
        "      Lista_Xi.append(Xi)\n",
        "    #Lista_gi-> Lista donde se guardaran todos los g(Xi) calculados\n",
        "    Lista_gi=[]\n",
        "    for i in range(n):\n",
        "      gi= np.sqrt(np.arctan(Lista_Xi[i]))\n",
        "      Lista_gi.append(gi)\n",
        "    #--sum_gi-> Suma de las g(Xi)\n",
        "    sum_gi=sum(Lista_gi)\n",
        "    #Calcular el estimador\n",
        "    estimador = (b-a)*(1/n)*(sum_gi)\n",
        "    Lista_esti.append(estimador)\n",
        "  return Lista_esti\n"
      ],
      "metadata": {
        "id": "7PcmR5rLbb7_"
      },
      "execution_count": 179,
      "outputs": []
    },
    {
      "cell_type": "markdown",
      "source": [
        "**Histograma**"
      ],
      "metadata": {
        "id": "Igm8SvFbEm7a"
      }
    },
    {
      "cell_type": "code",
      "source": [
        "# N -> Número de experimentos con n iteracciones\n",
        "N =5000\n",
        "G = Fun_Media_muestral(N)\n",
        "plt.hist(G,bins=500)"
      ],
      "metadata": {
        "colab": {
          "base_uri": "https://localhost:8080/",
          "height": 1000
        },
        "id": "SnWq-fCreStb",
        "outputId": "c2c9cc95-ed1c-4e57-9b52-7724d187d62a"
      },
      "execution_count": 180,
      "outputs": [
        {
          "output_type": "execute_result",
          "data": {
            "text/plain": [
              "(array([ 1.,  0.,  1.,  0.,  0.,  0.,  0.,  0.,  0.,  0.,  0.,  1.,  0.,\n",
              "         0.,  0.,  0.,  1.,  0.,  0.,  0.,  0.,  0.,  0.,  0.,  0.,  0.,\n",
              "         0.,  0.,  0.,  0.,  0.,  0.,  0.,  0.,  0.,  0.,  1.,  0.,  0.,\n",
              "         0.,  0.,  0.,  1.,  0.,  0.,  3.,  0.,  1.,  0.,  1.,  0.,  0.,\n",
              "         1.,  2.,  0.,  2.,  0.,  0.,  0.,  2.,  1.,  0.,  1.,  1.,  0.,\n",
              "         1.,  2.,  0.,  2.,  0.,  1.,  1.,  2.,  2.,  1.,  1.,  1.,  2.,\n",
              "         2.,  2.,  1.,  2.,  1.,  1.,  2.,  3.,  0.,  1.,  2.,  1.,  3.,\n",
              "         3.,  3.,  0.,  3.,  2.,  3.,  4.,  4.,  2.,  2.,  5.,  2.,  0.,\n",
              "         3.,  1.,  1.,  5.,  6.,  1.,  2.,  2.,  1.,  6.,  5.,  6.,  2.,\n",
              "         6.,  2.,  1.,  3.,  5.,  5.,  3.,  3.,  4.,  4.,  2.,  6.,  3.,\n",
              "         3.,  4.,  6.,  8.,  6.,  6.,  6.,  5.,  9.,  4.,  8.,  4.,  7.,\n",
              "         6.,  5.,  7.,  4.,  9.,  9.,  6., 10., 14.,  8.,  4.,  8., 12.,\n",
              "        10.,  9., 13., 10.,  9.,  9.,  7., 14., 16., 25., 14.,  9.,  9.,\n",
              "        11., 19., 10., 14., 10., 11., 17., 15., 14., 13., 18., 15., 11.,\n",
              "        14., 17., 12., 18., 15., 15., 23., 14., 10., 18., 19., 14., 22.,\n",
              "        24., 14., 16., 16., 16., 17., 23., 28., 19., 20., 22., 14., 14.,\n",
              "        15., 20., 23., 17., 17., 28., 20., 19., 26., 17., 22., 19., 18.,\n",
              "        20., 24., 28., 17., 31., 28., 26., 18., 32., 18., 23., 21., 26.,\n",
              "        25., 20., 24., 27., 27., 28., 31., 25., 26., 24., 28., 25., 28.,\n",
              "        35., 23., 26., 22., 32., 35., 34., 23., 27., 26., 35., 27., 30.,\n",
              "        31., 25., 42., 19., 28., 28., 37., 28., 21., 31., 36., 25., 26.,\n",
              "        27., 17., 29., 22., 23., 32., 21., 27., 32., 28., 21., 33., 26.,\n",
              "        27., 19., 27., 25., 22., 30., 26., 26., 31., 28., 18., 20., 24.,\n",
              "        31., 23., 23., 29., 30., 24., 15., 27., 22., 23., 20., 26., 28.,\n",
              "        24., 25., 15., 18., 20., 13., 12., 16., 16., 26., 20., 20., 19.,\n",
              "        16., 19., 18., 14., 23., 20., 22., 16., 28., 17., 16., 19., 16.,\n",
              "        15., 16., 18., 23., 12., 15., 16., 19., 13., 15., 14., 18., 14.,\n",
              "        16., 20., 14., 16., 17., 13., 15., 11.,  9.,  8., 12.,  9.,  8.,\n",
              "         6., 11.,  7., 14.,  6., 14.,  9.,  6.,  6., 12.,  7.,  8.,  8.,\n",
              "         9.,  7.,  5.,  8.,  9.,  7.,  4.,  5.,  8.,  2.,  1.,  6.,  9.,\n",
              "         7.,  6.,  5.,  6.,  3.,  4.,  6.,  5.,  5.,  5.,  2.,  4.,  3.,\n",
              "         2.,  2.,  4.,  0.,  2.,  2.,  3.,  0.,  2.,  3.,  3.,  4.,  0.,\n",
              "         3.,  0.,  1.,  2.,  3.,  0.,  1.,  5.,  2.,  2.,  0.,  3.,  2.,\n",
              "         1.,  3.,  0.,  1.,  2.,  4.,  4.,  3.,  2.,  0.,  2.,  0.,  1.,\n",
              "         1.,  1.,  2.,  1.,  0.,  0.,  1.,  1.,  1.,  0.,  0.,  0.,  0.,\n",
              "         0.,  0.,  0.,  0.,  2.,  0.,  0.,  0.,  0.,  0.,  1.,  0.,  0.,\n",
              "         0.,  1.,  0.,  1.,  0.,  0.,  0.,  0.,  0.,  1.,  1.,  1.,  0.,\n",
              "         0.,  0.,  0.,  0.,  0.,  0.,  1.,  0.,  0.,  0.,  0.,  0.,  0.,\n",
              "         1.,  0.,  0.,  0.,  0.,  1.]),\n",
              " array([0.52363445, 0.52403759, 0.52444072, 0.52484385, 0.52524699,\n",
              "        0.52565012, 0.52605325, 0.52645639, 0.52685952, 0.52726265,\n",
              "        0.52766579, 0.52806892, 0.52847206, 0.52887519, 0.52927832,\n",
              "        0.52968146, 0.53008459, 0.53048772, 0.53089086, 0.53129399,\n",
              "        0.53169712, 0.53210026, 0.53250339, 0.53290652, 0.53330966,\n",
              "        0.53371279, 0.53411592, 0.53451906, 0.53492219, 0.53532533,\n",
              "        0.53572846, 0.53613159, 0.53653473, 0.53693786, 0.53734099,\n",
              "        0.53774413, 0.53814726, 0.53855039, 0.53895353, 0.53935666,\n",
              "        0.53975979, 0.54016293, 0.54056606, 0.5409692 , 0.54137233,\n",
              "        0.54177546, 0.5421786 , 0.54258173, 0.54298486, 0.543388  ,\n",
              "        0.54379113, 0.54419426, 0.5445974 , 0.54500053, 0.54540366,\n",
              "        0.5458068 , 0.54620993, 0.54661306, 0.5470162 , 0.54741933,\n",
              "        0.54782247, 0.5482256 , 0.54862873, 0.54903187, 0.549435  ,\n",
              "        0.54983813, 0.55024127, 0.5506444 , 0.55104753, 0.55145067,\n",
              "        0.5518538 , 0.55225693, 0.55266007, 0.5530632 , 0.55346633,\n",
              "        0.55386947, 0.5542726 , 0.55467574, 0.55507887, 0.555482  ,\n",
              "        0.55588514, 0.55628827, 0.5566914 , 0.55709454, 0.55749767,\n",
              "        0.5579008 , 0.55830394, 0.55870707, 0.5591102 , 0.55951334,\n",
              "        0.55991647, 0.56031961, 0.56072274, 0.56112587, 0.56152901,\n",
              "        0.56193214, 0.56233527, 0.56273841, 0.56314154, 0.56354467,\n",
              "        0.56394781, 0.56435094, 0.56475407, 0.56515721, 0.56556034,\n",
              "        0.56596347, 0.56636661, 0.56676974, 0.56717288, 0.56757601,\n",
              "        0.56797914, 0.56838228, 0.56878541, 0.56918854, 0.56959168,\n",
              "        0.56999481, 0.57039794, 0.57080108, 0.57120421, 0.57160734,\n",
              "        0.57201048, 0.57241361, 0.57281674, 0.57321988, 0.57362301,\n",
              "        0.57402615, 0.57442928, 0.57483241, 0.57523555, 0.57563868,\n",
              "        0.57604181, 0.57644495, 0.57684808, 0.57725121, 0.57765435,\n",
              "        0.57805748, 0.57846061, 0.57886375, 0.57926688, 0.57967002,\n",
              "        0.58007315, 0.58047628, 0.58087942, 0.58128255, 0.58168568,\n",
              "        0.58208882, 0.58249195, 0.58289508, 0.58329822, 0.58370135,\n",
              "        0.58410448, 0.58450762, 0.58491075, 0.58531388, 0.58571702,\n",
              "        0.58612015, 0.58652329, 0.58692642, 0.58732955, 0.58773269,\n",
              "        0.58813582, 0.58853895, 0.58894209, 0.58934522, 0.58974835,\n",
              "        0.59015149, 0.59055462, 0.59095775, 0.59136089, 0.59176402,\n",
              "        0.59216715, 0.59257029, 0.59297342, 0.59337656, 0.59377969,\n",
              "        0.59418282, 0.59458596, 0.59498909, 0.59539222, 0.59579536,\n",
              "        0.59619849, 0.59660162, 0.59700476, 0.59740789, 0.59781102,\n",
              "        0.59821416, 0.59861729, 0.59902043, 0.59942356, 0.59982669,\n",
              "        0.60022983, 0.60063296, 0.60103609, 0.60143923, 0.60184236,\n",
              "        0.60224549, 0.60264863, 0.60305176, 0.60345489, 0.60385803,\n",
              "        0.60426116, 0.60466429, 0.60506743, 0.60547056, 0.6058737 ,\n",
              "        0.60627683, 0.60667996, 0.6070831 , 0.60748623, 0.60788936,\n",
              "        0.6082925 , 0.60869563, 0.60909876, 0.6095019 , 0.60990503,\n",
              "        0.61030816, 0.6107113 , 0.61111443, 0.61151756, 0.6119207 ,\n",
              "        0.61232383, 0.61272697, 0.6131301 , 0.61353323, 0.61393637,\n",
              "        0.6143395 , 0.61474263, 0.61514577, 0.6155489 , 0.61595203,\n",
              "        0.61635517, 0.6167583 , 0.61716143, 0.61756457, 0.6179677 ,\n",
              "        0.61837084, 0.61877397, 0.6191771 , 0.61958024, 0.61998337,\n",
              "        0.6203865 , 0.62078964, 0.62119277, 0.6215959 , 0.62199904,\n",
              "        0.62240217, 0.6228053 , 0.62320844, 0.62361157, 0.6240147 ,\n",
              "        0.62441784, 0.62482097, 0.62522411, 0.62562724, 0.62603037,\n",
              "        0.62643351, 0.62683664, 0.62723977, 0.62764291, 0.62804604,\n",
              "        0.62844917, 0.62885231, 0.62925544, 0.62965857, 0.63006171,\n",
              "        0.63046484, 0.63086797, 0.63127111, 0.63167424, 0.63207738,\n",
              "        0.63248051, 0.63288364, 0.63328678, 0.63368991, 0.63409304,\n",
              "        0.63449618, 0.63489931, 0.63530244, 0.63570558, 0.63610871,\n",
              "        0.63651184, 0.63691498, 0.63731811, 0.63772125, 0.63812438,\n",
              "        0.63852751, 0.63893065, 0.63933378, 0.63973691, 0.64014005,\n",
              "        0.64054318, 0.64094631, 0.64134945, 0.64175258, 0.64215571,\n",
              "        0.64255885, 0.64296198, 0.64336511, 0.64376825, 0.64417138,\n",
              "        0.64457452, 0.64497765, 0.64538078, 0.64578392, 0.64618705,\n",
              "        0.64659018, 0.64699332, 0.64739645, 0.64779958, 0.64820272,\n",
              "        0.64860585, 0.64900898, 0.64941212, 0.64981525, 0.65021838,\n",
              "        0.65062152, 0.65102465, 0.65142779, 0.65183092, 0.65223405,\n",
              "        0.65263719, 0.65304032, 0.65344345, 0.65384659, 0.65424972,\n",
              "        0.65465285, 0.65505599, 0.65545912, 0.65586225, 0.65626539,\n",
              "        0.65666852, 0.65707166, 0.65747479, 0.65787792, 0.65828106,\n",
              "        0.65868419, 0.65908732, 0.65949046, 0.65989359, 0.66029672,\n",
              "        0.66069986, 0.66110299, 0.66150612, 0.66190926, 0.66231239,\n",
              "        0.66271552, 0.66311866, 0.66352179, 0.66392493, 0.66432806,\n",
              "        0.66473119, 0.66513433, 0.66553746, 0.66594059, 0.66634373,\n",
              "        0.66674686, 0.66714999, 0.66755313, 0.66795626, 0.66835939,\n",
              "        0.66876253, 0.66916566, 0.66956879, 0.66997193, 0.67037506,\n",
              "        0.6707782 , 0.67118133, 0.67158446, 0.6719876 , 0.67239073,\n",
              "        0.67279386, 0.673197  , 0.67360013, 0.67400326, 0.6744064 ,\n",
              "        0.67480953, 0.67521266, 0.6756158 , 0.67601893, 0.67642206,\n",
              "        0.6768252 , 0.67722833, 0.67763147, 0.6780346 , 0.67843773,\n",
              "        0.67884087, 0.679244  , 0.67964713, 0.68005027, 0.6804534 ,\n",
              "        0.68085653, 0.68125967, 0.6816628 , 0.68206593, 0.68246907,\n",
              "        0.6828722 , 0.68327534, 0.68367847, 0.6840816 , 0.68448474,\n",
              "        0.68488787, 0.685291  , 0.68569414, 0.68609727, 0.6865004 ,\n",
              "        0.68690354, 0.68730667, 0.6877098 , 0.68811294, 0.68851607,\n",
              "        0.6889192 , 0.68932234, 0.68972547, 0.69012861, 0.69053174,\n",
              "        0.69093487, 0.69133801, 0.69174114, 0.69214427, 0.69254741,\n",
              "        0.69295054, 0.69335367, 0.69375681, 0.69415994, 0.69456307,\n",
              "        0.69496621, 0.69536934, 0.69577247, 0.69617561, 0.69657874,\n",
              "        0.69698188, 0.69738501, 0.69778814, 0.69819128, 0.69859441,\n",
              "        0.69899754, 0.69940068, 0.69980381, 0.70020694, 0.70061008,\n",
              "        0.70101321, 0.70141634, 0.70181948, 0.70222261, 0.70262575,\n",
              "        0.70302888, 0.70343201, 0.70383515, 0.70423828, 0.70464141,\n",
              "        0.70504455, 0.70544768, 0.70585081, 0.70625395, 0.70665708,\n",
              "        0.70706021, 0.70746335, 0.70786648, 0.70826961, 0.70867275,\n",
              "        0.70907588, 0.70947902, 0.70988215, 0.71028528, 0.71068842,\n",
              "        0.71109155, 0.71149468, 0.71189782, 0.71230095, 0.71270408,\n",
              "        0.71310722, 0.71351035, 0.71391348, 0.71431662, 0.71471975,\n",
              "        0.71512288, 0.71552602, 0.71592915, 0.71633229, 0.71673542,\n",
              "        0.71713855, 0.71754169, 0.71794482, 0.71834795, 0.71875109,\n",
              "        0.71915422, 0.71955735, 0.71996049, 0.72036362, 0.72076675,\n",
              "        0.72116989, 0.72157302, 0.72197616, 0.72237929, 0.72278242,\n",
              "        0.72318556, 0.72358869, 0.72399182, 0.72439496, 0.72479809,\n",
              "        0.72520122]),\n",
              " <BarContainer object of 500 artists>)"
            ]
          },
          "metadata": {},
          "execution_count": 180
        },
        {
          "output_type": "display_data",
          "data": {
            "text/plain": [
              "<Figure size 640x480 with 1 Axes>"
            ],
            "image/png": "[encoded data removed]"
          },
          "metadata": {}
        }
      ]
    },
    {
      "cell_type": "markdown",
      "source": [
        "## **Intervalos de confianza de 95%**"
      ],
      "metadata": {
        "id": "_QTxY9JvLCAl"
      }
    },
    {
      "cell_type": "markdown",
      "source": [
        "Calcular los intervalos de confianza"
      ],
      "metadata": {
        "id": "vV5ZuLMeJIl1"
      }
    },
    {
      "cell_type": "markdown",
      "source": [
        "$\\bar{x} -\\frac{S}{\\sqrt{N}}t_{N-1,\\frac{\\alpha}{2}}\\leq \\mu \\leq \\bar{x} + \\frac{S}{\\sqrt{N}}t_{N-1,\\frac{\\alpha}{2}} $"
      ],
      "metadata": {
        "id": "UfgXy77qJK_s"
      }
    },
    {
      "cell_type": "code",
      "source": [
        "# Confianza -> Nivel de confianza de la prueba (95%)\n",
        "Confianza = 0.95\n",
        "# Gl-> Grados de libertad\n",
        "Gl = len(G) - 1\n",
        "# Media y desviación estándar de la muestra\n",
        "media_muestra = np.mean(G)\n",
        "desviacion_muestra = np.std(G, ddof=1)\n",
        "# Val_cri ->  Valor crítico de t (a/2,N-1)\n",
        "Val_cri = stats.t.ppf((1 - Confianza) / 2, Gl)\n",
        "# e_estandar ->  Error estándar\n",
        "e_estandar = desviacion_muestra / np.sqrt(len(G))\n",
        "# Límites del intervalo de confianza\n",
        "inter_inferior = media_muestra - Val_cri * e_estandar\n",
        "inter_superior = media_muestra + Val_cri * e_estandar\n",
        "plt.hist(G,bins=500)\n",
        "plt.axvline(inter_inferior,color=\"red\")\n",
        "plt.axvline(inter_superior,color=\"red\")"
      ],
      "metadata": {
        "colab": {
          "base_uri": "https://localhost:8080/",
          "height": 447
        },
        "id": "_mVRyOw7-3Nq",
        "outputId": "c836a44c-ecb7-49a2-e9c4-21e367e21ba3"
      },
      "execution_count": 181,
      "outputs": [
        {
          "output_type": "execute_result",
          "data": {
            "text/plain": [
              "<matplotlib.lines.Line2D at 0x7e9ee87b3d00>"
            ]
          },
          "metadata": {},
          "execution_count": 181
        },
        {
          "output_type": "display_data",
          "data": {
            "text/plain": [
              "<Figure size 640x480 with 1 Axes>"
            ],
            "image/png": "[encoded data removed]"
          },
          "metadata": {}
        }
      ]
    },
    {
      "cell_type": "markdown",
      "source": [
        "# **Monte Carlo de Acierto y Error**"
      ],
      "metadata": {
        "id": "yauj3e3OPCHT"
      }
    },
    {
      "cell_type": "markdown",
      "source": [
        "## **Algoritmo**"
      ],
      "metadata": {
        "id": "K7wJFJ2DQqPm"
      }
    },
    {
      "cell_type": "markdown",
      "source": [
        "**Definir g(x):**"
      ],
      "metadata": {
        "id": "w6iyjvXSQqQR"
      }
    },
    {
      "cell_type": "markdown",
      "source": [
        "$g(x) = \\sqrt{arctan(x)}$"
      ],
      "metadata": {
        "id": "E86WspuZQqQS"
      }
    },
    {
      "cell_type": "markdown",
      "source": [
        "***PASO 1:***\n",
        "Paso 1: Generar una secuencia. $ [U_{i}]_{i=1}^{2n} \\sim$ $Unif(0,1)$"
      ],
      "metadata": {
        "id": "ZamJJBt8QqQT"
      }
    },
    {
      "cell_type": "code",
      "source": [
        "# Tomaremos n = 50\n",
        "n = 50\n",
        "#Lista_Uis-> Lista donde se guardaran todos los Ui generados\n",
        "Lista_Uis=[]\n",
        "for i in range(2*n):\n",
        "  Ui=rnd.random()\n",
        "  Lista_Uis.append(Ui)\n"
      ],
      "metadata": {
        "id": "iRSKjo8FQqQU"
      },
      "execution_count": 182,
      "outputs": []
    },
    {
      "cell_type": "markdown",
      "source": [
        "***PASO 2:***\n",
        "Conformar pares $(U_{i},U_{n+i})$ para $i = 1,2,...,n$\n",
        "\n",
        "\n"
      ],
      "metadata": {
        "id": "N3co1hPMQqQW"
      }
    },
    {
      "cell_type": "code",
      "source": [
        "#Lista_Ui-> Lista de los Ui con i=1,2,..,n\n",
        "Lista_Ui=[]\n",
        "#Lista_Un_i-> Lista de los Un+i con i=1,2,..,n\n",
        "Lista_Un_i=[]\n",
        "for i in range(n):\n",
        "  Ui=Lista_Uis[i]\n",
        "  Lista_Ui.append(Ui)\n",
        "  Un_i=Lista_Uis[n+i]\n",
        "  Lista_Un_i.append(Un_i)\n",
        "\n",
        "\n"
      ],
      "metadata": {
        "id": "RjMsiD8rU3OY"
      },
      "execution_count": 183,
      "outputs": []
    },
    {
      "cell_type": "markdown",
      "source": [
        "**Paso 3:** Calcular $X_{i} = a + U_{i}(b − a)$ para $i = 1,2,...,n$"
      ],
      "metadata": {
        "id": "_6iS4NnvUxXO"
      }
    },
    {
      "cell_type": "code",
      "source": [
        "# De acuerdo al ejercicio:\n",
        "#a -> Límite inferior de la integral\n",
        "a = 0\n",
        "#b -> Límite superior de la integral\n",
        "b = 1\n",
        "#Lista_Xi-> Lista donde se guardaran todos los Xi calculados\n",
        "Lista_Xi=[]\n",
        "for i in range(n):\n",
        "  Xi= a + Lista_Ui[i]*(b-a)\n",
        "  Lista_Xi.append(Xi)"
      ],
      "metadata": {
        "id": "RlabCU0cQqQX"
      },
      "execution_count": 184,
      "outputs": []
    },
    {
      "cell_type": "markdown",
      "source": [
        "***PASO 4:***\n",
        "Calcular $g$ $( X_{i} )$\n"
      ],
      "metadata": {
        "id": "_Pdwx65oQqQY"
      }
    },
    {
      "cell_type": "code",
      "source": [
        "#Lista_gi-> Lista donde se guardaran todos los g(Xi) calculados\n",
        "Lista_gi=[]\n",
        "for i in range(n):\n",
        "  gi= np.sqrt(np.arctan(Lista_Xi[i]))\n",
        "  Lista_gi.append(gi)"
      ],
      "metadata": {
        "id": "aTie5djnQqQZ"
      },
      "execution_count": 185,
      "outputs": []
    },
    {
      "cell_type": "markdown",
      "source": [
        "***PASO 5:***\n",
        "Contar los aciertos $n_{a}$ tales que $g(Xi) > cU_{n+i}$ con c = 1 $⟶$ $g(Xi) > U_{n+i}$ para $i = 1,2,...,n$ y gráficar experimento:\n",
        "."
      ],
      "metadata": {
        "id": "wURXydmqQqQa"
      }
    },
    {
      "cell_type": "code",
      "source": [
        "#Grafica de g(x)\n",
        "x=np.linspace(0,1,100)\n",
        "plt.plot(x,np.sqrt(np.arctan(x)))\n",
        "#n_a -> Número de aciertos (exitos)\n",
        "n_a = 0\n",
        "for i in range(n):\n",
        "  g_xi=Lista_gi[i]\n",
        "  Un_i=Lista_Un_i[i]\n",
        "  if g_xi > Un_i:\n",
        "    plt.scatter(Lista_Ui[i],Un_i,color=\"green\")\n",
        "    n_a=n_a+1\n",
        "  else:\n",
        "    plt.scatter(Lista_Ui[i],Un_i,color=\"red\")\n",
        "print(\"n_a =\",n_a)"
      ],
      "metadata": {
        "colab": {
          "base_uri": "https://localhost:8080/",
          "height": 447
        },
        "id": "nxfCfbVncD5I",
        "outputId": "8cbd0397-3058-4dd7-e9cb-03a527d2e195"
      },
      "execution_count": 186,
      "outputs": [
        {
          "output_type": "stream",
          "name": "stdout",
          "text": [
            "n_a = 34\n"
          ]
        },
        {
          "output_type": "display_data",
          "data": {
            "text/plain": [
              "<Figure size 640x480 with 1 Axes>"
            ],
            "image/png": "[encoded data removed]"
          },
          "metadata": {}
        }
      ]
    },
    {
      "cell_type": "markdown",
      "source": [
        "***PASO 6:***\n",
        "Estimar $I$ calculando la media muestral $\\theta _{2}$\n"
      ],
      "metadata": {
        "id": "F4qugQ_PjfTC"
      }
    },
    {
      "cell_type": "markdown",
      "source": [
        "$\\theta _{2}$ = $c(b-a) \\frac{n_{a}}{n} $ si $c=1$ entonces, $\\theta _{2}$ = $(b-a) \\frac{n_{a}}{n} $\n"
      ],
      "metadata": {
        "id": "7sWWBF2hjfTP"
      }
    },
    {
      "cell_type": "code",
      "source": [
        "#Calcular estimador\n",
        "#a -> Límite inferior de la integral\n",
        "a = 0\n",
        "#b -> Límite superior de la integral\n",
        "b = 1\n",
        "estimador = (b-a)*(n_a/n)\n",
        "print(\"El valor estimado de I es\",estimador)"
      ],
      "metadata": {
        "colab": {
          "base_uri": "https://localhost:8080/"
        },
        "outputId": "49a37c73-eefe-40bc-e7b0-6e80052faddf",
        "id": "DBRPyNgxQqQb"
      },
      "execution_count": 187,
      "outputs": [
        {
          "output_type": "stream",
          "name": "stdout",
          "text": [
            "El valor estimado de I es 0.68\n"
          ]
        }
      ]
    },
    {
      "cell_type": "markdown",
      "source": [
        "## **Generar el algortimo N veces**"
      ],
      "metadata": {
        "id": "kNtAckDRlZr7"
      }
    },
    {
      "cell_type": "markdown",
      "source": [
        "**Funcion**"
      ],
      "metadata": {
        "id": "a_lZaC9YlZs-"
      }
    },
    {
      "cell_type": "code",
      "source": [
        "def Fun_Acierto_Error(N):\n",
        "  #Limites de integracion\n",
        "  a=0\n",
        "  b=1\n",
        "  #Numero de Ui generados\n",
        "  n=50\n",
        "  #Lista_esti -> Lista donde se guardaran todos los estimadores calculados\n",
        "  Lista_esti =[]\n",
        "  for i in range(N):\n",
        "    #Lista_Uis-> Lista donde se guardaran todos los Ui generados\n",
        "    Lista_Uis=[]\n",
        "    for i in range(2*n):\n",
        "      Ui=rnd.random()\n",
        "      Lista_Uis.append(Ui)\n",
        "    #Lista_Ui-> Lista de los Ui con i=1,2,..,n\n",
        "    Lista_Ui=[]\n",
        "    #Lista_Un_i-> Lista de los Un+i con i=1,2,..,n\n",
        "    Lista_Un_i=[]\n",
        "    for i in range(n):\n",
        "      Ui=Lista_Uis[i]\n",
        "      Lista_Ui.append(Ui)\n",
        "      Un_i=Lista_Uis[n+i]\n",
        "      Lista_Un_i.append(Un_i)\n",
        "    #Lista_Xi-> Lista donde se guardaran todos los Xi calculados\n",
        "    Lista_Xi=[]\n",
        "    for i in range(n):\n",
        "      Xi= a + Lista_Ui[i]*(b-a)\n",
        "      Lista_Xi.append(Xi)\n",
        "    #Lista_gi-> Lista donde se guardaran todos los g(Xi) calculados\n",
        "    Lista_gi=[]\n",
        "    for i in range(n):\n",
        "      gi= np.sqrt(np.arctan(Lista_Xi[i]))\n",
        "      Lista_gi.append(gi)\n",
        "    #n_a -> Número de aciertos (exitos)\n",
        "    n_a = 0\n",
        "    for i in range(n):\n",
        "      g_xi=Lista_gi[i]\n",
        "      Un_i=Lista_Un_i[i]\n",
        "      if g_xi > Un_i:\n",
        "        n_a=n_a+1\n",
        "    #Calcular estimador\n",
        "    estimador = (b-a)*(n_a/n)\n",
        "    Lista_esti.append(estimador)\n",
        "  return Lista_esti"
      ],
      "metadata": {
        "id": "HlGIiCdclZs_"
      },
      "execution_count": 188,
      "outputs": []
    },
    {
      "cell_type": "markdown",
      "source": [
        "**Histograma**"
      ],
      "metadata": {
        "id": "Yb0m2C68lZtA"
      }
    },
    {
      "cell_type": "code",
      "source": [
        "# N -> Número de experimentos con n iteracciones\n",
        "N =5000\n",
        "H = Fun_Acierto_Error(N)\n",
        "plt.hist(H,bins=100)"
      ],
      "metadata": {
        "colab": {
          "base_uri": "https://localhost:8080/",
          "height": 847
        },
        "outputId": "40855ad4-f373-4d18-d04b-14592a24b6ba",
        "id": "grwFb3ujlZtB"
      },
      "execution_count": 189,
      "outputs": [
        {
          "output_type": "execute_result",
          "data": {
            "text/plain": [
              "(array([  1.,   0.,   0.,   1.,   0.,   0.,   0.,   4.,   0.,   0.,   0.,\n",
              "          3.,   0.,   0.,  15.,   0.,   0.,   0.,  22.,   0.,   0.,   0.,\n",
              "         62.,   0.,   0., 101.,   0.,   0.,   0., 205.,   0.,   0.,   0.,\n",
              "        231.,   0.,   0.,   0., 328.,   0.,   0., 464.,   0.,   0.,   0.,\n",
              "        498.,   0.,   0.,   0., 591.,   0.,   0., 600.,   0.,   0.,   0.,\n",
              "        514.,   0.,   0.,   0., 439.,   0.,   0., 345.,   0.,   0.,   0.,\n",
              "        250.,   0.,   0.,   0., 146.,   0.,   0.,   0.,  83.,   0.,   0.,\n",
              "         55.,   0.,   0.,   0.,  24.,   0.,   0.,   0.,  13.,   0.,   0.,\n",
              "          3.,   0.,   0.,   0.,   0.,   0.,   0.,   0.,   1.,   0.,   0.,\n",
              "          1.]),\n",
              " array([0.36  , 0.3654, 0.3708, 0.3762, 0.3816, 0.387 , 0.3924, 0.3978,\n",
              "        0.4032, 0.4086, 0.414 , 0.4194, 0.4248, 0.4302, 0.4356, 0.441 ,\n",
              "        0.4464, 0.4518, 0.4572, 0.4626, 0.468 , 0.4734, 0.4788, 0.4842,\n",
              "        0.4896, 0.495 , 0.5004, 0.5058, 0.5112, 0.5166, 0.522 , 0.5274,\n",
              "        0.5328, 0.5382, 0.5436, 0.549 , 0.5544, 0.5598, 0.5652, 0.5706,\n",
              "        0.576 , 0.5814, 0.5868, 0.5922, 0.5976, 0.603 , 0.6084, 0.6138,\n",
              "        0.6192, 0.6246, 0.63  , 0.6354, 0.6408, 0.6462, 0.6516, 0.657 ,\n",
              "        0.6624, 0.6678, 0.6732, 0.6786, 0.684 , 0.6894, 0.6948, 0.7002,\n",
              "        0.7056, 0.711 , 0.7164, 0.7218, 0.7272, 0.7326, 0.738 , 0.7434,\n",
              "        0.7488, 0.7542, 0.7596, 0.765 , 0.7704, 0.7758, 0.7812, 0.7866,\n",
              "        0.792 , 0.7974, 0.8028, 0.8082, 0.8136, 0.819 , 0.8244, 0.8298,\n",
              "        0.8352, 0.8406, 0.846 , 0.8514, 0.8568, 0.8622, 0.8676, 0.873 ,\n",
              "        0.8784, 0.8838, 0.8892, 0.8946, 0.9   ]),\n",
              " <BarContainer object of 100 artists>)"
            ]
          },
          "metadata": {},
          "execution_count": 189
        },
        {
          "output_type": "display_data",
          "data": {
            "text/plain": [
              "<Figure size 640x480 with 1 Axes>"
            ],
            "image/png": "[encoded data removed]"
          },
          "metadata": {}
        }
      ]
    },
    {
      "cell_type": "markdown",
      "source": [
        "## **Intervalos de confianza de 95%**"
      ],
      "metadata": {
        "id": "2bzNCoaZoiat"
      }
    },
    {
      "cell_type": "markdown",
      "source": [
        "Calcular los intervalos de confianza"
      ],
      "metadata": {
        "id": "_ePGY5iLoibA"
      }
    },
    {
      "cell_type": "markdown",
      "source": [
        "$\\bar{x} -\\frac{S}{\\sqrt{N}}t_{N-1,\\frac{\\alpha}{2}}\\leq \\mu \\leq \\bar{x} + \\frac{S}{\\sqrt{N}}t_{N-1,\\frac{\\alpha}{2}} $"
      ],
      "metadata": {
        "id": "uirP_gHQoibA"
      }
    },
    {
      "cell_type": "code",
      "source": [
        "# Confianza -> Nivel de confianza de la prueba (95%)\n",
        "Confianza = 0.95\n",
        "# Gl-> Grados de libertad\n",
        "Gl = len(H) - 1\n",
        "# Media y desviación estándar de la muestra\n",
        "media_muestra = np.mean(H)\n",
        "desviacion_muestra = np.std(H, ddof=1)\n",
        "# Val_cri ->  Valor crítico de t (a/2,N-1)\n",
        "Val_cri = stats.t.ppf((1 - Confianza) / 2, Gl)\n",
        "# e_estandar ->  Error estándar\n",
        "e_estandar = desviacion_muestra / np.sqrt(len(H))\n",
        "# Límites del intervalo de confianza\n",
        "inter_inferior = media_muestra - Val_cri * e_estandar\n",
        "inter_superior = media_muestra + Val_cri * e_estandar\n",
        "plt.hist(H,bins=100)\n",
        "plt.axvline(inter_inferior,color=\"red\")\n",
        "plt.axvline(inter_superior,color=\"red\")"
      ],
      "metadata": {
        "colab": {
          "base_uri": "https://localhost:8080/",
          "height": 447
        },
        "outputId": "61267b77-6a56-4ea6-8413-b45f72904a24",
        "id": "xrhsX_-YoibA"
      },
      "execution_count": 190,
      "outputs": [
        {
          "output_type": "execute_result",
          "data": {
            "text/plain": [
              "<matplotlib.lines.Line2D at 0x7e9ee82736a0>"
            ]
          },
          "metadata": {},
          "execution_count": 190
        },
        {
          "output_type": "display_data",
          "data": {
            "text/plain": [
              "<Figure size 640x480 with 1 Axes>"
            ],
            "image/png": "[encoded data removed]"
          },
          "metadata": {}
        }
      ]
    }
  ]
}