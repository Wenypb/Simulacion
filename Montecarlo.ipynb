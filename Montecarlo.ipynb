{
  "nbformat": 4,
  "nbformat_minor": 0,
  "metadata": {
    "colab": {
      "provenance": [],
      "authorship_tag": "ABX9TyOmtMH64yYDTkmwbm5jGM/A",
      "include_colab_link": true
    },
    "kernelspec": {
      "name": "python3",
      "display_name": "Python 3"
    },
    "language_info": {
      "name": "python"
    }
  },
  "cells": [
    {
      "cell_type": "markdown",
      "metadata": {
        "id": "view-in-github",
        "colab_type": "text"
      },
      "source": [
        "<a href=\"https://colab.research.google.com/github/Wenypb/Simulacion/blob/main/Montecarlo.ipynb\" target=\"_parent\"><img src=\"https://colab.research.google.com/assets/colab-badge.svg\" alt=\"Open In Colab\"/></a>"
      ]
    },
    {
      "cell_type": "markdown",
      "source": [
        "# **Método de Montecarlo**"
      ],
      "metadata": {
        "id": "vTkI_a-3aNsy"
      }
    },
    {
      "cell_type": "markdown",
      "source": [
        "## ***Teoría***"
      ],
      "metadata": {
        "id": "yKMaTcY8aXpT"
      }
    },
    {
      "cell_type": "markdown",
      "source": [
        "Si se desea calcular:"
      ],
      "metadata": {
        "id": "6CwJGvhjaerJ"
      }
    },
    {
      "cell_type": "markdown",
      "source": [
        "$\\int_{a}^{b} f(x) dx$"
      ],
      "metadata": {
        "id": "FI4ZDo9NasUR"
      }
    },
    {
      "cell_type": "markdown",
      "source": [
        "Y se tiene la siguiente función de densidad de una distribucion uniforme"
      ],
      "metadata": {
        "id": "XstcPZE0dsy-"
      }
    },
    {
      "cell_type": "markdown",
      "source": [
        "$ h(x)= \\frac{1}{b-a}$"
      ],
      "metadata": {
        "id": "BfcLI31Dd52l"
      }
    },
    {
      "cell_type": "markdown",
      "source": [
        "Por definición"
      ],
      "metadata": {
        "id": "euGV70JKe8Pd"
      }
    },
    {
      "cell_type": "markdown",
      "source": [
        "$E( f(x) ) = \\int_{a}^{b} f(x) h(x) dx$"
      ],
      "metadata": {
        "id": "Z_yU6Q9ie_lj"
      }
    },
    {
      "cell_type": "markdown",
      "source": [
        "Sustituyendo el valor de la funcion de densidad en la ecuación anterior"
      ],
      "metadata": {
        "id": "ZYXEbrGGflJE"
      }
    },
    {
      "cell_type": "markdown",
      "source": [
        "$E( f(x) ) = \\int_{a}^{b} f(x) \\frac{1}{b-a} dx \\longrightarrow$ $E( f(x) ) = \\frac{1}{b-a} \\int_{a}^{b} f(x) dx $"
      ],
      "metadata": {
        "id": "w5uIrpZ7fy7f"
      }
    },
    {
      "cell_type": "markdown",
      "source": [
        "Despejando la integral a calcular"
      ],
      "metadata": {
        "id": "tf6gZcNohhUJ"
      }
    },
    {
      "cell_type": "markdown",
      "source": [
        "$ \\int_{a}^{b} f(x) dx = E( f(x) ) ( b-a ) $"
      ],
      "metadata": {
        "id": "92iCyZF9huNK"
      }
    },
    {
      "cell_type": "markdown",
      "source": [
        "Por la ley de los grandes números"
      ],
      "metadata": {
        "id": "OgN853ylh-KS"
      }
    },
    {
      "cell_type": "markdown",
      "source": [
        "$E( f(x) ) \\approx \\frac{1}{n} \\sum_{i=1}^{n} f( x_{i} )$"
      ],
      "metadata": {
        "id": "owym7R-Yj4-7"
      }
    },
    {
      "cell_type": "markdown",
      "source": [
        "Cada $x_{i}$ es un número aleatorio elegido en $[a,b]$"
      ],
      "metadata": {
        "id": "4QHKEbgNlW2l"
      }
    },
    {
      "cell_type": "markdown",
      "source": [
        "Entonces"
      ],
      "metadata": {
        "id": "1Q1QB9I7llq-"
      }
    },
    {
      "cell_type": "markdown",
      "source": [
        "$ \\int_{a}^{b} f(x) dx = \\approx \\frac{b-a}{n} \\sum_{i=1}^{n} f( x_{i} ) $"
      ],
      "metadata": {
        "id": "bwOwOrWLlpj8"
      }
    },
    {
      "cell_type": "markdown",
      "source": [
        "## **Estimación**"
      ],
      "metadata": {
        "id": "tLjVCitIl6gQ"
      }
    },
    {
      "cell_type": "markdown",
      "source": [
        "\n",
        "$  \\int_{0}^{1} Cos (\\frac{\\pi x}{2}) dx$  \n"
      ],
      "metadata": {
        "id": "0J5-THx2mkKE"
      }
    },
    {
      "cell_type": "markdown",
      "source": [
        "Donde tenemos"
      ],
      "metadata": {
        "id": "urUYXTFipOEa"
      }
    },
    {
      "cell_type": "markdown",
      "source": [
        "$f(x) = Cos (\\frac{\\pi x}{2}) \\hspace{1cm} a = 0 \\hspace{1cm} b = 1 $"
      ],
      "metadata": {
        "id": "Pv75RgKgpSyg"
      }
    },
    {
      "cell_type": "markdown",
      "source": [
        "### **Librerías**"
      ],
      "metadata": {
        "id": "_w2lOrFZrun2"
      }
    },
    {
      "cell_type": "code",
      "source": [
        "import random as rnd\n",
        "import math\n",
        "import numpy as np\n",
        "import matplotlib.pyplot as plt"
      ],
      "metadata": {
        "id": "_9nQyg40oDTj"
      },
      "execution_count": 77,
      "outputs": []
    },
    {
      "cell_type": "markdown",
      "source": [
        "### **Código para calcular la aproximación**"
      ],
      "metadata": {
        "id": "75m7oPwdBT4X"
      }
    },
    {
      "cell_type": "code",
      "execution_count": 78,
      "metadata": {
        "colab": {
          "base_uri": "https://localhost:8080/"
        },
        "id": "W-0lnMaLlfNq",
        "outputId": "0595e70d-28ad-44b9-b834-07fe9c2a3311"
      },
      "outputs": [
        {
          "output_type": "stream",
          "name": "stdout",
          "text": [
            "El valor aproximado de la integral es 0.6254572567289235\n"
          ]
        }
      ],
      "source": [
        "#Valores de los límites de la integral\n",
        "a=0\n",
        "b=1\n",
        "# Determinar n\n",
        "n = 1000\n",
        "# Listas vacias para guardar resultados\n",
        "X = []\n",
        "Y = []\n",
        "for i in range(n):\n",
        "  # Generar Xi con i = 1,2,...,n\n",
        "  Xi= rnd.random()\n",
        "  # Agregar Xi a la lista X\n",
        "  X.append(Xi)\n",
        "  # Hacer Yi = Cos((pi*Xi)/2)\n",
        "  Yi= math.cos((math.pi*Xi)/2)\n",
        "  # Agregar Yi a la lista Y\n",
        "  Y.append(Yi)\n",
        "# Calcular la suma de lista Y que contiene los f(xi)\n",
        "suma=sum(Y)\n",
        "# Calcular la aproximacion de la integral\n",
        "aproximacion = ((b-a)/n)*suma\n",
        "# Imprimir el valor de la aproximacion\n",
        "print(\"El valor aproximado de la integral es\",aproximacion)"
      ]
    },
    {
      "cell_type": "markdown",
      "source": [
        "## **Dardo**"
      ],
      "metadata": {
        "id": "60uuyVK4BvZA"
      }
    },
    {
      "cell_type": "markdown",
      "source": [
        "El método del dardo consiste en lanzar aleatoriamente un dardo en un cuadrado y si este cae debajo de la curva morada se considera éxito pero si por el contrario cae por encima de la cruva se considera como fracaso."
      ],
      "metadata": {
        "id": "SFvP_0PAKcg3"
      }
    },
    {
      "cell_type": "markdown",
      "source": [
        "### **Muestra del experimento del dardo**"
      ],
      "metadata": {
        "id": "d9tT81JHEFEu"
      }
    },
    {
      "cell_type": "code",
      "source": [
        "# Gráficar la curva de la funcion\n",
        "    # Generar 100 valores de x entre [0,1]\n",
        "x=np.linspace(0,1,100)\n",
        "    # Calcular el valor de y para cada x y hace la gráfica\n",
        "plt.plot(x,np.cos((math.pi*x)/2),color=\"purple\")\n",
        "# Gráficar el punto donde caera el dardo\n",
        "    # Generar u1 que es la posición en x\n",
        "u1=rnd.random()\n",
        "    # Generar u2 que es la posición en y\n",
        "u2=rnd.random()\n",
        "    # Hace la gráfica\n",
        "plt.scatter(u1,u2,color=\"pink\")\n",
        "plt.show()"
      ],
      "metadata": {
        "id": "ATtqbB9xEGH4",
        "outputId": "0be83f24-4078-46b1-ca92-3cc718ba4437",
        "colab": {
          "base_uri": "https://localhost:8080/",
          "height": 430
        }
      },
      "execution_count": 79,
      "outputs": [
        {
          "output_type": "display_data",
          "data": {
            "text/plain": [
              "<Figure size 640x480 with 1 Axes>"
            ],
            "image/png": "[encoded data removed]"
          },
          "metadata": {}
        }
      ]
    },
    {
      "cell_type": "markdown",
      "source": [
        "### **Aproximación con dardos**"
      ],
      "metadata": {
        "id": "RhvAlTMmMPZx"
      }
    },
    {
      "cell_type": "markdown",
      "source": [
        "Este experimento se realiza N veces, cuando  se concluyen todos los lanzamientos se hace el conteo de los dardos que resultaron un éxito y se hace la aproximación dividiendo el número de éxitos entre N, que es el número de dardos que se lanzarón."
      ],
      "metadata": {
        "id": "n0CTmGzELMoe"
      }
    },
    {
      "cell_type": "markdown",
      "source": [
        "$  \\int_{0}^{1} Cos (\\frac{\\pi x}{2}) dx \\approx  \n",
        "\\frac{\\# \\hspace{0.5cm} exitos}{ total \\hspace{0.2cm} de \\hspace{0.2cm} dardos \\hspace{0.2cm} lanzados} $  "
      ],
      "metadata": {
        "id": "KTyGxh0RMwb2"
      }
    },
    {
      "cell_type": "markdown",
      "source": [
        " **Función que calcula el número de exitos con N dardos lanzados y da su gráfica**"
      ],
      "metadata": {
        "id": "5Z-ZfLPmKQis"
      }
    },
    {
      "cell_type": "code",
      "execution_count": 80,
      "metadata": {
        "id": "KQ-YBDlqqpNH"
      },
      "outputs": [],
      "source": [
        "def Numero_exitos(intentos):\n",
        "  # GRAFICAR LA CURVA DE LA FUNCION\n",
        "    # Generar 100 valores de x entre [0,1]\n",
        "  x=np.linspace(0,1,100)\n",
        "    # Calcular el valor de y para cada x y hace la gráfica\n",
        "  plt.plot(x,np.cos((math.pi*x)/2),color=\"blue\")\n",
        "\n",
        "  # CICLO PARA REPETIR EL EXPERIMENTO N VECES\n",
        "    # n -> NUMERO DE EXITOS\n",
        "  n=0\n",
        "  for i in range(intentos):\n",
        "    # u1 que es la posición en x\n",
        "    u1=rnd.random()\n",
        "    # u2 que es la posición en y\n",
        "    u2=rnd.random()\n",
        "    #CONDICION PARA EL EXITO\n",
        "    if u2<=np.cos((math.pi*u1)/2):\n",
        "      plt.scatter(u1,u2,color=\"green\")\n",
        "      n=n+1\n",
        "    else:\n",
        "      plt.scatter(u1,u2,color=\"red\")\n",
        "  return n"
      ]
    },
    {
      "cell_type": "markdown",
      "source": [
        "**Cálculo de la aproximación**"
      ],
      "metadata": {
        "id": "VLixCUZuY64p"
      }
    },
    {
      "cell_type": "code",
      "source": [
        "# N-> Número de dardos a lanzar\n",
        "N=20\n",
        "# exitos -> Número de exitos obtenidos con N intentos\n",
        "exitos=Numero_exitos(N)\n",
        "# Aproximacion -> Valor obtenido de dividir el numero de exitos entre el numero de dardos lanzados\n",
        "Aproximacion =(exitos)/N\n",
        "print(\"La aproximación con\",N,\"intentos es\",Aproximacion)"
      ],
      "metadata": {
        "colab": {
          "base_uri": "https://localhost:8080/",
          "height": 447
        },
        "id": "t1j_kcpEwGTd",
        "outputId": "acdf0649-da80-4e3c-cf02-f8a7a89e26be"
      },
      "execution_count": 81,
      "outputs": [
        {
          "output_type": "stream",
          "name": "stdout",
          "text": [
            "La aproximación con 20 intentos es 0.55\n"
          ]
        },
        {
          "output_type": "display_data",
          "data": {
            "text/plain": [
              "<Figure size 640x480 with 1 Axes>"
            ],
            "image/png": "[encoded data removed]"
          },
          "metadata": {}
        }
      ]
    },
    {
      "cell_type": "markdown",
      "source": [
        "**Función que calcula la aproximacion con N dardos lanzados**"
      ],
      "metadata": {
        "id": "PfWCfRelb5oa"
      }
    },
    {
      "cell_type": "code",
      "execution_count": 82,
      "metadata": {
        "id": "Pht01RLWcw_F"
      },
      "outputs": [],
      "source": [
        "def Aproximacion(intentos):\n",
        "  # CICLO PARA REPETIR EL EXPERIMENTO N VECES\n",
        "    # n -> NUMERO DE EXITOS\n",
        "  n=0\n",
        "  for i in range(intentos):\n",
        "    # u1 que es la posición en x\n",
        "    u1=rnd.random()\n",
        "    # u2 que es la posición en y\n",
        "    u2=rnd.random()\n",
        "    #CONDICION PARA EL EXITO\n",
        "    if u2<=np.cos((math.pi*u1)/2):\n",
        "      n=n+1\n",
        "    else:\n",
        "      n=n\n",
        "    # Calculo de la aproximación\n",
        "    aproximacion =(n)/intentos\n",
        "  return aproximacion"
      ]
    },
    {
      "cell_type": "markdown",
      "source": [
        "**Número de repeticiones para lograr una mejor aproximación del resultado**"
      ],
      "metadata": {
        "id": "A7XYzi0NY4Br"
      }
    },
    {
      "cell_type": "markdown",
      "source": [
        "Para calcular una mejor aproximación hay que repetir r veces el calculo de la aproximacion y obtener el valor esperado de estas r repeticiones con $r = 1,2,3,...,r$"
      ],
      "metadata": {
        "id": "JWMgey-4d9rU"
      }
    },
    {
      "cell_type": "code",
      "source": [
        "# suma -> Variable que guarda la suma de los valores de la aproximacion en cada repetición\n",
        "suma=0\n",
        "# repeticiones -> Lista que guarda el número de repeticiones\n",
        "repeticiones=[]\n",
        "# promedios -> Lista que guarda los promedios para cada repetición\n",
        "promedios=[]\n",
        "# Ciclo que realiza las r repeticiones\n",
        "for i in range(500):\n",
        "  # intentos -> Numero de intentos para calcular cada aproximacion\n",
        "  intentos=40\n",
        "  # Uso de la funcion Aproximacion\n",
        "  aproximacion=Aproximacion(intentos)\n",
        "  # Se suma la nueva aproximacion calculada\n",
        "  suma=suma+aproximacion\n",
        "  # Se calcula el promedio\n",
        "  promedio=suma/(i+1)\n",
        "  # Se agrega a la lista de repeticiones la repeticion que se hace al momento\n",
        "  repeticiones.append(i+1)\n",
        "  # Se agrega a la lista de promedios el rpomedio obtenido\n",
        "  promedios.append(promedio)\n",
        "# Grafica de los resultados con repeticiones en el eje x y promedios en el eje y\n",
        "plt.plot(repeticiones,promedios)\n",
        "# Se traza la linea del valor real de la integral\n",
        "plt.axhline(2/np.pi,color=\"red\")"
      ],
      "metadata": {
        "id": "xf0JNB-3Y3C0",
        "outputId": "4e6eeda5-6bc4-4b24-da5a-43bc03d0e9cd",
        "colab": {
          "base_uri": "https://localhost:8080/",
          "height": 447
        }
      },
      "execution_count": 83,
      "outputs": [
        {
          "output_type": "execute_result",
          "data": {
            "text/plain": [
              "<matplotlib.lines.Line2D at 0x7dbb7fd670d0>"
            ]
          },
          "metadata": {},
          "execution_count": 83
        },
        {
          "output_type": "display_data",
          "data": {
            "text/plain": [
              "<Figure size 640x480 with 1 Axes>"
            ],
            "image/png": "[encoded data removed]"
          },
          "metadata": {}
        }
      ]
    }
  ]
}