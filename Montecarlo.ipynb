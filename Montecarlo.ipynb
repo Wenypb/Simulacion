{
  "nbformat": 4,
  "nbformat_minor": 0,
  "metadata": {
    "colab": {
      "provenance": [],
      "authorship_tag": "ABX9TyOLpR37OIWz9e23ibfbBHCy",
      "include_colab_link": true
    },
    "kernelspec": {
      "name": "python3",
      "display_name": "Python 3"
    },
    "language_info": {
      "name": "python"
    }
  },
  "cells": [
    {
      "cell_type": "markdown",
      "metadata": {
        "id": "view-in-github",
        "colab_type": "text"
      },
      "source": [
        "<a href=\"https://colab.research.google.com/github/Wenypb/Simulacion/blob/main/Montecarlo.ipynb\" target=\"_parent\"><img src=\"https://colab.research.google.com/assets/colab-badge.svg\" alt=\"Open In Colab\"/></a>"
      ]
    },
    {
      "cell_type": "markdown",
      "source": [
        "# **Método de Montecarlo**"
      ],
      "metadata": {
        "id": "vTkI_a-3aNsy"
      }
    },
    {
      "cell_type": "markdown",
      "source": [
        "### **Librerías**"
      ],
      "metadata": {
        "id": "_w2lOrFZrun2"
      }
    },
    {
      "cell_type": "code",
      "source": [
        "import random as rnd\n",
        "import math\n",
        "import numpy as np\n",
        "import matplotlib.pyplot as plt"
      ],
      "metadata": {
        "id": "_9nQyg40oDTj"
      },
      "execution_count": 47,
      "outputs": []
    },
    {
      "cell_type": "markdown",
      "source": [
        "## ***Media Muestral (crudo)***"
      ],
      "metadata": {
        "id": "yKMaTcY8aXpT"
      }
    },
    {
      "cell_type": "markdown",
      "source": [
        "Si se desea calcular:"
      ],
      "metadata": {
        "id": "6CwJGvhjaerJ"
      }
    },
    {
      "cell_type": "markdown",
      "source": [
        "$\\int_{a}^{b} f(x) dx$"
      ],
      "metadata": {
        "id": "FI4ZDo9NasUR"
      }
    },
    {
      "cell_type": "markdown",
      "source": [
        "Y se tiene la siguiente función de densidad de una distribucion uniforme"
      ],
      "metadata": {
        "id": "XstcPZE0dsy-"
      }
    },
    {
      "cell_type": "markdown",
      "source": [
        "$ h(x)= \\frac{1}{b-a}$"
      ],
      "metadata": {
        "id": "BfcLI31Dd52l"
      }
    },
    {
      "cell_type": "markdown",
      "source": [
        "Por definición"
      ],
      "metadata": {
        "id": "euGV70JKe8Pd"
      }
    },
    {
      "cell_type": "markdown",
      "source": [
        "$E( f(x) ) = \\int_{a}^{b} f(x) h(x) dx$"
      ],
      "metadata": {
        "id": "Z_yU6Q9ie_lj"
      }
    },
    {
      "cell_type": "markdown",
      "source": [
        "Sustituyendo el valor de la funcion de densidad en la ecuación anterior"
      ],
      "metadata": {
        "id": "ZYXEbrGGflJE"
      }
    },
    {
      "cell_type": "markdown",
      "source": [
        "$E( f(x) ) = \\int_{a}^{b} f(x) \\frac{1}{b-a} dx \\longrightarrow$ $E( f(x) ) = \\frac{1}{b-a} \\int_{a}^{b} f(x) dx $"
      ],
      "metadata": {
        "id": "w5uIrpZ7fy7f"
      }
    },
    {
      "cell_type": "markdown",
      "source": [
        "Despejando la integral a calcular"
      ],
      "metadata": {
        "id": "tf6gZcNohhUJ"
      }
    },
    {
      "cell_type": "markdown",
      "source": [
        "$ \\int_{a}^{b} f(x) dx = E( f(x) ) ( b-a ) $"
      ],
      "metadata": {
        "id": "92iCyZF9huNK"
      }
    },
    {
      "cell_type": "markdown",
      "source": [
        "Por la ley de los grandes números"
      ],
      "metadata": {
        "id": "OgN853ylh-KS"
      }
    },
    {
      "cell_type": "markdown",
      "source": [
        "$E( f(x) ) \\approx \\frac{1}{n} \\sum_{i=1}^{n} f( x_{i} )$"
      ],
      "metadata": {
        "id": "owym7R-Yj4-7"
      }
    },
    {
      "cell_type": "markdown",
      "source": [
        "Cada $x_{i}$ es un número aleatorio elegido en $[a,b]$"
      ],
      "metadata": {
        "id": "4QHKEbgNlW2l"
      }
    },
    {
      "cell_type": "markdown",
      "source": [
        "Entonces"
      ],
      "metadata": {
        "id": "1Q1QB9I7llq-"
      }
    },
    {
      "cell_type": "markdown",
      "source": [
        "$ \\int_{a}^{b} f(x) dx = \\approx \\frac{b-a}{n} \\sum_{i=1}^{n} f( x_{i} ) $"
      ],
      "metadata": {
        "id": "bwOwOrWLlpj8"
      }
    },
    {
      "cell_type": "markdown",
      "source": [
        "### **Estimación**"
      ],
      "metadata": {
        "id": "tLjVCitIl6gQ"
      }
    },
    {
      "cell_type": "markdown",
      "source": [
        "\n",
        "$  \\int_{0}^{1} Cos (\\frac{\\pi x}{2}) dx$  \n"
      ],
      "metadata": {
        "id": "0J5-THx2mkKE"
      }
    },
    {
      "cell_type": "markdown",
      "source": [
        "Donde tenemos"
      ],
      "metadata": {
        "id": "urUYXTFipOEa"
      }
    },
    {
      "cell_type": "markdown",
      "source": [
        "$f(x) = Cos (\\frac{\\pi x}{2}) \\hspace{1cm} a = 0 \\hspace{1cm} b = 1 $"
      ],
      "metadata": {
        "id": "Pv75RgKgpSyg"
      }
    },
    {
      "cell_type": "markdown",
      "source": [
        "### **Código para calcular la aproximación**"
      ],
      "metadata": {
        "id": "75m7oPwdBT4X"
      }
    },
    {
      "cell_type": "code",
      "execution_count": 48,
      "metadata": {
        "colab": {
          "base_uri": "https://localhost:8080/"
        },
        "id": "W-0lnMaLlfNq",
        "outputId": "b64b3314-3140-42ed-cd04-b710b6d7cb45"
      },
      "outputs": [
        {
          "output_type": "stream",
          "name": "stdout",
          "text": [
            "El valor aproximado de la integral es 0.637573052711961\n"
          ]
        }
      ],
      "source": [
        "#Valores de los límites de la integral\n",
        "a=0\n",
        "b=1\n",
        "# Determinar n\n",
        "n = 1000\n",
        "# Listas vacias para guardar resultados\n",
        "X = []\n",
        "Y = []\n",
        "for i in range(n):\n",
        "  # Generar Xi con i = 1,2,...,n\n",
        "  Xi= rnd.random()\n",
        "  # Agregar Xi a la lista X\n",
        "  X.append(Xi)\n",
        "  # Hacer Yi = Cos((pi*Xi)/2)\n",
        "  Yi= math.cos((math.pi*Xi)/2)\n",
        "  # Agregar Yi a la lista Y\n",
        "  Y.append(Yi)\n",
        "# Calcular la suma de lista Y que contiene los f(xi)\n",
        "suma=sum(Y)\n",
        "# Calcular la aproximacion de la integral\n",
        "aproximacion = ((b-a)/n)*suma\n",
        "# Imprimir el valor de la aproximacion\n",
        "print(\"El valor aproximado de la integral es\",aproximacion)"
      ]
    },
    {
      "cell_type": "markdown",
      "source": [
        "## **Acierto y error**"
      ],
      "metadata": {
        "id": "60uuyVK4BvZA"
      }
    },
    {
      "cell_type": "markdown",
      "source": [
        "El método de acierto y error consiste en lanzar aleatoriamente un dardo en un cuadrado y si este cae debajo de la curva morada se considera éxito pero si por el contrario cae por encima de la cruva se considera como fracaso."
      ],
      "metadata": {
        "id": "SFvP_0PAKcg3"
      }
    },
    {
      "cell_type": "markdown",
      "source": [
        "### **Muestra del experimento del dardo**"
      ],
      "metadata": {
        "id": "d9tT81JHEFEu"
      }
    },
    {
      "cell_type": "code",
      "source": [
        "# Gráficar la curva de la funcion\n",
        "    # Generar 100 valores de x entre [0,1]\n",
        "x=np.linspace(0,1,100)\n",
        "    # Calcular el valor de y para cada x y hace la gráfica\n",
        "plt.plot(x,np.cos((math.pi*x)/2),color=\"purple\")\n",
        "# Gráficar el punto donde caera el dardo\n",
        "    # Generar u1 que es la posición en x\n",
        "u1=rnd.random()\n",
        "    # Generar u2 que es la posición en y\n",
        "u2=rnd.random()\n",
        "    # Hace la gráfica\n",
        "plt.scatter(u1,u2,color=\"red\")\n",
        "plt.show()"
      ],
      "metadata": {
        "id": "ATtqbB9xEGH4",
        "outputId": "61d2fcbd-757a-414d-e637-f16f13ae059c",
        "colab": {
          "base_uri": "https://localhost:8080/",
          "height": 430
        }
      },
      "execution_count": 49,
      "outputs": [
        {
          "output_type": "display_data",
          "data": {
            "text/plain": [
              "<Figure size 640x480 with 1 Axes>"
            ],
            "image/png": "[encoded data removed]"
          },
          "metadata": {}
        }
      ]
    },
    {
      "cell_type": "markdown",
      "source": [
        "### **Aproximación con dardos**"
      ],
      "metadata": {
        "id": "RhvAlTMmMPZx"
      }
    },
    {
      "cell_type": "markdown",
      "source": [
        "Este experimento se realiza N veces, cuando  se concluyen todos los lanzamientos se hace el conteo de los dardos que resultaron un éxito y se hace la aproximación dividiendo el número de éxitos entre N, que es el número de dardos que se lanzarón."
      ],
      "metadata": {
        "id": "n0CTmGzELMoe"
      }
    },
    {
      "cell_type": "markdown",
      "source": [
        "$  \\int_{0}^{1} Cos (\\frac{\\pi x}{2}) dx \\approx  \n",
        "\\frac{\\# \\hspace{0.5cm} exitos}{ total \\hspace{0.2cm} de \\hspace{0.2cm} dardos \\hspace{0.2cm} lanzados} $  "
      ],
      "metadata": {
        "id": "KTyGxh0RMwb2"
      }
    },
    {
      "cell_type": "markdown",
      "source": [
        " **Función que calcula el número de exitos con N dardos lanzados y da su gráfica**"
      ],
      "metadata": {
        "id": "5Z-ZfLPmKQis"
      }
    },
    {
      "cell_type": "code",
      "execution_count": 50,
      "metadata": {
        "id": "KQ-YBDlqqpNH"
      },
      "outputs": [],
      "source": [
        "def Numero_exitos(intentos):\n",
        "  # GRAFICAR LA CURVA DE LA FUNCION\n",
        "    # Generar 100 valores de x entre [0,1]\n",
        "  x=np.linspace(0,1,100)\n",
        "    # Calcular el valor de y para cada x y hace la gráfica\n",
        "  plt.plot(x,np.cos((math.pi*x)/2),color=\"blue\")\n",
        "\n",
        "  # CICLO PARA REPETIR EL EXPERIMENTO N VECES\n",
        "    # n -> NUMERO DE EXITOS\n",
        "  n=0\n",
        "  for i in range(intentos):\n",
        "    # u1 que es la posición en x\n",
        "    u1=rnd.random()\n",
        "    # u2 que es la posición en y\n",
        "    u2=rnd.random()\n",
        "    #CONDICION PARA EL EXITO\n",
        "    if u2<=np.cos((math.pi*u1)/2):\n",
        "      plt.scatter(u1,u2,color=\"green\")\n",
        "      n=n+1\n",
        "    else:\n",
        "      plt.scatter(u1,u2,color=\"red\")\n",
        "  return n"
      ]
    },
    {
      "cell_type": "markdown",
      "source": [
        "**Cálculo de la aproximación**"
      ],
      "metadata": {
        "id": "VLixCUZuY64p"
      }
    },
    {
      "cell_type": "code",
      "source": [
        "# N-> Número de dardos a lanzar\n",
        "N=20\n",
        "# exitos -> Número de exitos obtenidos con N intentos\n",
        "exitos=Numero_exitos(N)\n",
        "# Aproximacion -> Valor obtenido de dividir el numero de exitos entre el numero de dardos lanzados\n",
        "Aproximacion =(exitos)/N\n",
        "print(\"La aproximación con\",N,\"intentos es\",Aproximacion)"
      ],
      "metadata": {
        "colab": {
          "base_uri": "https://localhost:8080/",
          "height": 447
        },
        "id": "t1j_kcpEwGTd",
        "outputId": "80d936cd-ed62-44f5-a9e6-e20baa435170"
      },
      "execution_count": 51,
      "outputs": [
        {
          "output_type": "stream",
          "name": "stdout",
          "text": [
            "La aproximación con 20 intentos es 0.8\n"
          ]
        },
        {
          "output_type": "display_data",
          "data": {
            "text/plain": [
              "<Figure size 640x480 with 1 Axes>"
            ],
            "image/png": "[encoded data removed]"
          },
          "metadata": {}
        }
      ]
    },
    {
      "cell_type": "markdown",
      "source": [
        "**Función que calcula la aproximacion con N dardos lanzados**"
      ],
      "metadata": {
        "id": "PfWCfRelb5oa"
      }
    },
    {
      "cell_type": "code",
      "execution_count": 52,
      "metadata": {
        "id": "Pht01RLWcw_F"
      },
      "outputs": [],
      "source": [
        "def Aproximacion(intentos):\n",
        "  # CICLO PARA REPETIR EL EXPERIMENTO N VECES\n",
        "    # n -> NUMERO DE EXITOS\n",
        "  n=0\n",
        "  for i in range(intentos):\n",
        "    # u1 que es la posición en x\n",
        "    u1=rnd.random()\n",
        "    # u2 que es la posición en y\n",
        "    u2=rnd.random()\n",
        "    #CONDICION PARA EL EXITO\n",
        "    if u2<=np.cos((math.pi*u1)/2):\n",
        "      n=n+1\n",
        "    else:\n",
        "      n=n\n",
        "    # Calculo de la aproximación\n",
        "    aproximacion =(n)/intentos\n",
        "  return aproximacion"
      ]
    },
    {
      "cell_type": "markdown",
      "source": [
        "**Número de repeticiones para lograr una mejor aproximación del resultado**"
      ],
      "metadata": {
        "id": "A7XYzi0NY4Br"
      }
    },
    {
      "cell_type": "markdown",
      "source": [
        "Para calcular una mejor aproximación hay que repetir r veces el calculo de la aproximacion y obtener el valor esperado de estas r repeticiones con $r = 1,2,3,...,r$"
      ],
      "metadata": {
        "id": "JWMgey-4d9rU"
      }
    },
    {
      "cell_type": "code",
      "source": [
        "# suma -> Variable que guarda la suma de los valores de la aproximacion en cada repetición\n",
        "suma=0\n",
        "# repeticiones -> Lista que guarda el número de repeticiones\n",
        "repeticiones=[]\n",
        "# promedios -> Lista que guarda los promedios para cada repetición\n",
        "promedios=[]\n",
        "# Ciclo que realiza las r repeticiones\n",
        "for i in range(500):\n",
        "  # intentos -> Numero de intentos para calcular cada aproximacion\n",
        "  intentos=40\n",
        "  # Uso de la funcion Aproximacion\n",
        "  aproximacion=Aproximacion(intentos)\n",
        "  # Se suma la nueva aproximacion calculada\n",
        "  suma=suma+aproximacion\n",
        "  # Se calcula el promedio\n",
        "  promedio=suma/(i+1)\n",
        "  # Se agrega a la lista de repeticiones la repeticion que se hace al momento\n",
        "  repeticiones.append(i+1)\n",
        "  # Se agrega a la lista de promedios el rpomedio obtenido\n",
        "  promedios.append(promedio)\n",
        "# Grafica de los resultados con repeticiones en el eje x y promedios en el eje y\n",
        "plt.plot(repeticiones,promedios)\n",
        "# Se traza la linea del valor real de la integral\n",
        "plt.axhline(2/np.pi,color=\"red\")"
      ],
      "metadata": {
        "id": "xf0JNB-3Y3C0",
        "outputId": "e9367829-1178-4838-b824-d470943095fc",
        "colab": {
          "base_uri": "https://localhost:8080/",
          "height": 447
        }
      },
      "execution_count": 53,
      "outputs": [
        {
          "output_type": "execute_result",
          "data": {
            "text/plain": [
              "<matplotlib.lines.Line2D at 0x7b1080f505e0>"
            ]
          },
          "metadata": {},
          "execution_count": 53
        },
        {
          "output_type": "display_data",
          "data": {
            "text/plain": [
              "<Figure size 640x480 with 1 Axes>"
            ],
            "image/png": "[encoded data removed]"
          },
          "metadata": {}
        }
      ]
    },
    {
      "cell_type": "markdown",
      "source": [
        "## **Muestreo de importancia**"
      ],
      "metadata": {
        "id": "3JWqt7eLs9Gv"
      }
    },
    {
      "cell_type": "markdown",
      "source": [
        "Proponer una funcion g(x) que se asemeje a f(x)"
      ],
      "metadata": {
        "id": "j3YinVb-tM-0"
      }
    },
    {
      "cell_type": "code",
      "source": [
        "# g(x) = 1.5 - 1.5x\n",
        "# h(x) = 1.5\n",
        "# X -> Lista de x aceptadas\n",
        "X=[]\n",
        "for i in range(10000):\n",
        "  #Generamos un x al azar [0,1]\n",
        "  x= rnd.random()\n",
        "  #Calculamos la probabilidad de aceptar a x -> g(x)/h(x)\n",
        "  p = (1.5 - 1.5*(x**2))/1.5\n",
        "  #Generamos Ux\n",
        "  Ux = rnd.random()\n",
        "  if Ux<=p:\n",
        "    X.append(x)\n",
        "plt.hist(X,bins=50)"
      ],
      "metadata": {
        "id": "eZm0GUeBtmQb",
        "outputId": "bfbfa529-bf1e-459d-cc94-4ce39e0ae5d6",
        "colab": {
          "base_uri": "https://localhost:8080/",
          "height": 760
        }
      },
      "execution_count": 54,
      "outputs": [
        {
          "output_type": "execute_result",
          "data": {
            "text/plain": [
              "(array([201., 205., 203., 210., 188., 188., 203., 186., 197., 189., 192.,\n",
              "        203., 179., 189., 150., 193., 179., 165., 160., 177., 158., 147.,\n",
              "        152., 181., 147., 139., 124., 138., 136., 134., 150., 129., 117.,\n",
              "        127.,  94., 114.,  79.,  97.,  96.,  74.,  82.,  66.,  70.,  45.,\n",
              "         41.,  36.,  24.,  26.,  11.,   5.]),\n",
              " array([1.44006612e-04, 1.99692959e-02, 3.97945853e-02, 5.96198746e-02,\n",
              "        7.94451639e-02, 9.92704532e-02, 1.19095743e-01, 1.38921032e-01,\n",
              "        1.58746321e-01, 1.78571611e-01, 1.98396900e-01, 2.18222189e-01,\n",
              "        2.38047478e-01, 2.57872768e-01, 2.77698057e-01, 2.97523346e-01,\n",
              "        3.17348636e-01, 3.37173925e-01, 3.56999214e-01, 3.76824504e-01,\n",
              "        3.96649793e-01, 4.16475082e-01, 4.36300372e-01, 4.56125661e-01,\n",
              "        4.75950950e-01, 4.95776240e-01, 5.15601529e-01, 5.35426818e-01,\n",
              "        5.55252108e-01, 5.75077397e-01, 5.94902686e-01, 6.14727976e-01,\n",
              "        6.34553265e-01, 6.54378554e-01, 6.74203844e-01, 6.94029133e-01,\n",
              "        7.13854422e-01, 7.33679712e-01, 7.53505001e-01, 7.73330290e-01,\n",
              "        7.93155580e-01, 8.12980869e-01, 8.32806158e-01, 8.52631447e-01,\n",
              "        8.72456737e-01, 8.92282026e-01, 9.12107315e-01, 9.31932605e-01,\n",
              "        9.51757894e-01, 9.71583183e-01, 9.91408473e-01]),\n",
              " <BarContainer object of 50 artists>)"
            ]
          },
          "metadata": {},
          "execution_count": 54
        },
        {
          "output_type": "display_data",
          "data": {
            "text/plain": [
              "<Figure size 640x480 with 1 Axes>"
            ],
            "image/png": "[encoded data removed]"
          },
          "metadata": {}
        }
      ]
    }
  ]
}