{
  "nbformat": 4,
  "nbformat_minor": 0,
  "metadata": {
    "colab": {
      "provenance": [],
      "authorship_tag": "ABX9TyOzuTNiv0YvEoXcxlpjCcn/",
      "include_colab_link": true
    },
    "kernelspec": {
      "name": "python3",
      "display_name": "Python 3"
    },
    "language_info": {
      "name": "python"
    }
  },
  "cells": [
    {
      "cell_type": "markdown",
      "metadata": {
        "id": "view-in-github",
        "colab_type": "text"
      },
      "source": [
        "<a href=\"https://colab.research.google.com/github/Wenypb/Simulacion/blob/main/Montecarlo.ipynb\" target=\"_parent\"><img src=\"https://colab.research.google.com/assets/colab-badge.svg\" alt=\"Open In Colab\"/></a>"
      ]
    },
    {
      "cell_type": "markdown",
      "source": [
        "Estimar por el mètodo de Monte Carlo  \n",
        "\n",
        "---\n",
        "G = $\\int_{0}^{1}$ Cos  \n"
      ],
      "metadata": {
        "id": "0J5-THx2mkKE"
      }
    },
    {
      "cell_type": "code",
      "source": [
        "import random as rnd\n",
        "import math\n",
        "import numpy as np\n",
        "import matplotlib.pyplot as plt"
      ],
      "metadata": {
        "id": "_9nQyg40oDTj"
      },
      "execution_count": 19,
      "outputs": []
    },
    {
      "cell_type": "code",
      "execution_count": 72,
      "metadata": {
        "colab": {
          "base_uri": "https://localhost:8080/"
        },
        "id": "W-0lnMaLlfNq",
        "outputId": "ae4259e8-6540-4485-9fb5-99bb466b6e9e"
      },
      "outputs": [
        {
          "output_type": "stream",
          "name": "stdout",
          "text": [
            "0.629565526195491\n"
          ]
        }
      ],
      "source": [
        "# Determinar n\n",
        "n = 10000\n",
        "# Gerener Ui con i = 1,2,...,n\n",
        "X = []\n",
        "Y = []\n",
        "I = []\n",
        "for i in range(n+1):\n",
        "  # Gerener Ui con i = 1,2,...,n\n",
        "  Ui = rnd.random()\n",
        "  # Hacer Xi = Ui y agregarlo a la lista X\n",
        "  Xi= Ui\n",
        "  X.append(Ui)\n",
        "  # Hacer Yi = Cos((pi*x)/2)\n",
        "  Yi= math.cos((math.pi*Xi)/2)\n",
        "  Y.append(Yi)\n",
        "I=np.mean(Y)\n",
        "print(I)"
      ]
    },
    {
      "cell_type": "code",
      "source": [
        "def aprox(n):\n",
        "  #Listas que guarda los valores generados\n",
        "  X = []\n",
        "  Y = []\n",
        "  I = []\n",
        "  for i in range(n+1):\n",
        "    # Gerener Ui con i = 1,2,...,n\n",
        "    Ui = rnd.random()\n",
        "    # Hacer Xi = Ui y agregarlo a la lista X\n",
        "    Xi= Ui\n",
        "    X.append(Ui)\n",
        "    # Hacer Yi = Cos((pi*x)/2)\n",
        "    Yi= math.cos((math.pi*Xi)/2)\n",
        "    #Añade a la lista el valor de Yi\n",
        "    Y.append(Yi)\n",
        "  return Y\n",
        "G=aprox(1000)\n",
        "media=np.mean(G)\n",
        "varianza=np.var(G)\n",
        "print(\"La media es:\",media)\n",
        "print(\"La varianza es:\",varianza)"
      ],
      "metadata": {
        "colab": {
          "base_uri": "https://localhost:8080/"
        },
        "id": "O5UN_1ojy-4e",
        "outputId": "80510333-1428-4269-a180-75a9fd33284c"
      },
      "execution_count": 88,
      "outputs": [
        {
          "output_type": "stream",
          "name": "stdout",
          "text": [
            "La media es: 0.6380822830933857\n",
            "La varianza es: 0.0954337569147658\n"
          ]
        }
      ]
    },
    {
      "cell_type": "code",
      "source": [],
      "metadata": {
        "id": "gKQJVM92yJsA"
      },
      "execution_count": null,
      "outputs": []
    },
    {
      "cell_type": "code",
      "source": [
        "plt.hist(G)"
      ],
      "metadata": {
        "colab": {
          "base_uri": "https://localhost:8080/",
          "height": 517
        },
        "id": "6CesLeBdvJ25",
        "outputId": "d0ba9ff1-c743-454b-e004-f3f7fe181b14"
      },
      "execution_count": 89,
      "outputs": [
        {
          "output_type": "execute_result",
          "data": {
            "text/plain": [
              "(array([ 57.,  64.,  82.,  71.,  67.,  62.,  89.,  80., 134., 295.]),\n",
              " array([0.00188863, 0.10169976, 0.2015109 , 0.30132204, 0.40113318,\n",
              "        0.50094431, 0.60075545, 0.70056659, 0.80037773, 0.90018886,\n",
              "        1.        ]),\n",
              " <BarContainer object of 10 artists>)"
            ]
          },
          "metadata": {},
          "execution_count": 89
        },
        {
          "output_type": "display_data",
          "data": {
            "text/plain": [
              "<Figure size 640x480 with 1 Axes>"
            ],
            "image/png": "[encoded data removed]"
          },
          "metadata": {}
        }
      ]
    },
    {
      "cell_type": "code",
      "source": [
        "def aprox(n):\n",
        "  #Lista que guarda los valores generados\n",
        "  lista=[]\n",
        "  for i in range(n):\n",
        "    #Genera u1 ~ U(0,1)\n",
        "    u1=rnd.random()\n",
        "    #Calcula valor de  x\n",
        "    x=-2*((1-u1)**0.5)+2\n",
        "    #Añade a la lista el valor de x\n",
        "    lista.append(x)\n",
        "  return lista"
      ],
      "metadata": {
        "id": "IyGtdRDYuLbj"
      },
      "execution_count": null,
      "outputs": []
    }
  ]
}