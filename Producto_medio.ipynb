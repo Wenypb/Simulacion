{
  "nbformat": 4,
  "nbformat_minor": 0,
  "metadata": {
    "colab": {
      "provenance": [],
      "authorship_tag": "ABX9TyNuFzZKZAuYj64o2JHDa6Bj",
      "include_colab_link": true
    },
    "kernelspec": {
      "name": "python3",
      "display_name": "Python 3"
    },
    "language_info": {
      "name": "python"
    }
  },
  "cells": [
    {
      "cell_type": "markdown",
      "metadata": {
        "id": "view-in-github",
        "colab_type": "text"
      },
      "source": [
        "<a href=\"https://colab.research.google.com/github/Wenypb/Simulacion/blob/main/Producto_medio.ipynb\" target=\"_parent\"><img src=\"https://colab.research.google.com/assets/colab-badge.svg\" alt=\"Open In Colab\"/></a>"
      ]
    },
    {
      "cell_type": "markdown",
      "source": [
        "# Método de Producto Medio"
      ],
      "metadata": {
        "id": "DjAFgq7FzJKP"
      }
    },
    {
      "cell_type": "markdown",
      "source": [
        "Esta función del método de producto medio que es un  generador de números necesita dos semillas (números), cada uno de 3 dígitos, asi como el valor de n que es el total de números que se desean generar.\n"
      ],
      "metadata": {
        "id": "fe34CwqrzHSb"
      }
    },
    {
      "cell_type": "markdown",
      "source": [
        "*Desarrollo del método*\n",
        "\n",
        "\n",
        "\n",
        "1.   Seleccionamos 2 semillas ( X(n-1), X(n) ) cada uno con 3 dígitos\n",
        "2.   Multiplicamos X(n-1) y  X(n)\n",
        "3.   Del producto tomamos 3 dígitos centrales y lo nombramos X(n+1)\n",
        "\n"
      ],
      "metadata": {
        "id": "AmUiyUGK2ovg"
      }
    },
    {
      "cell_type": "markdown",
      "source": [
        "*Resultado del método*\n",
        "\n",
        "Se tiene una tabla con los resultados de cada iteraccion y una lista del total de n valores generados."
      ],
      "metadata": {
        "id": "80GXTJ3RzTx6"
      }
    },
    {
      "cell_type": "code",
      "execution_count": null,
      "metadata": {
        "id": "3H-mcAICwMJQ"
      },
      "outputs": [],
      "source": [
        "def Prod_Medio(x0,x1,n):\n",
        "  from tabulate import tabulate\n",
        "  #Lista de los valores generados\n",
        "  Generados=[x0,x1]\n",
        "  matrizx1=[]\n",
        "  ns=[0]\n",
        "  for i in range(2,n):\n",
        "    xn=int(x0*x1)\n",
        "    xn=str(xn)\n",
        "    xlis=list(xn)\n",
        "    length=len(xlis)\n",
        "    a=length%2\n",
        "    #Ciclo para agregar un 0 al inicio de cada número en caso de que sea par\n",
        "    if a==0:\n",
        "      xlis.insert(0,'0')\n",
        "    else:\n",
        "      xlis=xlis\n",
        "    xls=''.join(xlis)\n",
        "    ni=i-1\n",
        "    b=len(xlis)\n",
        "    md=((b-1)/2)\n",
        "    inte=int(md-1)\n",
        "    ext=int(md+2)\n",
        "    x=xlis[inte:ext]\n",
        "    xs=''.join(x)\n",
        "    xi=int(xs)\n",
        "    xc=''.join(x)\n",
        "    matrizx0=[ni,x0,x1,xls,xc,xi]\n",
        "    matrizx1.append(matrizx0)\n",
        "    x0=x1\n",
        "    x1=''.join(x)\n",
        "    #Asignacion de los nuevos valores de las semillas\n",
        "    x0=int(x0)\n",
        "    x1=int(x1)\n",
        "    Generados.append(x1)\n",
        "  #Genera la tabla de resultados\n",
        "  print(tabulate(matrizx1,headers=[\"n\",\"X(n-1)\",\"X(n)\",\"PRODUCTO\",\"DIGITOS CENTRALES\",\"X(n+1)\"]))\n",
        "  print(\"Los numeros generados por el metodo de producto medio son:\")\n",
        "  #Imprime la lista con los numeros generados\n",
        "  print(Generados)\n",
        "  return"
      ]
    },
    {
      "cell_type": "markdown",
      "source": [
        "*Ejemplo:*\n",
        "\n",
        "Usamos la función anterior con los datos del ejercicio trabajado en clase con:\n",
        "\n",
        "x0= 456; x1= 221; n = 40"
      ],
      "metadata": {
        "id": "SaEENEDP1jVR"
      }
    },
    {
      "cell_type": "code",
      "source": [
        " #Ingresar valores de las semillas\n",
        "print(\"Ingresar primer numero de 3 digitos (semilla 1)\")\n",
        "x0=int(input())\n",
        "\n",
        "print(\"Ingresar segundo numero de 3 digitos (semilla 2)\")\n",
        "x1=int(input())\n",
        "\n",
        "#Ingresar el valor de n\n",
        "print(\"Ingrese la cantidad de numeros aleatorios que desea\")\n",
        "n=input()\n",
        "n=int(n)\n",
        "\n",
        "Prod_Medio(x0,x1,n)"
      ],
      "metadata": {
        "id": "D9Xj_UFO0_Pi",
        "outputId": "3eb77dd3-b5d1-4bdf-9303-b79559b8e832",
        "colab": {
          "base_uri": "https://localhost:8080/"
        }
      },
      "execution_count": null,
      "outputs": [
        {
          "output_type": "stream",
          "name": "stdout",
          "text": [
            "Ingresar primer numero de 3 digitos (semilla 1)\n",
            "456\n",
            "Ingresar segundo numero de 3 digitos (semilla 2)\n",
            "221\n",
            "Ingrese la cantidad de numeros aleatorios que desea\n",
            "40\n",
            "  n    X(n-1)    X(n)    PRODUCTO    DIGITOS CENTRALES    X(n+1)\n",
            "---  --------  ------  ----------  -------------------  --------\n",
            "  1       456     221     0100776                  007         7\n",
            "  2       221       7       01547                  154       154\n",
            "  3         7     154       01078                  107       107\n",
            "  4       154     107       16478                  647       647\n",
            "  5       107     647       69229                  922       922\n",
            "  6       647     922     0596534                  965       965\n",
            "  7       922     965     0889730                  897       897\n",
            "  8       965     897     0865605                  656       656\n",
            "  9       897     656     0588432                  884       884\n",
            " 10       656     884     0579904                  799       799\n",
            " 11       884     799     0706316                  063        63\n",
            " 12       799      63       50337                  033        33\n",
            " 13        63      33       02079                  207       207\n",
            " 14        33     207       06831                  683       683\n",
            " 15       207     683     0141381                  413       413\n",
            " 16       683     413     0282079                  820       820\n",
            " 17       413     820     0338660                  386       386\n",
            " 18       820     386     0316520                  165       165\n",
            " 19       386     165       63690                  369       369\n",
            " 20       165     369       60885                  088        88\n",
            " 21       369      88       32472                  247       247\n",
            " 22        88     247       21736                  173       173\n",
            " 23       247     173       42731                  273       273\n",
            " 24       173     273       47229                  722       722\n",
            " 25       273     722     0197106                  971       971\n",
            " 26       722     971     0701062                  010        10\n",
            " 27       971      10       09710                  971       971\n",
            " 28        10     971       09710                  971       971\n",
            " 29       971     971     0942841                  428       428\n",
            " 30       971     428     0415588                  155       155\n",
            " 31       428     155       66340                  634       634\n",
            " 32       155     634       98270                  827       827\n",
            " 33       634     827     0524318                  243       243\n",
            " 34       827     243     0200961                  009         9\n",
            " 35       243       9       02187                  218       218\n",
            " 36         9     218       01962                  196       196\n",
            " 37       218     196       42728                  272       272\n",
            " 38       196     272       53312                  331       331\n",
            "Los numeros generados por el metodo de producto medio son:\n",
            "[456, 221, 7, 154, 107, 647, 922, 965, 897, 656, 884, 799, 63, 33, 207, 683, 413, 820, 386, 165, 369, 88, 247, 173, 273, 722, 971, 10, 971, 971, 428, 155, 634, 827, 243, 9, 218, 196, 272, 331]\n"
          ]
        }
      ]
    }
  ]
}