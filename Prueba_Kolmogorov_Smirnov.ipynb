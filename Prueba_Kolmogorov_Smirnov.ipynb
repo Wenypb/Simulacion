{
  "nbformat": 4,
  "nbformat_minor": 0,
  "metadata": {
    "colab": {
      "provenance": [],
      "authorship_tag": "ABX9TyMukAZDDFodjuaukktan2GM",
      "include_colab_link": true
    },
    "kernelspec": {
      "name": "python3",
      "display_name": "Python 3"
    },
    "language_info": {
      "name": "python"
    }
  },
  "cells": [
    {
      "cell_type": "markdown",
      "metadata": {
        "id": "view-in-github",
        "colab_type": "text"
      },
      "source": [
        "<a href=\"https://colab.research.google.com/github/Wenypb/Simulacion/blob/main/Prueba_Kolmogorov_Smirnov.ipynb\" target=\"_parent\"><img src=\"https://colab.research.google.com/assets/colab-badge.svg\" alt=\"Open In Colab\"/></a>"
      ]
    },
    {
      "cell_type": "markdown",
      "source": [
        "# **Prueba de Kolmogorov-Smirnov**"
      ],
      "metadata": {
        "id": "gAWq4_iXRgky"
      }
    },
    {
      "cell_type": "markdown",
      "source": [
        "# **Funcion que aplica la prueba de Kolmogorov-Smirnov**"
      ],
      "metadata": {
        "id": "DhtkysxQaalt"
      }
    },
    {
      "cell_type": "markdown",
      "source": [
        "*Prueba de Frecuencia*\n",
        "\n",
        "Para realizar esta prueba se necesitan ingresar a la funcion Kolmogorov() como variables de entrada:\n",
        "\n",
        "\n",
        "\n",
        "1.   Datos -> Datos a realizar la prueba\n",
        "2.   a -> Nivel de significancia\n",
        "\n",
        "\n",
        "\n"
      ],
      "metadata": {
        "id": "E_jRC00fR8Lo"
      }
    },
    {
      "cell_type": "code",
      "source": [
        "def Kolmogorov(datos,a):\n",
        "  #Ordenar datos de menor a mayor\n",
        "  datos.sort()\n",
        "  n=len(datos)\n",
        "  #Calcular D+\n",
        "  lismas=[]\n",
        "  #Calcular D-\n",
        "  lismen=[]\n",
        "  for i in range(1,n+1):\n",
        "    xi=datos[i-1]\n",
        "    #------(D+)---------\n",
        "    in1=i/n\n",
        "    resmas=abs(in1-xi)\n",
        "    lismas.append(resmas)\n",
        "    #-----(D-)----------\n",
        "    in2=(i-1)/n\n",
        "    resmen=abs(xi-in2)\n",
        "    lismen.append(resmen)\n",
        "  dmas=max(lismas)\n",
        "  dmen=max(lismen)\n",
        "  #----CALCULAR D ------\n",
        "  D=max(dmas,dmen)\n",
        "  #---CALCULAR d(a,n)\n",
        "  dan=tablaKs(a,n)\n",
        "  if D<dan:\n",
        "    print(\"Se acepta la hipotesis nula para a=\",a)\n",
        "  else:\n",
        "    print(\"No se acepta la hipotesis nula para a =\",a)\n",
        "  return"
      ],
      "metadata": {
        "id": "KxYp5uh_PqCU"
      },
      "execution_count": 1,
      "outputs": []
    },
    {
      "cell_type": "markdown",
      "source": [
        "*Resultado*\n",
        "\n",
        "La conclusion de si se acepta o no la hipotesis nula la cual establece que los datos siguen una distribucion uniforme.\n"
      ],
      "metadata": {
        "id": "ExkStlp9UpzK"
      }
    },
    {
      "cell_type": "markdown",
      "source": [
        "***NOTA:***\n",
        "\n",
        "Para hallar el valor crítico Dn se necesita conocer a(nivel de significancia) y\n",
        "n(numero de datos) para asi buscarlo en la tabla correspondiente, y eso es lo que realiza la siguiente funcion.\n",
        "Pero este procedimiento ya se encuentra dentro de la funcion anterior."
      ],
      "metadata": {
        "id": "1S4HkxeFVGFL"
      }
    },
    {
      "cell_type": "markdown",
      "source": [
        "# **Función para buscar el valor crítico de Dn**"
      ],
      "metadata": {
        "id": "IiPabQOPM1dE"
      }
    },
    {
      "cell_type": "code",
      "source": [
        "def tablaKs(a,n):\n",
        "  if n<4:\n",
        "    print(\"No hay valor critico para n<4\")\n",
        "  elif n <=50:\n",
        "    tabla = [[0.3027, 0.3216, 0.3456, 0.3754, 0.4129],[0.2893, 0.3027, 0.3188, 0.3427, 0.3959],[0.2694, 0.2816, 0.2982, 0.3245, 0.3728],\n",
        "            [0.2521, 0.2641, 0.2802, 0.3041, 0.3504],[0.2387, 0.2502, 0.2649, 0.2875, 0.3331],[0.2273, 0.2382, 0.2522, 0.2744, 0.3162],\n",
        "            [0.2171, 0.2273, 0.2410, 0.2616, 0.3037],[0.2080, 0.2179, 0.2306, 0.2506, 0.2905],[0.2004, 0.2101, 0.2228, 0.2426, 0.2812],\n",
        "            [0.1932, 0.2025, 0.2147, 0.2337, 0.2714],[0.1869, 0.1959, 0.2077, 0.2257, 0.2627],[0.1811, 0.1899, 0.2016, 0.2196, 0.2545],\n",
        "            [0.1758, 0.1843, 0.1956, 0.2128, 0.2477],[0.1711, 0.1794, 0.1902, 0.2071, 0.2408],[0.1666, 0.1747, 0.1852, 0.2018, 0.2345],\n",
        "            [0.1624, 0.1700, 0.1803, 0.1965, 0.2285],[0.1589, 0.1666, 0.1764, 0.1920, 0.2226],[0.1429, 0.1498, 0.1589, 0.1726, 0.2010],\n",
        "            [0.1315, 0.1378, 0.1460, 0.1590, 0.1848],[0.1291, 0.1353, 0.1432, 0.1559, 0.1820],[0.1274, 0.1336, 0.1415, 0.1542, 0.1798],\n",
        "            [0.1254, 0.1314, 0.1392, 0.1518, 0.1770],[0.1236, 0.1295, 0.1373, 0.1497, 0.1747],[0.1220, 0.1278, 0.1356, 0.1478, 0.1720],\n",
        "            [0.1203, 0.1260, 0.1336, 0.1454, 0.1695],[0.1188, 0.1245, 0.1320, 0.1436, 0.1677],[0.1174, 0.1230, 0.1303, 0.1421, 0.1653],\n",
        "            [0.1159, 0.1214, 0.1288, 0.1402, 0.1634],[0.1147, 0.1204, 0.1275, 0.1386, 0.1616],[0.1131, 0.1186, 0.1258, 0.1373, 0.1599],\n",
        "            [0.1119, 0.1172, 0.1244, 0.1353, 0.1573],[0.1106, 0.1159, 0.1228, 0.1339, 0.1556],[0.1095, 0.1148, 0.1216, 0.1322, 0.1542],\n",
        "            [0.1083, 0.1134, 0.1204, 0.1309, 0.1525],[0.1071, 0.1123, 0.1189, 0.1293, 0.1512],[0.1062, 0.1113, 0.1180, 0.1282, 0.1499],\n",
        "            [0.1047, 0.1098, 0.1165, 0.1269, 0.1476],[0.1040, 0.1089, 0.1153, 0.1256, 0.1463],[0.1030, 0.1079, 0.1142, 0.1246, 0.1457]]\n",
        "    columna = [0.20,0.15,0.10,0.05,0.01]\n",
        "    fila = [4,5,6,7,8,9,10,11,12,13,14,15,16,17,18,19,20,25,30,31,32,33,34,35,36,37,38,39,40,41,42,43,44,45,46,47,48,49,50]\n",
        "    c = int(columna.index(a))\n",
        "    f = int(fila.index(n))\n",
        "    elemento = tabla[f][c]\n",
        "  elif n>50:\n",
        "    rn=n**(0.5)\n",
        "    if a==0.20:\n",
        "      elemento=0.724165/rn\n",
        "    elif a==0.15:\n",
        "      elemento=0.758905/rn\n",
        "    elif a==0.10:\n",
        "      elemento=0.8043545/rn\n",
        "    elif a==0.05:\n",
        "      elemento=0.875897/rn\n",
        "    elif a==0.01:\n",
        "      elemento=1.0210785/rn\n",
        "  return elemento"
      ],
      "metadata": {
        "id": "FtZEJt9e5VSI"
      },
      "execution_count": 2,
      "outputs": []
    },
    {
      "cell_type": "markdown",
      "source": [
        "# Ejercicio:"
      ],
      "metadata": {
        "id": "CbBfeB_Tam2d"
      }
    },
    {
      "cell_type": "code",
      "source": [
        "datos=[0.8797,0.3884,0.6289,0.8750,0.5999,0.8589,0.9996,0.2415,0.3808,0.9606,\n",
        "       0.9848,0.3469,0.7977,0.5844,0.8147,0.6431,0.7387,0.5613,0.0318,0.7401,\n",
        "       0.4557,0.1592,0.8536,0.8846,0.3410,0.1492,0.8681,0.5291,0.3188,0.5992,\n",
        "       0.9170,0.2204,0.5991,0.5461,0.5739,0.3254,0.0856,0.2258,0.4603,0.5027,\n",
        "       0.8376,0.6235,0.3681,0.2088,0.1525,0.2006,0.4720,0.4272,0.6360,0.0954]\n",
        "\n",
        "Kolmogorov(datos,0.20)\n",
        "Kolmogorov(datos,0.10)\n",
        "Kolmogorov(datos,0.15)\n",
        "Kolmogorov(datos,0.05)\n",
        "Kolmogorov(datos,0.01)"
      ],
      "metadata": {
        "colab": {
          "base_uri": "https://localhost:8080/"
        },
        "id": "MCtC6oI0aOOU",
        "outputId": "03c99479-2179-4e4c-f7de-981dd94a5773"
      },
      "execution_count": 3,
      "outputs": [
        {
          "output_type": "stream",
          "name": "stdout",
          "text": [
            "Se acepta la hipotesis nula para a= 0.2\n",
            "Se acepta la hipotesis nula para a= 0.1\n",
            "Se acepta la hipotesis nula para a= 0.15\n",
            "Se acepta la hipotesis nula para a= 0.05\n",
            "Se acepta la hipotesis nula para a= 0.01\n"
          ]
        }
      ]
    }
  ]
}