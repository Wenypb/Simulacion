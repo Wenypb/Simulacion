{
  "nbformat": 4,
  "nbformat_minor": 0,
  "metadata": {
    "colab": {
      "provenance": [],
      "authorship_tag": "ABX9TyOMdljH7h65waCaEO0MPQw+",
      "include_colab_link": true
    },
    "kernelspec": {
      "name": "python3",
      "display_name": "Python 3"
    },
    "language_info": {
      "name": "python"
    }
  },
  "cells": [
    {
      "cell_type": "markdown",
      "metadata": {
        "id": "view-in-github",
        "colab_type": "text"
      },
      "source": [
        "<a href=\"https://colab.research.google.com/github/Wenypb/Simulacion/blob/main/Prueba_chi.ipynb\" target=\"_parent\"><img src=\"https://colab.research.google.com/assets/colab-badge.svg\" alt=\"Open In Colab\"/></a>"
      ]
    },
    {
      "cell_type": "markdown",
      "source": [
        "# **Prueba chi-cuadrada**"
      ],
      "metadata": {
        "id": "4egeFxQZ8VaM"
      }
    },
    {
      "cell_type": "markdown",
      "source": [
        "La siguiente funcion aplica la prueba chi- cuadrada a cualquier conjunto de numeros aleatorios para determinar si estos se encuentran distribuidos uniformente."
      ],
      "metadata": {
        "id": "41QvHee58c_w"
      }
    },
    {
      "cell_type": "markdown",
      "source": [
        "*Variables de entrada*\n",
        "\n",
        "Para realizar la prueba se requiere:\n",
        "\n",
        "1. La lista del conjunto de datos\n",
        "2. El número de clases en las que se de desea dividir a los datos\n",
        "3. El nivel de aceptación ( Decimal )"
      ],
      "metadata": {
        "id": "NdxM6buj9NSS"
      }
    },
    {
      "cell_type": "markdown",
      "source": [],
      "metadata": {
        "id": "3_5-h3Jq9RHX"
      }
    },
    {
      "cell_type": "code",
      "source": [
        "def chi_cuadrada(datos,clases,aceptacion):\n",
        "  from tabulate import tabulate\n",
        "  import scipy.stats\n",
        "  #Ordena los datos de menor a mayor\n",
        "  datos.sort()\n",
        "  #Dato menor\n",
        "  mn=float(min(datos))\n",
        "  #Dato mayor\n",
        "  mx=float(max(datos))\n",
        "  #Frecuencia esperada en cada clase\n",
        "  fe=len(datos)/clases\n",
        "  #Calcular el intervalo de los datos\n",
        "  if mn<mx:\n",
        "    inter=mx-mn\n",
        "  else:\n",
        "    inter=mn-mx\n",
        "  #Paso de cada clase\n",
        "  h=inter/clases\n",
        "  clas=[]\n",
        "  ji=0\n",
        "  tab=[]\n",
        "  #Realiza la tabulacion de los resultados\n",
        "  for x in range(0,clases):\n",
        "    xmin=mn+h*x\n",
        "    xmax=mn+h*(x+1)\n",
        "    for a in range(0,len(datos)):\n",
        "      z=float(datos[a])\n",
        "      if z>=xmin and z<=xmax:\n",
        "        clas.append(z)\n",
        "    fo=len(clas)\n",
        "    resta=(fo-fe)\n",
        "    resul=(resta**2)/fe\n",
        "    ji=ji+resul\n",
        "    clas1=[xmin,xmax,fo,fe,resta,resul]\n",
        "    tab.append(clas1)\n",
        "    clas=[]\n",
        "  print(tabulate(tab,headers=[\"a\",\"b\",\"fo\",\"fe\",\"fo-fe\",\"((f0-fe)^2)/fe\"]))\n",
        "  #Datos para calcular valor critico\n",
        "  a=float(aceptacion)\n",
        "  gl=int(clases)-1\n",
        "  val=scipy.stats.chi2.ppf (a, gl)\n",
        "  print(\"El valor de ji cuadrada es:\",ji)\n",
        "  #Comparacion entre ji y el valor critico\n",
        "  if ji<val:\n",
        "    print(\"Como ji = \",ji,\"<\",val,\"= valor critico, el conjunto de datos sigue una distribucion uniforme\")\n",
        "  else:\n",
        "    print(\"Como ji = \",ji,\">\",val,\"= valor critico, el conjunto de datos no sigue una distribucion uniforme\")\n",
        "  return"
      ],
      "metadata": {
        "id": "WB4odloy16nM"
      },
      "execution_count": 3,
      "outputs": []
    },
    {
      "cell_type": "markdown",
      "source": [
        "*Resultado*\n",
        "\n",
        "1. Se obtiene una tabla con una simplificacion de los calculos realizados para obtener a chi-cuadrada (ji).\n",
        "2. La comparación de ji con el valor crítico del estadístico.\n",
        "3. La conclusión que se obtiene a partir de la comparación anterior.\n"
      ],
      "metadata": {
        "id": "4cycjnj4-ofZ"
      }
    },
    {
      "cell_type": "markdown",
      "source": [
        "*Ejemplo*"
      ],
      "metadata": {
        "id": "m-rm7fyj_w2E"
      }
    },
    {
      "cell_type": "code",
      "execution_count": 4,
      "metadata": {
        "colab": {
          "base_uri": "https://localhost:8080/"
        },
        "id": "7o_CYSI209y4",
        "outputId": "8298098a-1e4a-45c5-d43d-8ad5e0a28002"
      },
      "outputs": [
        {
          "output_type": "stream",
          "name": "stdout",
          "text": [
            "      a        b    fo    fe    fo-fe    ((f0-fe)^2)/fe\n",
            "-------  -------  ----  ----  -------  ----------------\n",
            "  0       31.875    32    32        0                 0\n",
            " 31.875   63.75     32    32        0                 0\n",
            " 63.75    95.625    32    32        0                 0\n",
            " 95.625  127.5      32    32        0                 0\n",
            "127.5    159.375    32    32        0                 0\n",
            "159.375  191.25     32    32        0                 0\n",
            "191.25   223.125    32    32        0                 0\n",
            "223.125  255        32    32        0                 0\n",
            "El valor de ji cuadrada es: 0.0\n",
            "Como ji =  0.0 < 14.067140449340169 = valor critico, el conjunto de datos sigue una distribucion uniforme\n"
          ]
        }
      ],
      "source": [
        "datos=[17, 138, 3, 124, 245, 110, 231, 96, 217, 82, 203, 68, 189, 54, 175, 40, 161, 26, 147, 12, 133, 254, 119, 240, 105, 226, 91, 212, 77, 198, 63, 184, 49, 170, 35, 156, 21, 142, 7, 128, 249, 114, 235, 100, 221, 86, 207, 72, 193, 58, 179, 44, 165, 30, 151, 16, 137, 2, 123, 244, 109, 230, 95, 216, 81, 202, 67, 188, 53, 174, 39, 160, 25, 146, 11, 132, 253, 118, 239, 104, 225, 90, 211, 76, 197, 62, 183, 48, 169, 34, 155, 20, 141, 6, 127, 248, 113, 234, 99, 220, 85, 206, 71, 192, 57, 178, 43, 164, 29, 150, 15, 136, 1, 122, 243, 108, 229, 94, 215, 80, 201, 66, 187, 52, 173, 38, 159, 24, 145, 10, 131, 252, 117, 238, 103, 224, 89, 210, 75, 196, 61, 182, 47, 168, 33, 154, 19, 140, 5, 126, 247, 112, 233, 98, 219, 84, 205, 70, 191, 56, 177, 42, 163, 28, 149, 14, 135, 0, 121, 242, 107, 228, 93, 214, 79, 200, 65, 186, 51, 172, 37, 158, 23, 144, 9, 130, 251, 116, 237, 102, 223, 88, 209, 74, 195, 60, 181, 46, 167, 32, 153, 18, 139, 4, 125, 246, 111, 232, 97, 218, 83, 204, 69, 190, 55, 176, 41, 162, 27, 148, 13, 134, 255, 120, 241, 106, 227, 92, 213, 78, 199, 64, 185, 50, 171, 36, 157, 22, 143, 8, 129, 250, 115, 236, 101, 222, 87, 208, 73, 194, 59, 180, 45, 166, 31, 152]\n",
        "clases=8\n",
        "a=0.95\n",
        "chi_cuadrada(datos,clases,a)"
      ]
    }
  ]
}