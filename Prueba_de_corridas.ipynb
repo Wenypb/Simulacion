{
  "nbformat": 4,
  "nbformat_minor": 0,
  "metadata": {
    "colab": {
      "provenance": [],
      "authorship_tag": "ABX9TyN5Az1blRb11e8598WJIVJS",
      "include_colab_link": true
    },
    "kernelspec": {
      "name": "python3",
      "display_name": "Python 3"
    },
    "language_info": {
      "name": "python"
    }
  },
  "cells": [
    {
      "cell_type": "markdown",
      "metadata": {
        "id": "view-in-github",
        "colab_type": "text"
      },
      "source": [
        "<a href=\"https://colab.research.google.com/github/Wenypb/Simulacion/blob/main/Prueba_de_corridas.ipynb\" target=\"_parent\"><img src=\"https://colab.research.google.com/assets/colab-badge.svg\" alt=\"Open In Colab\"/></a>"
      ]
    },
    {
      "cell_type": "code",
      "execution_count": 21,
      "metadata": {
        "colab": {
          "base_uri": "https://localhost:8080/"
        },
        "id": "jcj_f1TeuQqD",
        "outputId": "cb0c0a2a-d56c-4a12-f90c-b224ca1a015d"
      },
      "outputs": [
        {
          "output_type": "stream",
          "name": "stdout",
          "text": [
            "La secuencia de los datos es la siguiente:\n",
            "[1, 0, 0, 1, 0, 0, 1, 0, 1, 0, 1, 0, 1, 1, 1, 0, 0, 1, 0, 0, 0, 0, 1, 1]\n",
            "Las corridas con sus respectivas longitudes son las siguientes:\n",
            "  Corrida    Longitud\n",
            "---------  ----------\n",
            "        1           1\n",
            "        2           2\n",
            "        3           1\n",
            "        4           2\n",
            "        5           1\n",
            "        6           1\n",
            "        7           1\n",
            "        8           1\n",
            "        9           1\n",
            "       10           1\n",
            "       11           3\n",
            "       12           2\n",
            "       13           1\n",
            "       14           4\n",
            "       15           2\n",
            "16.333333333333332\n",
            "4.122222222222222\n",
            "-0.6567091033031179\n"
          ]
        }
      ],
      "source": [
        "#DATOS\n",
        "datos=[0.048,0.591,0.478,0.166,0.932,0.926,0.007,0.551,0.362,0.533,0.368,0.437,0.178,0.411,0.545,0.787,0.594,0.086,0.951,0.772,0.298,0.199,0.157,0.401,0.631]\n",
        "from tabulate import tabulate\n",
        "l=len(datos)\n",
        "#DETERMINAR LA SECUENCIA\n",
        "secuencia=[]\n",
        "for i in range(0,l-1):\n",
        "  x0=datos[i]\n",
        "  x1=datos[i+1]\n",
        "  if x1<=x0:\n",
        "    secuencia.append(0)\n",
        "  else:\n",
        "    secuencia.append(1)\n",
        "print(\"La secuencia de los datos es la siguiente:\")\n",
        "print(secuencia)\n",
        "#DETERMINAR EL NUMERO DE CORRIDAS Y LA LONGITUD DE CADA UNA\n",
        "longitud=[]\n",
        "racha=[]\n",
        "rach=0\n",
        "lon=1\n",
        "corrida=[]\n",
        "for i in range(0,l-2):\n",
        "  r0=secuencia[i]\n",
        "  r1=secuencia[i+1]\n",
        "  if r0==r1:\n",
        "    lon=lon+1\n",
        "  else:\n",
        "    rach=rach+1\n",
        "    tab=[rach,lon]\n",
        "    corrida.append(tab)\n",
        "    lon=1\n",
        "rach=rach+1\n",
        "tab=[rach,lon]\n",
        "corrida.append(tab)\n",
        "print(\"Las corridas con sus respectivas longitudes son las siguientes:\")\n",
        "print(tabulate(corrida,headers=[\"Corrida\",\"Longitud\"]))\n",
        "#DETERMINAR EL VALOR ESPERADO\n",
        "mu=(2*l-1)/3\n",
        "print(mu)\n",
        "#DETERMINAR LA VARIANZA\n",
        "sig_cua=(16*l-29)/90\n",
        "print(sig_cua)\n",
        "#DETERMINAR EL ESTADISTICO Z0\n",
        "Z0=(rach-mu)/(sig_cua)**(0.5)\n",
        "print(Z0)\n",
        ""
      ]
    }
  ]
}