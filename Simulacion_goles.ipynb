{
  "cells": [
    {
      "cell_type": "markdown",
      "metadata": {
        "id": "view-in-github",
        "colab_type": "text"
      },
      "source": [
        "<a href=\"https://colab.research.google.com/github/Wenypb/Simulacion/blob/main/Simulacion_goles.ipynb\" target=\"_parent\"><img src=\"https://colab.research.google.com/assets/colab-badge.svg\" alt=\"Open In Colab\"/></a>"
      ]
    },
    {
      "cell_type": "markdown",
      "source": [
        "# **LIBRERIAS**"
      ],
      "metadata": {
        "id": "TcjmMD5Xsg0A"
      }
    },
    {
      "cell_type": "code",
      "execution_count": 887,
      "metadata": {
        "id": "tHfvHozGEK3X"
      },
      "outputs": [],
      "source": [
        "import pandas as pd\n",
        "import numpy as np\n",
        "from statistics import mean\n",
        "import scipy.stats as ss\n",
        "import matplotlib.pyplot as plt\n",
        "import seaborn as sns\n",
        "from collections import Counter\n",
        "from tabulate import tabulate"
      ]
    },
    {
      "cell_type": "markdown",
      "source": [
        "# **BASE DE DATOS**"
      ],
      "metadata": {
        "id": "4nx6eWfesk-r"
      }
    },
    {
      "cell_type": "code",
      "execution_count": 888,
      "metadata": {
        "id": "rtBrW401EURo"
      },
      "outputs": [],
      "source": [
        "# df -> Base de datos\n",
        "df=pd.read_excel(\"Datos.xlsx\")"
      ]
    },
    {
      "cell_type": "code",
      "execution_count": 889,
      "metadata": {
        "id": "G6haK3UzIExq",
        "outputId": "2f2bc26c-d8bb-4b2c-b883-7d24cde7ac96",
        "colab": {
          "base_uri": "https://localhost:8080/",
          "height": 0
        }
      },
      "outputs": [
        {
          "output_type": "execute_result",
          "data": {
            "text/plain": [
              "      Sem.        Local   xG Marcador  Gol-Local  Gol-Visitante  xG.1  \\\n",
              "0        1       Necaxa  0.5      0–3          0              3   2.0   \n",
              "1        1         UNAM  0.7      3–2          3              2   0.8   \n",
              "2        1      Tijuana  1.6      3–1          3              1   1.0   \n",
              "3        1  Guadalajara  0.6      0–0          0              0   1.1   \n",
              "4        1    Cruz Azul  2.3      2–0          2              0   0.3   \n",
              "...    ...          ...  ...      ...        ...            ...   ...   \n",
              "1219    17         UANL  3.1      4–1          4              1   0.8   \n",
              "1220    17      Pachuca  1.5      1–1          1              1   0.9   \n",
              "1221    17        Atlas  0.4      0–1          0              1   1.2   \n",
              "1222    17       Necaxa  1.2      2–5          2              5   1.5   \n",
              "1223    17       Santos  1.6      0–3          0              3   1.6   \n",
              "\n",
              "        Visitante  \n",
              "0            UANL  \n",
              "1       Querétaro  \n",
              "2           Atlas  \n",
              "3            León  \n",
              "4          Santos  \n",
              "...           ...  \n",
              "1219      Tijuana  \n",
              "1220     Mazatlán  \n",
              "1221  Guadalajara  \n",
              "1222    Monterrey  \n",
              "1223     Atlético  \n",
              "\n",
              "[1224 rows x 8 columns]"
            ],
            "text/html": [
              "\n",
              "  <div id=\"df-ed784a13-c1d8-4c1e-9d88-aa2b830b3d8e\" class=\"colab-df-container\">\n",
              "    <div>\n",
              "<style scoped>\n",
              "    .dataframe tbody tr th:only-of-type {\n",
              "        vertical-align: middle;\n",
              "    }\n",
              "\n",
              "    .dataframe tbody tr th {\n",
              "        vertical-align: top;\n",
              "    }\n",
              "\n",
              "    .dataframe thead th {\n",
              "        text-align: right;\n",
              "    }\n",
              "</style>\n",
              "<table border=\"1\" class=\"dataframe\">\n",
              "  <thead>\n",
              "    <tr style=\"text-align: right;\">\n",
              "      <th></th>\n",
              "      <th>Sem.</th>\n",
              "      <th>Local</th>\n",
              "      <th>xG</th>\n",
              "      <th>Marcador</th>\n",
              "      <th>Gol-Local</th>\n",
              "      <th>Gol-Visitante</th>\n",
              "      <th>xG.1</th>\n",
              "      <th>Visitante</th>\n",
              "    </tr>\n",
              "  </thead>\n",
              "  <tbody>\n",
              "    <tr>\n",
              "      <th>0</th>\n",
              "      <td>1</td>\n",
              "      <td>Necaxa</td>\n",
              "      <td>0.5</td>\n",
              "      <td>0–3</td>\n",
              "      <td>0</td>\n",
              "      <td>3</td>\n",
              "      <td>2.0</td>\n",
              "      <td>UANL</td>\n",
              "    </tr>\n",
              "    <tr>\n",
              "      <th>1</th>\n",
              "      <td>1</td>\n",
              "      <td>UNAM</td>\n",
              "      <td>0.7</td>\n",
              "      <td>3–2</td>\n",
              "      <td>3</td>\n",
              "      <td>2</td>\n",
              "      <td>0.8</td>\n",
              "      <td>Querétaro</td>\n",
              "    </tr>\n",
              "    <tr>\n",
              "      <th>2</th>\n",
              "      <td>1</td>\n",
              "      <td>Tijuana</td>\n",
              "      <td>1.6</td>\n",
              "      <td>3–1</td>\n",
              "      <td>3</td>\n",
              "      <td>1</td>\n",
              "      <td>1.0</td>\n",
              "      <td>Atlas</td>\n",
              "    </tr>\n",
              "    <tr>\n",
              "      <th>3</th>\n",
              "      <td>1</td>\n",
              "      <td>Guadalajara</td>\n",
              "      <td>0.6</td>\n",
              "      <td>0–0</td>\n",
              "      <td>0</td>\n",
              "      <td>0</td>\n",
              "      <td>1.1</td>\n",
              "      <td>León</td>\n",
              "    </tr>\n",
              "    <tr>\n",
              "      <th>4</th>\n",
              "      <td>1</td>\n",
              "      <td>Cruz Azul</td>\n",
              "      <td>2.3</td>\n",
              "      <td>2–0</td>\n",
              "      <td>2</td>\n",
              "      <td>0</td>\n",
              "      <td>0.3</td>\n",
              "      <td>Santos</td>\n",
              "    </tr>\n",
              "    <tr>\n",
              "      <th>...</th>\n",
              "      <td>...</td>\n",
              "      <td>...</td>\n",
              "      <td>...</td>\n",
              "      <td>...</td>\n",
              "      <td>...</td>\n",
              "      <td>...</td>\n",
              "      <td>...</td>\n",
              "      <td>...</td>\n",
              "    </tr>\n",
              "    <tr>\n",
              "      <th>1219</th>\n",
              "      <td>17</td>\n",
              "      <td>UANL</td>\n",
              "      <td>3.1</td>\n",
              "      <td>4–1</td>\n",
              "      <td>4</td>\n",
              "      <td>1</td>\n",
              "      <td>0.8</td>\n",
              "      <td>Tijuana</td>\n",
              "    </tr>\n",
              "    <tr>\n",
              "      <th>1220</th>\n",
              "      <td>17</td>\n",
              "      <td>Pachuca</td>\n",
              "      <td>1.5</td>\n",
              "      <td>1–1</td>\n",
              "      <td>1</td>\n",
              "      <td>1</td>\n",
              "      <td>0.9</td>\n",
              "      <td>Mazatlán</td>\n",
              "    </tr>\n",
              "    <tr>\n",
              "      <th>1221</th>\n",
              "      <td>17</td>\n",
              "      <td>Atlas</td>\n",
              "      <td>0.4</td>\n",
              "      <td>0–1</td>\n",
              "      <td>0</td>\n",
              "      <td>1</td>\n",
              "      <td>1.2</td>\n",
              "      <td>Guadalajara</td>\n",
              "    </tr>\n",
              "    <tr>\n",
              "      <th>1222</th>\n",
              "      <td>17</td>\n",
              "      <td>Necaxa</td>\n",
              "      <td>1.2</td>\n",
              "      <td>2–5</td>\n",
              "      <td>2</td>\n",
              "      <td>5</td>\n",
              "      <td>1.5</td>\n",
              "      <td>Monterrey</td>\n",
              "    </tr>\n",
              "    <tr>\n",
              "      <th>1223</th>\n",
              "      <td>17</td>\n",
              "      <td>Santos</td>\n",
              "      <td>1.6</td>\n",
              "      <td>0–3</td>\n",
              "      <td>0</td>\n",
              "      <td>3</td>\n",
              "      <td>1.6</td>\n",
              "      <td>Atlético</td>\n",
              "    </tr>\n",
              "  </tbody>\n",
              "</table>\n",
              "<p>1224 rows × 8 columns</p>\n",
              "</div>\n",
              "    <div class=\"colab-df-buttons\">\n",
              "\n",
              "  <div class=\"colab-df-container\">\n",
              "    <button class=\"colab-df-convert\" onclick=\"convertToInteractive('df-ed784a13-c1d8-4c1e-9d88-aa2b830b3d8e')\"\n",
              "            title=\"Convert this dataframe to an interactive table.\"\n",
              "            style=\"display:none;\">\n",
              "\n",
              "  <svg xmlns=\"http://www.w3.org/2000/svg\" height=\"24px\" viewBox=\"0 -960 960 960\">\n",
              "    <path d=\"M120-120v-720h720v720H120Zm60-500h600v-160H180v160Zm220 220h160v-160H400v160Zm0 220h160v-160H400v160ZM180-400h160v-160H180v160Zm440 0h160v-160H620v160ZM180-180h160v-160H180v160Zm440 0h160v-160H620v160Z\"/>\n",
              "  </svg>\n",
              "    </button>\n",
              "\n",
              "  <style>\n",
              "    .colab-df-container {\n",
              "      display:flex;\n",
              "      gap: 12px;\n",
              "    }\n",
              "\n",
              "    .colab-df-convert {\n",
              "      background-color: #E8F0FE;\n",
              "      border: none;\n",
              "      border-radius: 50%;\n",
              "      cursor: pointer;\n",
              "      display: none;\n",
              "      fill: #1967D2;\n",
              "      height: 32px;\n",
              "      padding: 0 0 0 0;\n",
              "      width: 32px;\n",
              "    }\n",
              "\n",
              "    .colab-df-convert:hover {\n",
              "      background-color: #E2EBFA;\n",
              "      box-shadow: 0px 1px 2px rgba(60, 64, 67, 0.3), 0px 1px 3px 1px rgba(60, 64, 67, 0.15);\n",
              "      fill: #174EA6;\n",
              "    }\n",
              "\n",
              "    .colab-df-buttons div {\n",
              "      margin-bottom: 4px;\n",
              "    }\n",
              "\n",
              "    [theme=dark] .colab-df-convert {\n",
              "      background-color: #3B4455;\n",
              "      fill: #D2E3FC;\n",
              "    }\n",
              "\n",
              "    [theme=dark] .colab-df-convert:hover {\n",
              "      background-color: #434B5C;\n",
              "      box-shadow: 0px 1px 3px 1px rgba(0, 0, 0, 0.15);\n",
              "      filter: drop-shadow(0px 1px 2px rgba(0, 0, 0, 0.3));\n",
              "      fill: #FFFFFF;\n",
              "    }\n",
              "  </style>\n",
              "\n",
              "    <script>\n",
              "      const buttonEl =\n",
              "        document.querySelector('#df-ed784a13-c1d8-4c1e-9d88-aa2b830b3d8e button.colab-df-convert');\n",
              "      buttonEl.style.display =\n",
              "        google.colab.kernel.accessAllowed ? 'block' : 'none';\n",
              "\n",
              "      async function convertToInteractive(key) {\n",
              "        const element = document.querySelector('#df-ed784a13-c1d8-4c1e-9d88-aa2b830b3d8e');\n",
              "        const dataTable =\n",
              "          await google.colab.kernel.invokeFunction('convertToInteractive',\n",
              "                                                    [key], {});\n",
              "        if (!dataTable) return;\n",
              "\n",
              "        const docLinkHtml = 'Like what you see? Visit the ' +\n",
              "          '<a target=\"_blank\" href=https://colab.research.google.com/notebooks/data_table.ipynb>data table notebook</a>'\n",
              "          + ' to learn more about interactive tables.';\n",
              "        element.innerHTML = '';\n",
              "        dataTable['output_type'] = 'display_data';\n",
              "        await google.colab.output.renderOutput(dataTable, element);\n",
              "        const docLink = document.createElement('div');\n",
              "        docLink.innerHTML = docLinkHtml;\n",
              "        element.appendChild(docLink);\n",
              "      }\n",
              "    </script>\n",
              "  </div>\n",
              "\n",
              "\n",
              "<div id=\"df-82c5c933-263d-42d9-b1f4-cb92a44590b4\">\n",
              "  <button class=\"colab-df-quickchart\" onclick=\"quickchart('df-82c5c933-263d-42d9-b1f4-cb92a44590b4')\"\n",
              "            title=\"Suggest charts\"\n",
              "            style=\"display:none;\">\n",
              "\n",
              "<svg xmlns=\"http://www.w3.org/2000/svg\" height=\"24px\"viewBox=\"0 0 24 24\"\n",
              "     width=\"24px\">\n",
              "    <g>\n",
              "        <path d=\"M19 3H5c-1.1 0-2 .9-2 2v14c0 1.1.9 2 2 2h14c1.1 0 2-.9 2-2V5c0-1.1-.9-2-2-2zM9 17H7v-7h2v7zm4 0h-2V7h2v10zm4 0h-2v-4h2v4z\"/>\n",
              "    </g>\n",
              "</svg>\n",
              "  </button>\n",
              "\n",
              "<style>\n",
              "  .colab-df-quickchart {\n",
              "      --bg-color: #E8F0FE;\n",
              "      --fill-color: #1967D2;\n",
              "      --hover-bg-color: #E2EBFA;\n",
              "      --hover-fill-color: #174EA6;\n",
              "      --disabled-fill-color: #AAA;\n",
              "      --disabled-bg-color: #DDD;\n",
              "  }\n",
              "\n",
              "  [theme=dark] .colab-df-quickchart {\n",
              "      --bg-color: #3B4455;\n",
              "      --fill-color: #D2E3FC;\n",
              "      --hover-bg-color: #434B5C;\n",
              "      --hover-fill-color: #FFFFFF;\n",
              "      --disabled-bg-color: #3B4455;\n",
              "      --disabled-fill-color: #666;\n",
              "  }\n",
              "\n",
              "  .colab-df-quickchart {\n",
              "    background-color: var(--bg-color);\n",
              "    border: none;\n",
              "    border-radius: 50%;\n",
              "    cursor: pointer;\n",
              "    display: none;\n",
              "    fill: var(--fill-color);\n",
              "    height: 32px;\n",
              "    padding: 0;\n",
              "    width: 32px;\n",
              "  }\n",
              "\n",
              "  .colab-df-quickchart:hover {\n",
              "    background-color: var(--hover-bg-color);\n",
              "    box-shadow: 0 1px 2px rgba(60, 64, 67, 0.3), 0 1px 3px 1px rgba(60, 64, 67, 0.15);\n",
              "    fill: var(--button-hover-fill-color);\n",
              "  }\n",
              "\n",
              "  .colab-df-quickchart-complete:disabled,\n",
              "  .colab-df-quickchart-complete:disabled:hover {\n",
              "    background-color: var(--disabled-bg-color);\n",
              "    fill: var(--disabled-fill-color);\n",
              "    box-shadow: none;\n",
              "  }\n",
              "\n",
              "  .colab-df-spinner {\n",
              "    border: 2px solid var(--fill-color);\n",
              "    border-color: transparent;\n",
              "    border-bottom-color: var(--fill-color);\n",
              "    animation:\n",
              "      spin 1s steps(1) infinite;\n",
              "  }\n",
              "\n",
              "  @keyframes spin {\n",
              "    0% {\n",
              "      border-color: transparent;\n",
              "      border-bottom-color: var(--fill-color);\n",
              "      border-left-color: var(--fill-color);\n",
              "    }\n",
              "    20% {\n",
              "      border-color: transparent;\n",
              "      border-left-color: var(--fill-color);\n",
              "      border-top-color: var(--fill-color);\n",
              "    }\n",
              "    30% {\n",
              "      border-color: transparent;\n",
              "      border-left-color: var(--fill-color);\n",
              "      border-top-color: var(--fill-color);\n",
              "      border-right-color: var(--fill-color);\n",
              "    }\n",
              "    40% {\n",
              "      border-color: transparent;\n",
              "      border-right-color: var(--fill-color);\n",
              "      border-top-color: var(--fill-color);\n",
              "    }\n",
              "    60% {\n",
              "      border-color: transparent;\n",
              "      border-right-color: var(--fill-color);\n",
              "    }\n",
              "    80% {\n",
              "      border-color: transparent;\n",
              "      border-right-color: var(--fill-color);\n",
              "      border-bottom-color: var(--fill-color);\n",
              "    }\n",
              "    90% {\n",
              "      border-color: transparent;\n",
              "      border-bottom-color: var(--fill-color);\n",
              "    }\n",
              "  }\n",
              "</style>\n",
              "\n",
              "  <script>\n",
              "    async function quickchart(key) {\n",
              "      const quickchartButtonEl =\n",
              "        document.querySelector('#' + key + ' button');\n",
              "      quickchartButtonEl.disabled = true;  // To prevent multiple clicks.\n",
              "      quickchartButtonEl.classList.add('colab-df-spinner');\n",
              "      try {\n",
              "        const charts = await google.colab.kernel.invokeFunction(\n",
              "            'suggestCharts', [key], {});\n",
              "      } catch (error) {\n",
              "        console.error('Error during call to suggestCharts:', error);\n",
              "      }\n",
              "      quickchartButtonEl.classList.remove('colab-df-spinner');\n",
              "      quickchartButtonEl.classList.add('colab-df-quickchart-complete');\n",
              "    }\n",
              "    (() => {\n",
              "      let quickchartButtonEl =\n",
              "        document.querySelector('#df-82c5c933-263d-42d9-b1f4-cb92a44590b4 button');\n",
              "      quickchartButtonEl.style.display =\n",
              "        google.colab.kernel.accessAllowed ? 'block' : 'none';\n",
              "    })();\n",
              "  </script>\n",
              "</div>\n",
              "\n",
              "  <div id=\"id_056ceece-a53c-429f-836b-5c0b25a0d486\">\n",
              "    <style>\n",
              "      .colab-df-generate {\n",
              "        background-color: #E8F0FE;\n",
              "        border: none;\n",
              "        border-radius: 50%;\n",
              "        cursor: pointer;\n",
              "        display: none;\n",
              "        fill: #1967D2;\n",
              "        height: 32px;\n",
              "        padding: 0 0 0 0;\n",
              "        width: 32px;\n",
              "      }\n",
              "\n",
              "      .colab-df-generate:hover {\n",
              "        background-color: #E2EBFA;\n",
              "        box-shadow: 0px 1px 2px rgba(60, 64, 67, 0.3), 0px 1px 3px 1px rgba(60, 64, 67, 0.15);\n",
              "        fill: #174EA6;\n",
              "      }\n",
              "\n",
              "      [theme=dark] .colab-df-generate {\n",
              "        background-color: #3B4455;\n",
              "        fill: #D2E3FC;\n",
              "      }\n",
              "\n",
              "      [theme=dark] .colab-df-generate:hover {\n",
              "        background-color: #434B5C;\n",
              "        box-shadow: 0px 1px 3px 1px rgba(0, 0, 0, 0.15);\n",
              "        filter: drop-shadow(0px 1px 2px rgba(0, 0, 0, 0.3));\n",
              "        fill: #FFFFFF;\n",
              "      }\n",
              "    </style>\n",
              "    <button class=\"colab-df-generate\" onclick=\"generateWithVariable('df')\"\n",
              "            title=\"Generate code using this dataframe.\"\n",
              "            style=\"display:none;\">\n",
              "\n",
              "  <svg xmlns=\"http://www.w3.org/2000/svg\" height=\"24px\"viewBox=\"0 0 24 24\"\n",
              "       width=\"24px\">\n",
              "    <path d=\"M7,19H8.4L18.45,9,17,7.55,7,17.6ZM5,21V16.75L18.45,3.32a2,2,0,0,1,2.83,0l1.4,1.43a1.91,1.91,0,0,1,.58,1.4,1.91,1.91,0,0,1-.58,1.4L9.25,21ZM18.45,9,17,7.55Zm-12,3A5.31,5.31,0,0,0,4.9,8.1,5.31,5.31,0,0,0,1,6.5,5.31,5.31,0,0,0,4.9,4.9,5.31,5.31,0,0,0,6.5,1,5.31,5.31,0,0,0,8.1,4.9,5.31,5.31,0,0,0,12,6.5,5.46,5.46,0,0,0,6.5,12Z\"/>\n",
              "  </svg>\n",
              "    </button>\n",
              "    <script>\n",
              "      (() => {\n",
              "      const buttonEl =\n",
              "        document.querySelector('#id_056ceece-a53c-429f-836b-5c0b25a0d486 button.colab-df-generate');\n",
              "      buttonEl.style.display =\n",
              "        google.colab.kernel.accessAllowed ? 'block' : 'none';\n",
              "\n",
              "      buttonEl.onclick = () => {\n",
              "        google.colab.notebook.generateWithVariable('df');\n",
              "      }\n",
              "      })();\n",
              "    </script>\n",
              "  </div>\n",
              "\n",
              "    </div>\n",
              "  </div>\n"
            ],
            "application/vnd.google.colaboratory.intrinsic+json": {
              "type": "dataframe",
              "variable_name": "df",
              "summary": "{\n  \"name\": \"df\",\n  \"rows\": 1224,\n  \"fields\": [\n    {\n      \"column\": \"Sem.\",\n      \"properties\": {\n        \"dtype\": \"number\",\n        \"std\": 4,\n        \"min\": 1,\n        \"max\": 17,\n        \"num_unique_values\": 17,\n        \"samples\": [\n          1,\n          2,\n          6\n        ],\n        \"semantic_type\": \"\",\n        \"description\": \"\"\n      }\n    },\n    {\n      \"column\": \"Local\",\n      \"properties\": {\n        \"dtype\": \"category\",\n        \"num_unique_values\": 18,\n        \"samples\": [\n          \"Necaxa\",\n          \"UNAM\",\n          \"Monterrey\"\n        ],\n        \"semantic_type\": \"\",\n        \"description\": \"\"\n      }\n    },\n    {\n      \"column\": \"xG\",\n      \"properties\": {\n        \"dtype\": \"number\",\n        \"std\": 0.7361338405852101,\n        \"min\": 0.1,\n        \"max\": 4.8,\n        \"num_unique_values\": 43,\n        \"samples\": [\n          4.0,\n          1.9,\n          1.1\n        ],\n        \"semantic_type\": \"\",\n        \"description\": \"\"\n      }\n    },\n    {\n      \"column\": \"Marcador\",\n      \"properties\": {\n        \"dtype\": \"category\",\n        \"num_unique_values\": 36,\n        \"samples\": [\n          \"5\\u20134\",\n          \"0\\u20132\",\n          \"0\\u20134\"\n        ],\n        \"semantic_type\": \"\",\n        \"description\": \"\"\n      }\n    },\n    {\n      \"column\": \"Gol-Local\",\n      \"properties\": {\n        \"dtype\": \"number\",\n        \"std\": 1,\n        \"min\": 0,\n        \"max\": 7,\n        \"num_unique_values\": 8,\n        \"samples\": [\n          3,\n          5,\n          0\n        ],\n        \"semantic_type\": \"\",\n        \"description\": \"\"\n      }\n    },\n    {\n      \"column\": \"Gol-Visitante\",\n      \"properties\": {\n        \"dtype\": \"number\",\n        \"std\": 1,\n        \"min\": 0,\n        \"max\": 6,\n        \"num_unique_values\": 7,\n        \"samples\": [\n          3,\n          2,\n          5\n        ],\n        \"semantic_type\": \"\",\n        \"description\": \"\"\n      }\n    },\n    {\n      \"column\": \"xG.1\",\n      \"properties\": {\n        \"dtype\": \"number\",\n        \"std\": 0.6685652163964217,\n        \"min\": 0.0,\n        \"max\": 4.9,\n        \"num_unique_values\": 39,\n        \"samples\": [\n          0.0,\n          4.2,\n          0.3\n        ],\n        \"semantic_type\": \"\",\n        \"description\": \"\"\n      }\n    },\n    {\n      \"column\": \"Visitante\",\n      \"properties\": {\n        \"dtype\": \"category\",\n        \"num_unique_values\": 18,\n        \"samples\": [\n          \"UANL\",\n          \"Quer\\u00e9taro\",\n          \"Toluca\"\n        ],\n        \"semantic_type\": \"\",\n        \"description\": \"\"\n      }\n    }\n  ]\n}"
            }
          },
          "metadata": {},
          "execution_count": 889
        }
      ],
      "source": [
        "# Mostrar la base de datos\n",
        "df"
      ]
    },
    {
      "cell_type": "code",
      "execution_count": 890,
      "metadata": {
        "id": "EhKRKr_XKg-P"
      },
      "outputs": [],
      "source": [
        "# Extraemos las columnas de la base de datos\n",
        "Equipos_locales=df[\"Local\"]\n",
        "Equipos_visitantes=df[\"Visitante\"]\n",
        "Goles_locales=df[\"Gol-Local\"]\n",
        "Goles_visitantes=df[\"Gol-Visitante\"]\n",
        "Goles_esp_locales=df[\"xG\"]\n",
        "Goles_esp_visitantes=df[\"xG.1\"]\n"
      ]
    },
    {
      "cell_type": "markdown",
      "source": [
        "# **EQUIPOS DE LA LIGA MX**"
      ],
      "metadata": {
        "id": "XIQ_abNUtwMc"
      }
    },
    {
      "cell_type": "code",
      "execution_count": 891,
      "metadata": {
        "id": "BuY6fNgMJKdG",
        "outputId": "10652ca1-8897-40e8-ea2e-9fea1be39ad1",
        "colab": {
          "base_uri": "https://localhost:8080/"
        }
      },
      "outputs": [
        {
          "output_type": "stream",
          "name": "stdout",
          "text": [
            "['Necaxa' 'UNAM' 'Tijuana' 'Guadalajara' 'Cruz Azul' 'Atlético' 'Pachuca'\n",
            " 'Mazatlán' 'Monterrey' 'Puebla' 'FC Juárez' 'Toluca' 'Querétaro' 'UANL'\n",
            " 'América' 'Santos' 'Atlas' 'León']\n"
          ]
        }
      ],
      "source": [
        "#Lista de los equipos que forman parte de la Liga MX\n",
        "Equipos=df[\"Local\"].unique()\n",
        "print(Equipos)"
      ]
    },
    {
      "cell_type": "markdown",
      "source": [
        "# **JUSTIFICACIÓN DEL USO DE LA DISTRIBUCCIÓN DE POISSON**"
      ],
      "metadata": {
        "id": "P4vy2qbscWVF"
      }
    },
    {
      "cell_type": "markdown",
      "source": [
        "La distribución de Poisson es adecuada para modelar eventos que ocurren de manera aleatoria e independiente en intervalos de tiempo o espacio, y es particularmente útil cuando estos eventos son relativamente poco frecuentes pero posibles en grandes cantidades. En el contexto de los partidos de fútbol, los goles anotados durante un partido pueden considerarse como eventos aleatorios que ocurren a lo largo del tiempo, y su frecuencia no sigue un patrón perfectamente regular."
      ],
      "metadata": {
        "id": "nIi80WHvdguC"
      }
    },
    {
      "cell_type": "code",
      "source": [
        "# Datos\n",
        "Goles_partido = [0, 1, 2, 3, 4, 5, 6, 7]\n",
        "Gol_locales = [283, 418, 291, 162, 55, 12, 2, 1]\n",
        "Gol_visitantes = [371, 462, 250, 108, 22, 9, 2, 0]\n",
        "\n",
        "# Calcular las medias\n",
        "media_local = np.mean(Goles_locales)\n",
        "media_visitante = np.mean(Goles_visitantes)\n",
        "\n",
        "# Imprimir las medias\n",
        "print(f\"Media de goles locales: {round(media_local,2)}\")\n",
        "print(f\"Media de goles visitantes: {round(media_visitante,2)}\")\n",
        "\n",
        "# Distribución Poisson para goles locales y visitantes\n",
        "Loc = ss.poisson(media_local)\n",
        "Vis = ss.poisson(media_visitante)\n",
        "\n",
        "# Crear el gráfico de barras para goles locales y visitantes\n",
        "plt.figure(figsize=(10, 6))\n",
        "\n",
        "# Gráfico para goles locales (en azul)\n",
        "plt.bar(Goles_partido, Gol_locales, color='blue', width=0.3, label='Goles Locales', align='center')\n",
        "\n",
        "# Gráfico para goles visitantes (en verde)\n",
        "plt.bar(Goles_partido, Gol_visitantes, color='green', width=0.3, label='Goles Visitantes', align='edge')\n",
        "\n",
        "# Superponer las curvas Poisson para goles locales y visitantes\n",
        "plt.plot(Goles_partido, Loc.pmf(Goles_partido) * sum(Gol_locales), 'r-', lw=2, label=f'Poisson Local (λ={media_local:.2f})')\n",
        "plt.plot(Goles_partido, Vis.pmf(Goles_partido) * sum(Gol_visitantes), 'orange', lw=2, label=f'Poisson Visitante (λ={media_visitante:.2f})')\n",
        "\n",
        "# Título y etiquetas\n",
        "plt.title('Frecuencia de Goles Locales y Visitantes con Curvas Poisson')\n",
        "plt.xlabel('Número de Goles')\n",
        "plt.ylabel('Frecuencia')\n",
        "plt.legend()\n",
        "\n",
        "# Mostrar el gráfico\n",
        "plt.tight_layout()\n",
        "plt.show()\n"
      ],
      "metadata": {
        "colab": {
          "base_uri": "https://localhost:8080/",
          "height": 643
        },
        "id": "hiLpS5X2cWf1",
        "outputId": "eba607af-5d56-4fe1-87b2-63eee1206180"
      },
      "execution_count": 892,
      "outputs": [
        {
          "output_type": "stream",
          "name": "stdout",
          "text": [
            "Media de goles locales: 1.46\n",
            "Media de goles visitantes: 1.17\n"
          ]
        },
        {
          "output_type": "display_data",
          "data": {
            "text/plain": [
              "<Figure size 1000x600 with 1 Axes>"
            ],
            "image/png": "[encoded data removed]"
          },
          "metadata": {}
        }
      ]
    },
    {
      "cell_type": "code",
      "source": [
        "Ventaja_local=media_local/media_visitante\n",
        "print(\"La ventaja que tienen los equipos locales sobre los visitantes es de\",Ventaja_local)"
      ],
      "metadata": {
        "colab": {
          "base_uri": "https://localhost:8080/"
        },
        "id": "LGWg7kZ_e9uk",
        "outputId": "53eecbe0-cdd8-40ea-e3dd-def7beae314d"
      },
      "execution_count": 893,
      "outputs": [
        {
          "output_type": "stream",
          "name": "stdout",
          "text": [
            "La ventaja que tienen los equipos locales sobre los visitantes es de 1.2473794549266246\n"
          ]
        }
      ]
    },
    {
      "cell_type": "markdown",
      "source": [
        "# **CALCULAR LA FUERZA ATACANTE Y DEFENSIVA DE CADA EQUIPO**"
      ],
      "metadata": {
        "id": "mue9JR5ruiv2"
      }
    },
    {
      "cell_type": "markdown",
      "source": [
        "**Cómo calcular la Fuerza atacante**\n",
        "\n",
        "El primer paso para calcular la fuerza atacante basándose en los resultados de las últimas 8 temporadas consiste en determinar la media de goles marcados por equipo por partido en casa..\n",
        "\n",
        "La relación entre la media de goles marcados por equipo por partido en casa y la media de goles marcados por partido en casa de la liga es lo que constituye la *fuerza atacante*.\n",
        "\n",
        "**Cómo calcular la Fuerza defensiva**\n",
        "\n",
        "El primer paso para calcular la fuerza defensiva basándose en los resultados de las últimas 8 temporadas consiste en determinar la media de goles marcados por equipo por partido fuera de casa.\n",
        "\n",
        "La relación entre la media de goles marcados por equipo por partido fuera de casa y la media de goles marcados por partido fuera de casa de la liga es lo que constituye la *fuerza defensiva*."
      ],
      "metadata": {
        "id": "DQaEcuYhyZ-u"
      }
    },
    {
      "cell_type": "code",
      "source": [
        "# Lista para almacenar goles de cada equipo como local\n",
        "Goles_loc = []\n",
        "# Lista para almacenar goles de cada equipo como visitante\n",
        "Goles_vis = []\n",
        "# Lista para almacenar la suma de goles totales (local + visitante)\n",
        "Goles_totales = []\n",
        "#Lista para almacenar los goles esperados\n",
        "Goles_esperados=[]\n",
        "\n",
        "# Recorremos todos los equipos en la lista Equipos\n",
        "for j in range(18):\n",
        "    # Encuentra los índices de los partidos donde el equipo j juega como local y como visitante\n",
        "    indices_loc = [indice for indice, dato in enumerate(Equipos_locales) if dato == Equipos[j]]\n",
        "    indices_vis = [indice for indice, dato in enumerate(Equipos_visitantes) if dato == Equipos[j]]\n",
        "\n",
        "    # Inicializamos los goles de este equipo en 0\n",
        "    gol_equipo_local = 0\n",
        "    gol_equipo_visitante = 0\n",
        "\n",
        "    # Sumamos los goles cuando el equipo juega como local\n",
        "    for i in range(len(indices_loc)):\n",
        "        gol_equipo_local += Goles_locales[indices_loc[i]]\n",
        "\n",
        "    # Sumamos los goles cuando el equipo juega como visitante\n",
        "    for i in range(len(indices_vis)):\n",
        "        gol_equipo_visitante += Goles_visitantes[indices_vis[i]]\n",
        "\n",
        "    # Agregamos los goles como local y visitante a las listas correspondientes\n",
        "    Goles_loc.append(gol_equipo_local)\n",
        "    Goles_vis.append(gol_equipo_visitante)\n",
        "\n",
        "\n",
        "# Imprimimos los goles de cada equipo como local, visitante\n",
        "print(\"Goles como local:\", Goles_loc)\n",
        "print(\"Goles como visitante:\", Goles_vis)\n",
        "#Calculamos la fuerza atacante y la fuerza defensiva\n",
        "#------FUERZA ATACANTE\n",
        "media_goles_liga_loc=round(sum(Goles_loc)/1224,2)\n",
        "Goles_loc = list(map(lambda x: round(x /68,2), Goles_loc))\n",
        "Fuerza_atacante= list(map(lambda x: round(x /media_goles_liga_loc,2), Goles_loc))\n",
        "#------FUERZA DEFENSIVA\n",
        "media_goles_liga_vis=round(sum(Goles_vis)/1224,2)\n",
        "Goles_vis = list(map(lambda x: round(x /68,2), Goles_vis))\n",
        "Fuerza_defensiva= list(map(lambda x: round(x /media_goles_liga_vis,2), Goles_vis))"
      ],
      "metadata": {
        "colab": {
          "base_uri": "https://localhost:8080/"
        },
        "id": "iwzD8smHXhvS",
        "outputId": "01f5fd1d-d291-4b81-8c91-434fec158a62"
      },
      "execution_count": 894,
      "outputs": [
        {
          "output_type": "stream",
          "name": "stdout",
          "text": [
            "Goles como local: [79, 110, 89, 93, 99, 88, 102, 90, 114, 93, 73, 128, 84, 116, 135, 114, 73, 105]\n",
            "Goles como visitante: [71, 69, 53, 79, 82, 75, 95, 73, 97, 88, 57, 86, 61, 96, 108, 83, 80, 78]\n"
          ]
        }
      ]
    },
    {
      "cell_type": "code",
      "source": [
        "Tabla=[]\n",
        "for i in range(18):\n",
        "  # D_equipo -> Datos y resultados de cada equipo\n",
        "  D_equipo=[Equipos[i],Goles_loc[i],media_goles_liga_loc,Fuerza_atacante[i],Goles_vis[i],media_goles_liga_vis,Fuerza_defensiva[i]]\n",
        "  Tabla.append(D_equipo)\n",
        "# Imprimimos tabla\n",
        "print(tabulate(Tabla,headers=[\"Equipo\",\"Media local\",\"Media local de liga\",\"Fuerza atacante\",\"Media visitante\",\"Media visitante de liga\",\"Fuerza defensiva\"]))\n"
      ],
      "metadata": {
        "colab": {
          "base_uri": "https://localhost:8080/"
        },
        "id": "BClKrxT6wuk3",
        "outputId": "c30fd73a-c25b-46fd-c3da-3b915962309a"
      },
      "execution_count": 895,
      "outputs": [
        {
          "output_type": "stream",
          "name": "stdout",
          "text": [
            "Equipo         Media local    Media local de liga    Fuerza atacante    Media visitante    Media visitante de liga    Fuerza defensiva\n",
            "-----------  -------------  ---------------------  -----------------  -----------------  -------------------------  ------------------\n",
            "Necaxa                1.16                   1.46               0.79               1.04                       1.17                0.89\n",
            "UNAM                  1.62                   1.46               1.11               1.01                       1.17                0.86\n",
            "Tijuana               1.31                   1.46               0.9                0.78                       1.17                0.67\n",
            "Guadalajara           1.37                   1.46               0.94               1.16                       1.17                0.99\n",
            "Cruz Azul             1.46                   1.46               1                  1.21                       1.17                1.03\n",
            "Atlético              1.29                   1.46               0.88               1.1                        1.17                0.94\n",
            "Pachuca               1.5                    1.46               1.03               1.4                        1.17                1.2\n",
            "Mazatlán              1.32                   1.46               0.9                1.07                       1.17                0.91\n",
            "Monterrey             1.68                   1.46               1.15               1.43                       1.17                1.22\n",
            "Puebla                1.37                   1.46               0.94               1.29                       1.17                1.1\n",
            "FC Juárez             1.07                   1.46               0.73               0.84                       1.17                0.72\n",
            "Toluca                1.88                   1.46               1.29               1.26                       1.17                1.08\n",
            "Querétaro             1.24                   1.46               0.85               0.9                        1.17                0.77\n",
            "UANL                  1.71                   1.46               1.17               1.41                       1.17                1.21\n",
            "América               1.99                   1.46               1.36               1.59                       1.17                1.36\n",
            "Santos                1.68                   1.46               1.15               1.22                       1.17                1.04\n",
            "Atlas                 1.07                   1.46               0.73               1.18                       1.17                1.01\n",
            "León                  1.54                   1.46               1.05               1.15                       1.17                0.98\n"
          ]
        }
      ]
    },
    {
      "cell_type": "markdown",
      "source": [
        "# **SIMULACIÓN DEL EQUIPO GANADOR DE LA LIGA MX \"APERTURA 2024\"**"
      ],
      "metadata": {
        "id": "Cdc2Xkey3DrN"
      }
    },
    {
      "cell_type": "markdown",
      "source": [
        " **Equipos clasificados antes del repechaje**"
      ],
      "metadata": {
        "id": "SbSrhiZS37Fk"
      }
    },
    {
      "cell_type": "code",
      "source": [
        "# LISTA DE EQUIPOS CLASIFICADOS\n",
        "E_CLASIFICADOS=['Cruz Azul','Toluca','UANL','UNAM','Monterrey','Atlético']\n",
        "Ind=[4,12,14,1,8,5]"
      ],
      "metadata": {
        "id": "nB6-Sn_Q4OOL"
      },
      "execution_count": 896,
      "outputs": []
    },
    {
      "cell_type": "markdown",
      "source": [
        "**Equipos que pueden clasificar en el repechaje**"
      ],
      "metadata": {
        "id": "13NQRtub4PW8"
      }
    },
    {
      "cell_type": "code",
      "source": [
        "#PARTIDOS PARA CLASIFICAR\n",
        "# --- Guadajara vs Atlas y Tijuana vs America\n",
        "Locales=[\"Tijuana\",\"Guadalajara\"]\n",
        "Visitantes=[\"América\",\"Atlas\"]"
      ],
      "metadata": {
        "id": "Bv4JZcbRCmf1"
      },
      "execution_count": 897,
      "outputs": []
    },
    {
      "cell_type": "markdown",
      "source": [
        "## **FUNCIONES PARA SIMULAR LOS RESULTADOS DE LOS PARTIDOS**\n"
      ],
      "metadata": {
        "id": "k6XDANHR5TPA"
      }
    },
    {
      "cell_type": "markdown",
      "source": [
        "***Función que calcula el resultado de un solo partido***"
      ],
      "metadata": {
        "id": "rp8JSbGj7Ds6"
      }
    },
    {
      "cell_type": "code",
      "source": [
        "def Resultados(equipo_local,equipo_visitante):\n",
        "\n",
        "  Equipos_list = Equipos.tolist() if isinstance(Equipos, np.ndarray) else Equipos\n",
        "  ind_loc=Equipos_list.index(equipo_local)\n",
        "  ind_vis=Equipos_list.index(equipo_visitante)\n",
        "\n",
        "  # Número probable de goles que quizás marque el local:\n",
        "  # (Fuerza atacante del local)*(Fuerza defensiva del visitante)*(Media de goles marcados como local en la Liga MX)\n",
        "  media_goles_local = Fuerza_atacante[ind_loc]*Fuerza_defensiva[ind_vis]*media_goles_liga_loc\n",
        "\n",
        "  # Número probable de goles que quizás marque el visitante:\n",
        "  # (Fuerza atacante del visitante)*(Fuerza defensiva del local)*(Media de goles marcados como visitante en la Liga MX)\n",
        "  media_goles_visitante = Fuerza_atacante[ind_vis]*Fuerza_defensiva[ind_loc]*media_goles_liga_vis\n",
        "  # Simular los goles anotados por el equipo local y el equipo visitante\n",
        "  goles_local = np.random.poisson(media_goles_local)\n",
        "  goles_visitante = np.random.poisson(media_goles_visitante)\n",
        "\n",
        "  # Mostrar el resultado de la simulación\n",
        "  # --- NOTA : SI EL PARTIDO QUEDA EMPATADO PASA EL EQUIPO CON MEJOR POSICION (LOCAL EN EL PARTIDO DE VUELTA)\n",
        "  if goles_local>=goles_visitante:\n",
        "    ganador=equipo_local\n",
        "    perdedor=equipo_visitante\n",
        "  else:\n",
        "    ganador=equipo_visitante\n",
        "    perdedor=equipo_local\n",
        "    # Retorna el resultado del partido\n",
        "  return [ganador,perdedor]"
      ],
      "metadata": {
        "id": "JeSwgkHeSFRW"
      },
      "execution_count": 898,
      "outputs": []
    },
    {
      "cell_type": "markdown",
      "source": [
        "***Función que calcula el resultado de los partidos ida y vuelta***"
      ],
      "metadata": {
        "id": "OjZNbBKu7LgJ"
      }
    },
    {
      "cell_type": "code",
      "source": [
        "def Resultados_IV(equipo_local,equipo_visitante):\n",
        "  #equipo_local -> Equipo en mejor posicion\n",
        "  #equipo_visitante -> Equipo en peor posicion\n",
        "  Equipos_list = Equipos.tolist() if isinstance(Equipos, np.ndarray) else Equipos\n",
        "  ind_loc=Equipos_list.index(equipo_local)\n",
        "  ind_vis=Equipos_list.index(equipo_visitante)\n",
        "  media_goles_local = Fuerza_atacante[ind_loc]*Fuerza_defensiva[ind_vis]*media_goles_liga_loc\n",
        "  media_goles_visitante = Fuerza_atacante[ind_vis]*Fuerza_defensiva[ind_loc]*media_goles_liga_vis\n",
        "  # Simular los goles anotados por el equipo local y el equipo visitante\n",
        "  #Partido ida\n",
        "  goles_local_1 = np.random.poisson(media_goles_visitante)\n",
        "  goles_visitante_1 = np.random.poisson(media_goles_local)\n",
        "  #Partido vuelta\n",
        "  goles_local_2 = np.random.poisson(media_goles_local)\n",
        "  goles_visitante_2 = np.random.poisson(media_goles_visitante)\n",
        "  # Goles en ambos partidos\n",
        "  goles_local=goles_visitante_1+goles_local_2\n",
        "  goles_visitante=goles_local_1+goles_visitante_2\n",
        "  # Mostrar el resultado de la simulación\n",
        "  # --- NOTA : SI EL PARTIDO QUEDA EMPATADO PASA EL EQUIPO CON MEJOR POSICION (LOCAL EN EL PARTIDO DE VUELTA)\n",
        "  if goles_local>=goles_visitante:\n",
        "    ganador=equipo_local\n",
        "    perdedor=equipo_visitante\n",
        "  else:\n",
        "    ganador=equipo_visitante\n",
        "    perdedor=equipo_local\n",
        "  return [ganador,perdedor]"
      ],
      "metadata": {
        "id": "R9KGN7-KcmZW"
      },
      "execution_count": 899,
      "outputs": []
    },
    {
      "cell_type": "markdown",
      "source": [
        "## **EJEMPLO**"
      ],
      "metadata": {
        "id": "xhKSpWja738c"
      }
    },
    {
      "cell_type": "markdown",
      "source": [
        "### **Simulación de los resultados del repechaje**"
      ],
      "metadata": {
        "id": "72AbOTOJ6aXz"
      }
    },
    {
      "cell_type": "code",
      "source": [
        "# Tijuana - América\n",
        "# Res1 -> Resultado del partido entre Tijuana y América\n",
        "Res1=Resultados(Locales[0],Visitantes[0])\n",
        "# Clasificado 7 -> Equipo que clasifica en 7ma posición\n",
        "E_CLASIFICADOS.append(Res1[0])\n",
        "# Guadalajara - Atlas\n",
        "# Res2 -> Resultado del partido entre Guadalajara y Atlas\n",
        "Res2=Resultados(Locales[1],Visitantes[1])\n",
        "# Res -> Resultado del partido entre el perdedor del partido (Tijuana - América) y el ganador del partido (Guadalajara - Atlas)\n",
        "Res3=Resultados(Res1[1],Res2[0])\n",
        "# Clasificado 8 -> Equipo que clasifica en 8va posición\n",
        "E_CLASIFICADOS.append(Res3[0])"
      ],
      "metadata": {
        "id": "_QZLTeCqVnDl"
      },
      "execution_count": 900,
      "outputs": []
    },
    {
      "cell_type": "markdown",
      "source": [
        "### **Equipos que entran a liguilla**\n"
      ],
      "metadata": {
        "id": "Dk08sSXA7yaE"
      }
    },
    {
      "cell_type": "code",
      "source": [
        "print(\"Los equipos que pasan a la liguilla son:\")\n",
        "print(E_CLASIFICADOS)"
      ],
      "metadata": {
        "colab": {
          "base_uri": "https://localhost:8080/"
        },
        "id": "GQuugIvj9HI3",
        "outputId": "e1be8096-3cb0-45e3-ddab-bb746271aedc"
      },
      "execution_count": 901,
      "outputs": [
        {
          "output_type": "stream",
          "name": "stdout",
          "text": [
            "Los equipos que pasan a la liguilla son:\n",
            "['Cruz Azul', 'Toluca', 'UANL', 'UNAM', 'Monterrey', 'Atlético', 'América', 'Guadalajara']\n"
          ]
        }
      ]
    },
    {
      "cell_type": "markdown",
      "source": [
        "### **Simulación de los resultados de la liguilla**"
      ],
      "metadata": {
        "id": "yk2GLwbc9akW"
      }
    },
    {
      "cell_type": "markdown",
      "source": [
        "***Cuartos de final***"
      ],
      "metadata": {
        "id": "DBJyVX78-zfG"
      }
    },
    {
      "cell_type": "code",
      "source": [
        "# Cuartos de final\n",
        "# Cuartos -> Se guardan los equipos que ganan sus partidos en los cuartos de final\n",
        "Cuartos=[\"\",\"\",\"\",\"\",\"\",\"\",\"\",\"\"]\n",
        "\n",
        "# 1 vs 8\n",
        "# res4 -> Resultado entre el partido entre los equipos (1 y 8) de los clasificados\n",
        "res4=Resultados_IV(E_CLASIFICADOS[0],E_CLASIFICADOS[7])\n",
        "index_to_insert = E_CLASIFICADOS.index(res4[0])\n",
        "Cuartos[index_to_insert] = res4[0]\n",
        "\n",
        "# 2 vs 7\n",
        "# res5 -> Resultado entre el partido entre los equipos (2 y 7) de los clasificados\n",
        "res5=Resultados_IV(E_CLASIFICADOS[1],E_CLASIFICADOS[6])\n",
        "index_to_insert = E_CLASIFICADOS.index(res5[0])\n",
        "Cuartos[index_to_insert] = res5[0]\n",
        "\n",
        "# 3 vs 6\n",
        "# res6 -> Resultado entre el partido entre los equipos (3 y 6) de los clasificados\n",
        "res6=Resultados_IV(E_CLASIFICADOS[2],E_CLASIFICADOS[5])\n",
        "index_to_insert = E_CLASIFICADOS.index(res6[0])\n",
        "Cuartos[index_to_insert] = res6[0]\n",
        "\n",
        "# 4 vs 5\n",
        "# res7 -> Resultado entre el partido entre los equipos (4 y 5) de los clasificados\n",
        "res7=Resultados_IV(E_CLASIFICADOS[3],E_CLASIFICADOS[4])\n",
        "index_to_insert = E_CLASIFICADOS.index(res7[0])\n",
        "Cuartos[index_to_insert] = res7[0]\n",
        "\n"
      ],
      "metadata": {
        "id": "1b_hfwG6sJa0"
      },
      "execution_count": 902,
      "outputs": []
    },
    {
      "cell_type": "code",
      "source": [
        "#Equipos que pasan a la semifinal\n",
        "Cuartos=[elem for elem in Cuartos if elem]\n",
        "print(\"Los equipos que pasan a la semifinal son:\",Cuartos)"
      ],
      "metadata": {
        "colab": {
          "base_uri": "https://localhost:8080/"
        },
        "id": "i4T_TfKN_c4h",
        "outputId": "acb95308-a505-4110-b126-c8b39c1a1632"
      },
      "execution_count": 903,
      "outputs": [
        {
          "output_type": "stream",
          "name": "stdout",
          "text": [
            "Los equipos que pasan a la semifinal son: ['Toluca', 'UANL', 'UNAM', 'Guadalajara']\n"
          ]
        }
      ]
    },
    {
      "cell_type": "markdown",
      "source": [
        "***Semifinal***"
      ],
      "metadata": {
        "id": "hQXERPhYEzjR"
      }
    },
    {
      "cell_type": "code",
      "source": [
        "# Semifinal\n",
        "# Semifinal -> Se guardan los equipos que ganan sus partidos en la semifinal\n",
        "Semifinal=[\"\",\"\",\"\",\"\"]\n",
        "\n",
        "# 1 vs 4\n",
        "# res8 -> Resultado entre el partido entre los equipos (1 y 4) de las semifinales\n",
        "res8=Resultados_IV(Cuartos[0],Cuartos[3])\n",
        "index_to_insert = Cuartos.index(res8[0])\n",
        "Semifinal[index_to_insert] = res8[0]\n",
        "\n",
        "# 2 vs 4\n",
        "# res9 -> Resultado entre el partido entre los equipos (2 y 3) de las semifinales\n",
        "res9=Resultados_IV(Cuartos[1],Cuartos[2])\n",
        "index_to_insert = Cuartos.index(res9[0])\n",
        "Semifinal[index_to_insert] = res9[0]"
      ],
      "metadata": {
        "id": "4sGuexni_mrj"
      },
      "execution_count": 904,
      "outputs": []
    },
    {
      "cell_type": "code",
      "source": [
        "#Equipos que pasan a la final\n",
        "Semifinal=[elem for elem in Semifinal if elem]\n",
        "print(\"Los equipos que pasan a la final son:\",Semifinal)"
      ],
      "metadata": {
        "colab": {
          "base_uri": "https://localhost:8080/"
        },
        "id": "17O470EsANUN",
        "outputId": "922587b5-3394-4414-da25-1acd97aa72ed"
      },
      "execution_count": 905,
      "outputs": [
        {
          "output_type": "stream",
          "name": "stdout",
          "text": [
            "Los equipos que pasan a la final son: ['UNAM', 'Guadalajara']\n"
          ]
        }
      ]
    },
    {
      "cell_type": "markdown",
      "source": [
        "***Final***"
      ],
      "metadata": {
        "id": "UeqAzqIME4hc"
      }
    },
    {
      "cell_type": "code",
      "source": [
        "# Final\n",
        "\n",
        "# 1 vs 2\n",
        "# res10 -> Resultado entre el partido entre los equipos (1 y 2) de la final\n",
        "res10=Resultados_IV(Semifinal[0],Semifinal[1])\n",
        "index_to_insert = Semifinal.index(res10[0])\n",
        "Final = res10[0]\n",
        "print(\"El ganador es :\",Final)"
      ],
      "metadata": {
        "colab": {
          "base_uri": "https://localhost:8080/"
        },
        "id": "YODOeD4AAPEh",
        "outputId": "b3d08b34-bfcc-40a8-d3a3-d3b1eabd5fa1"
      },
      "execution_count": 906,
      "outputs": [
        {
          "output_type": "stream",
          "name": "stdout",
          "text": [
            "El ganador es : UNAM\n"
          ]
        }
      ]
    },
    {
      "cell_type": "markdown",
      "source": [
        "# **FUNCIÓN QUE DETERMINA AL EQUIPO GANADOR DEL APERTURA 2024**"
      ],
      "metadata": {
        "id": "OXEkc9yKE8Xg"
      }
    },
    {
      "cell_type": "code",
      "source": [
        "def Ganador():\n",
        "    # LISTA DE EQUIPOS CLASIFICADOS\n",
        "    E_CLASIFICADOS=['Cruz Azul','Toluca','UANL','UNAM','Monterrey','Atlético']\n",
        "    # Repechaje\n",
        "\n",
        "    # Tijuana - América\n",
        "    # res1 -> Resultado del partido entre Tijuana y América\n",
        "    res1=Resultados(Locales[0],Visitantes[0])\n",
        "    # Clasificado 7 -> Equipo que clasifica en 7ma posición\n",
        "    E_CLASIFICADOS.append(res1[0])\n",
        "    # Guadalajara - Atlas\n",
        "    # res2 -> Resultado del partido entre Guadalajara y Atlas\n",
        "    res2=Resultados(Locales[1],Visitantes[1])\n",
        "    # Res -> Resultado del partido entre el perdedor del partido (Tijuana - América) y el ganador del partido (Guadalajara - Atlas)\n",
        "    res3=Resultados(res1[1],res2[0])\n",
        "    # Clasificado 8 -> Equipo que clasifica en 8va posición\n",
        "    E_CLASIFICADOS.append(res3[0])\n",
        "\n",
        "    # Cuartos de final\n",
        "    Cuartos=[\"\",\"\",\"\",\"\",\"\",\"\",\"\",\"\"]\n",
        "\n",
        "    # 1 vs 8\n",
        "    # res4 -> Resultado entre el partido entre los equipos (1 y 8) de los clasificados\n",
        "    res4=Resultados_IV(E_CLASIFICADOS[0],E_CLASIFICADOS[7])\n",
        "    index_to_insert = E_CLASIFICADOS.index(res4[0])\n",
        "    Cuartos[index_to_insert] = res4[0]\n",
        "\n",
        "    # 2 vs 7\n",
        "    # res5 -> Resultado entre el partido entre los equipos (2 y 7) de los clasificados\n",
        "    res5=Resultados_IV(E_CLASIFICADOS[1],E_CLASIFICADOS[6])\n",
        "    index_to_insert = E_CLASIFICADOS.index(res5[0])\n",
        "    Cuartos[index_to_insert] = res5[0]\n",
        "\n",
        "    # 3 vs 6\n",
        "    # res6 -> Resultado entre el partido entre los equipos (3 y 6) de los clasificados\n",
        "    res6=Resultados_IV(E_CLASIFICADOS[2],E_CLASIFICADOS[5])\n",
        "    index_to_insert = E_CLASIFICADOS.index(res6[0])\n",
        "    Cuartos[index_to_insert] = res6[0]\n",
        "\n",
        "    # 4 vs 5\n",
        "    # res7 -> Resultado entre el partido entre los equipos (1 y 8) de los clasificados\n",
        "    res7=Resultados_IV(E_CLASIFICADOS[3],E_CLASIFICADOS[4])\n",
        "    index_to_insert = E_CLASIFICADOS.index(res7[0])\n",
        "    Cuartos[index_to_insert] = res7[0]\n",
        "\n",
        "    #Equipos que pasan a la semifinal\n",
        "    Cuartos=[elem for elem in Cuartos if elem]\n",
        "\n",
        "    # Semifinal\n",
        "    Semifinal=[\"\",\"\",\"\",\"\"]\n",
        "\n",
        "    # 1 vs 4\n",
        "    # res8 -> Resultado entre el partido entre los equipos (1 y 4) de las semifinales\n",
        "    res8=Resultados_IV(Cuartos[0],Cuartos[3])\n",
        "    index_to_insert = Cuartos.index(res8[0])\n",
        "    Semifinal[index_to_insert] = res8[0]\n",
        "\n",
        "    # 2 vs 4\n",
        "    # res9 -> Resultado entre el partido entre los equipos (2 y 3) de las semifinales\n",
        "    res9=Resultados_IV(Cuartos[1],Cuartos[2])\n",
        "    index_to_insert = Cuartos.index(res9[0])\n",
        "    Semifinal[index_to_insert] = res9[0]\n",
        "\n",
        "    #Equipos que pasan a la final\n",
        "    Semifinal=[elem for elem in Semifinal if elem]\n",
        "\n",
        "    # Final\n",
        "\n",
        "    # 1 vs 2\n",
        "    # res10 -> Resultado entre el partido entre los equipos (1 y 2) de la final\n",
        "    res10=Resultados_IV(Semifinal[0],Semifinal[1])\n",
        "    index_to_insert = Semifinal.index(res10[0])\n",
        "    Ganador = res10[0]\n",
        "    return Ganador"
      ],
      "metadata": {
        "id": "C09695YNpJVe"
      },
      "execution_count": 907,
      "outputs": []
    },
    {
      "cell_type": "markdown",
      "source": [
        "# **SIMULACIÓN DE N VECES AL GANADOR**"
      ],
      "metadata": {
        "id": "F1xDLBOhFt3s"
      }
    },
    {
      "cell_type": "code",
      "source": [
        "# N -> Numero de simulaciones para obtener un ganador\n",
        "N=100000\n",
        "# Ganadores -> Lista que guarda el gaandor de cada simulación\n",
        "Ganadores=[]\n",
        "for i in range(N):\n",
        "  # Se agrega al ganador la simulación \"i\"\n",
        "  Ganadores.append(Ganador())\n",
        "# conteo -> Almacena el número de veces que cada equipo fue ganador\n",
        "conteo=Counter(Ganadores)\n",
        "# Frecuencias -> Lista de las frecuencias de cada equipo para gráficar\n",
        "Frecuencias=[conteo['Cruz Azul'],conteo['Toluca'],conteo['UANL'],conteo['UNAM'],conteo['Monterrey'],conteo['Atlético'],conteo['Tijuana'],conteo['América'],conteo['Guadalajara'],conteo['Atlas']]\n",
        "# Equipos -> Lista de equipos que pueden ser los posibles ganadores\n",
        "Equipos_ganadores = ['Cruz Azul', 'Toluca', 'UANL', 'UNAM', 'Monterrey', 'Atlético', 'Tijuana', 'América', 'Guadalajara', 'Atlas']"
      ],
      "metadata": {
        "id": "blcCV-Iwvbwz"
      },
      "execution_count": 908,
      "outputs": []
    },
    {
      "cell_type": "markdown",
      "source": [
        "## **Tabla y gráfica de frecuencias**"
      ],
      "metadata": {
        "id": "7Xt1gcjFJ1sP"
      }
    },
    {
      "cell_type": "code",
      "source": [
        "# TABLA\n",
        "Frecuencia=[Frecuencias]\n",
        "print(tabulate(Frecuencia,headers=['Cruz Azul', 'Toluca', 'UANL', 'UNAM', 'Monterrey', 'Atlético', 'Tijuana', 'América', 'Guadalajara', 'Atlas']))\n",
        "# GRÁFICA\n",
        "plt.figure(figsize=(10, 6))\n",
        "plt.bar(Equipos_ganadores, Frecuencias, color='skyblue')\n",
        "plt.title('Frecuencias por equipo', fontsize=16)\n",
        "plt.xlabel('Equipos', fontsize=12)\n",
        "plt.ylabel('Frecuencia', fontsize=12)"
      ],
      "metadata": {
        "colab": {
          "base_uri": "https://localhost:8080/",
          "height": 643
        },
        "id": "7BUL8w47HZ-f",
        "outputId": "6fdfc483-df62-4bdc-b95e-f7f5ce042244"
      },
      "execution_count": 909,
      "outputs": [
        {
          "output_type": "stream",
          "name": "stdout",
          "text": [
            "  Cruz Azul    Toluca    UANL    UNAM    Monterrey    Atlético    Tijuana    América    Guadalajara    Atlas\n",
            "-----------  --------  ------  ------  -----------  ----------  ---------  ---------  -------------  -------\n",
            "      24414     29221   12516   20185         2607        2650       6273       1729            382       23\n"
          ]
        },
        {
          "output_type": "execute_result",
          "data": {
            "text/plain": [
              "Text(0, 0.5, 'Frecuencia')"
            ]
          },
          "metadata": {},
          "execution_count": 909
        },
        {
          "output_type": "display_data",
          "data": {
            "text/plain": [
              "<Figure size 1000x600 with 1 Axes>"
            ],
            "image/png": "[encoded data removed]"
          },
          "metadata": {}
        }
      ]
    },
    {
      "cell_type": "markdown",
      "source": [
        "## **Tabla y gráfica de probabilidades**"
      ],
      "metadata": {
        "id": "Ob79EreFNYKv"
      }
    },
    {
      "cell_type": "code",
      "source": [
        "# TABLA\n",
        "probabilidades=[]\n",
        "for i in range(10):\n",
        "  prob=round((int(Frecuencia[0][i])/N),4)\n",
        "  probabilidades.append(str(prob))\n",
        "TABLA=[['Cruz Azul', 'Toluca', 'UANL', 'UNAM', 'Monterrey', 'Atlético', 'Tijuana', 'América', 'Guadalajara', 'Atlas'],probabilidades]\n",
        "print(tabulate(TABLA, headers=\"firstrow\"))\n",
        "# GRÁFICA\n",
        "plt.figure(figsize=(10, 6))\n",
        "colores = plt.cm.Paired.colors\n",
        "plt.pie(Frecuencias, startangle=140, colors=colores)\n",
        "plt.legend(Equipos_ganadores, title=\"Equipos\", loc=\"center left\", bbox_to_anchor=(1, 0.5), fontsize=10)\n",
        "plt.title('Probabilidad de ganar el Apertura 2024', fontsize=16)\n",
        "plt.axis('equal')\n",
        "plt.tight_layout()\n",
        "plt.show()\n"
      ],
      "metadata": {
        "colab": {
          "base_uri": "https://localhost:8080/",
          "height": 662
        },
        "id": "p4zM7OMbLcUN",
        "outputId": "6aa735cb-266b-4059-e3e4-b5ff504a38b5"
      },
      "execution_count": 910,
      "outputs": [
        {
          "output_type": "stream",
          "name": "stdout",
          "text": [
            "  Cruz Azul    Toluca    UANL    UNAM    Monterrey    Atlético    Tijuana    América    Guadalajara    Atlas\n",
            "-----------  --------  ------  ------  -----------  ----------  ---------  ---------  -------------  -------\n",
            "     0.2441    0.2922  0.1252  0.2019       0.0261      0.0265     0.0627     0.0173         0.0038   0.0002\n"
          ]
        },
        {
          "output_type": "display_data",
          "data": {
            "text/plain": [
              "<Figure size 1000x600 with 1 Axes>"
            ],
            "image/png": "[encoded data removed]"
          },
          "metadata": {}
        }
      ]
    }
  ],
  "metadata": {
    "colab": {
      "provenance": [],
      "authorship_tag": "ABX9TyNCOGDnzghmiYvuC+u5cutt",
      "include_colab_link": true
    },
    "kernelspec": {
      "display_name": "Python 3",
      "name": "python3"
    },
    "language_info": {
      "name": "python"
    }
  },
  "nbformat": 4,
  "nbformat_minor": 0
}