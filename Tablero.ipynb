{
  "nbformat": 4,
  "nbformat_minor": 0,
  "metadata": {
    "colab": {
      "provenance": [],
      "authorship_tag": "ABX9TyPxmwNt3K3xfck4+5H7Tt5M",
      "include_colab_link": true
    },
    "kernelspec": {
      "name": "python3",
      "display_name": "Python 3"
    },
    "language_info": {
      "name": "python"
    }
  },
  "cells": [
    {
      "cell_type": "markdown",
      "metadata": {
        "id": "view-in-github",
        "colab_type": "text"
      },
      "source": [
        "<a href=\"https://colab.research.google.com/github/Wenypb/Simulacion/blob/main/Tablero.ipynb\" target=\"_parent\"><img src=\"https://colab.research.google.com/assets/colab-badge.svg\" alt=\"Open In Colab\"/></a>"
      ]
    },
    {
      "cell_type": "markdown",
      "source": [
        "# **Tablero**"
      ],
      "metadata": {
        "id": "9ZLNug8K2aJT"
      }
    },
    {
      "cell_type": "markdown",
      "source": [
        "Supongamos que tenemos un tablero de 4 colores. Lanzamos dos monedas y avanzamos, en sentido horario, el número de caras que aparezcan. Si repetimos el procedimiento... ¿Son todos los sectores igual de probables cuando pase mucho tiempo?"
      ],
      "metadata": {
        "id": "6KaB2-YC2h22"
      }
    },
    {
      "cell_type": "markdown",
      "source": [
        "$X_{n}$ probabilidad de estar en el sector naranja tras $n$ lanzamientos"
      ],
      "metadata": {
        "id": "iZWCMWZe3QcJ"
      }
    },
    {
      "cell_type": "markdown",
      "source": [
        "$Y_{n}$ probabilidad de estar en el sector azul tras $n$ lanzamientos"
      ],
      "metadata": {
        "id": "pJUMA73e3sxl"
      }
    },
    {
      "cell_type": "markdown",
      "source": [
        "$Z_{n}$ probabilidad de estar en el sector verde tras $n$ lanzamientos"
      ],
      "metadata": {
        "id": "Bsr17eYg31g5"
      }
    },
    {
      "cell_type": "markdown",
      "source": [
        "$T_{n}$ probabilidad de estar en el sector rojo tras $n$ lanzamientos"
      ],
      "metadata": {
        "id": "9f-jaWvy4Iby"
      }
    },
    {
      "cell_type": "markdown",
      "source": [
        "## **Librerias**"
      ],
      "metadata": {
        "id": "vpEtAsM5uZCE"
      }
    },
    {
      "cell_type": "code",
      "execution_count": 34,
      "metadata": {
        "id": "WW4uXDf82ZX4"
      },
      "outputs": [],
      "source": [
        "import random as rnd\n",
        "import math\n",
        "import numpy as np\n",
        "import matplotlib.pyplot as plt"
      ]
    },
    {
      "cell_type": "markdown",
      "source": [
        "## **Determinar en que sector inicia**"
      ],
      "metadata": {
        "id": "j89ibr9HueIR"
      }
    },
    {
      "cell_type": "code",
      "source": [
        "#Determinar en que sector inicia\n",
        "sector=rnd.random()\n",
        "#Si 0<=sector<=0.25 comienza en naranja\n",
        "if 0<sector<=0.25:\n",
        "  Inicio=1\n",
        "#Si 0<=sector<=0.25 comienza en azul\n",
        "elif 0.25<sector<=0.5:\n",
        "  Inicio=2\n",
        "#Si 0<=sector<=0.25 comienza en verde\n",
        "elif 0.5<sector<=0.75:\n",
        "  Inicio=3\n",
        "#Si 0<=sector<=0.25 comienza en rojo\n",
        "elif 0.75<sector<=1:\n",
        "  Inicio=4\n",
        "#Determinar el color\n",
        "if Inicio==1:\n",
        "  print(\"Se inicia en NARANJA\")\n",
        "elif Inicio==2:\n",
        "  print(\"Se inicia en AZUL\")\n",
        "elif Inicio==3:\n",
        "  print(\"Se inicia en VERDE\")\n",
        "elif Inicio==4:\n",
        "  print(\"Se inicia en AZUL\")"
      ],
      "metadata": {
        "colab": {
          "base_uri": "https://localhost:8080/"
        },
        "id": "LB0vvpfT5-GR",
        "outputId": "8af74dfc-d316-49e2-d31c-79b5ac5209ee"
      },
      "execution_count": 35,
      "outputs": [
        {
          "output_type": "stream",
          "name": "stdout",
          "text": [
            "Se inicia en NARANJA\n"
          ]
        }
      ]
    },
    {
      "cell_type": "markdown",
      "source": [
        "## **Función que determina el número de caras obtenidas en $m$ lanzamientos**"
      ],
      "metadata": {
        "id": "QqhyrnyGjyj4"
      }
    },
    {
      "cell_type": "code",
      "source": [
        "def Caras(lanzamientos):\n",
        "  m=lanzamientos\n",
        "  Caras=0\n",
        "  for i in range(m):\n",
        "    Moneda=rnd.random()\n",
        "    if Moneda<=0.5:\n",
        "      Caras=Caras+1\n",
        "  return Caras"
      ],
      "metadata": {
        "id": "yoYTiBkM75FD"
      },
      "execution_count": 36,
      "outputs": []
    },
    {
      "cell_type": "markdown",
      "source": [
        "## **Calcular las probabilidades de cada sector despues de $n$ repeticiones**"
      ],
      "metadata": {
        "id": "Kd76TfQqvAPV"
      }
    },
    {
      "cell_type": "code",
      "source": [
        "#Determinar el número de repeticiones\n",
        "n=40\n",
        "#Numero de monedas a lanzar\n",
        "lanzamientos=2\n",
        "#Sector donde inicio el ejercicio\n",
        "sector=Inicio\n",
        "#Contadores de los sectores\n",
        "Naranja=0\n",
        "Azul=0\n",
        "Verde=0\n",
        "Rojo=0\n",
        "# Lista que guarda en que sector cae\n",
        "Resultados=[]\n",
        "#Ciclo que realiza las n repeticiones\n",
        "for i in range(n):\n",
        "  #Determina cuantas caras hay al lanzar las dos monedas\n",
        "  Avanzar=Caras(lanzamientos)\n",
        "  #Determinar donde caera despues de cada lanzamiento\n",
        "  if sector ==1:\n",
        "    if Avanzar==0:\n",
        "      sector=1\n",
        "      Naranja+=1\n",
        "    elif Avanzar==1:\n",
        "      sector=2\n",
        "      Azul+=1\n",
        "    elif Avanzar==2:\n",
        "      sector=3\n",
        "      Verde+=1\n",
        "  elif sector ==2:\n",
        "    if Avanzar==0:\n",
        "      sector=2\n",
        "      Azul+=1\n",
        "    elif Avanzar==1:\n",
        "      sector=3\n",
        "      Verde+=1\n",
        "    elif Avanzar==2:\n",
        "      sector= 4\n",
        "      Rojo+=1\n",
        "  elif sector ==3:\n",
        "    if Avanzar==0:\n",
        "      sector=3\n",
        "      Verde+=1\n",
        "    elif Avanzar==1:\n",
        "      sector=4\n",
        "      Rojo+=1\n",
        "    elif Avanzar==2:\n",
        "      sector=1\n",
        "      Naranja+=1\n",
        "  elif sector ==4:\n",
        "    if Avanzar==0:\n",
        "      sector=4\n",
        "      Rojo+=1\n",
        "    elif Avanzar==1:\n",
        "      sector=1\n",
        "      Naranja+=1\n",
        "    elif Avanzar==2:\n",
        "      sector=2\n",
        "      Azul+=1\n",
        "  #Guarda en que sector cae\n",
        "  Resultados.append(sector)\n"
      ],
      "metadata": {
        "id": "sC9-uemCAnpg"
      },
      "execution_count": 37,
      "outputs": []
    },
    {
      "cell_type": "markdown",
      "source": [
        "## **Resultados**"
      ],
      "metadata": {
        "id": "on8xDHuZvcgz"
      }
    },
    {
      "cell_type": "code",
      "source": [
        "print(\"Probabilidades de cada sector\")\n",
        "print(\"P(Naranja)=\",Naranja/n)\n",
        "print(\"P(Azul)=\",Azul/n)\n",
        "print(\"P(Verde)=\",Verde/n)\n",
        "print(\"P(Rojo)=\",Rojo/n)"
      ],
      "metadata": {
        "id": "yza7frZiva18",
        "outputId": "e31b5a42-4df3-4fcd-f3fc-98b6816d9c7e",
        "colab": {
          "base_uri": "https://localhost:8080/"
        }
      },
      "execution_count": 38,
      "outputs": [
        {
          "output_type": "stream",
          "name": "stdout",
          "text": [
            "Probabilidades de cada sector\n",
            "P(Naranja)= 0.25\n",
            "P(Azul)= 0.2\n",
            "P(Verde)= 0.275\n",
            "P(Rojo)= 0.275\n"
          ]
        }
      ]
    }
  ]
}