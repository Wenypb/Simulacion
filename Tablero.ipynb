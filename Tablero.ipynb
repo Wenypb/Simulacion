{
  "nbformat": 4,
  "nbformat_minor": 0,
  "metadata": {
    "colab": {
      "provenance": [],
      "authorship_tag": "ABX9TyNg3ta9X9Qlj3dutmSXSIT+",
      "include_colab_link": true
    },
    "kernelspec": {
      "name": "python3",
      "display_name": "Python 3"
    },
    "language_info": {
      "name": "python"
    }
  },
  "cells": [
    {
      "cell_type": "markdown",
      "metadata": {
        "id": "view-in-github",
        "colab_type": "text"
      },
      "source": [
        "<a href=\"https://colab.research.google.com/github/Wenypb/Simulacion/blob/main/Tablero.ipynb\" target=\"_parent\"><img src=\"https://colab.research.google.com/assets/colab-badge.svg\" alt=\"Open In Colab\"/></a>"
      ]
    },
    {
      "cell_type": "markdown",
      "source": [
        "Ejemplo:"
      ],
      "metadata": {
        "id": "9ZLNug8K2aJT"
      }
    },
    {
      "cell_type": "markdown",
      "source": [
        "Supongamos que tenemos un tablero de 4 colores. Lanzamos dos monedas y avanzamos, en sentido horario, el número de caras que aparezcan. Si repetimos el procedimiento... ¿Son todos los sectores igual de probables cuando pase mucho tiempo?"
      ],
      "metadata": {
        "id": "6KaB2-YC2h22"
      }
    },
    {
      "cell_type": "markdown",
      "source": [
        "$X_{n}$ probabilidad de estar en el sector naranja tras $n$ lanzamientos"
      ],
      "metadata": {
        "id": "iZWCMWZe3QcJ"
      }
    },
    {
      "cell_type": "markdown",
      "source": [
        "$Y_{n}$ probabilidad de estar en el sector azul tras $n$ lanzamientos"
      ],
      "metadata": {
        "id": "pJUMA73e3sxl"
      }
    },
    {
      "cell_type": "markdown",
      "source": [
        "$Z_{n}$ probabilidad de estar en el sector verde tras $n$ lanzamientos"
      ],
      "metadata": {
        "id": "Bsr17eYg31g5"
      }
    },
    {
      "cell_type": "markdown",
      "source": [
        "$t_{n}$ probabilidad de estar en el sector rojo tras $n$ lanzamientos"
      ],
      "metadata": {
        "id": "9f-jaWvy4Iby"
      }
    },
    {
      "cell_type": "code",
      "execution_count": 1,
      "metadata": {
        "id": "WW4uXDf82ZX4"
      },
      "outputs": [],
      "source": [
        "\n",
        "import random as rnd\n",
        "import math\n",
        "import numpy as np\n",
        "import matplotlib.pyplot as plt"
      ]
    },
    {
      "cell_type": "code",
      "source": [
        "#Determinar en que sector inicia\n",
        "sector=rnd.random()\n",
        "#Si 0<=sector<=0.25 comienza en naranja\n",
        "if 0<sector<=0.25:\n",
        "  Inicio=1\n",
        "#Si 0<=sector<=0.25 comienza en azul\n",
        "elif 0.25<sector<=0.5:\n",
        "  Inicio=2\n",
        "#Si 0<=sector<=0.25 comienza en verde\n",
        "elif 0.5<sector<=0.75:\n",
        "  Inicio=3\n",
        "#Si 0<=sector<=0.25 comienza en rojo\n",
        "elif 0.75<sector<=1:\n",
        "  Inicio=4\n",
        "print(Inicio)"
      ],
      "metadata": {
        "colab": {
          "base_uri": "https://localhost:8080/"
        },
        "id": "LB0vvpfT5-GR",
        "outputId": "81be52fc-ed62-4700-d14a-f1533fb627e0"
      },
      "execution_count": 12,
      "outputs": [
        {
          "output_type": "stream",
          "name": "stdout",
          "text": [
            "2\n"
          ]
        }
      ]
    },
    {
      "cell_type": "code",
      "source": [
        "Función que determina el número de caras obtenidas en m lanzamientos"
      ],
      "metadata": {
        "id": "fG1-H_r79u0p"
      },
      "execution_count": null,
      "outputs": []
    },
    {
      "cell_type": "code",
      "source": [
        "def Caras(lanzamientos):\n",
        "  n=lanzamientos\n",
        "  Caras=0\n",
        "  for i in range(n):\n",
        "    Moneda=rnd.random()\n",
        "    if Moneda<=0.5:\n",
        "      Caras=Caras+1\n",
        "  return Caras"
      ],
      "metadata": {
        "id": "yoYTiBkM75FD"
      },
      "execution_count": 17,
      "outputs": []
    },
    {
      "cell_type": "code",
      "source": [
        "Ncaras=Caras(2)\n",
        "print(Ncaras)"
      ],
      "metadata": {
        "colab": {
          "base_uri": "https://localhost:8080/"
        },
        "id": "HIhL3Cu49SXQ",
        "outputId": "08d57d12-dd82-437a-b683-6ab2e665b482"
      },
      "execution_count": 23,
      "outputs": [
        {
          "output_type": "stream",
          "name": "stdout",
          "text": [
            "0\n"
          ]
        }
      ]
    },
    {
      "cell_type": "code",
      "source": [
        "#Determinar el número de repeticiones\n",
        "n=10\n",
        "lanzamientos=2\n",
        "sector=Inicio\n",
        "Resultados=[]\n",
        "for i in range(n):\n",
        "  Avanzar=Caras(lanzamientos)\n",
        "if sector ==1:\n",
        "if Avanzar==0:      sector=1    elif Avanzar==1:      sector=2    elif Avanzar==2:      sector=3  elif sector ==2:    if Avanzar==0:      sector=2    elif Avanzar==1:      sector=3    elif Avanzar==2:      sector=4  elif sector ==3:    if Avanzar==0:      sector=3    elif Avanzar==1:      sector=4    elif Avanzar==2:      sector=1  elif sector ==4:    if Avanzar==0:      sector=4    elif Avanzar==1:      sector=1    elif Avanzar==2:      sector=2  Resultados.append(sector)print(Resultados)"
      ],
      "metadata": {
        "id": "sC9-uemCAnpg"
      },
      "execution_count": null,
      "outputs": []
    },
    {
      "cell_type": "code",
      "source": [
        "#Matriz de Transición\n",
        "A=np.array([[0.25,0, 0.25,0.5],[0.5,0.25,0,0.25],[0.25,0.5,0.25,0],[0,0.25,0.5,0.25]])\n",
        "#Probabilidades iniciales\n",
        "X0=np.array([[0.25],[0.25],[0.25],[0.25]])\n",
        "#Numero de repeticiones del ejercicio\n",
        "n=10\n",
        "#A a la n\n",
        "An=A**n\n",
        "print(An)\n",
        "#Probabilidad tras n lanzamientos\n",
        "Probabilidad=np.dot(An,X0)\n",
        "print(Probabilidad)"
      ],
      "metadata": {
        "colab": {
          "base_uri": "https://localhost:8080/"
        },
        "id": "Mips7Sz8EcSo",
        "outputId": "ab23d78e-c857-4def-c69b-aa5cdc0a63f7"
      },
      "execution_count": 28,
      "outputs": [
        {
          "output_type": "stream",
          "name": "stdout",
          "text": [
            "[[9.53674316e-07 0.00000000e+00 9.53674316e-07 9.76562500e-04]\n",
            " [9.76562500e-04 9.53674316e-07 0.00000000e+00 9.53674316e-07]\n",
            " [9.53674316e-07 9.76562500e-04 9.53674316e-07 0.00000000e+00]\n",
            " [0.00000000e+00 9.53674316e-07 9.76562500e-04 9.53674316e-07]]\n",
            "[[0.00024462]\n",
            " [0.00024462]\n",
            " [0.00024462]\n",
            " [0.00024462]]\n"
          ]
        }
      ]
    }
  ]
}