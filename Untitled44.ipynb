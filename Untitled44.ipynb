{
  "nbformat": 4,
  "nbformat_minor": 0,
  "metadata": {
    "colab": {
      "provenance": [],
      "authorship_tag": "ABX9TyNfXzcSSecXKdCAgFNY7clw",
      "include_colab_link": true
    },
    "kernelspec": {
      "name": "python3",
      "display_name": "Python 3"
    },
    "language_info": {
      "name": "python"
    }
  },
  "cells": [
    {
      "cell_type": "markdown",
      "metadata": {
        "id": "view-in-github",
        "colab_type": "text"
      },
      "source": [
        "<a href=\"https://colab.research.google.com/github/Wenypb/Simulacion/blob/main/Untitled44.ipynb\" target=\"_parent\"><img src=\"https://colab.research.google.com/assets/colab-badge.svg\" alt=\"Open In Colab\"/></a>"
      ]
    },
    {
      "cell_type": "markdown",
      "source": [
        "Librerias"
      ],
      "metadata": {
        "id": "40ktE_hdGC0e"
      }
    },
    {
      "cell_type": "code",
      "execution_count": 37,
      "metadata": {
        "id": "uUSEOYNiGAYV"
      },
      "outputs": [],
      "source": [
        "import random as rd\n",
        "import numpy as np\n",
        "import statistics as st\n",
        "import matplotlib.pyplot as plt"
      ]
    },
    {
      "cell_type": "markdown",
      "source": [
        "Resultado de tirar un dado"
      ],
      "metadata": {
        "id": "rERgrttQGqL7"
      }
    },
    {
      "cell_type": "code",
      "source": [
        "Dado= rd.randint(1,6)\n",
        "print(Dado)"
      ],
      "metadata": {
        "colab": {
          "base_uri": "https://localhost:8080/"
        },
        "id": "40_U-j_PGs3b",
        "outputId": "bee95dcf-b6ce-47ed-e69d-8473b4c7e84e"
      },
      "execution_count": 38,
      "outputs": [
        {
          "output_type": "stream",
          "name": "stdout",
          "text": [
            "2\n"
          ]
        }
      ]
    },
    {
      "cell_type": "markdown",
      "source": [
        "Proceso para determinar el número de tiros necesarios para terminar un juego"
      ],
      "metadata": {
        "id": "oygk4i3PG4S6"
      }
    },
    {
      "cell_type": "code",
      "source": [
        "#Comienzo del juego en la casilla 0\n",
        "casilla=0\n",
        "#Comienzo del juego con 0 lanzamientos\n",
        "lanzamientos=0\n",
        "while casilla<20:\n",
        "  #Tirar dado\n",
        "  dado= rd.randint(1,6)\n",
        "  #Nueva casilla despues del lanzamiento\n",
        "  casilla+=dado\n",
        "  #Contador del número de lanzamientos\n",
        "  lanzamientos+=1\n",
        "  if casilla==3:\n",
        "    casilla=11\n",
        "  elif casilla ==13:\n",
        "    casilla=5\n",
        "  elif casilla ==17:\n",
        "    casilla=10\n",
        "  elif casilla ==15:\n",
        "    casilla=19\n",
        "print(\"El juego termina con\",lanzamientos,\"lanzamientos\")"
      ],
      "metadata": {
        "colab": {
          "base_uri": "https://localhost:8080/"
        },
        "id": "bDIcpEDTHJhU",
        "outputId": "70be2e99-404d-4a4d-ff05-ca659afda8b9"
      },
      "execution_count": 39,
      "outputs": [
        {
          "output_type": "stream",
          "name": "stdout",
          "text": [
            "El juego termina con 7 lanzamientos\n"
          ]
        }
      ]
    },
    {
      "cell_type": "markdown",
      "source": [
        "Funcion que calcula el número promedio de lanzamientos para terminar un juego en n repticiones"
      ],
      "metadata": {
        "id": "dd3QU0zoL3LR"
      }
    },
    {
      "cell_type": "code",
      "source": [
        "def Lanz_promedio(n):\n",
        "  #Lista que guarda el número de lanzamientos para terminar el juego en cada repeticion\n",
        "  Lanzamientos=[]\n",
        "  for i in range(n):\n",
        "    #Comienzo del juego en la casilla 0\n",
        "    casilla=0\n",
        "    #Comienzo del juego con 0 lanzamientos\n",
        "    lanzamientos=0\n",
        "    while casilla<20:\n",
        "      #Tirar dado\n",
        "      dado= rd.randint(1,6)\n",
        "      #Nueva casilla despues del lanzamiento\n",
        "      casilla+=dado\n",
        "      #Contador del número de lanzamientos\n",
        "      lanzamientos+=1\n",
        "      if casilla==3:\n",
        "        casilla=11\n",
        "      elif casilla ==13:\n",
        "        casilla=5\n",
        "      elif casilla ==17:\n",
        "        casilla=10\n",
        "      elif casilla ==15:\n",
        "        casilla=19\n",
        "    #Agregar el número de lanzamientos en la repeticion i en la lista\n",
        "    Lanzamientos.append(lanzamientos)\n",
        "  promedio=st.mean(Lanzamientos)\n",
        "  return promedio"
      ],
      "metadata": {
        "id": "Lbn9ZxohMEE2"
      },
      "execution_count": 40,
      "outputs": []
    },
    {
      "cell_type": "markdown",
      "source": [
        "**Número de repeticiones para lograr una mejor aproximación del promedio**"
      ],
      "metadata": {
        "id": "A7XYzi0NY4Br"
      }
    },
    {
      "cell_type": "markdown",
      "source": [
        "Para calcular una mejor aproximación hay que repetir r veces el calculo de la aproximacion y obtener el valor esperado de estas r repeticiones con $r = 1,2,3,...,r$"
      ],
      "metadata": {
        "id": "JWMgey-4d9rU"
      }
    },
    {
      "cell_type": "code",
      "source": [
        "# suma -> Variable que guarda la suma de los valores de la aproximacion en cada repetición\n",
        "suma=0\n",
        "# repeticiones -> Lista que guarda el número de repeticiones\n",
        "repeticiones=[]\n",
        "# promedios -> Lista que guarda los promedios para cada repetición\n",
        "promedios=[]\n",
        "# Ciclo que realiza las r repeticiones\n",
        "for i in range(500):\n",
        "  # intentos -> Numero de intentos para calcular cada promedio\n",
        "  intentos=50\n",
        "  # Uso de la funcion Promedio de lanzamientos\n",
        "  Promedio_lanzamientos=Lanz_promedio(intentos)\n",
        "  # Se suma la nueva aproximacion calculada\n",
        "  suma+=Promedio_lanzamientos\n",
        "  # Se calcula el promedio\n",
        "  promedio=suma/(i+1)\n",
        "  # Se agrega a la lista de repeticiones la repeticion que se hace al momento\n",
        "  repeticiones.append(i+1)\n",
        "  # Se agrega a la lista de promedios el rpomedio obtenido\n",
        "  promedios.append(promedio)\n",
        "# Grafica de los resultados con repeticiones en el eje x y promedios en el eje y\n",
        "plt.plot(repeticiones,promedios)"
      ],
      "metadata": {
        "id": "xf0JNB-3Y3C0",
        "outputId": "056b1261-2850-4478-c0a0-6b62f9462248",
        "colab": {
          "base_uri": "https://localhost:8080/",
          "height": 447
        }
      },
      "execution_count": 41,
      "outputs": [
        {
          "output_type": "execute_result",
          "data": {
            "text/plain": [
              "[<matplotlib.lines.Line2D at 0x7bc12c623280>]"
            ]
          },
          "metadata": {},
          "execution_count": 41
        },
        {
          "output_type": "display_data",
          "data": {
            "text/plain": [
              "<Figure size 640x480 with 1 Axes>"
            ],
            "image/png": "[encoded data removed]"
          },
          "metadata": {}
        }
      ]
    }
  ]
}