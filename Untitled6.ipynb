{
  "nbformat": 4,
  "nbformat_minor": 0,
  "metadata": {
    "colab": {
      "provenance": [],
      "authorship_tag": "ABX9TyNKEcWi2dsIab+Z1OqwvLZm",
      "include_colab_link": true
    },
    "kernelspec": {
      "name": "python3",
      "display_name": "Python 3"
    },
    "language_info": {
      "name": "python"
    }
  },
  "cells": [
    {
      "cell_type": "markdown",
      "metadata": {
        "id": "view-in-github",
        "colab_type": "text"
      },
      "source": [
        "<a href=\"https://colab.research.google.com/github/Wenypb/Simulacion/blob/main/Untitled6.ipynb\" target=\"_parent\"><img src=\"https://colab.research.google.com/assets/colab-badge.svg\" alt=\"Open In Colab\"/></a>"
      ]
    },
    {
      "cell_type": "code",
      "execution_count": null,
      "metadata": {
        "id": "Ftc2jftxlU5S"
      },
      "outputs": [],
      "source": [
        "\n",
        "import numpy as np\n",
        "import random\n",
        "#Funcion\n",
        "def funcion(x):\n",
        "  x=np.empty((2,1))\n",
        "  return 2*(x[0]**2)-2*(x[0]*x[1])+9*(x[1]**2)+11*(x[0])-9*(x[1])+6\n",
        "#Gradiente\n",
        "def gradiente(x):\n",
        "  g = np.empty((2,1))\n",
        "  g[0] = 4*x[0]-2*x[1]+11\n",
        "  g[1] = -2*x[0]+18*x[1]-9\n",
        "  return g\n",
        "\n",
        "x0=np.array([[5],[5]])\n",
        "a=1\n",
        "xk=x0\n",
        "Tol=0.0001\n",
        "gradk=np.array(gradiente(xk))\n",
        "nor=np.linalg.norm(gradk)\n",
        "while nor>Tol:\n",
        "  xk1=np.array(xk)\n",
        "  fk_1=funcion(xk1)\n",
        "  xk=xk-a*gradk\n",
        "  gradk=np.array(gradiente(xk))\n",
        "  nor=np.linalg.norm(gradk)\n",
        "  fk=funcion(xk)\n",
        "  while fk_1<fk:\n",
        "    a=0.5*a\n",
        "    xk=xk-a*gradk\n",
        "    print(xk)\n"
      ]
    }
  ]
}