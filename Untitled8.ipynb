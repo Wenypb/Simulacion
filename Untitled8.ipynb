{
  "nbformat": 4,
  "nbformat_minor": 0,
  "metadata": {
    "colab": {
      "provenance": [],
      "authorship_tag": "ABX9TyO9DOZr99vaJNTtqnHbwGoJ",
      "include_colab_link": true
    },
    "kernelspec": {
      "name": "python3",
      "display_name": "Python 3"
    },
    "language_info": {
      "name": "python"
    }
  },
  "cells": [
    {
      "cell_type": "markdown",
      "metadata": {
        "id": "view-in-github",
        "colab_type": "text"
      },
      "source": [
        "<a href=\"https://colab.research.google.com/github/Wenypb/Simulacion/blob/main/Untitled8.ipynb\" target=\"_parent\"><img src=\"https://colab.research.google.com/assets/colab-badge.svg\" alt=\"Open In Colab\"/></a>"
      ]
    },
    {
      "cell_type": "code",
      "execution_count": 2,
      "metadata": {
        "colab": {
          "base_uri": "https://localhost:8080/"
        },
        "id": "lXQph5dyBEjg",
        "outputId": "6dfb2aa0-cfc3-46b3-fed6-f4b376ad06b8"
      },
      "outputs": [
        {
          "output_type": "stream",
          "name": "stdout",
          "text": [
            "30\n"
          ]
        }
      ],
      "source": [
        "def Congruencia(X0,a,c,m):\n",
        "  xm1=[ ]\n",
        "  Generados=[ ]\n",
        "  n0=0\n",
        "  while X0 not in Generados:\n",
        "    res=a*X0+c\n",
        "    X1=res%m\n",
        "    xn=X0/m\n",
        "    xm0=[n0,X0,res,X1]\n",
        "    xm1.append(xm0)\n",
        "    Generados.append(X0)\n",
        "    X0=X1\n",
        "    n0=n0+1\n",
        "  return n0\n",
        "\n",
        "print(Congruencia(21,21,15,31))"
      ]
    },
    {
      "cell_type": "code",
      "source": [
        "def Congruencia(datos,a,b,c,m):\n",
        "  from tabulate import tabulate\n",
        "  #Listas en donde se guardaran los numeros segun su clasificacion\n",
        "  clas1=[]\n",
        "  clas2=[]\n",
        "  clas3=[]\n",
        "  clas4=[]\n",
        "  clas5=[]\n",
        "  tab1=[]\n",
        "  #Ciclo que clasifica los numeros segun el rango en que se encuentre\n",
        "  for x in range(0,len(datos)):\n",
        "    z=float(datos[x])\n",
        "    if z>=0.01 and z<=0.2:\n",
        "      clas1.append(z)\n",
        "    elif z>=0.21 and z<=0.4:\n",
        "      clas2.append(z)\n",
        "    elif z>=0.41 and z<=0.6:\n",
        "      clas3.append(z)\n",
        "    elif z>=0.61 and z<=0.8:\n",
        "      clas4.append(z)\n",
        "    elif z>=0.81 and z<=1.0:\n",
        "      clas5.append(z)\n",
        "  #Frecuencias observadas en cada clase\n",
        "  f01=len(clas1)\n",
        "  f02=len(clas2)\n",
        "  f03=len(clas3)\n",
        "  f04=len(clas4)\n",
        "  f05=len(clas5)\n",
        "  f0s=[f01,f02,f03,f04,f05]\n",
        "  #Frecuencia esperada en cada categoria\n",
        "  fe=len(datos)/5\n",
        "  #Calcular a ji cuadrada\n",
        "  ji=0\n",
        "  interv=[\"0.01-0.2\",\"0.21-0.4\",\"0.41-0.6\",\"0.61-0.8\",\"0.81-1.0\"]\n",
        "  for x in range (0,5):\n",
        "    cla=interv[x]\n",
        "    f0=int(f0s[x])\n",
        "    resta=(f0-fe)\n",
        "    resul=(resta**2)/fe\n",
        "    tab2=[cla,f0,fe,resta,resul]\n",
        "    tab1.append(tab2)\n",
        "    ji=ji+resul\n",
        "  print(tabulate(tab1,headers=[\"Clases\",\"f0\",\"fe\",\"fo-fe\",\"((f0-fe)^2)/fe\"]))\n",
        "\n",
        "  print(\"El valor de ji cuadrada es:\",ji)\n",
        "  return print(\"El ciclo de vida de este generador congruencial es :\",n0)"
      ],
      "metadata": {
        "id": "B5kkGYZJIdSP"
      },
      "execution_count": 11,
      "outputs": []
    },
    {
      "cell_type": "code",
      "source": [
        " Congruencia(21,43,21,15,64)"
      ],
      "metadata": {
        "colab": {
          "base_uri": "https://localhost:8080/"
        },
        "id": "5JRBpiMsJUmL",
        "outputId": "764bbf7a-65b4-456d-dfd1-7bec2b611af9"
      },
      "execution_count": 12,
      "outputs": [
        {
          "output_type": "execute_result",
          "data": {
            "text/plain": [
              "([21, 43, 62, 41, 61, 48, 17, 47, 38], [43, 62, 41, 61, 48, 17, 47, 38, 21])"
            ]
          },
          "metadata": {},
          "execution_count": 12
        }
      ]
    }
  ]
}