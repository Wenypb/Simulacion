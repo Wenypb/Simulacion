{
  "nbformat": 4,
  "nbformat_minor": 0,
  "metadata": {
    "colab": {
      "provenance": [],
      "authorship_tag": "ABX9TyPnnZXHppO+CII8T74pZm7k",
      "include_colab_link": true
    },
    "kernelspec": {
      "name": "python3",
      "display_name": "Python 3"
    },
    "language_info": {
      "name": "python"
    }
  },
  "cells": [
    {
      "cell_type": "markdown",
      "metadata": {
        "id": "view-in-github",
        "colab_type": "text"
      },
      "source": [
        "<a href=\"https://colab.research.google.com/github/Wenypb/Simulacion/blob/main/Untitled9.ipynb\" target=\"_parent\"><img src=\"https://colab.research.google.com/assets/colab-badge.svg\" alt=\"Open In Colab\"/></a>"
      ]
    },
    {
      "cell_type": "code",
      "execution_count": 25,
      "metadata": {
        "colab": {
          "base_uri": "https://localhost:8080/"
        },
        "id": "c5Csu8iftN30",
        "outputId": "da73fead-799f-4d6e-eacb-9b47ba96b9cf"
      },
      "outputs": [
        {
          "output_type": "stream",
          "name": "stdout",
          "text": [
            "    a      b    fo    fe    fo-fe    ((f0-fe)^2)/fe\n",
            "-----  -----  ----  ----  -------  ----------------\n",
            "0.03   0.224    24    20        4              0.8\n",
            "0.224  0.418    16    20       -4              0.8\n",
            "0.418  0.612    21    20        1              0.05\n",
            "0.612  0.806    21    20        1              0.05\n",
            "0.806  1        18    20       -2              0.2\n",
            "El valor de ji cuadrada es: 1.9000000000000001\n",
            "El conjunto de datos sigue una distribucion uniforme\n"
          ]
        }
      ],
      "source": [
        "def uniformidad(datos,clases,val):\n",
        "  from tabulate import tabulate\n",
        "  datos.sort()\n",
        "  mn=float(min(datos))\n",
        "  mx=float(max(datos))\n",
        "  #Frecuencia esperada en cada clase\n",
        "  fe=len(datos)/clases\n",
        "  #Calcular el intervalo de los datos\n",
        "  if mn<mx:\n",
        "    inter=mx-mn\n",
        "  else:\n",
        "    inter=mn-mx\n",
        "  #print(inter)\n",
        "  #Paso de cada clase\n",
        "  h=inter/clases\n",
        "  #print(h)\n",
        "  clas=[]\n",
        "  ji=0\n",
        "  tab=[]\n",
        "  for x in range(0,clases):\n",
        "    xmin=mn+h*x\n",
        "    xmax=mn+h*(x+1)\n",
        "    for a in range(0,len(datos)):\n",
        "      z=float(datos[a])\n",
        "      if z>=xmin and z<=xmax:\n",
        "        clas.append(z)\n",
        "    fo=len(clas)\n",
        "    resta=(fo-fe)\n",
        "    resul=(resta**2)/fe\n",
        "    ji=ji+resul\n",
        "    clas1=[xmin,xmax,fo,fe,resta,resul]\n",
        "    tab.append(clas1)\n",
        "    clas=[]\n",
        "  print(tabulate(tab,headers=[\"a\",\"b\",\"fo\",\"fe\",\"fo-fe\",\"((f0-fe)^2)/fe\"]))\n",
        "  print(\"El valor de ji cuadrada es:\",ji)\n",
        "  if ji<val:\n",
        "    print(\"El conjunto de datos sigue una distribucion uniforme\")\n",
        "  else:\n",
        "    print(\"El conjunto de datos no sigue una distribucion uniforme\")\n",
        "  return\n",
        "\n",
        "dat=[0.78,0.98,0.24,0.73,0.43,0.16,0.78,0.47,0.18,0.55,\n",
        "        0.04,0.29,0.68,0.77,0.16,0.03,0.79,0.22,0.37,0.80,\n",
        "        0.96,0.26,0.91,0.55,0.75,0.55,0.64,0.39,0.53,0.45,\n",
        "        0.61,0.14,0.38,0.12,0.40,0.74,0.78,0.98,0.27,0.60,\n",
        "        0.43,0.67,0.62,0.32,0.53,0.54,0.24,0.29,0.18,0.08,\n",
        "        0.82,0.94,0.19,0.98,0.41,1.00,0.72,0.92,0.14,0.43,\n",
        "        0.83,0.88,0.18,0.21,0.50,0.13,0.43,0.69,0.08,0.12,\n",
        "        0.22,0.50,0.16,0.11,0.18,0.89,0.80,0.42,0.29,0.87,\n",
        "        0.83,0.79,0.65,0.28,0.78,0.49,0.36,0.86,0.87,0.64,\n",
        "        0.51,0.07,0.18,0.94,0.50,0.22,0.66,0.91,0.48,0.24]#Valor de entrada\n",
        "clases=5#Valor de entrada\n",
        "val=7.78\n",
        "uniformidad(dat,clases,val)"
      ]
    }
  ]
}